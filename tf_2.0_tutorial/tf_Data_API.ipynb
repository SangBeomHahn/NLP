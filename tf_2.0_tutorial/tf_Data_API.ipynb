{
  "nbformat": 4,
  "nbformat_minor": 0,
  "metadata": {
    "colab": {
      "provenance": []
    },
    "kernelspec": {
      "name": "python3",
      "display_name": "Python 3"
    },
    "language_info": {
      "name": "python"
    },
    "widgets": {
      "application/vnd.jupyter.widget-state+json": {
        "1c24f14c5f2a4105b0fe6796f5979e72": {
          "model_module": "@jupyter-widgets/controls",
          "model_name": "HBoxModel",
          "model_module_version": "1.5.0",
          "state": {
            "_dom_classes": [],
            "_model_module": "@jupyter-widgets/controls",
            "_model_module_version": "1.5.0",
            "_model_name": "HBoxModel",
            "_view_count": null,
            "_view_module": "@jupyter-widgets/controls",
            "_view_module_version": "1.5.0",
            "_view_name": "HBoxView",
            "box_style": "",
            "children": [
              "IPY_MODEL_a1a25ee039e140d182e9b5d8c9bb572b",
              "IPY_MODEL_9be9364932f34ab68a78d1abe66a3da9",
              "IPY_MODEL_7d3ab8eda62a4952840b25a89797fcec"
            ],
            "layout": "IPY_MODEL_b8ac5b1d772f4c568bd81a28513d515a"
          }
        },
        "a1a25ee039e140d182e9b5d8c9bb572b": {
          "model_module": "@jupyter-widgets/controls",
          "model_name": "HTMLModel",
          "model_module_version": "1.5.0",
          "state": {
            "_dom_classes": [],
            "_model_module": "@jupyter-widgets/controls",
            "_model_module_version": "1.5.0",
            "_model_name": "HTMLModel",
            "_view_count": null,
            "_view_module": "@jupyter-widgets/controls",
            "_view_module_version": "1.5.0",
            "_view_name": "HTMLView",
            "description": "",
            "description_tooltip": null,
            "layout": "IPY_MODEL_17d6a77e0e28497a847e346d70e99858",
            "placeholder": "​",
            "style": "IPY_MODEL_f930f4d0560b4c0fb0a4b0623d007969",
            "value": "Dl Completed...: 100%"
          }
        },
        "9be9364932f34ab68a78d1abe66a3da9": {
          "model_module": "@jupyter-widgets/controls",
          "model_name": "FloatProgressModel",
          "model_module_version": "1.5.0",
          "state": {
            "_dom_classes": [],
            "_model_module": "@jupyter-widgets/controls",
            "_model_module_version": "1.5.0",
            "_model_name": "FloatProgressModel",
            "_view_count": null,
            "_view_module": "@jupyter-widgets/controls",
            "_view_module_version": "1.5.0",
            "_view_name": "ProgressView",
            "bar_style": "success",
            "description": "",
            "description_tooltip": null,
            "layout": "IPY_MODEL_2f48ebbe9d9b4bc1b64684545c6c6061",
            "max": 1,
            "min": 0,
            "orientation": "horizontal",
            "style": "IPY_MODEL_7daa98bd7e3840eba99ac5bfd0b97c42",
            "value": 1
          }
        },
        "7d3ab8eda62a4952840b25a89797fcec": {
          "model_module": "@jupyter-widgets/controls",
          "model_name": "HTMLModel",
          "model_module_version": "1.5.0",
          "state": {
            "_dom_classes": [],
            "_model_module": "@jupyter-widgets/controls",
            "_model_module_version": "1.5.0",
            "_model_name": "HTMLModel",
            "_view_count": null,
            "_view_module": "@jupyter-widgets/controls",
            "_view_module_version": "1.5.0",
            "_view_name": "HTMLView",
            "description": "",
            "description_tooltip": null,
            "layout": "IPY_MODEL_3c9f6484126a4e6eb29467ae98af2424",
            "placeholder": "​",
            "style": "IPY_MODEL_875efd69368e4d14b63ac31d5e9603a3",
            "value": " 1/1 [00:05&lt;00:00,  5.94s/ url]"
          }
        },
        "b8ac5b1d772f4c568bd81a28513d515a": {
          "model_module": "@jupyter-widgets/base",
          "model_name": "LayoutModel",
          "model_module_version": "1.2.0",
          "state": {
            "_model_module": "@jupyter-widgets/base",
            "_model_module_version": "1.2.0",
            "_model_name": "LayoutModel",
            "_view_count": null,
            "_view_module": "@jupyter-widgets/base",
            "_view_module_version": "1.2.0",
            "_view_name": "LayoutView",
            "align_content": null,
            "align_items": null,
            "align_self": null,
            "border": null,
            "bottom": null,
            "display": null,
            "flex": null,
            "flex_flow": null,
            "grid_area": null,
            "grid_auto_columns": null,
            "grid_auto_flow": null,
            "grid_auto_rows": null,
            "grid_column": null,
            "grid_gap": null,
            "grid_row": null,
            "grid_template_areas": null,
            "grid_template_columns": null,
            "grid_template_rows": null,
            "height": null,
            "justify_content": null,
            "justify_items": null,
            "left": null,
            "margin": null,
            "max_height": null,
            "max_width": null,
            "min_height": null,
            "min_width": null,
            "object_fit": null,
            "object_position": null,
            "order": null,
            "overflow": null,
            "overflow_x": null,
            "overflow_y": null,
            "padding": null,
            "right": null,
            "top": null,
            "visibility": null,
            "width": null
          }
        },
        "17d6a77e0e28497a847e346d70e99858": {
          "model_module": "@jupyter-widgets/base",
          "model_name": "LayoutModel",
          "model_module_version": "1.2.0",
          "state": {
            "_model_module": "@jupyter-widgets/base",
            "_model_module_version": "1.2.0",
            "_model_name": "LayoutModel",
            "_view_count": null,
            "_view_module": "@jupyter-widgets/base",
            "_view_module_version": "1.2.0",
            "_view_name": "LayoutView",
            "align_content": null,
            "align_items": null,
            "align_self": null,
            "border": null,
            "bottom": null,
            "display": null,
            "flex": null,
            "flex_flow": null,
            "grid_area": null,
            "grid_auto_columns": null,
            "grid_auto_flow": null,
            "grid_auto_rows": null,
            "grid_column": null,
            "grid_gap": null,
            "grid_row": null,
            "grid_template_areas": null,
            "grid_template_columns": null,
            "grid_template_rows": null,
            "height": null,
            "justify_content": null,
            "justify_items": null,
            "left": null,
            "margin": null,
            "max_height": null,
            "max_width": null,
            "min_height": null,
            "min_width": null,
            "object_fit": null,
            "object_position": null,
            "order": null,
            "overflow": null,
            "overflow_x": null,
            "overflow_y": null,
            "padding": null,
            "right": null,
            "top": null,
            "visibility": null,
            "width": null
          }
        },
        "f930f4d0560b4c0fb0a4b0623d007969": {
          "model_module": "@jupyter-widgets/controls",
          "model_name": "DescriptionStyleModel",
          "model_module_version": "1.5.0",
          "state": {
            "_model_module": "@jupyter-widgets/controls",
            "_model_module_version": "1.5.0",
            "_model_name": "DescriptionStyleModel",
            "_view_count": null,
            "_view_module": "@jupyter-widgets/base",
            "_view_module_version": "1.2.0",
            "_view_name": "StyleView",
            "description_width": ""
          }
        },
        "2f48ebbe9d9b4bc1b64684545c6c6061": {
          "model_module": "@jupyter-widgets/base",
          "model_name": "LayoutModel",
          "model_module_version": "1.2.0",
          "state": {
            "_model_module": "@jupyter-widgets/base",
            "_model_module_version": "1.2.0",
            "_model_name": "LayoutModel",
            "_view_count": null,
            "_view_module": "@jupyter-widgets/base",
            "_view_module_version": "1.2.0",
            "_view_name": "LayoutView",
            "align_content": null,
            "align_items": null,
            "align_self": null,
            "border": null,
            "bottom": null,
            "display": null,
            "flex": null,
            "flex_flow": null,
            "grid_area": null,
            "grid_auto_columns": null,
            "grid_auto_flow": null,
            "grid_auto_rows": null,
            "grid_column": null,
            "grid_gap": null,
            "grid_row": null,
            "grid_template_areas": null,
            "grid_template_columns": null,
            "grid_template_rows": null,
            "height": null,
            "justify_content": null,
            "justify_items": null,
            "left": null,
            "margin": null,
            "max_height": null,
            "max_width": null,
            "min_height": null,
            "min_width": null,
            "object_fit": null,
            "object_position": null,
            "order": null,
            "overflow": null,
            "overflow_x": null,
            "overflow_y": null,
            "padding": null,
            "right": null,
            "top": null,
            "visibility": null,
            "width": "20px"
          }
        },
        "7daa98bd7e3840eba99ac5bfd0b97c42": {
          "model_module": "@jupyter-widgets/controls",
          "model_name": "ProgressStyleModel",
          "model_module_version": "1.5.0",
          "state": {
            "_model_module": "@jupyter-widgets/controls",
            "_model_module_version": "1.5.0",
            "_model_name": "ProgressStyleModel",
            "_view_count": null,
            "_view_module": "@jupyter-widgets/base",
            "_view_module_version": "1.2.0",
            "_view_name": "StyleView",
            "bar_color": null,
            "description_width": ""
          }
        },
        "3c9f6484126a4e6eb29467ae98af2424": {
          "model_module": "@jupyter-widgets/base",
          "model_name": "LayoutModel",
          "model_module_version": "1.2.0",
          "state": {
            "_model_module": "@jupyter-widgets/base",
            "_model_module_version": "1.2.0",
            "_model_name": "LayoutModel",
            "_view_count": null,
            "_view_module": "@jupyter-widgets/base",
            "_view_module_version": "1.2.0",
            "_view_name": "LayoutView",
            "align_content": null,
            "align_items": null,
            "align_self": null,
            "border": null,
            "bottom": null,
            "display": null,
            "flex": null,
            "flex_flow": null,
            "grid_area": null,
            "grid_auto_columns": null,
            "grid_auto_flow": null,
            "grid_auto_rows": null,
            "grid_column": null,
            "grid_gap": null,
            "grid_row": null,
            "grid_template_areas": null,
            "grid_template_columns": null,
            "grid_template_rows": null,
            "height": null,
            "justify_content": null,
            "justify_items": null,
            "left": null,
            "margin": null,
            "max_height": null,
            "max_width": null,
            "min_height": null,
            "min_width": null,
            "object_fit": null,
            "object_position": null,
            "order": null,
            "overflow": null,
            "overflow_x": null,
            "overflow_y": null,
            "padding": null,
            "right": null,
            "top": null,
            "visibility": null,
            "width": null
          }
        },
        "875efd69368e4d14b63ac31d5e9603a3": {
          "model_module": "@jupyter-widgets/controls",
          "model_name": "DescriptionStyleModel",
          "model_module_version": "1.5.0",
          "state": {
            "_model_module": "@jupyter-widgets/controls",
            "_model_module_version": "1.5.0",
            "_model_name": "DescriptionStyleModel",
            "_view_count": null,
            "_view_module": "@jupyter-widgets/base",
            "_view_module_version": "1.2.0",
            "_view_name": "StyleView",
            "description_width": ""
          }
        },
        "bbfc7a76eb4e4e76802dd79d354e44c6": {
          "model_module": "@jupyter-widgets/controls",
          "model_name": "HBoxModel",
          "model_module_version": "1.5.0",
          "state": {
            "_dom_classes": [],
            "_model_module": "@jupyter-widgets/controls",
            "_model_module_version": "1.5.0",
            "_model_name": "HBoxModel",
            "_view_count": null,
            "_view_module": "@jupyter-widgets/controls",
            "_view_module_version": "1.5.0",
            "_view_name": "HBoxView",
            "box_style": "",
            "children": [
              "IPY_MODEL_9aae6ca8bb304567b46bf1df2a062202",
              "IPY_MODEL_61c3e1dcf8c94453b180de2e4871754a",
              "IPY_MODEL_088198f5906e4d21b5a126c0394a8a93"
            ],
            "layout": "IPY_MODEL_784b4f39741149cfa10df5d8e4fbf601"
          }
        },
        "9aae6ca8bb304567b46bf1df2a062202": {
          "model_module": "@jupyter-widgets/controls",
          "model_name": "HTMLModel",
          "model_module_version": "1.5.0",
          "state": {
            "_dom_classes": [],
            "_model_module": "@jupyter-widgets/controls",
            "_model_module_version": "1.5.0",
            "_model_name": "HTMLModel",
            "_view_count": null,
            "_view_module": "@jupyter-widgets/controls",
            "_view_module_version": "1.5.0",
            "_view_name": "HTMLView",
            "description": "",
            "description_tooltip": null,
            "layout": "IPY_MODEL_dd12e75a8ecc4babbc4a0c355afd435a",
            "placeholder": "​",
            "style": "IPY_MODEL_7d36ae3191d34b6382f2577fee156eb6",
            "value": "Dl Size...: 100%"
          }
        },
        "61c3e1dcf8c94453b180de2e4871754a": {
          "model_module": "@jupyter-widgets/controls",
          "model_name": "FloatProgressModel",
          "model_module_version": "1.5.0",
          "state": {
            "_dom_classes": [],
            "_model_module": "@jupyter-widgets/controls",
            "_model_module_version": "1.5.0",
            "_model_name": "FloatProgressModel",
            "_view_count": null,
            "_view_module": "@jupyter-widgets/controls",
            "_view_module_version": "1.5.0",
            "_view_name": "ProgressView",
            "bar_style": "success",
            "description": "",
            "description_tooltip": null,
            "layout": "IPY_MODEL_6815f69104264970816bb008109e347a",
            "max": 1,
            "min": 0,
            "orientation": "horizontal",
            "style": "IPY_MODEL_c8e9d08dc2f44958b7b3f10a6e4fc27d",
            "value": 1
          }
        },
        "088198f5906e4d21b5a126c0394a8a93": {
          "model_module": "@jupyter-widgets/controls",
          "model_name": "HTMLModel",
          "model_module_version": "1.5.0",
          "state": {
            "_dom_classes": [],
            "_model_module": "@jupyter-widgets/controls",
            "_model_module_version": "1.5.0",
            "_model_name": "HTMLModel",
            "_view_count": null,
            "_view_module": "@jupyter-widgets/controls",
            "_view_module_version": "1.5.0",
            "_view_name": "HTMLView",
            "description": "",
            "description_tooltip": null,
            "layout": "IPY_MODEL_0ecc26226d324e948a5eb2849b6e0d1e",
            "placeholder": "​",
            "style": "IPY_MODEL_bb887c57d9c9453fa1c9340396f49bb7",
            "value": " 80/80 [00:05&lt;00:00, 36.65 MiB/s]"
          }
        },
        "784b4f39741149cfa10df5d8e4fbf601": {
          "model_module": "@jupyter-widgets/base",
          "model_name": "LayoutModel",
          "model_module_version": "1.2.0",
          "state": {
            "_model_module": "@jupyter-widgets/base",
            "_model_module_version": "1.2.0",
            "_model_name": "LayoutModel",
            "_view_count": null,
            "_view_module": "@jupyter-widgets/base",
            "_view_module_version": "1.2.0",
            "_view_name": "LayoutView",
            "align_content": null,
            "align_items": null,
            "align_self": null,
            "border": null,
            "bottom": null,
            "display": null,
            "flex": null,
            "flex_flow": null,
            "grid_area": null,
            "grid_auto_columns": null,
            "grid_auto_flow": null,
            "grid_auto_rows": null,
            "grid_column": null,
            "grid_gap": null,
            "grid_row": null,
            "grid_template_areas": null,
            "grid_template_columns": null,
            "grid_template_rows": null,
            "height": null,
            "justify_content": null,
            "justify_items": null,
            "left": null,
            "margin": null,
            "max_height": null,
            "max_width": null,
            "min_height": null,
            "min_width": null,
            "object_fit": null,
            "object_position": null,
            "order": null,
            "overflow": null,
            "overflow_x": null,
            "overflow_y": null,
            "padding": null,
            "right": null,
            "top": null,
            "visibility": null,
            "width": null
          }
        },
        "dd12e75a8ecc4babbc4a0c355afd435a": {
          "model_module": "@jupyter-widgets/base",
          "model_name": "LayoutModel",
          "model_module_version": "1.2.0",
          "state": {
            "_model_module": "@jupyter-widgets/base",
            "_model_module_version": "1.2.0",
            "_model_name": "LayoutModel",
            "_view_count": null,
            "_view_module": "@jupyter-widgets/base",
            "_view_module_version": "1.2.0",
            "_view_name": "LayoutView",
            "align_content": null,
            "align_items": null,
            "align_self": null,
            "border": null,
            "bottom": null,
            "display": null,
            "flex": null,
            "flex_flow": null,
            "grid_area": null,
            "grid_auto_columns": null,
            "grid_auto_flow": null,
            "grid_auto_rows": null,
            "grid_column": null,
            "grid_gap": null,
            "grid_row": null,
            "grid_template_areas": null,
            "grid_template_columns": null,
            "grid_template_rows": null,
            "height": null,
            "justify_content": null,
            "justify_items": null,
            "left": null,
            "margin": null,
            "max_height": null,
            "max_width": null,
            "min_height": null,
            "min_width": null,
            "object_fit": null,
            "object_position": null,
            "order": null,
            "overflow": null,
            "overflow_x": null,
            "overflow_y": null,
            "padding": null,
            "right": null,
            "top": null,
            "visibility": null,
            "width": null
          }
        },
        "7d36ae3191d34b6382f2577fee156eb6": {
          "model_module": "@jupyter-widgets/controls",
          "model_name": "DescriptionStyleModel",
          "model_module_version": "1.5.0",
          "state": {
            "_model_module": "@jupyter-widgets/controls",
            "_model_module_version": "1.5.0",
            "_model_name": "DescriptionStyleModel",
            "_view_count": null,
            "_view_module": "@jupyter-widgets/base",
            "_view_module_version": "1.2.0",
            "_view_name": "StyleView",
            "description_width": ""
          }
        },
        "6815f69104264970816bb008109e347a": {
          "model_module": "@jupyter-widgets/base",
          "model_name": "LayoutModel",
          "model_module_version": "1.2.0",
          "state": {
            "_model_module": "@jupyter-widgets/base",
            "_model_module_version": "1.2.0",
            "_model_name": "LayoutModel",
            "_view_count": null,
            "_view_module": "@jupyter-widgets/base",
            "_view_module_version": "1.2.0",
            "_view_name": "LayoutView",
            "align_content": null,
            "align_items": null,
            "align_self": null,
            "border": null,
            "bottom": null,
            "display": null,
            "flex": null,
            "flex_flow": null,
            "grid_area": null,
            "grid_auto_columns": null,
            "grid_auto_flow": null,
            "grid_auto_rows": null,
            "grid_column": null,
            "grid_gap": null,
            "grid_row": null,
            "grid_template_areas": null,
            "grid_template_columns": null,
            "grid_template_rows": null,
            "height": null,
            "justify_content": null,
            "justify_items": null,
            "left": null,
            "margin": null,
            "max_height": null,
            "max_width": null,
            "min_height": null,
            "min_width": null,
            "object_fit": null,
            "object_position": null,
            "order": null,
            "overflow": null,
            "overflow_x": null,
            "overflow_y": null,
            "padding": null,
            "right": null,
            "top": null,
            "visibility": null,
            "width": "20px"
          }
        },
        "c8e9d08dc2f44958b7b3f10a6e4fc27d": {
          "model_module": "@jupyter-widgets/controls",
          "model_name": "ProgressStyleModel",
          "model_module_version": "1.5.0",
          "state": {
            "_model_module": "@jupyter-widgets/controls",
            "_model_module_version": "1.5.0",
            "_model_name": "ProgressStyleModel",
            "_view_count": null,
            "_view_module": "@jupyter-widgets/base",
            "_view_module_version": "1.2.0",
            "_view_name": "StyleView",
            "bar_color": null,
            "description_width": ""
          }
        },
        "0ecc26226d324e948a5eb2849b6e0d1e": {
          "model_module": "@jupyter-widgets/base",
          "model_name": "LayoutModel",
          "model_module_version": "1.2.0",
          "state": {
            "_model_module": "@jupyter-widgets/base",
            "_model_module_version": "1.2.0",
            "_model_name": "LayoutModel",
            "_view_count": null,
            "_view_module": "@jupyter-widgets/base",
            "_view_module_version": "1.2.0",
            "_view_name": "LayoutView",
            "align_content": null,
            "align_items": null,
            "align_self": null,
            "border": null,
            "bottom": null,
            "display": null,
            "flex": null,
            "flex_flow": null,
            "grid_area": null,
            "grid_auto_columns": null,
            "grid_auto_flow": null,
            "grid_auto_rows": null,
            "grid_column": null,
            "grid_gap": null,
            "grid_row": null,
            "grid_template_areas": null,
            "grid_template_columns": null,
            "grid_template_rows": null,
            "height": null,
            "justify_content": null,
            "justify_items": null,
            "left": null,
            "margin": null,
            "max_height": null,
            "max_width": null,
            "min_height": null,
            "min_width": null,
            "object_fit": null,
            "object_position": null,
            "order": null,
            "overflow": null,
            "overflow_x": null,
            "overflow_y": null,
            "padding": null,
            "right": null,
            "top": null,
            "visibility": null,
            "width": null
          }
        },
        "bb887c57d9c9453fa1c9340396f49bb7": {
          "model_module": "@jupyter-widgets/controls",
          "model_name": "DescriptionStyleModel",
          "model_module_version": "1.5.0",
          "state": {
            "_model_module": "@jupyter-widgets/controls",
            "_model_module_version": "1.5.0",
            "_model_name": "DescriptionStyleModel",
            "_view_count": null,
            "_view_module": "@jupyter-widgets/base",
            "_view_module_version": "1.2.0",
            "_view_name": "StyleView",
            "description_width": ""
          }
        },
        "af2ef7b2981f4ac29bb0a86ae2ac5498": {
          "model_module": "@jupyter-widgets/controls",
          "model_name": "HBoxModel",
          "model_module_version": "1.5.0",
          "state": {
            "_dom_classes": [],
            "_model_module": "@jupyter-widgets/controls",
            "_model_module_version": "1.5.0",
            "_model_name": "HBoxModel",
            "_view_count": null,
            "_view_module": "@jupyter-widgets/controls",
            "_view_module_version": "1.5.0",
            "_view_name": "HBoxView",
            "box_style": "",
            "children": [
              "IPY_MODEL_7a93c6e78f844ee99be1bc3c466369da",
              "IPY_MODEL_1377eea32b81404dbeabc20173b11c7a",
              "IPY_MODEL_a1e5df84eeae4e52b9222c1acf3d9537"
            ],
            "layout": "IPY_MODEL_49d5c8943dd44226a41f30c9b05e85af"
          }
        },
        "7a93c6e78f844ee99be1bc3c466369da": {
          "model_module": "@jupyter-widgets/controls",
          "model_name": "HTMLModel",
          "model_module_version": "1.5.0",
          "state": {
            "_dom_classes": [],
            "_model_module": "@jupyter-widgets/controls",
            "_model_module_version": "1.5.0",
            "_model_name": "HTMLModel",
            "_view_count": null,
            "_view_module": "@jupyter-widgets/controls",
            "_view_module_version": "1.5.0",
            "_view_name": "HTMLView",
            "description": "",
            "description_tooltip": null,
            "layout": "IPY_MODEL_12292bca81ff48c69f0c71086d408e57",
            "placeholder": "​",
            "style": "IPY_MODEL_abaffda8d33c4ebdb4ffab878dc5c80c",
            "value": "Generating splits...: 100%"
          }
        },
        "1377eea32b81404dbeabc20173b11c7a": {
          "model_module": "@jupyter-widgets/controls",
          "model_name": "FloatProgressModel",
          "model_module_version": "1.5.0",
          "state": {
            "_dom_classes": [],
            "_model_module": "@jupyter-widgets/controls",
            "_model_module_version": "1.5.0",
            "_model_name": "FloatProgressModel",
            "_view_count": null,
            "_view_module": "@jupyter-widgets/controls",
            "_view_module_version": "1.5.0",
            "_view_name": "ProgressView",
            "bar_style": "",
            "description": "",
            "description_tooltip": null,
            "layout": "IPY_MODEL_bfeb484b36d142a9b1c5f6569ff2058d",
            "max": 3,
            "min": 0,
            "orientation": "horizontal",
            "style": "IPY_MODEL_d9321504c8e34cea8f534e7f0edfe562",
            "value": 3
          }
        },
        "a1e5df84eeae4e52b9222c1acf3d9537": {
          "model_module": "@jupyter-widgets/controls",
          "model_name": "HTMLModel",
          "model_module_version": "1.5.0",
          "state": {
            "_dom_classes": [],
            "_model_module": "@jupyter-widgets/controls",
            "_model_module_version": "1.5.0",
            "_model_name": "HTMLModel",
            "_view_count": null,
            "_view_module": "@jupyter-widgets/controls",
            "_view_module_version": "1.5.0",
            "_view_name": "HTMLView",
            "description": "",
            "description_tooltip": null,
            "layout": "IPY_MODEL_5cf4b1d6f6e74176b0fda90b0e0edf71",
            "placeholder": "​",
            "style": "IPY_MODEL_92471dc306c44310a24d4bcee7a8db90",
            "value": " 3/3 [00:50&lt;00:00, 17.23s/ splits]"
          }
        },
        "49d5c8943dd44226a41f30c9b05e85af": {
          "model_module": "@jupyter-widgets/base",
          "model_name": "LayoutModel",
          "model_module_version": "1.2.0",
          "state": {
            "_model_module": "@jupyter-widgets/base",
            "_model_module_version": "1.2.0",
            "_model_name": "LayoutModel",
            "_view_count": null,
            "_view_module": "@jupyter-widgets/base",
            "_view_module_version": "1.2.0",
            "_view_name": "LayoutView",
            "align_content": null,
            "align_items": null,
            "align_self": null,
            "border": null,
            "bottom": null,
            "display": null,
            "flex": null,
            "flex_flow": null,
            "grid_area": null,
            "grid_auto_columns": null,
            "grid_auto_flow": null,
            "grid_auto_rows": null,
            "grid_column": null,
            "grid_gap": null,
            "grid_row": null,
            "grid_template_areas": null,
            "grid_template_columns": null,
            "grid_template_rows": null,
            "height": null,
            "justify_content": null,
            "justify_items": null,
            "left": null,
            "margin": null,
            "max_height": null,
            "max_width": null,
            "min_height": null,
            "min_width": null,
            "object_fit": null,
            "object_position": null,
            "order": null,
            "overflow": null,
            "overflow_x": null,
            "overflow_y": null,
            "padding": null,
            "right": null,
            "top": null,
            "visibility": "hidden",
            "width": null
          }
        },
        "12292bca81ff48c69f0c71086d408e57": {
          "model_module": "@jupyter-widgets/base",
          "model_name": "LayoutModel",
          "model_module_version": "1.2.0",
          "state": {
            "_model_module": "@jupyter-widgets/base",
            "_model_module_version": "1.2.0",
            "_model_name": "LayoutModel",
            "_view_count": null,
            "_view_module": "@jupyter-widgets/base",
            "_view_module_version": "1.2.0",
            "_view_name": "LayoutView",
            "align_content": null,
            "align_items": null,
            "align_self": null,
            "border": null,
            "bottom": null,
            "display": null,
            "flex": null,
            "flex_flow": null,
            "grid_area": null,
            "grid_auto_columns": null,
            "grid_auto_flow": null,
            "grid_auto_rows": null,
            "grid_column": null,
            "grid_gap": null,
            "grid_row": null,
            "grid_template_areas": null,
            "grid_template_columns": null,
            "grid_template_rows": null,
            "height": null,
            "justify_content": null,
            "justify_items": null,
            "left": null,
            "margin": null,
            "max_height": null,
            "max_width": null,
            "min_height": null,
            "min_width": null,
            "object_fit": null,
            "object_position": null,
            "order": null,
            "overflow": null,
            "overflow_x": null,
            "overflow_y": null,
            "padding": null,
            "right": null,
            "top": null,
            "visibility": null,
            "width": null
          }
        },
        "abaffda8d33c4ebdb4ffab878dc5c80c": {
          "model_module": "@jupyter-widgets/controls",
          "model_name": "DescriptionStyleModel",
          "model_module_version": "1.5.0",
          "state": {
            "_model_module": "@jupyter-widgets/controls",
            "_model_module_version": "1.5.0",
            "_model_name": "DescriptionStyleModel",
            "_view_count": null,
            "_view_module": "@jupyter-widgets/base",
            "_view_module_version": "1.2.0",
            "_view_name": "StyleView",
            "description_width": ""
          }
        },
        "bfeb484b36d142a9b1c5f6569ff2058d": {
          "model_module": "@jupyter-widgets/base",
          "model_name": "LayoutModel",
          "model_module_version": "1.2.0",
          "state": {
            "_model_module": "@jupyter-widgets/base",
            "_model_module_version": "1.2.0",
            "_model_name": "LayoutModel",
            "_view_count": null,
            "_view_module": "@jupyter-widgets/base",
            "_view_module_version": "1.2.0",
            "_view_name": "LayoutView",
            "align_content": null,
            "align_items": null,
            "align_self": null,
            "border": null,
            "bottom": null,
            "display": null,
            "flex": null,
            "flex_flow": null,
            "grid_area": null,
            "grid_auto_columns": null,
            "grid_auto_flow": null,
            "grid_auto_rows": null,
            "grid_column": null,
            "grid_gap": null,
            "grid_row": null,
            "grid_template_areas": null,
            "grid_template_columns": null,
            "grid_template_rows": null,
            "height": null,
            "justify_content": null,
            "justify_items": null,
            "left": null,
            "margin": null,
            "max_height": null,
            "max_width": null,
            "min_height": null,
            "min_width": null,
            "object_fit": null,
            "object_position": null,
            "order": null,
            "overflow": null,
            "overflow_x": null,
            "overflow_y": null,
            "padding": null,
            "right": null,
            "top": null,
            "visibility": null,
            "width": null
          }
        },
        "d9321504c8e34cea8f534e7f0edfe562": {
          "model_module": "@jupyter-widgets/controls",
          "model_name": "ProgressStyleModel",
          "model_module_version": "1.5.0",
          "state": {
            "_model_module": "@jupyter-widgets/controls",
            "_model_module_version": "1.5.0",
            "_model_name": "ProgressStyleModel",
            "_view_count": null,
            "_view_module": "@jupyter-widgets/base",
            "_view_module_version": "1.2.0",
            "_view_name": "StyleView",
            "bar_color": null,
            "description_width": ""
          }
        },
        "5cf4b1d6f6e74176b0fda90b0e0edf71": {
          "model_module": "@jupyter-widgets/base",
          "model_name": "LayoutModel",
          "model_module_version": "1.2.0",
          "state": {
            "_model_module": "@jupyter-widgets/base",
            "_model_module_version": "1.2.0",
            "_model_name": "LayoutModel",
            "_view_count": null,
            "_view_module": "@jupyter-widgets/base",
            "_view_module_version": "1.2.0",
            "_view_name": "LayoutView",
            "align_content": null,
            "align_items": null,
            "align_self": null,
            "border": null,
            "bottom": null,
            "display": null,
            "flex": null,
            "flex_flow": null,
            "grid_area": null,
            "grid_auto_columns": null,
            "grid_auto_flow": null,
            "grid_auto_rows": null,
            "grid_column": null,
            "grid_gap": null,
            "grid_row": null,
            "grid_template_areas": null,
            "grid_template_columns": null,
            "grid_template_rows": null,
            "height": null,
            "justify_content": null,
            "justify_items": null,
            "left": null,
            "margin": null,
            "max_height": null,
            "max_width": null,
            "min_height": null,
            "min_width": null,
            "object_fit": null,
            "object_position": null,
            "order": null,
            "overflow": null,
            "overflow_x": null,
            "overflow_y": null,
            "padding": null,
            "right": null,
            "top": null,
            "visibility": null,
            "width": null
          }
        },
        "92471dc306c44310a24d4bcee7a8db90": {
          "model_module": "@jupyter-widgets/controls",
          "model_name": "DescriptionStyleModel",
          "model_module_version": "1.5.0",
          "state": {
            "_model_module": "@jupyter-widgets/controls",
            "_model_module_version": "1.5.0",
            "_model_name": "DescriptionStyleModel",
            "_view_count": null,
            "_view_module": "@jupyter-widgets/base",
            "_view_module_version": "1.2.0",
            "_view_name": "StyleView",
            "description_width": ""
          }
        },
        "181c5e2cd7484b448bb9bb56c137dfd3": {
          "model_module": "@jupyter-widgets/controls",
          "model_name": "HBoxModel",
          "model_module_version": "1.5.0",
          "state": {
            "_dom_classes": [],
            "_model_module": "@jupyter-widgets/controls",
            "_model_module_version": "1.5.0",
            "_model_name": "HBoxModel",
            "_view_count": null,
            "_view_module": "@jupyter-widgets/controls",
            "_view_module_version": "1.5.0",
            "_view_name": "HBoxView",
            "box_style": "",
            "children": [
              "IPY_MODEL_0533643819744a02a43117baf2102ca9",
              "IPY_MODEL_6ba1280ac6c740089c87d42bf87d2b15",
              "IPY_MODEL_d572b9e2927e4304a897188ea16be27d"
            ],
            "layout": "IPY_MODEL_17453274f8d64e9180fc02dfe70fa157"
          }
        },
        "0533643819744a02a43117baf2102ca9": {
          "model_module": "@jupyter-widgets/controls",
          "model_name": "HTMLModel",
          "model_module_version": "1.5.0",
          "state": {
            "_dom_classes": [],
            "_model_module": "@jupyter-widgets/controls",
            "_model_module_version": "1.5.0",
            "_model_name": "HTMLModel",
            "_view_count": null,
            "_view_module": "@jupyter-widgets/controls",
            "_view_module_version": "1.5.0",
            "_view_name": "HTMLView",
            "description": "",
            "description_tooltip": null,
            "layout": "IPY_MODEL_3272f4a3a4c448b6938d5300bb025bec",
            "placeholder": "​",
            "style": "IPY_MODEL_0384fb5dd7e14197a0b19bd85eb3fbd8",
            "value": "Generating train examples...:  99%"
          }
        },
        "6ba1280ac6c740089c87d42bf87d2b15": {
          "model_module": "@jupyter-widgets/controls",
          "model_name": "FloatProgressModel",
          "model_module_version": "1.5.0",
          "state": {
            "_dom_classes": [],
            "_model_module": "@jupyter-widgets/controls",
            "_model_module_version": "1.5.0",
            "_model_name": "FloatProgressModel",
            "_view_count": null,
            "_view_module": "@jupyter-widgets/controls",
            "_view_module_version": "1.5.0",
            "_view_name": "ProgressView",
            "bar_style": "",
            "description": "",
            "description_tooltip": null,
            "layout": "IPY_MODEL_d8ff757246574529b0bf4db1188fafae",
            "max": 25000,
            "min": 0,
            "orientation": "horizontal",
            "style": "IPY_MODEL_7ba5b2d465bd4cc2bbadff4417cc8383",
            "value": 25000
          }
        },
        "d572b9e2927e4304a897188ea16be27d": {
          "model_module": "@jupyter-widgets/controls",
          "model_name": "HTMLModel",
          "model_module_version": "1.5.0",
          "state": {
            "_dom_classes": [],
            "_model_module": "@jupyter-widgets/controls",
            "_model_module_version": "1.5.0",
            "_model_name": "HTMLModel",
            "_view_count": null,
            "_view_module": "@jupyter-widgets/controls",
            "_view_module_version": "1.5.0",
            "_view_name": "HTMLView",
            "description": "",
            "description_tooltip": null,
            "layout": "IPY_MODEL_94d6f172669640e7ad8bae6313390f14",
            "placeholder": "​",
            "style": "IPY_MODEL_b168e85be35b4440b5f5161b1bdc7fb4",
            "value": " 24806/25000 [00:09&lt;00:00, 3947.59 examples/s]"
          }
        },
        "17453274f8d64e9180fc02dfe70fa157": {
          "model_module": "@jupyter-widgets/base",
          "model_name": "LayoutModel",
          "model_module_version": "1.2.0",
          "state": {
            "_model_module": "@jupyter-widgets/base",
            "_model_module_version": "1.2.0",
            "_model_name": "LayoutModel",
            "_view_count": null,
            "_view_module": "@jupyter-widgets/base",
            "_view_module_version": "1.2.0",
            "_view_name": "LayoutView",
            "align_content": null,
            "align_items": null,
            "align_self": null,
            "border": null,
            "bottom": null,
            "display": null,
            "flex": null,
            "flex_flow": null,
            "grid_area": null,
            "grid_auto_columns": null,
            "grid_auto_flow": null,
            "grid_auto_rows": null,
            "grid_column": null,
            "grid_gap": null,
            "grid_row": null,
            "grid_template_areas": null,
            "grid_template_columns": null,
            "grid_template_rows": null,
            "height": null,
            "justify_content": null,
            "justify_items": null,
            "left": null,
            "margin": null,
            "max_height": null,
            "max_width": null,
            "min_height": null,
            "min_width": null,
            "object_fit": null,
            "object_position": null,
            "order": null,
            "overflow": null,
            "overflow_x": null,
            "overflow_y": null,
            "padding": null,
            "right": null,
            "top": null,
            "visibility": "hidden",
            "width": null
          }
        },
        "3272f4a3a4c448b6938d5300bb025bec": {
          "model_module": "@jupyter-widgets/base",
          "model_name": "LayoutModel",
          "model_module_version": "1.2.0",
          "state": {
            "_model_module": "@jupyter-widgets/base",
            "_model_module_version": "1.2.0",
            "_model_name": "LayoutModel",
            "_view_count": null,
            "_view_module": "@jupyter-widgets/base",
            "_view_module_version": "1.2.0",
            "_view_name": "LayoutView",
            "align_content": null,
            "align_items": null,
            "align_self": null,
            "border": null,
            "bottom": null,
            "display": null,
            "flex": null,
            "flex_flow": null,
            "grid_area": null,
            "grid_auto_columns": null,
            "grid_auto_flow": null,
            "grid_auto_rows": null,
            "grid_column": null,
            "grid_gap": null,
            "grid_row": null,
            "grid_template_areas": null,
            "grid_template_columns": null,
            "grid_template_rows": null,
            "height": null,
            "justify_content": null,
            "justify_items": null,
            "left": null,
            "margin": null,
            "max_height": null,
            "max_width": null,
            "min_height": null,
            "min_width": null,
            "object_fit": null,
            "object_position": null,
            "order": null,
            "overflow": null,
            "overflow_x": null,
            "overflow_y": null,
            "padding": null,
            "right": null,
            "top": null,
            "visibility": null,
            "width": null
          }
        },
        "0384fb5dd7e14197a0b19bd85eb3fbd8": {
          "model_module": "@jupyter-widgets/controls",
          "model_name": "DescriptionStyleModel",
          "model_module_version": "1.5.0",
          "state": {
            "_model_module": "@jupyter-widgets/controls",
            "_model_module_version": "1.5.0",
            "_model_name": "DescriptionStyleModel",
            "_view_count": null,
            "_view_module": "@jupyter-widgets/base",
            "_view_module_version": "1.2.0",
            "_view_name": "StyleView",
            "description_width": ""
          }
        },
        "d8ff757246574529b0bf4db1188fafae": {
          "model_module": "@jupyter-widgets/base",
          "model_name": "LayoutModel",
          "model_module_version": "1.2.0",
          "state": {
            "_model_module": "@jupyter-widgets/base",
            "_model_module_version": "1.2.0",
            "_model_name": "LayoutModel",
            "_view_count": null,
            "_view_module": "@jupyter-widgets/base",
            "_view_module_version": "1.2.0",
            "_view_name": "LayoutView",
            "align_content": null,
            "align_items": null,
            "align_self": null,
            "border": null,
            "bottom": null,
            "display": null,
            "flex": null,
            "flex_flow": null,
            "grid_area": null,
            "grid_auto_columns": null,
            "grid_auto_flow": null,
            "grid_auto_rows": null,
            "grid_column": null,
            "grid_gap": null,
            "grid_row": null,
            "grid_template_areas": null,
            "grid_template_columns": null,
            "grid_template_rows": null,
            "height": null,
            "justify_content": null,
            "justify_items": null,
            "left": null,
            "margin": null,
            "max_height": null,
            "max_width": null,
            "min_height": null,
            "min_width": null,
            "object_fit": null,
            "object_position": null,
            "order": null,
            "overflow": null,
            "overflow_x": null,
            "overflow_y": null,
            "padding": null,
            "right": null,
            "top": null,
            "visibility": null,
            "width": null
          }
        },
        "7ba5b2d465bd4cc2bbadff4417cc8383": {
          "model_module": "@jupyter-widgets/controls",
          "model_name": "ProgressStyleModel",
          "model_module_version": "1.5.0",
          "state": {
            "_model_module": "@jupyter-widgets/controls",
            "_model_module_version": "1.5.0",
            "_model_name": "ProgressStyleModel",
            "_view_count": null,
            "_view_module": "@jupyter-widgets/base",
            "_view_module_version": "1.2.0",
            "_view_name": "StyleView",
            "bar_color": null,
            "description_width": ""
          }
        },
        "94d6f172669640e7ad8bae6313390f14": {
          "model_module": "@jupyter-widgets/base",
          "model_name": "LayoutModel",
          "model_module_version": "1.2.0",
          "state": {
            "_model_module": "@jupyter-widgets/base",
            "_model_module_version": "1.2.0",
            "_model_name": "LayoutModel",
            "_view_count": null,
            "_view_module": "@jupyter-widgets/base",
            "_view_module_version": "1.2.0",
            "_view_name": "LayoutView",
            "align_content": null,
            "align_items": null,
            "align_self": null,
            "border": null,
            "bottom": null,
            "display": null,
            "flex": null,
            "flex_flow": null,
            "grid_area": null,
            "grid_auto_columns": null,
            "grid_auto_flow": null,
            "grid_auto_rows": null,
            "grid_column": null,
            "grid_gap": null,
            "grid_row": null,
            "grid_template_areas": null,
            "grid_template_columns": null,
            "grid_template_rows": null,
            "height": null,
            "justify_content": null,
            "justify_items": null,
            "left": null,
            "margin": null,
            "max_height": null,
            "max_width": null,
            "min_height": null,
            "min_width": null,
            "object_fit": null,
            "object_position": null,
            "order": null,
            "overflow": null,
            "overflow_x": null,
            "overflow_y": null,
            "padding": null,
            "right": null,
            "top": null,
            "visibility": null,
            "width": null
          }
        },
        "b168e85be35b4440b5f5161b1bdc7fb4": {
          "model_module": "@jupyter-widgets/controls",
          "model_name": "DescriptionStyleModel",
          "model_module_version": "1.5.0",
          "state": {
            "_model_module": "@jupyter-widgets/controls",
            "_model_module_version": "1.5.0",
            "_model_name": "DescriptionStyleModel",
            "_view_count": null,
            "_view_module": "@jupyter-widgets/base",
            "_view_module_version": "1.2.0",
            "_view_name": "StyleView",
            "description_width": ""
          }
        },
        "d38bafdc18404c6c92475455e9359edb": {
          "model_module": "@jupyter-widgets/controls",
          "model_name": "HBoxModel",
          "model_module_version": "1.5.0",
          "state": {
            "_dom_classes": [],
            "_model_module": "@jupyter-widgets/controls",
            "_model_module_version": "1.5.0",
            "_model_name": "HBoxModel",
            "_view_count": null,
            "_view_module": "@jupyter-widgets/controls",
            "_view_module_version": "1.5.0",
            "_view_name": "HBoxView",
            "box_style": "",
            "children": [
              "IPY_MODEL_6e52778afb8d4a5bb7af28271219ec1f",
              "IPY_MODEL_6c3be5732ef848a6be548d0c105be43d",
              "IPY_MODEL_3792867a11b44af58e34bec8dd36dce6"
            ],
            "layout": "IPY_MODEL_be09ca74e6f145848fd0bec65aa2b61f"
          }
        },
        "6e52778afb8d4a5bb7af28271219ec1f": {
          "model_module": "@jupyter-widgets/controls",
          "model_name": "HTMLModel",
          "model_module_version": "1.5.0",
          "state": {
            "_dom_classes": [],
            "_model_module": "@jupyter-widgets/controls",
            "_model_module_version": "1.5.0",
            "_model_name": "HTMLModel",
            "_view_count": null,
            "_view_module": "@jupyter-widgets/controls",
            "_view_module_version": "1.5.0",
            "_view_name": "HTMLView",
            "description": "",
            "description_tooltip": null,
            "layout": "IPY_MODEL_d1fb185501a84339be5e9b466977dce9",
            "placeholder": "​",
            "style": "IPY_MODEL_680c0d04d2d34db28cf46244bc854bb2",
            "value": "Shuffling ~/tensorflow_datasets/imdb_reviews/plain_text/1.0.0.incompleteMIH3JC/imdb_reviews-train.tfrecord*...:  23%"
          }
        },
        "6c3be5732ef848a6be548d0c105be43d": {
          "model_module": "@jupyter-widgets/controls",
          "model_name": "FloatProgressModel",
          "model_module_version": "1.5.0",
          "state": {
            "_dom_classes": [],
            "_model_module": "@jupyter-widgets/controls",
            "_model_module_version": "1.5.0",
            "_model_name": "FloatProgressModel",
            "_view_count": null,
            "_view_module": "@jupyter-widgets/controls",
            "_view_module_version": "1.5.0",
            "_view_name": "ProgressView",
            "bar_style": "",
            "description": "",
            "description_tooltip": null,
            "layout": "IPY_MODEL_f1ac3a9401d04da5b981d17d063de3e5",
            "max": 25000,
            "min": 0,
            "orientation": "horizontal",
            "style": "IPY_MODEL_8340eb0ed0c84b6f8df89e47053f878e",
            "value": 25000
          }
        },
        "3792867a11b44af58e34bec8dd36dce6": {
          "model_module": "@jupyter-widgets/controls",
          "model_name": "HTMLModel",
          "model_module_version": "1.5.0",
          "state": {
            "_dom_classes": [],
            "_model_module": "@jupyter-widgets/controls",
            "_model_module_version": "1.5.0",
            "_model_name": "HTMLModel",
            "_view_count": null,
            "_view_module": "@jupyter-widgets/controls",
            "_view_module_version": "1.5.0",
            "_view_name": "HTMLView",
            "description": "",
            "description_tooltip": null,
            "layout": "IPY_MODEL_0d63afac625648ffae58c0f15fbb4904",
            "placeholder": "​",
            "style": "IPY_MODEL_80322382c9904f848092f330782e57a4",
            "value": " 5793/25000 [00:00&lt;00:00, 57922.32 examples/s]"
          }
        },
        "be09ca74e6f145848fd0bec65aa2b61f": {
          "model_module": "@jupyter-widgets/base",
          "model_name": "LayoutModel",
          "model_module_version": "1.2.0",
          "state": {
            "_model_module": "@jupyter-widgets/base",
            "_model_module_version": "1.2.0",
            "_model_name": "LayoutModel",
            "_view_count": null,
            "_view_module": "@jupyter-widgets/base",
            "_view_module_version": "1.2.0",
            "_view_name": "LayoutView",
            "align_content": null,
            "align_items": null,
            "align_self": null,
            "border": null,
            "bottom": null,
            "display": null,
            "flex": null,
            "flex_flow": null,
            "grid_area": null,
            "grid_auto_columns": null,
            "grid_auto_flow": null,
            "grid_auto_rows": null,
            "grid_column": null,
            "grid_gap": null,
            "grid_row": null,
            "grid_template_areas": null,
            "grid_template_columns": null,
            "grid_template_rows": null,
            "height": null,
            "justify_content": null,
            "justify_items": null,
            "left": null,
            "margin": null,
            "max_height": null,
            "max_width": null,
            "min_height": null,
            "min_width": null,
            "object_fit": null,
            "object_position": null,
            "order": null,
            "overflow": null,
            "overflow_x": null,
            "overflow_y": null,
            "padding": null,
            "right": null,
            "top": null,
            "visibility": "hidden",
            "width": null
          }
        },
        "d1fb185501a84339be5e9b466977dce9": {
          "model_module": "@jupyter-widgets/base",
          "model_name": "LayoutModel",
          "model_module_version": "1.2.0",
          "state": {
            "_model_module": "@jupyter-widgets/base",
            "_model_module_version": "1.2.0",
            "_model_name": "LayoutModel",
            "_view_count": null,
            "_view_module": "@jupyter-widgets/base",
            "_view_module_version": "1.2.0",
            "_view_name": "LayoutView",
            "align_content": null,
            "align_items": null,
            "align_self": null,
            "border": null,
            "bottom": null,
            "display": null,
            "flex": null,
            "flex_flow": null,
            "grid_area": null,
            "grid_auto_columns": null,
            "grid_auto_flow": null,
            "grid_auto_rows": null,
            "grid_column": null,
            "grid_gap": null,
            "grid_row": null,
            "grid_template_areas": null,
            "grid_template_columns": null,
            "grid_template_rows": null,
            "height": null,
            "justify_content": null,
            "justify_items": null,
            "left": null,
            "margin": null,
            "max_height": null,
            "max_width": null,
            "min_height": null,
            "min_width": null,
            "object_fit": null,
            "object_position": null,
            "order": null,
            "overflow": null,
            "overflow_x": null,
            "overflow_y": null,
            "padding": null,
            "right": null,
            "top": null,
            "visibility": null,
            "width": null
          }
        },
        "680c0d04d2d34db28cf46244bc854bb2": {
          "model_module": "@jupyter-widgets/controls",
          "model_name": "DescriptionStyleModel",
          "model_module_version": "1.5.0",
          "state": {
            "_model_module": "@jupyter-widgets/controls",
            "_model_module_version": "1.5.0",
            "_model_name": "DescriptionStyleModel",
            "_view_count": null,
            "_view_module": "@jupyter-widgets/base",
            "_view_module_version": "1.2.0",
            "_view_name": "StyleView",
            "description_width": ""
          }
        },
        "f1ac3a9401d04da5b981d17d063de3e5": {
          "model_module": "@jupyter-widgets/base",
          "model_name": "LayoutModel",
          "model_module_version": "1.2.0",
          "state": {
            "_model_module": "@jupyter-widgets/base",
            "_model_module_version": "1.2.0",
            "_model_name": "LayoutModel",
            "_view_count": null,
            "_view_module": "@jupyter-widgets/base",
            "_view_module_version": "1.2.0",
            "_view_name": "LayoutView",
            "align_content": null,
            "align_items": null,
            "align_self": null,
            "border": null,
            "bottom": null,
            "display": null,
            "flex": null,
            "flex_flow": null,
            "grid_area": null,
            "grid_auto_columns": null,
            "grid_auto_flow": null,
            "grid_auto_rows": null,
            "grid_column": null,
            "grid_gap": null,
            "grid_row": null,
            "grid_template_areas": null,
            "grid_template_columns": null,
            "grid_template_rows": null,
            "height": null,
            "justify_content": null,
            "justify_items": null,
            "left": null,
            "margin": null,
            "max_height": null,
            "max_width": null,
            "min_height": null,
            "min_width": null,
            "object_fit": null,
            "object_position": null,
            "order": null,
            "overflow": null,
            "overflow_x": null,
            "overflow_y": null,
            "padding": null,
            "right": null,
            "top": null,
            "visibility": null,
            "width": null
          }
        },
        "8340eb0ed0c84b6f8df89e47053f878e": {
          "model_module": "@jupyter-widgets/controls",
          "model_name": "ProgressStyleModel",
          "model_module_version": "1.5.0",
          "state": {
            "_model_module": "@jupyter-widgets/controls",
            "_model_module_version": "1.5.0",
            "_model_name": "ProgressStyleModel",
            "_view_count": null,
            "_view_module": "@jupyter-widgets/base",
            "_view_module_version": "1.2.0",
            "_view_name": "StyleView",
            "bar_color": null,
            "description_width": ""
          }
        },
        "0d63afac625648ffae58c0f15fbb4904": {
          "model_module": "@jupyter-widgets/base",
          "model_name": "LayoutModel",
          "model_module_version": "1.2.0",
          "state": {
            "_model_module": "@jupyter-widgets/base",
            "_model_module_version": "1.2.0",
            "_model_name": "LayoutModel",
            "_view_count": null,
            "_view_module": "@jupyter-widgets/base",
            "_view_module_version": "1.2.0",
            "_view_name": "LayoutView",
            "align_content": null,
            "align_items": null,
            "align_self": null,
            "border": null,
            "bottom": null,
            "display": null,
            "flex": null,
            "flex_flow": null,
            "grid_area": null,
            "grid_auto_columns": null,
            "grid_auto_flow": null,
            "grid_auto_rows": null,
            "grid_column": null,
            "grid_gap": null,
            "grid_row": null,
            "grid_template_areas": null,
            "grid_template_columns": null,
            "grid_template_rows": null,
            "height": null,
            "justify_content": null,
            "justify_items": null,
            "left": null,
            "margin": null,
            "max_height": null,
            "max_width": null,
            "min_height": null,
            "min_width": null,
            "object_fit": null,
            "object_position": null,
            "order": null,
            "overflow": null,
            "overflow_x": null,
            "overflow_y": null,
            "padding": null,
            "right": null,
            "top": null,
            "visibility": null,
            "width": null
          }
        },
        "80322382c9904f848092f330782e57a4": {
          "model_module": "@jupyter-widgets/controls",
          "model_name": "DescriptionStyleModel",
          "model_module_version": "1.5.0",
          "state": {
            "_model_module": "@jupyter-widgets/controls",
            "_model_module_version": "1.5.0",
            "_model_name": "DescriptionStyleModel",
            "_view_count": null,
            "_view_module": "@jupyter-widgets/base",
            "_view_module_version": "1.2.0",
            "_view_name": "StyleView",
            "description_width": ""
          }
        },
        "ad1a3110369845849888c60f20e566c8": {
          "model_module": "@jupyter-widgets/controls",
          "model_name": "HBoxModel",
          "model_module_version": "1.5.0",
          "state": {
            "_dom_classes": [],
            "_model_module": "@jupyter-widgets/controls",
            "_model_module_version": "1.5.0",
            "_model_name": "HBoxModel",
            "_view_count": null,
            "_view_module": "@jupyter-widgets/controls",
            "_view_module_version": "1.5.0",
            "_view_name": "HBoxView",
            "box_style": "",
            "children": [
              "IPY_MODEL_a57a7d94e305423bba5e0880e0366990",
              "IPY_MODEL_e8ebaeb6da384a51be45c2a6fe85b361",
              "IPY_MODEL_07322e9adffa4849847adb8d52103ddd"
            ],
            "layout": "IPY_MODEL_35bb8db8b4e844a8b5cda5748b066796"
          }
        },
        "a57a7d94e305423bba5e0880e0366990": {
          "model_module": "@jupyter-widgets/controls",
          "model_name": "HTMLModel",
          "model_module_version": "1.5.0",
          "state": {
            "_dom_classes": [],
            "_model_module": "@jupyter-widgets/controls",
            "_model_module_version": "1.5.0",
            "_model_name": "HTMLModel",
            "_view_count": null,
            "_view_module": "@jupyter-widgets/controls",
            "_view_module_version": "1.5.0",
            "_view_name": "HTMLView",
            "description": "",
            "description_tooltip": null,
            "layout": "IPY_MODEL_3c5def72936e4d119082cbb010238184",
            "placeholder": "​",
            "style": "IPY_MODEL_543eeef5ed0e457e9f081cbbfbb71365",
            "value": "Generating test examples...:  98%"
          }
        },
        "e8ebaeb6da384a51be45c2a6fe85b361": {
          "model_module": "@jupyter-widgets/controls",
          "model_name": "FloatProgressModel",
          "model_module_version": "1.5.0",
          "state": {
            "_dom_classes": [],
            "_model_module": "@jupyter-widgets/controls",
            "_model_module_version": "1.5.0",
            "_model_name": "FloatProgressModel",
            "_view_count": null,
            "_view_module": "@jupyter-widgets/controls",
            "_view_module_version": "1.5.0",
            "_view_name": "ProgressView",
            "bar_style": "",
            "description": "",
            "description_tooltip": null,
            "layout": "IPY_MODEL_cb1571cda6f04e3c87850262100aec49",
            "max": 25000,
            "min": 0,
            "orientation": "horizontal",
            "style": "IPY_MODEL_70681849d8764f899afecd25bfe053d6",
            "value": 25000
          }
        },
        "07322e9adffa4849847adb8d52103ddd": {
          "model_module": "@jupyter-widgets/controls",
          "model_name": "HTMLModel",
          "model_module_version": "1.5.0",
          "state": {
            "_dom_classes": [],
            "_model_module": "@jupyter-widgets/controls",
            "_model_module_version": "1.5.0",
            "_model_name": "HTMLModel",
            "_view_count": null,
            "_view_module": "@jupyter-widgets/controls",
            "_view_module_version": "1.5.0",
            "_view_name": "HTMLView",
            "description": "",
            "description_tooltip": null,
            "layout": "IPY_MODEL_b1141c03e541441cb0f36d6a8e3140b5",
            "placeholder": "​",
            "style": "IPY_MODEL_2131f60ad65a4a60bb4d196d79bf9550",
            "value": " 24614/25000 [00:08&lt;00:00, 3413.46 examples/s]"
          }
        },
        "35bb8db8b4e844a8b5cda5748b066796": {
          "model_module": "@jupyter-widgets/base",
          "model_name": "LayoutModel",
          "model_module_version": "1.2.0",
          "state": {
            "_model_module": "@jupyter-widgets/base",
            "_model_module_version": "1.2.0",
            "_model_name": "LayoutModel",
            "_view_count": null,
            "_view_module": "@jupyter-widgets/base",
            "_view_module_version": "1.2.0",
            "_view_name": "LayoutView",
            "align_content": null,
            "align_items": null,
            "align_self": null,
            "border": null,
            "bottom": null,
            "display": null,
            "flex": null,
            "flex_flow": null,
            "grid_area": null,
            "grid_auto_columns": null,
            "grid_auto_flow": null,
            "grid_auto_rows": null,
            "grid_column": null,
            "grid_gap": null,
            "grid_row": null,
            "grid_template_areas": null,
            "grid_template_columns": null,
            "grid_template_rows": null,
            "height": null,
            "justify_content": null,
            "justify_items": null,
            "left": null,
            "margin": null,
            "max_height": null,
            "max_width": null,
            "min_height": null,
            "min_width": null,
            "object_fit": null,
            "object_position": null,
            "order": null,
            "overflow": null,
            "overflow_x": null,
            "overflow_y": null,
            "padding": null,
            "right": null,
            "top": null,
            "visibility": "hidden",
            "width": null
          }
        },
        "3c5def72936e4d119082cbb010238184": {
          "model_module": "@jupyter-widgets/base",
          "model_name": "LayoutModel",
          "model_module_version": "1.2.0",
          "state": {
            "_model_module": "@jupyter-widgets/base",
            "_model_module_version": "1.2.0",
            "_model_name": "LayoutModel",
            "_view_count": null,
            "_view_module": "@jupyter-widgets/base",
            "_view_module_version": "1.2.0",
            "_view_name": "LayoutView",
            "align_content": null,
            "align_items": null,
            "align_self": null,
            "border": null,
            "bottom": null,
            "display": null,
            "flex": null,
            "flex_flow": null,
            "grid_area": null,
            "grid_auto_columns": null,
            "grid_auto_flow": null,
            "grid_auto_rows": null,
            "grid_column": null,
            "grid_gap": null,
            "grid_row": null,
            "grid_template_areas": null,
            "grid_template_columns": null,
            "grid_template_rows": null,
            "height": null,
            "justify_content": null,
            "justify_items": null,
            "left": null,
            "margin": null,
            "max_height": null,
            "max_width": null,
            "min_height": null,
            "min_width": null,
            "object_fit": null,
            "object_position": null,
            "order": null,
            "overflow": null,
            "overflow_x": null,
            "overflow_y": null,
            "padding": null,
            "right": null,
            "top": null,
            "visibility": null,
            "width": null
          }
        },
        "543eeef5ed0e457e9f081cbbfbb71365": {
          "model_module": "@jupyter-widgets/controls",
          "model_name": "DescriptionStyleModel",
          "model_module_version": "1.5.0",
          "state": {
            "_model_module": "@jupyter-widgets/controls",
            "_model_module_version": "1.5.0",
            "_model_name": "DescriptionStyleModel",
            "_view_count": null,
            "_view_module": "@jupyter-widgets/base",
            "_view_module_version": "1.2.0",
            "_view_name": "StyleView",
            "description_width": ""
          }
        },
        "cb1571cda6f04e3c87850262100aec49": {
          "model_module": "@jupyter-widgets/base",
          "model_name": "LayoutModel",
          "model_module_version": "1.2.0",
          "state": {
            "_model_module": "@jupyter-widgets/base",
            "_model_module_version": "1.2.0",
            "_model_name": "LayoutModel",
            "_view_count": null,
            "_view_module": "@jupyter-widgets/base",
            "_view_module_version": "1.2.0",
            "_view_name": "LayoutView",
            "align_content": null,
            "align_items": null,
            "align_self": null,
            "border": null,
            "bottom": null,
            "display": null,
            "flex": null,
            "flex_flow": null,
            "grid_area": null,
            "grid_auto_columns": null,
            "grid_auto_flow": null,
            "grid_auto_rows": null,
            "grid_column": null,
            "grid_gap": null,
            "grid_row": null,
            "grid_template_areas": null,
            "grid_template_columns": null,
            "grid_template_rows": null,
            "height": null,
            "justify_content": null,
            "justify_items": null,
            "left": null,
            "margin": null,
            "max_height": null,
            "max_width": null,
            "min_height": null,
            "min_width": null,
            "object_fit": null,
            "object_position": null,
            "order": null,
            "overflow": null,
            "overflow_x": null,
            "overflow_y": null,
            "padding": null,
            "right": null,
            "top": null,
            "visibility": null,
            "width": null
          }
        },
        "70681849d8764f899afecd25bfe053d6": {
          "model_module": "@jupyter-widgets/controls",
          "model_name": "ProgressStyleModel",
          "model_module_version": "1.5.0",
          "state": {
            "_model_module": "@jupyter-widgets/controls",
            "_model_module_version": "1.5.0",
            "_model_name": "ProgressStyleModel",
            "_view_count": null,
            "_view_module": "@jupyter-widgets/base",
            "_view_module_version": "1.2.0",
            "_view_name": "StyleView",
            "bar_color": null,
            "description_width": ""
          }
        },
        "b1141c03e541441cb0f36d6a8e3140b5": {
          "model_module": "@jupyter-widgets/base",
          "model_name": "LayoutModel",
          "model_module_version": "1.2.0",
          "state": {
            "_model_module": "@jupyter-widgets/base",
            "_model_module_version": "1.2.0",
            "_model_name": "LayoutModel",
            "_view_count": null,
            "_view_module": "@jupyter-widgets/base",
            "_view_module_version": "1.2.0",
            "_view_name": "LayoutView",
            "align_content": null,
            "align_items": null,
            "align_self": null,
            "border": null,
            "bottom": null,
            "display": null,
            "flex": null,
            "flex_flow": null,
            "grid_area": null,
            "grid_auto_columns": null,
            "grid_auto_flow": null,
            "grid_auto_rows": null,
            "grid_column": null,
            "grid_gap": null,
            "grid_row": null,
            "grid_template_areas": null,
            "grid_template_columns": null,
            "grid_template_rows": null,
            "height": null,
            "justify_content": null,
            "justify_items": null,
            "left": null,
            "margin": null,
            "max_height": null,
            "max_width": null,
            "min_height": null,
            "min_width": null,
            "object_fit": null,
            "object_position": null,
            "order": null,
            "overflow": null,
            "overflow_x": null,
            "overflow_y": null,
            "padding": null,
            "right": null,
            "top": null,
            "visibility": null,
            "width": null
          }
        },
        "2131f60ad65a4a60bb4d196d79bf9550": {
          "model_module": "@jupyter-widgets/controls",
          "model_name": "DescriptionStyleModel",
          "model_module_version": "1.5.0",
          "state": {
            "_model_module": "@jupyter-widgets/controls",
            "_model_module_version": "1.5.0",
            "_model_name": "DescriptionStyleModel",
            "_view_count": null,
            "_view_module": "@jupyter-widgets/base",
            "_view_module_version": "1.2.0",
            "_view_name": "StyleView",
            "description_width": ""
          }
        },
        "8315c535171546a083a05e07c272d63e": {
          "model_module": "@jupyter-widgets/controls",
          "model_name": "HBoxModel",
          "model_module_version": "1.5.0",
          "state": {
            "_dom_classes": [],
            "_model_module": "@jupyter-widgets/controls",
            "_model_module_version": "1.5.0",
            "_model_name": "HBoxModel",
            "_view_count": null,
            "_view_module": "@jupyter-widgets/controls",
            "_view_module_version": "1.5.0",
            "_view_name": "HBoxView",
            "box_style": "",
            "children": [
              "IPY_MODEL_d788f5b53627451c8951c85407e80fb9",
              "IPY_MODEL_7178ff0897024b3ebcdf0497b25c9d4a",
              "IPY_MODEL_11281de4570049a4acbb7a8e64eb3241"
            ],
            "layout": "IPY_MODEL_4a351f4a89b041d893130a5736fd2738"
          }
        },
        "d788f5b53627451c8951c85407e80fb9": {
          "model_module": "@jupyter-widgets/controls",
          "model_name": "HTMLModel",
          "model_module_version": "1.5.0",
          "state": {
            "_dom_classes": [],
            "_model_module": "@jupyter-widgets/controls",
            "_model_module_version": "1.5.0",
            "_model_name": "HTMLModel",
            "_view_count": null,
            "_view_module": "@jupyter-widgets/controls",
            "_view_module_version": "1.5.0",
            "_view_name": "HTMLView",
            "description": "",
            "description_tooltip": null,
            "layout": "IPY_MODEL_9ace1fb4cb72451fbe8f4c9fc4a65ed9",
            "placeholder": "​",
            "style": "IPY_MODEL_3f20f1bd29cc4acbb47c8dfe96c52963",
            "value": "Shuffling ~/tensorflow_datasets/imdb_reviews/plain_text/1.0.0.incompleteMIH3JC/imdb_reviews-test.tfrecord*...:  27%"
          }
        },
        "7178ff0897024b3ebcdf0497b25c9d4a": {
          "model_module": "@jupyter-widgets/controls",
          "model_name": "FloatProgressModel",
          "model_module_version": "1.5.0",
          "state": {
            "_dom_classes": [],
            "_model_module": "@jupyter-widgets/controls",
            "_model_module_version": "1.5.0",
            "_model_name": "FloatProgressModel",
            "_view_count": null,
            "_view_module": "@jupyter-widgets/controls",
            "_view_module_version": "1.5.0",
            "_view_name": "ProgressView",
            "bar_style": "",
            "description": "",
            "description_tooltip": null,
            "layout": "IPY_MODEL_7b5a124cbb2443b3b41204b9ee13652e",
            "max": 25000,
            "min": 0,
            "orientation": "horizontal",
            "style": "IPY_MODEL_3d7a1e15494e4ae8aaa3819e0f6267af",
            "value": 25000
          }
        },
        "11281de4570049a4acbb7a8e64eb3241": {
          "model_module": "@jupyter-widgets/controls",
          "model_name": "HTMLModel",
          "model_module_version": "1.5.0",
          "state": {
            "_dom_classes": [],
            "_model_module": "@jupyter-widgets/controls",
            "_model_module_version": "1.5.0",
            "_model_name": "HTMLModel",
            "_view_count": null,
            "_view_module": "@jupyter-widgets/controls",
            "_view_module_version": "1.5.0",
            "_view_name": "HTMLView",
            "description": "",
            "description_tooltip": null,
            "layout": "IPY_MODEL_71f7337d7f4b409c8ea8844fcb612155",
            "placeholder": "​",
            "style": "IPY_MODEL_9e3841b30dec4cdd870fc6f75042f3aa",
            "value": " 6834/25000 [00:00&lt;00:00, 68327.20 examples/s]"
          }
        },
        "4a351f4a89b041d893130a5736fd2738": {
          "model_module": "@jupyter-widgets/base",
          "model_name": "LayoutModel",
          "model_module_version": "1.2.0",
          "state": {
            "_model_module": "@jupyter-widgets/base",
            "_model_module_version": "1.2.0",
            "_model_name": "LayoutModel",
            "_view_count": null,
            "_view_module": "@jupyter-widgets/base",
            "_view_module_version": "1.2.0",
            "_view_name": "LayoutView",
            "align_content": null,
            "align_items": null,
            "align_self": null,
            "border": null,
            "bottom": null,
            "display": null,
            "flex": null,
            "flex_flow": null,
            "grid_area": null,
            "grid_auto_columns": null,
            "grid_auto_flow": null,
            "grid_auto_rows": null,
            "grid_column": null,
            "grid_gap": null,
            "grid_row": null,
            "grid_template_areas": null,
            "grid_template_columns": null,
            "grid_template_rows": null,
            "height": null,
            "justify_content": null,
            "justify_items": null,
            "left": null,
            "margin": null,
            "max_height": null,
            "max_width": null,
            "min_height": null,
            "min_width": null,
            "object_fit": null,
            "object_position": null,
            "order": null,
            "overflow": null,
            "overflow_x": null,
            "overflow_y": null,
            "padding": null,
            "right": null,
            "top": null,
            "visibility": "hidden",
            "width": null
          }
        },
        "9ace1fb4cb72451fbe8f4c9fc4a65ed9": {
          "model_module": "@jupyter-widgets/base",
          "model_name": "LayoutModel",
          "model_module_version": "1.2.0",
          "state": {
            "_model_module": "@jupyter-widgets/base",
            "_model_module_version": "1.2.0",
            "_model_name": "LayoutModel",
            "_view_count": null,
            "_view_module": "@jupyter-widgets/base",
            "_view_module_version": "1.2.0",
            "_view_name": "LayoutView",
            "align_content": null,
            "align_items": null,
            "align_self": null,
            "border": null,
            "bottom": null,
            "display": null,
            "flex": null,
            "flex_flow": null,
            "grid_area": null,
            "grid_auto_columns": null,
            "grid_auto_flow": null,
            "grid_auto_rows": null,
            "grid_column": null,
            "grid_gap": null,
            "grid_row": null,
            "grid_template_areas": null,
            "grid_template_columns": null,
            "grid_template_rows": null,
            "height": null,
            "justify_content": null,
            "justify_items": null,
            "left": null,
            "margin": null,
            "max_height": null,
            "max_width": null,
            "min_height": null,
            "min_width": null,
            "object_fit": null,
            "object_position": null,
            "order": null,
            "overflow": null,
            "overflow_x": null,
            "overflow_y": null,
            "padding": null,
            "right": null,
            "top": null,
            "visibility": null,
            "width": null
          }
        },
        "3f20f1bd29cc4acbb47c8dfe96c52963": {
          "model_module": "@jupyter-widgets/controls",
          "model_name": "DescriptionStyleModel",
          "model_module_version": "1.5.0",
          "state": {
            "_model_module": "@jupyter-widgets/controls",
            "_model_module_version": "1.5.0",
            "_model_name": "DescriptionStyleModel",
            "_view_count": null,
            "_view_module": "@jupyter-widgets/base",
            "_view_module_version": "1.2.0",
            "_view_name": "StyleView",
            "description_width": ""
          }
        },
        "7b5a124cbb2443b3b41204b9ee13652e": {
          "model_module": "@jupyter-widgets/base",
          "model_name": "LayoutModel",
          "model_module_version": "1.2.0",
          "state": {
            "_model_module": "@jupyter-widgets/base",
            "_model_module_version": "1.2.0",
            "_model_name": "LayoutModel",
            "_view_count": null,
            "_view_module": "@jupyter-widgets/base",
            "_view_module_version": "1.2.0",
            "_view_name": "LayoutView",
            "align_content": null,
            "align_items": null,
            "align_self": null,
            "border": null,
            "bottom": null,
            "display": null,
            "flex": null,
            "flex_flow": null,
            "grid_area": null,
            "grid_auto_columns": null,
            "grid_auto_flow": null,
            "grid_auto_rows": null,
            "grid_column": null,
            "grid_gap": null,
            "grid_row": null,
            "grid_template_areas": null,
            "grid_template_columns": null,
            "grid_template_rows": null,
            "height": null,
            "justify_content": null,
            "justify_items": null,
            "left": null,
            "margin": null,
            "max_height": null,
            "max_width": null,
            "min_height": null,
            "min_width": null,
            "object_fit": null,
            "object_position": null,
            "order": null,
            "overflow": null,
            "overflow_x": null,
            "overflow_y": null,
            "padding": null,
            "right": null,
            "top": null,
            "visibility": null,
            "width": null
          }
        },
        "3d7a1e15494e4ae8aaa3819e0f6267af": {
          "model_module": "@jupyter-widgets/controls",
          "model_name": "ProgressStyleModel",
          "model_module_version": "1.5.0",
          "state": {
            "_model_module": "@jupyter-widgets/controls",
            "_model_module_version": "1.5.0",
            "_model_name": "ProgressStyleModel",
            "_view_count": null,
            "_view_module": "@jupyter-widgets/base",
            "_view_module_version": "1.2.0",
            "_view_name": "StyleView",
            "bar_color": null,
            "description_width": ""
          }
        },
        "71f7337d7f4b409c8ea8844fcb612155": {
          "model_module": "@jupyter-widgets/base",
          "model_name": "LayoutModel",
          "model_module_version": "1.2.0",
          "state": {
            "_model_module": "@jupyter-widgets/base",
            "_model_module_version": "1.2.0",
            "_model_name": "LayoutModel",
            "_view_count": null,
            "_view_module": "@jupyter-widgets/base",
            "_view_module_version": "1.2.0",
            "_view_name": "LayoutView",
            "align_content": null,
            "align_items": null,
            "align_self": null,
            "border": null,
            "bottom": null,
            "display": null,
            "flex": null,
            "flex_flow": null,
            "grid_area": null,
            "grid_auto_columns": null,
            "grid_auto_flow": null,
            "grid_auto_rows": null,
            "grid_column": null,
            "grid_gap": null,
            "grid_row": null,
            "grid_template_areas": null,
            "grid_template_columns": null,
            "grid_template_rows": null,
            "height": null,
            "justify_content": null,
            "justify_items": null,
            "left": null,
            "margin": null,
            "max_height": null,
            "max_width": null,
            "min_height": null,
            "min_width": null,
            "object_fit": null,
            "object_position": null,
            "order": null,
            "overflow": null,
            "overflow_x": null,
            "overflow_y": null,
            "padding": null,
            "right": null,
            "top": null,
            "visibility": null,
            "width": null
          }
        },
        "9e3841b30dec4cdd870fc6f75042f3aa": {
          "model_module": "@jupyter-widgets/controls",
          "model_name": "DescriptionStyleModel",
          "model_module_version": "1.5.0",
          "state": {
            "_model_module": "@jupyter-widgets/controls",
            "_model_module_version": "1.5.0",
            "_model_name": "DescriptionStyleModel",
            "_view_count": null,
            "_view_module": "@jupyter-widgets/base",
            "_view_module_version": "1.2.0",
            "_view_name": "StyleView",
            "description_width": ""
          }
        },
        "664a86d33793409cba22714e1e681954": {
          "model_module": "@jupyter-widgets/controls",
          "model_name": "HBoxModel",
          "model_module_version": "1.5.0",
          "state": {
            "_dom_classes": [],
            "_model_module": "@jupyter-widgets/controls",
            "_model_module_version": "1.5.0",
            "_model_name": "HBoxModel",
            "_view_count": null,
            "_view_module": "@jupyter-widgets/controls",
            "_view_module_version": "1.5.0",
            "_view_name": "HBoxView",
            "box_style": "",
            "children": [
              "IPY_MODEL_ecf9fcfc65ed44549dc48c261f627aa6",
              "IPY_MODEL_8494d87986ac4799b1d3a1cfe25c1ea0",
              "IPY_MODEL_2bed38c7c8c5436fbba0c36cc069fcca"
            ],
            "layout": "IPY_MODEL_8702c95acddc441dac3ce6e30723444d"
          }
        },
        "ecf9fcfc65ed44549dc48c261f627aa6": {
          "model_module": "@jupyter-widgets/controls",
          "model_name": "HTMLModel",
          "model_module_version": "1.5.0",
          "state": {
            "_dom_classes": [],
            "_model_module": "@jupyter-widgets/controls",
            "_model_module_version": "1.5.0",
            "_model_name": "HTMLModel",
            "_view_count": null,
            "_view_module": "@jupyter-widgets/controls",
            "_view_module_version": "1.5.0",
            "_view_name": "HTMLView",
            "description": "",
            "description_tooltip": null,
            "layout": "IPY_MODEL_2336483f99004a188e06a41f2f60235b",
            "placeholder": "​",
            "style": "IPY_MODEL_2556af1bf4fd48ab9c63a109d48c2393",
            "value": "Generating unsupervised examples...:  99%"
          }
        },
        "8494d87986ac4799b1d3a1cfe25c1ea0": {
          "model_module": "@jupyter-widgets/controls",
          "model_name": "FloatProgressModel",
          "model_module_version": "1.5.0",
          "state": {
            "_dom_classes": [],
            "_model_module": "@jupyter-widgets/controls",
            "_model_module_version": "1.5.0",
            "_model_name": "FloatProgressModel",
            "_view_count": null,
            "_view_module": "@jupyter-widgets/controls",
            "_view_module_version": "1.5.0",
            "_view_name": "ProgressView",
            "bar_style": "",
            "description": "",
            "description_tooltip": null,
            "layout": "IPY_MODEL_14ae9c5ff4954d4092906b34b05fbbd6",
            "max": 50000,
            "min": 0,
            "orientation": "horizontal",
            "style": "IPY_MODEL_7c01ff82ac5f4518a442b7520dc6db33",
            "value": 50000
          }
        },
        "2bed38c7c8c5436fbba0c36cc069fcca": {
          "model_module": "@jupyter-widgets/controls",
          "model_name": "HTMLModel",
          "model_module_version": "1.5.0",
          "state": {
            "_dom_classes": [],
            "_model_module": "@jupyter-widgets/controls",
            "_model_module_version": "1.5.0",
            "_model_name": "HTMLModel",
            "_view_count": null,
            "_view_module": "@jupyter-widgets/controls",
            "_view_module_version": "1.5.0",
            "_view_name": "HTMLView",
            "description": "",
            "description_tooltip": null,
            "layout": "IPY_MODEL_ae61d7c06ae047db9f7febe315673856",
            "placeholder": "​",
            "style": "IPY_MODEL_55217af1d80e478c94300c7433688d5b",
            "value": " 49654/50000 [00:18&lt;00:00, 3266.71 examples/s]"
          }
        },
        "8702c95acddc441dac3ce6e30723444d": {
          "model_module": "@jupyter-widgets/base",
          "model_name": "LayoutModel",
          "model_module_version": "1.2.0",
          "state": {
            "_model_module": "@jupyter-widgets/base",
            "_model_module_version": "1.2.0",
            "_model_name": "LayoutModel",
            "_view_count": null,
            "_view_module": "@jupyter-widgets/base",
            "_view_module_version": "1.2.0",
            "_view_name": "LayoutView",
            "align_content": null,
            "align_items": null,
            "align_self": null,
            "border": null,
            "bottom": null,
            "display": null,
            "flex": null,
            "flex_flow": null,
            "grid_area": null,
            "grid_auto_columns": null,
            "grid_auto_flow": null,
            "grid_auto_rows": null,
            "grid_column": null,
            "grid_gap": null,
            "grid_row": null,
            "grid_template_areas": null,
            "grid_template_columns": null,
            "grid_template_rows": null,
            "height": null,
            "justify_content": null,
            "justify_items": null,
            "left": null,
            "margin": null,
            "max_height": null,
            "max_width": null,
            "min_height": null,
            "min_width": null,
            "object_fit": null,
            "object_position": null,
            "order": null,
            "overflow": null,
            "overflow_x": null,
            "overflow_y": null,
            "padding": null,
            "right": null,
            "top": null,
            "visibility": "hidden",
            "width": null
          }
        },
        "2336483f99004a188e06a41f2f60235b": {
          "model_module": "@jupyter-widgets/base",
          "model_name": "LayoutModel",
          "model_module_version": "1.2.0",
          "state": {
            "_model_module": "@jupyter-widgets/base",
            "_model_module_version": "1.2.0",
            "_model_name": "LayoutModel",
            "_view_count": null,
            "_view_module": "@jupyter-widgets/base",
            "_view_module_version": "1.2.0",
            "_view_name": "LayoutView",
            "align_content": null,
            "align_items": null,
            "align_self": null,
            "border": null,
            "bottom": null,
            "display": null,
            "flex": null,
            "flex_flow": null,
            "grid_area": null,
            "grid_auto_columns": null,
            "grid_auto_flow": null,
            "grid_auto_rows": null,
            "grid_column": null,
            "grid_gap": null,
            "grid_row": null,
            "grid_template_areas": null,
            "grid_template_columns": null,
            "grid_template_rows": null,
            "height": null,
            "justify_content": null,
            "justify_items": null,
            "left": null,
            "margin": null,
            "max_height": null,
            "max_width": null,
            "min_height": null,
            "min_width": null,
            "object_fit": null,
            "object_position": null,
            "order": null,
            "overflow": null,
            "overflow_x": null,
            "overflow_y": null,
            "padding": null,
            "right": null,
            "top": null,
            "visibility": null,
            "width": null
          }
        },
        "2556af1bf4fd48ab9c63a109d48c2393": {
          "model_module": "@jupyter-widgets/controls",
          "model_name": "DescriptionStyleModel",
          "model_module_version": "1.5.0",
          "state": {
            "_model_module": "@jupyter-widgets/controls",
            "_model_module_version": "1.5.0",
            "_model_name": "DescriptionStyleModel",
            "_view_count": null,
            "_view_module": "@jupyter-widgets/base",
            "_view_module_version": "1.2.0",
            "_view_name": "StyleView",
            "description_width": ""
          }
        },
        "14ae9c5ff4954d4092906b34b05fbbd6": {
          "model_module": "@jupyter-widgets/base",
          "model_name": "LayoutModel",
          "model_module_version": "1.2.0",
          "state": {
            "_model_module": "@jupyter-widgets/base",
            "_model_module_version": "1.2.0",
            "_model_name": "LayoutModel",
            "_view_count": null,
            "_view_module": "@jupyter-widgets/base",
            "_view_module_version": "1.2.0",
            "_view_name": "LayoutView",
            "align_content": null,
            "align_items": null,
            "align_self": null,
            "border": null,
            "bottom": null,
            "display": null,
            "flex": null,
            "flex_flow": null,
            "grid_area": null,
            "grid_auto_columns": null,
            "grid_auto_flow": null,
            "grid_auto_rows": null,
            "grid_column": null,
            "grid_gap": null,
            "grid_row": null,
            "grid_template_areas": null,
            "grid_template_columns": null,
            "grid_template_rows": null,
            "height": null,
            "justify_content": null,
            "justify_items": null,
            "left": null,
            "margin": null,
            "max_height": null,
            "max_width": null,
            "min_height": null,
            "min_width": null,
            "object_fit": null,
            "object_position": null,
            "order": null,
            "overflow": null,
            "overflow_x": null,
            "overflow_y": null,
            "padding": null,
            "right": null,
            "top": null,
            "visibility": null,
            "width": null
          }
        },
        "7c01ff82ac5f4518a442b7520dc6db33": {
          "model_module": "@jupyter-widgets/controls",
          "model_name": "ProgressStyleModel",
          "model_module_version": "1.5.0",
          "state": {
            "_model_module": "@jupyter-widgets/controls",
            "_model_module_version": "1.5.0",
            "_model_name": "ProgressStyleModel",
            "_view_count": null,
            "_view_module": "@jupyter-widgets/base",
            "_view_module_version": "1.2.0",
            "_view_name": "StyleView",
            "bar_color": null,
            "description_width": ""
          }
        },
        "ae61d7c06ae047db9f7febe315673856": {
          "model_module": "@jupyter-widgets/base",
          "model_name": "LayoutModel",
          "model_module_version": "1.2.0",
          "state": {
            "_model_module": "@jupyter-widgets/base",
            "_model_module_version": "1.2.0",
            "_model_name": "LayoutModel",
            "_view_count": null,
            "_view_module": "@jupyter-widgets/base",
            "_view_module_version": "1.2.0",
            "_view_name": "LayoutView",
            "align_content": null,
            "align_items": null,
            "align_self": null,
            "border": null,
            "bottom": null,
            "display": null,
            "flex": null,
            "flex_flow": null,
            "grid_area": null,
            "grid_auto_columns": null,
            "grid_auto_flow": null,
            "grid_auto_rows": null,
            "grid_column": null,
            "grid_gap": null,
            "grid_row": null,
            "grid_template_areas": null,
            "grid_template_columns": null,
            "grid_template_rows": null,
            "height": null,
            "justify_content": null,
            "justify_items": null,
            "left": null,
            "margin": null,
            "max_height": null,
            "max_width": null,
            "min_height": null,
            "min_width": null,
            "object_fit": null,
            "object_position": null,
            "order": null,
            "overflow": null,
            "overflow_x": null,
            "overflow_y": null,
            "padding": null,
            "right": null,
            "top": null,
            "visibility": null,
            "width": null
          }
        },
        "55217af1d80e478c94300c7433688d5b": {
          "model_module": "@jupyter-widgets/controls",
          "model_name": "DescriptionStyleModel",
          "model_module_version": "1.5.0",
          "state": {
            "_model_module": "@jupyter-widgets/controls",
            "_model_module_version": "1.5.0",
            "_model_name": "DescriptionStyleModel",
            "_view_count": null,
            "_view_module": "@jupyter-widgets/base",
            "_view_module_version": "1.2.0",
            "_view_name": "StyleView",
            "description_width": ""
          }
        },
        "6cfbb41911f9428e9c074544b2f9fe2b": {
          "model_module": "@jupyter-widgets/controls",
          "model_name": "HBoxModel",
          "model_module_version": "1.5.0",
          "state": {
            "_dom_classes": [],
            "_model_module": "@jupyter-widgets/controls",
            "_model_module_version": "1.5.0",
            "_model_name": "HBoxModel",
            "_view_count": null,
            "_view_module": "@jupyter-widgets/controls",
            "_view_module_version": "1.5.0",
            "_view_name": "HBoxView",
            "box_style": "",
            "children": [
              "IPY_MODEL_f75682c29f944357bf63601172ba4259",
              "IPY_MODEL_b06b895eca2546a9a638b0417a424669",
              "IPY_MODEL_17f65de64ff74dcc951d7ab9fc0c359c"
            ],
            "layout": "IPY_MODEL_ceafa67cff7d4b0fad409dd65cbb2843"
          }
        },
        "f75682c29f944357bf63601172ba4259": {
          "model_module": "@jupyter-widgets/controls",
          "model_name": "HTMLModel",
          "model_module_version": "1.5.0",
          "state": {
            "_dom_classes": [],
            "_model_module": "@jupyter-widgets/controls",
            "_model_module_version": "1.5.0",
            "_model_name": "HTMLModel",
            "_view_count": null,
            "_view_module": "@jupyter-widgets/controls",
            "_view_module_version": "1.5.0",
            "_view_name": "HTMLView",
            "description": "",
            "description_tooltip": null,
            "layout": "IPY_MODEL_b58e08e83a814cdf9d4ef46a8cea362e",
            "placeholder": "​",
            "style": "IPY_MODEL_d2bd600e42e84aa2a6c398a8b3493221",
            "value": "Shuffling ~/tensorflow_datasets/imdb_reviews/plain_text/1.0.0.incompleteMIH3JC/imdb_reviews-unsupervised.tfrecord*...:  76%"
          }
        },
        "b06b895eca2546a9a638b0417a424669": {
          "model_module": "@jupyter-widgets/controls",
          "model_name": "FloatProgressModel",
          "model_module_version": "1.5.0",
          "state": {
            "_dom_classes": [],
            "_model_module": "@jupyter-widgets/controls",
            "_model_module_version": "1.5.0",
            "_model_name": "FloatProgressModel",
            "_view_count": null,
            "_view_module": "@jupyter-widgets/controls",
            "_view_module_version": "1.5.0",
            "_view_name": "ProgressView",
            "bar_style": "",
            "description": "",
            "description_tooltip": null,
            "layout": "IPY_MODEL_6d47de60176548c1965bcb7aa7edfb3d",
            "max": 50000,
            "min": 0,
            "orientation": "horizontal",
            "style": "IPY_MODEL_7a19f5a037cb48ce9c5a6c52769d0c1f",
            "value": 50000
          }
        },
        "17f65de64ff74dcc951d7ab9fc0c359c": {
          "model_module": "@jupyter-widgets/controls",
          "model_name": "HTMLModel",
          "model_module_version": "1.5.0",
          "state": {
            "_dom_classes": [],
            "_model_module": "@jupyter-widgets/controls",
            "_model_module_version": "1.5.0",
            "_model_name": "HTMLModel",
            "_view_count": null,
            "_view_module": "@jupyter-widgets/controls",
            "_view_module_version": "1.5.0",
            "_view_name": "HTMLView",
            "description": "",
            "description_tooltip": null,
            "layout": "IPY_MODEL_9bca8eaf15e049078a074adf3c9a2fcd",
            "placeholder": "​",
            "style": "IPY_MODEL_d75e5a8082c44cb6b19db2aa3aea581c",
            "value": " 38067/50000 [00:00&lt;00:00, 140303.93 examples/s]"
          }
        },
        "ceafa67cff7d4b0fad409dd65cbb2843": {
          "model_module": "@jupyter-widgets/base",
          "model_name": "LayoutModel",
          "model_module_version": "1.2.0",
          "state": {
            "_model_module": "@jupyter-widgets/base",
            "_model_module_version": "1.2.0",
            "_model_name": "LayoutModel",
            "_view_count": null,
            "_view_module": "@jupyter-widgets/base",
            "_view_module_version": "1.2.0",
            "_view_name": "LayoutView",
            "align_content": null,
            "align_items": null,
            "align_self": null,
            "border": null,
            "bottom": null,
            "display": null,
            "flex": null,
            "flex_flow": null,
            "grid_area": null,
            "grid_auto_columns": null,
            "grid_auto_flow": null,
            "grid_auto_rows": null,
            "grid_column": null,
            "grid_gap": null,
            "grid_row": null,
            "grid_template_areas": null,
            "grid_template_columns": null,
            "grid_template_rows": null,
            "height": null,
            "justify_content": null,
            "justify_items": null,
            "left": null,
            "margin": null,
            "max_height": null,
            "max_width": null,
            "min_height": null,
            "min_width": null,
            "object_fit": null,
            "object_position": null,
            "order": null,
            "overflow": null,
            "overflow_x": null,
            "overflow_y": null,
            "padding": null,
            "right": null,
            "top": null,
            "visibility": "hidden",
            "width": null
          }
        },
        "b58e08e83a814cdf9d4ef46a8cea362e": {
          "model_module": "@jupyter-widgets/base",
          "model_name": "LayoutModel",
          "model_module_version": "1.2.0",
          "state": {
            "_model_module": "@jupyter-widgets/base",
            "_model_module_version": "1.2.0",
            "_model_name": "LayoutModel",
            "_view_count": null,
            "_view_module": "@jupyter-widgets/base",
            "_view_module_version": "1.2.0",
            "_view_name": "LayoutView",
            "align_content": null,
            "align_items": null,
            "align_self": null,
            "border": null,
            "bottom": null,
            "display": null,
            "flex": null,
            "flex_flow": null,
            "grid_area": null,
            "grid_auto_columns": null,
            "grid_auto_flow": null,
            "grid_auto_rows": null,
            "grid_column": null,
            "grid_gap": null,
            "grid_row": null,
            "grid_template_areas": null,
            "grid_template_columns": null,
            "grid_template_rows": null,
            "height": null,
            "justify_content": null,
            "justify_items": null,
            "left": null,
            "margin": null,
            "max_height": null,
            "max_width": null,
            "min_height": null,
            "min_width": null,
            "object_fit": null,
            "object_position": null,
            "order": null,
            "overflow": null,
            "overflow_x": null,
            "overflow_y": null,
            "padding": null,
            "right": null,
            "top": null,
            "visibility": null,
            "width": null
          }
        },
        "d2bd600e42e84aa2a6c398a8b3493221": {
          "model_module": "@jupyter-widgets/controls",
          "model_name": "DescriptionStyleModel",
          "model_module_version": "1.5.0",
          "state": {
            "_model_module": "@jupyter-widgets/controls",
            "_model_module_version": "1.5.0",
            "_model_name": "DescriptionStyleModel",
            "_view_count": null,
            "_view_module": "@jupyter-widgets/base",
            "_view_module_version": "1.2.0",
            "_view_name": "StyleView",
            "description_width": ""
          }
        },
        "6d47de60176548c1965bcb7aa7edfb3d": {
          "model_module": "@jupyter-widgets/base",
          "model_name": "LayoutModel",
          "model_module_version": "1.2.0",
          "state": {
            "_model_module": "@jupyter-widgets/base",
            "_model_module_version": "1.2.0",
            "_model_name": "LayoutModel",
            "_view_count": null,
            "_view_module": "@jupyter-widgets/base",
            "_view_module_version": "1.2.0",
            "_view_name": "LayoutView",
            "align_content": null,
            "align_items": null,
            "align_self": null,
            "border": null,
            "bottom": null,
            "display": null,
            "flex": null,
            "flex_flow": null,
            "grid_area": null,
            "grid_auto_columns": null,
            "grid_auto_flow": null,
            "grid_auto_rows": null,
            "grid_column": null,
            "grid_gap": null,
            "grid_row": null,
            "grid_template_areas": null,
            "grid_template_columns": null,
            "grid_template_rows": null,
            "height": null,
            "justify_content": null,
            "justify_items": null,
            "left": null,
            "margin": null,
            "max_height": null,
            "max_width": null,
            "min_height": null,
            "min_width": null,
            "object_fit": null,
            "object_position": null,
            "order": null,
            "overflow": null,
            "overflow_x": null,
            "overflow_y": null,
            "padding": null,
            "right": null,
            "top": null,
            "visibility": null,
            "width": null
          }
        },
        "7a19f5a037cb48ce9c5a6c52769d0c1f": {
          "model_module": "@jupyter-widgets/controls",
          "model_name": "ProgressStyleModel",
          "model_module_version": "1.5.0",
          "state": {
            "_model_module": "@jupyter-widgets/controls",
            "_model_module_version": "1.5.0",
            "_model_name": "ProgressStyleModel",
            "_view_count": null,
            "_view_module": "@jupyter-widgets/base",
            "_view_module_version": "1.2.0",
            "_view_name": "StyleView",
            "bar_color": null,
            "description_width": ""
          }
        },
        "9bca8eaf15e049078a074adf3c9a2fcd": {
          "model_module": "@jupyter-widgets/base",
          "model_name": "LayoutModel",
          "model_module_version": "1.2.0",
          "state": {
            "_model_module": "@jupyter-widgets/base",
            "_model_module_version": "1.2.0",
            "_model_name": "LayoutModel",
            "_view_count": null,
            "_view_module": "@jupyter-widgets/base",
            "_view_module_version": "1.2.0",
            "_view_name": "LayoutView",
            "align_content": null,
            "align_items": null,
            "align_self": null,
            "border": null,
            "bottom": null,
            "display": null,
            "flex": null,
            "flex_flow": null,
            "grid_area": null,
            "grid_auto_columns": null,
            "grid_auto_flow": null,
            "grid_auto_rows": null,
            "grid_column": null,
            "grid_gap": null,
            "grid_row": null,
            "grid_template_areas": null,
            "grid_template_columns": null,
            "grid_template_rows": null,
            "height": null,
            "justify_content": null,
            "justify_items": null,
            "left": null,
            "margin": null,
            "max_height": null,
            "max_width": null,
            "min_height": null,
            "min_width": null,
            "object_fit": null,
            "object_position": null,
            "order": null,
            "overflow": null,
            "overflow_x": null,
            "overflow_y": null,
            "padding": null,
            "right": null,
            "top": null,
            "visibility": null,
            "width": null
          }
        },
        "d75e5a8082c44cb6b19db2aa3aea581c": {
          "model_module": "@jupyter-widgets/controls",
          "model_name": "DescriptionStyleModel",
          "model_module_version": "1.5.0",
          "state": {
            "_model_module": "@jupyter-widgets/controls",
            "_model_module_version": "1.5.0",
            "_model_name": "DescriptionStyleModel",
            "_view_count": null,
            "_view_module": "@jupyter-widgets/base",
            "_view_module_version": "1.2.0",
            "_view_name": "StyleView",
            "description_width": ""
          }
        }
      }
    }
  },
  "cells": [
    {
      "cell_type": "markdown",
      "source": [
        "# tf.data api!!!!"
      ],
      "metadata": {
        "id": "ho8-JHOpW5Ha"
      }
    },
    {
      "cell_type": "code",
      "execution_count": null,
      "metadata": {
        "id": "zKd8e5rTW4Iu"
      },
      "outputs": [],
      "source": [
        "import tensorflow as tf\n",
        "import tensorflow_datasets as tfds"
      ]
    },
    {
      "cell_type": "code",
      "source": [
        "builders = tfds.list_builders()\n",
        "print(builders)"
      ],
      "metadata": {
        "colab": {
          "base_uri": "https://localhost:8080/"
        },
        "id": "6vA31Cg2X7NA",
        "outputId": "b9fd9102-6150-4a6e-ec1f-1a235320ce6f"
      },
      "execution_count": null,
      "outputs": [
        {
          "output_type": "stream",
          "name": "stdout",
          "text": [
            "['abstract_reasoning', 'accentdb', 'aeslc', 'aflw2k3d', 'ag_news_subset', 'ai2_arc', 'ai2_arc_with_ir', 'amazon_us_reviews', 'anli', 'answer_equivalence', 'arc', 'asqa', 'asset', 'assin2', 'bair_robot_pushing_small', 'bccd', 'beans', 'bee_dataset', 'beir', 'big_patent', 'bigearthnet', 'billsum', 'binarized_mnist', 'binary_alpha_digits', 'ble_wind_field', 'blimp', 'booksum', 'bool_q', 'c4', 'caltech101', 'caltech_birds2010', 'caltech_birds2011', 'cardiotox', 'cars196', 'cassava', 'cats_vs_dogs', 'celeb_a', 'celeb_a_hq', 'cfq', 'cherry_blossoms', 'chexpert', 'cifar10', 'cifar100', 'cifar10_1', 'cifar10_corrupted', 'citrus_leaves', 'cityscapes', 'civil_comments', 'clevr', 'clic', 'clinc_oos', 'cmaterdb', 'cnn_dailymail', 'coco', 'coco_captions', 'coil100', 'colorectal_histology', 'colorectal_histology_large', 'common_voice', 'coqa', 'cos_e', 'cosmos_qa', 'covid19', 'covid19sum', 'crema_d', 'criteo', 'cs_restaurants', 'curated_breast_imaging_ddsm', 'cycle_gan', 'd4rl_adroit_door', 'd4rl_adroit_hammer', 'd4rl_adroit_pen', 'd4rl_adroit_relocate', 'd4rl_antmaze', 'd4rl_mujoco_ant', 'd4rl_mujoco_halfcheetah', 'd4rl_mujoco_hopper', 'd4rl_mujoco_walker2d', 'dart', 'davis', 'deep1b', 'deep_weeds', 'definite_pronoun_resolution', 'dementiabank', 'diabetic_retinopathy_detection', 'diamonds', 'div2k', 'dmlab', 'doc_nli', 'dolphin_number_word', 'domainnet', 'downsampled_imagenet', 'drop', 'dsprites', 'dtd', 'duke_ultrasound', 'e2e_cleaned', 'efron_morris75', 'emnist', 'eraser_multi_rc', 'esnli', 'eurosat', 'fashion_mnist', 'flic', 'flores', 'food101', 'forest_fires', 'fuss', 'gap', 'geirhos_conflict_stimuli', 'gem', 'genomics_ood', 'german_credit_numeric', 'gigaword', 'glove100_angular', 'glue', 'goemotions', 'gov_report', 'gpt3', 'gref', 'groove', 'grounded_scan', 'gsm8k', 'gtzan', 'gtzan_music_speech', 'hellaswag', 'higgs', 'hillstrom', 'horses_or_humans', 'howell', 'i_naturalist2017', 'i_naturalist2018', 'imagenet2012', 'imagenet2012_corrupted', 'imagenet2012_fewshot', 'imagenet2012_multilabel', 'imagenet2012_real', 'imagenet2012_subset', 'imagenet_a', 'imagenet_lt', 'imagenet_r', 'imagenet_resized', 'imagenet_sketch', 'imagenet_v2', 'imagenette', 'imagewang', 'imdb_reviews', 'irc_disentanglement', 'iris', 'istella', 'kddcup99', 'kitti', 'kmnist', 'lambada', 'lfw', 'librispeech', 'librispeech_lm', 'libritts', 'ljspeech', 'lm1b', 'locomotion', 'lost_and_found', 'lsun', 'lvis', 'malaria', 'math_dataset', 'math_qa', 'mctaco', 'media_sum', 'mlqa', 'mnist', 'mnist_corrupted', 'movie_lens', 'movie_rationales', 'movielens', 'moving_mnist', 'mrqa', 'mslr_web', 'mt_opt', 'multi_news', 'multi_nli', 'multi_nli_mismatch', 'natural_questions', 'natural_questions_open', 'newsroom', 'nsynth', 'nyu_depth_v2', 'ogbg_molpcba', 'omniglot', 'open_images_challenge2019_detection', 'open_images_v4', 'openbookqa', 'opinion_abstracts', 'opinosis', 'opus', 'oxford_flowers102', 'oxford_iiit_pet', 'para_crawl', 'pass', 'patch_camelyon', 'paws_wiki', 'paws_x_wiki', 'penguins', 'pet_finder', 'pg19', 'piqa', 'places365_small', 'plant_leaves', 'plant_village', 'plantae_k', 'protein_net', 'qa4mre', 'qasc', 'quac', 'quality', 'quickdraw_bitmap', 'race', 'radon', 'reddit', 'reddit_disentanglement', 'reddit_tifu', 'ref_coco', 'resisc45', 'rlu_atari', 'rlu_atari_checkpoints', 'rlu_atari_checkpoints_ordered', 'rlu_control_suite', 'rlu_dmlab_explore_object_rewards_few', 'rlu_dmlab_explore_object_rewards_many', 'rlu_dmlab_rooms_select_nonmatching_object', 'rlu_dmlab_rooms_watermaze', 'rlu_dmlab_seekavoid_arena01', 'rlu_locomotion', 'rlu_rwrl', 'robomimic_ph', 'robonet', 'robosuite_panda_pick_place_can', 'rock_paper_scissors', 'rock_you', 's3o4d', 'salient_span_wikipedia', 'samsum', 'savee', 'scan', 'scene_parse150', 'schema_guided_dialogue', 'sci_tail', 'scicite', 'scientific_papers', 'scrolls', 'sentiment140', 'shapes3d', 'sift1m', 'simpte', 'siscore', 'smallnorb', 'smartwatch_gestures', 'snli', 'so2sat', 'speech_commands', 'spoken_digit', 'squad', 'squad_question_generation', 'stanford_dogs', 'stanford_online_products', 'star_cfq', 'starcraft_video', 'stl10', 'story_cloze', 'summscreen', 'sun397', 'super_glue', 'svhn_cropped', 'symmetric_solids', 'tao', 'ted_hrlr_translate', 'ted_multi_translate', 'tedlium', 'tf_flowers', 'the300w_lp', 'tiny_shakespeare', 'titanic', 'trec', 'trivia_qa', 'tydi_qa', 'uc_merced', 'ucf101', 'unified_qa', 'vctk', 'visual_domain_decathlon', 'voc', 'voxceleb', 'voxforge', 'waymo_open_dataset', 'web_graph', 'web_nlg', 'web_questions', 'wider_face', 'wiki40b', 'wiki_auto', 'wiki_bio', 'wiki_dialog', 'wiki_table_questions', 'wiki_table_text', 'wikiann', 'wikihow', 'wikipedia', 'wikipedia_toxicity_subtypes', 'wine_quality', 'winogrande', 'wit', 'wit_kaggle', 'wmt13_translate', 'wmt14_translate', 'wmt15_translate', 'wmt16_translate', 'wmt17_translate', 'wmt18_translate', 'wmt19_translate', 'wmt_t2t_translate', 'wmt_translate', 'wordnet', 'wsc273', 'xnli', 'xquad', 'xsum', 'xtreme_pawsx', 'xtreme_s', 'xtreme_xnli', 'yelp_polarity_reviews', 'yes_no', 'youtube_vis', 'huggingface:acronym_identification', 'huggingface:ade_corpus_v2', 'huggingface:adv_glue', 'huggingface:adversarial_qa', 'huggingface:aeslc', 'huggingface:afrikaans_ner_corpus', 'huggingface:ag_news', 'huggingface:ai2_arc', 'huggingface:air_dialogue', 'huggingface:ajgt_twitter_ar', 'huggingface:allegro_reviews', 'huggingface:allocine', 'huggingface:alt', 'huggingface:amazon_polarity', 'huggingface:amazon_reviews_multi', 'huggingface:amazon_us_reviews', 'huggingface:ambig_qa', 'huggingface:americas_nli', 'huggingface:ami', 'huggingface:amttl', 'huggingface:anli', 'huggingface:app_reviews', 'huggingface:aqua_rat', 'huggingface:aquamuse', 'huggingface:ar_cov19', 'huggingface:ar_res_reviews', 'huggingface:ar_sarcasm', 'huggingface:arabic_billion_words', 'huggingface:arabic_pos_dialect', 'huggingface:arabic_speech_corpus', 'huggingface:arcd', 'huggingface:arsentd_lev', 'huggingface:art', 'huggingface:arxiv_dataset', 'huggingface:ascent_kb', 'huggingface:aslg_pc12', 'huggingface:asnq', 'huggingface:asset', 'huggingface:assin', 'huggingface:assin2', 'huggingface:atomic', 'huggingface:autshumato', 'huggingface:babi_qa', 'huggingface:banking77', 'huggingface:bbaw_egyptian', 'huggingface:bbc_hindi_nli', 'huggingface:bc2gm_corpus', 'huggingface:beans', 'huggingface:best2009', 'huggingface:bianet', 'huggingface:bible_para', 'huggingface:big_patent', 'huggingface:bigbench', 'huggingface:billsum', 'huggingface:bing_coronavirus_query_set', 'huggingface:biomrc', 'huggingface:biosses', 'huggingface:biwi_kinect_head_pose', 'huggingface:blbooks', 'huggingface:blbooksgenre', 'huggingface:blended_skill_talk', 'huggingface:blimp', 'huggingface:blog_authorship_corpus', 'huggingface:bn_hate_speech', 'huggingface:bnl_newspapers', 'huggingface:bookcorpus', 'huggingface:bookcorpusopen', 'huggingface:boolq', 'huggingface:bprec', 'huggingface:break_data', 'huggingface:brwac', 'huggingface:bsd_ja_en', 'huggingface:bswac', 'huggingface:c3', 'huggingface:c4', 'huggingface:cail2018', 'huggingface:caner', 'huggingface:capes', 'huggingface:casino', 'huggingface:catalonia_independence', 'huggingface:cats_vs_dogs', 'huggingface:cawac', 'huggingface:cbt', 'huggingface:cc100', 'huggingface:cc_news', 'huggingface:ccaligned_multilingual', 'huggingface:cdsc', 'huggingface:cdt', 'huggingface:cedr', 'huggingface:cfq', 'huggingface:chr_en', 'huggingface:cifar10', 'huggingface:cifar100', 'huggingface:circa', 'huggingface:civil_comments', 'huggingface:clickbait_news_bg', 'huggingface:climate_fever', 'huggingface:clinc_oos', 'huggingface:clue', 'huggingface:cmrc2018', 'huggingface:cmu_hinglish_dog', 'huggingface:cnn_dailymail', 'huggingface:coached_conv_pref', 'huggingface:coarse_discourse', 'huggingface:codah', 'huggingface:code_search_net', 'huggingface:code_x_glue_cc_clone_detection_big_clone_bench', 'huggingface:code_x_glue_cc_clone_detection_poj104', 'huggingface:code_x_glue_cc_cloze_testing_all', 'huggingface:code_x_glue_cc_cloze_testing_maxmin', 'huggingface:code_x_glue_cc_code_completion_line', 'huggingface:code_x_glue_cc_code_completion_token', 'huggingface:code_x_glue_cc_code_refinement', 'huggingface:code_x_glue_cc_code_to_code_trans', 'huggingface:code_x_glue_cc_defect_detection', 'huggingface:code_x_glue_ct_code_to_text', 'huggingface:code_x_glue_tc_nl_code_search_adv', 'huggingface:code_x_glue_tc_text_to_code', 'huggingface:code_x_glue_tt_text_to_text', 'huggingface:com_qa', 'huggingface:common_gen', 'huggingface:common_language', 'huggingface:common_voice', 'huggingface:commonsense_qa', 'huggingface:competition_math', 'huggingface:compguesswhat', 'huggingface:conceptnet5', 'huggingface:conceptual_12m', 'huggingface:conceptual_captions', 'huggingface:conll2000', 'huggingface:conll2002', 'huggingface:conll2003', 'huggingface:conll2012_ontonotesv5', 'huggingface:conllpp', 'huggingface:consumer-finance-complaints', 'huggingface:conv_ai', 'huggingface:conv_ai_2', 'huggingface:conv_ai_3', 'huggingface:conv_questions', 'huggingface:coqa', 'huggingface:cord19', 'huggingface:cornell_movie_dialog', 'huggingface:cos_e', 'huggingface:cosmos_qa', 'huggingface:counter', 'huggingface:covid_qa_castorini', 'huggingface:covid_qa_deepset', 'huggingface:covid_qa_ucsd', 'huggingface:covid_tweets_japanese', 'huggingface:covost2', 'huggingface:cppe-5', 'huggingface:craigslist_bargains', 'huggingface:crawl_domain', 'huggingface:crd3', 'huggingface:crime_and_punish', 'huggingface:crows_pairs', 'huggingface:cryptonite', 'huggingface:cs_restaurants', 'huggingface:cuad', 'huggingface:curiosity_dialogs', 'huggingface:daily_dialog', 'huggingface:dane', 'huggingface:danish_political_comments', 'huggingface:dart', 'huggingface:datacommons_factcheck', 'huggingface:dbpedia_14', 'huggingface:dbrd', 'huggingface:deal_or_no_dialog', 'huggingface:definite_pronoun_resolution', 'huggingface:dengue_filipino', 'huggingface:dialog_re', 'huggingface:diplomacy_detection', 'huggingface:disaster_response_messages', 'huggingface:discofuse', 'huggingface:discovery', 'huggingface:disfl_qa', 'huggingface:doc2dial', 'huggingface:docred', 'huggingface:doqa', 'huggingface:dream', 'huggingface:drop', 'huggingface:duorc', 'huggingface:dutch_social', 'huggingface:dyk', 'huggingface:e2e_nlg', 'huggingface:e2e_nlg_cleaned', 'huggingface:ecb', 'huggingface:ecthr_cases', 'huggingface:eduge', 'huggingface:ehealth_kd', 'huggingface:eitb_parcc', 'huggingface:electricity_load_diagrams', 'huggingface:eli5', 'huggingface:eli5_category', 'huggingface:elkarhizketak', 'huggingface:emea', 'huggingface:emo', 'huggingface:emotion', 'huggingface:emotone_ar', 'huggingface:empathetic_dialogues', 'huggingface:enriched_web_nlg', 'huggingface:enwik8', 'huggingface:eraser_multi_rc', 'huggingface:esnli', 'huggingface:eth_py150_open', 'huggingface:ethos', 'huggingface:ett', 'huggingface:eu_regulatory_ir', 'huggingface:eurlex', 'huggingface:euronews', 'huggingface:europa_eac_tm', 'huggingface:europa_ecdc_tm', 'huggingface:europarl_bilingual', 'huggingface:event2Mind', 'huggingface:evidence_infer_treatment', 'huggingface:exams', 'huggingface:factckbr', 'huggingface:fake_news_english', 'huggingface:fake_news_filipino', 'huggingface:farsi_news', 'huggingface:fashion_mnist', 'huggingface:fever', 'huggingface:few_rel', 'huggingface:financial_phrasebank', 'huggingface:finer', 'huggingface:flores', 'huggingface:flue', 'huggingface:food101', 'huggingface:fquad', 'huggingface:freebase_qa', 'huggingface:gap', 'huggingface:gem', 'huggingface:generated_reviews_enth', 'huggingface:generics_kb', 'huggingface:german_legal_entity_recognition', 'huggingface:germaner', 'huggingface:germeval_14', 'huggingface:giga_fren', 'huggingface:gigaword', 'huggingface:glucose', 'huggingface:glue', 'huggingface:gnad10', 'huggingface:go_emotions', 'huggingface:gooaq', 'huggingface:google_wellformed_query', 'huggingface:grail_qa', 'huggingface:great_code', 'huggingface:greek_legal_code', 'huggingface:gsm8k', 'huggingface:guardian_authorship', 'huggingface:gutenberg_time', 'huggingface:hans', 'huggingface:hansards', 'huggingface:hard', 'huggingface:harem', 'huggingface:has_part', 'huggingface:hate_offensive', 'huggingface:hate_speech18', 'huggingface:hate_speech_filipino', 'huggingface:hate_speech_offensive', 'huggingface:hate_speech_pl', 'huggingface:hate_speech_portuguese', 'huggingface:hatexplain', 'huggingface:hausa_voa_ner', 'huggingface:hausa_voa_topics', 'huggingface:hda_nli_hindi', 'huggingface:head_qa', 'huggingface:health_fact', 'huggingface:hebrew_projectbenyehuda', 'huggingface:hebrew_sentiment', 'huggingface:hebrew_this_world', 'huggingface:hellaswag', 'huggingface:hendrycks_test', 'huggingface:hind_encorp', 'huggingface:hindi_discourse', 'huggingface:hippocorpus', 'huggingface:hkcancor', 'huggingface:hlgd', 'huggingface:hope_edi', 'huggingface:hotpot_qa', 'huggingface:hover', 'huggingface:hrenwac_para', 'huggingface:hrwac', 'huggingface:humicroedit', 'huggingface:hybrid_qa', 'huggingface:hyperpartisan_news_detection', 'huggingface:iapp_wiki_qa_squad', 'huggingface:id_clickbait', 'huggingface:id_liputan6', 'huggingface:id_nergrit_corpus', 'huggingface:id_newspapers_2018', 'huggingface:id_panl_bppt', 'huggingface:id_puisi', 'huggingface:igbo_english_machine_translation', 'huggingface:igbo_monolingual', 'huggingface:igbo_ner', 'huggingface:ilist', 'huggingface:imagenet-1k', 'huggingface:imagenet_sketch', 'huggingface:imdb', 'huggingface:imdb_urdu_reviews', 'huggingface:imppres', 'huggingface:indic_glue', 'huggingface:indonli', 'huggingface:indonlu', 'huggingface:inquisitive_qg', 'huggingface:interpress_news_category_tr', 'huggingface:interpress_news_category_tr_lite', 'huggingface:irc_disentangle', 'huggingface:isixhosa_ner_corpus', 'huggingface:isizulu_ner_corpus', 'huggingface:iwslt2017', 'huggingface:jeopardy', 'huggingface:jfleg', 'huggingface:jigsaw_toxicity_pred', 'huggingface:jigsaw_unintended_bias', 'huggingface:jnlpba', 'huggingface:journalists_questions', 'huggingface:kan_hope', 'huggingface:kannada_news', 'huggingface:kd_conv', 'huggingface:kde4', 'huggingface:kelm', 'huggingface:kilt_tasks', 'huggingface:kilt_wikipedia', 'huggingface:kinnews_kirnews', 'huggingface:klue', 'huggingface:kor_3i4k', 'huggingface:kor_hate', 'huggingface:kor_ner', 'huggingface:kor_nli', 'huggingface:kor_nlu', 'huggingface:kor_qpair', 'huggingface:kor_sae', 'huggingface:kor_sarcasm', 'huggingface:labr', 'huggingface:lama', 'huggingface:lambada', 'huggingface:large_spanish_corpus', 'huggingface:laroseda', 'huggingface:lc_quad', 'huggingface:lccc', 'huggingface:lener_br', 'huggingface:lex_glue', 'huggingface:liar', 'huggingface:librispeech_asr', 'huggingface:librispeech_lm', 'huggingface:limit', 'huggingface:lince', 'huggingface:linnaeus', 'huggingface:liveqa', 'huggingface:lj_speech', 'huggingface:lm1b', 'huggingface:lst20', 'huggingface:m_lama', 'huggingface:mac_morpho', 'huggingface:makhzan', 'huggingface:masakhaner', 'huggingface:math_dataset', 'huggingface:math_qa', 'huggingface:matinf', 'huggingface:mbpp', 'huggingface:mc4', 'huggingface:mc_taco', 'huggingface:md_gender_bias', 'huggingface:mdd', 'huggingface:med_hop', 'huggingface:medal', 'huggingface:medical_dialog', 'huggingface:medical_questions_pairs', 'huggingface:medmcqa', 'huggingface:menyo20k_mt', 'huggingface:meta_woz', 'huggingface:metashift', 'huggingface:metooma', 'huggingface:metrec', 'huggingface:miam', 'huggingface:mkb', 'huggingface:mkqa', 'huggingface:mlqa', 'huggingface:mlsum', 'huggingface:mnist', 'huggingface:mocha', 'huggingface:monash_tsf', 'huggingface:moroco', 'huggingface:movie_rationales', 'huggingface:mrqa', 'huggingface:ms_marco', 'huggingface:ms_terms', 'huggingface:msr_genomics_kbcomp', 'huggingface:msr_sqa', 'huggingface:msr_text_compression', 'huggingface:msr_zhen_translation_parity', 'huggingface:msra_ner', 'huggingface:mt_eng_vietnamese', 'huggingface:muchocine', 'huggingface:multi_booked', 'huggingface:multi_eurlex', 'huggingface:multi_news', 'huggingface:multi_nli', 'huggingface:multi_nli_mismatch', 'huggingface:multi_para_crawl', 'huggingface:multi_re_qa', 'huggingface:multi_woz_v22', 'huggingface:multi_x_science_sum', 'huggingface:multidoc2dial', 'huggingface:multilingual_librispeech', 'huggingface:mutual_friends', 'huggingface:mwsc', 'huggingface:myanmar_news', 'huggingface:narrativeqa', 'huggingface:narrativeqa_manual', 'huggingface:natural_questions', 'huggingface:ncbi_disease', 'huggingface:nchlt', 'huggingface:ncslgr', 'huggingface:nell', 'huggingface:neural_code_search', 'huggingface:news_commentary', 'huggingface:newsgroup', 'huggingface:newsph', 'huggingface:newsph_nli', 'huggingface:newspop', 'huggingface:newsqa', 'huggingface:newsroom', 'huggingface:nkjp-ner', 'huggingface:nli_tr', 'huggingface:nlu_evaluation_data', 'huggingface:norec', 'huggingface:norne', 'huggingface:norwegian_ner', 'huggingface:nq_open', 'huggingface:nsmc', 'huggingface:numer_sense', 'huggingface:numeric_fused_head', 'huggingface:oclar', 'huggingface:offcombr', 'huggingface:offenseval2020_tr', 'huggingface:offenseval_dravidian', 'huggingface:ofis_publik', 'huggingface:ohsumed', 'huggingface:ollie', 'huggingface:omp', 'huggingface:onestop_english', 'huggingface:onestop_qa', 'huggingface:open_subtitles', 'huggingface:openai_humaneval', 'huggingface:openbookqa', 'huggingface:openslr', 'huggingface:openwebtext', 'huggingface:opinosis', 'huggingface:opus100', 'huggingface:opus_books', 'huggingface:opus_dgt', 'huggingface:opus_dogc', 'huggingface:opus_elhuyar', 'huggingface:opus_euconst', 'huggingface:opus_finlex', 'huggingface:opus_fiskmo', 'huggingface:opus_gnome', 'huggingface:opus_infopankki', 'huggingface:opus_memat', 'huggingface:opus_montenegrinsubs', 'huggingface:opus_openoffice', 'huggingface:opus_paracrawl', 'huggingface:opus_rf', 'huggingface:opus_tedtalks', 'huggingface:opus_ubuntu', 'huggingface:opus_wikipedia', 'huggingface:opus_xhosanavy', 'huggingface:orange_sum', 'huggingface:oscar', 'huggingface:para_crawl', 'huggingface:para_pat', 'huggingface:parsinlu_reading_comprehension', 'huggingface:pass', 'huggingface:paws', 'huggingface:paws-x', 'huggingface:pec', 'huggingface:peer_read', 'huggingface:peoples_daily_ner', 'huggingface:per_sent', 'huggingface:persian_ner', 'huggingface:pg19', 'huggingface:php', 'huggingface:piaf', 'huggingface:pib', 'huggingface:piqa', 'huggingface:pn_summary', 'huggingface:poem_sentiment', 'huggingface:polemo2', 'huggingface:poleval2019_cyberbullying', 'huggingface:poleval2019_mt', 'huggingface:polsum', 'huggingface:polyglot_ner', 'huggingface:prachathai67k', 'huggingface:pragmeval', 'huggingface:proto_qa', 'huggingface:psc', 'huggingface:ptb_text_only', 'huggingface:pubmed', 'huggingface:pubmed_qa', 'huggingface:py_ast', 'huggingface:qa4mre', 'huggingface:qa_srl', 'huggingface:qa_zre', 'huggingface:qangaroo', 'huggingface:qanta', 'huggingface:qasc', 'huggingface:qasper', 'huggingface:qed', 'huggingface:qed_amara', 'huggingface:quac', 'huggingface:quail', 'huggingface:quarel', 'huggingface:quartz', 'huggingface:quickdraw', 'huggingface:quora', 'huggingface:quoref', 'huggingface:race', 'huggingface:re_dial', 'huggingface:reasoning_bg', 'huggingface:recipe_nlg', 'huggingface:reclor', 'huggingface:red_caps', 'huggingface:reddit', 'huggingface:reddit_tifu', 'huggingface:refresd', 'huggingface:reuters21578', 'huggingface:riddle_sense', 'huggingface:ro_sent', 'huggingface:ro_sts', 'huggingface:ro_sts_parallel', 'huggingface:roman_urdu', 'huggingface:roman_urdu_hate_speech', 'huggingface:ronec', 'huggingface:ropes', 'huggingface:rotten_tomatoes', 'huggingface:russian_super_glue', 'huggingface:rvl_cdip', 'huggingface:s2orc', 'huggingface:samsum', 'huggingface:sanskrit_classic', 'huggingface:saudinewsnet', 'huggingface:sberquad', 'huggingface:sbu_captions', 'huggingface:scan', 'huggingface:scb_mt_enth_2020', 'huggingface:scene_parse_150', 'huggingface:schema_guided_dstc8', 'huggingface:scicite', 'huggingface:scielo', 'huggingface:scientific_papers', 'huggingface:scifact', 'huggingface:sciq', 'huggingface:scitail', 'huggingface:scitldr', 'huggingface:search_qa', 'huggingface:sede', 'huggingface:selqa', 'huggingface:sem_eval_2010_task_8', 'huggingface:sem_eval_2014_task_1', 'huggingface:sem_eval_2018_task_1', 'huggingface:sem_eval_2020_task_11', 'huggingface:sent_comp', 'huggingface:senti_lex', 'huggingface:senti_ws', 'huggingface:sentiment140', 'huggingface:sepedi_ner', 'huggingface:sesotho_ner_corpus', 'huggingface:setimes', 'huggingface:setswana_ner_corpus', 'huggingface:sharc', 'huggingface:sharc_modified', 'huggingface:sick', 'huggingface:silicone', 'huggingface:simple_questions_v2', 'huggingface:siswati_ner_corpus', 'huggingface:smartdata', 'huggingface:sms_spam', 'huggingface:snips_built_in_intents', 'huggingface:snli', 'huggingface:snow_simplified_japanese_corpus', 'huggingface:so_stacksample', 'huggingface:social_bias_frames', 'huggingface:social_i_qa', 'huggingface:sofc_materials_articles', 'huggingface:sogou_news', 'huggingface:spanish_billion_words', 'huggingface:spc', 'huggingface:species_800', 'huggingface:speech_commands', 'huggingface:spider', 'huggingface:squad', 'huggingface:squad_adversarial', 'huggingface:squad_es', 'huggingface:squad_it', 'huggingface:squad_kor_v1', 'huggingface:squad_kor_v2', 'huggingface:squad_v1_pt', 'huggingface:squad_v2', 'huggingface:squadshifts', 'huggingface:srwac', 'huggingface:sst', 'huggingface:stereoset', 'huggingface:story_cloze', 'huggingface:stsb_mt_sv', 'huggingface:stsb_multi_mt', 'huggingface:style_change_detection', 'huggingface:subjqa', 'huggingface:super_glue', 'huggingface:superb', 'huggingface:svhn', 'huggingface:swag', 'huggingface:swahili', 'huggingface:swahili_news', 'huggingface:swda', 'huggingface:swedish_medical_ner', 'huggingface:swedish_ner_corpus', 'huggingface:swedish_reviews', 'huggingface:swiss_judgment_prediction', 'huggingface:tab_fact', 'huggingface:tamilmixsentiment', 'huggingface:tanzil', 'huggingface:tapaco', 'huggingface:tashkeela', 'huggingface:taskmaster1', 'huggingface:taskmaster2', 'huggingface:taskmaster3', 'huggingface:tatoeba', 'huggingface:ted_hrlr', 'huggingface:ted_iwlst2013', 'huggingface:ted_multi', 'huggingface:ted_talks_iwslt', 'huggingface:telugu_books', 'huggingface:telugu_news', 'huggingface:tep_en_fa_para', 'huggingface:text2log', 'huggingface:textvqa', 'huggingface:thai_toxicity_tweet', 'huggingface:thainer', 'huggingface:thaiqa_squad', 'huggingface:thaisum', 'huggingface:the_pile', 'huggingface:the_pile_books3', 'huggingface:the_pile_openwebtext2', 'huggingface:the_pile_stack_exchange', 'huggingface:tilde_model', 'huggingface:time_dial', 'huggingface:times_of_india_news_headlines', 'huggingface:timit_asr', 'huggingface:tiny_shakespeare', 'huggingface:tlc', 'huggingface:tmu_gfm_dataset', 'huggingface:tne', 'huggingface:told-br', 'huggingface:totto', 'huggingface:trec', 'huggingface:trivia_qa', 'huggingface:truthful_qa', 'huggingface:tsac', 'huggingface:ttc4900', 'huggingface:tunizi', 'huggingface:tuple_ie', 'huggingface:turk', 'huggingface:turkic_xwmt', 'huggingface:turkish_movie_sentiment', 'huggingface:turkish_ner', 'huggingface:turkish_product_reviews', 'huggingface:turkish_shrinked_ner', 'huggingface:turku_ner_corpus', 'huggingface:tweet_eval', 'huggingface:tweet_qa', 'huggingface:tweets_ar_en_parallel', 'huggingface:tweets_hate_speech_detection', 'huggingface:twi_text_c3', 'huggingface:twi_wordsim353', 'huggingface:tydiqa', 'huggingface:ubuntu_dialogs_corpus', 'huggingface:udhr', 'huggingface:um005', 'huggingface:un_ga', 'huggingface:un_multi', 'huggingface:un_pc', 'huggingface:universal_dependencies', 'huggingface:universal_morphologies', 'huggingface:urdu_fake_news', 'huggingface:urdu_sentiment_corpus', 'huggingface:vctk', 'huggingface:visual_genome', 'huggingface:vivos', 'huggingface:web_nlg', 'huggingface:web_of_science', 'huggingface:web_questions', 'huggingface:weibo_ner', 'huggingface:wi_locness', 'huggingface:wider_face', 'huggingface:wiki40b', 'huggingface:wiki_asp', 'huggingface:wiki_atomic_edits', 'huggingface:wiki_auto', 'huggingface:wiki_bio', 'huggingface:wiki_dpr', 'huggingface:wiki_hop', 'huggingface:wiki_lingua', 'huggingface:wiki_movies', 'huggingface:wiki_qa', 'huggingface:wiki_qa_ar', 'huggingface:wiki_snippets', 'huggingface:wiki_source', 'huggingface:wiki_split', 'huggingface:wiki_summary', 'huggingface:wikiann', 'huggingface:wikicorpus', 'huggingface:wikihow', 'huggingface:wikipedia', 'huggingface:wikisql', 'huggingface:wikitablequestions', 'huggingface:wikitext', 'huggingface:wikitext_tl39', 'huggingface:wili_2018', 'huggingface:wino_bias', 'huggingface:winograd_wsc', 'huggingface:winogrande', 'huggingface:wiqa', 'huggingface:wisesight1000', 'huggingface:wisesight_sentiment', 'huggingface:wmt14', 'huggingface:wmt15', 'huggingface:wmt16', 'huggingface:wmt17', 'huggingface:wmt18', 'huggingface:wmt19', 'huggingface:wmt20_mlqe_task1', 'huggingface:wmt20_mlqe_task2', 'huggingface:wmt20_mlqe_task3', 'huggingface:wmt_t2t', 'huggingface:wnut_17', 'huggingface:wongnai_reviews', 'huggingface:woz_dialogue', 'huggingface:wrbsc', 'huggingface:x_stance', 'huggingface:xcopa', 'huggingface:xcsr', 'huggingface:xed_en_fi', 'huggingface:xglue', 'huggingface:xnli', 'huggingface:xor_tydi_qa', 'huggingface:xquad', 'huggingface:xquad_r', 'huggingface:xsum', 'huggingface:xsum_factuality', 'huggingface:xtreme', 'huggingface:yahoo_answers_qa', 'huggingface:yahoo_answers_topics', 'huggingface:yelp_polarity', 'huggingface:yelp_review_full', 'huggingface:yoruba_bbc_topics', 'huggingface:yoruba_gv_ner', 'huggingface:yoruba_text_c3', 'huggingface:yoruba_wordsim353', 'huggingface:youtube_caption_corrections', 'huggingface:zest', 'kubric:kubric_frames', 'kubric:movi_a', 'kubric:movi_b', 'kubric:movi_c', 'kubric:movi_d', 'kubric:movi_e', 'kubric:movi_f', 'kubric:multi_shapenet_frames', 'kubric:nerf_synthetic_frames', 'kubric:nerf_synthetic_scenes', 'kubric:shapenet_pretraining', 'robotics:language_table', 'robotics:language_table_blocktoabsolute_oracle_sim', 'robotics:language_table_blocktoblock_4block_sim', 'robotics:language_table_blocktoblock_oracle_sim', 'robotics:language_table_blocktoblock_sim', 'robotics:language_table_blocktoblockrelative_oracle_sim', 'robotics:language_table_blocktorelative_oracle_sim', 'robotics:language_table_separate_oracle_sim', 'robotics:language_table_sim', 'robotics:mt_opt_rlds', 'robotics:mt_opt_sd']\n"
          ]
        }
      ]
    },
    {
      "cell_type": "code",
      "source": [
        "data, info = tfds.load(\"mnist\", with_info = True)# t로 해야 info를 불러올 수 있음 꼭 불러오삼!!!\n",
        "info"
      ],
      "metadata": {
        "colab": {
          "base_uri": "https://localhost:8080/"
        },
        "id": "h6gTbebUYBKT",
        "outputId": "35c2ac16-d708-49bc-c84e-1908ed770bf7"
      },
      "execution_count": null,
      "outputs": [
        {
          "output_type": "execute_result",
          "data": {
            "text/plain": [
              "tfds.core.DatasetInfo(\n",
              "    name='mnist',\n",
              "    full_name='mnist/3.0.1',\n",
              "    description=\"\"\"\n",
              "    The MNIST database of handwritten digits.\n",
              "    \"\"\",\n",
              "    homepage='http://yann.lecun.com/exdb/mnist/',\n",
              "    data_path='~/tensorflow_datasets/mnist/3.0.1',\n",
              "    file_format=tfrecord,\n",
              "    download_size=11.06 MiB,\n",
              "    dataset_size=21.00 MiB,\n",
              "    features=FeaturesDict({\n",
              "        'image': Image(shape=(28, 28, 1), dtype=tf.uint8),\n",
              "        'label': ClassLabel(shape=(), dtype=tf.int64, num_classes=10),\n",
              "    }),\n",
              "    supervised_keys=('image', 'label'),\n",
              "    disable_shuffling=False,\n",
              "    splits={\n",
              "        'test': <SplitInfo num_examples=10000, num_shards=1>,\n",
              "        'train': <SplitInfo num_examples=60000, num_shards=1>,\n",
              "    },\n",
              "    citation=\"\"\"@article{lecun2010mnist,\n",
              "      title={MNIST handwritten digit database},\n",
              "      author={LeCun, Yann and Cortes, Corinna and Burges, CJ},\n",
              "      journal={ATT Labs [Online]. Available: http://yann.lecun.com/exdb/mnist},\n",
              "      volume={2},\n",
              "      year={2010}\n",
              "    }\"\"\",\n",
              ")"
            ]
          },
          "metadata": {},
          "execution_count": 4
        }
      ]
    },
    {
      "cell_type": "code",
      "source": [
        "# 보면 splits랑 features 보면 됨\n",
        "train_data, test_data = data[\"train\"], data[\"test\"]"
      ],
      "metadata": {
        "id": "Yfs_nD6PYMJD"
      },
      "execution_count": null,
      "outputs": []
    },
    {
      "cell_type": "markdown",
      "source": [
        "# tf.data 모듈\n",
        "\n",
        "굉장히 좋다!!!\n",
        "\n",
        "1.생성\n",
        "from_tensor_slices : 개별 혹은 여러개 넘파이를 받고 배치를 지원하는 기능\n",
        "\n",
        "from_tensors : 배치를 지원하지 않고 그냥 tensor로 \n",
        "\n",
        "from_generator() : 생성자 함수에서 입력을취함\n",
        "\n",
        "-> 이거로 만들어지는 것은 다 데이터셋 객체임\n",
        "\n",
        "\n",
        "<br><br><br>\n",
        "2.변함\n",
        "batch\n",
        "repeat : 데이터 복제\n",
        "shuffle : 섞\n",
        "\n",
        "map : 데이터에 함수를 적용하는 거니 데이터셋.map 이런게 되지 원래 파이썬이랑 다른 거임\n",
        "\n",
        "filter : 데이터 거르기하때 사용\n",
        "\n",
        "<br><br><br>\n",
        "\n",
        "3.반복\n",
        "iterator.get_next()로 다음 배치로 이동할 수 있게 해줌\n",
        "\n",
        "-> 변함과 반복을 하려면 데이터 셋 객체를 생성 해줘야함"
      ],
      "metadata": {
        "id": "XnKTKqPnYs4q"
      }
    },
    {
      "cell_type": "code",
      "source": [],
      "metadata": {
        "id": "6O-y_H7Jdpcp"
      },
      "execution_count": null,
      "outputs": []
    },
    {
      "cell_type": "code",
      "source": [],
      "metadata": {
        "id": "5GpozOu0dpaX"
      },
      "execution_count": null,
      "outputs": []
    },
    {
      "cell_type": "markdown",
      "source": [
        "# 시작~~~!"
      ],
      "metadata": {
        "id": "mzAqhG98dpzF"
      }
    },
    {
      "cell_type": "markdown",
      "source": [
        "### from tensor slices : 하나 혹은 다중 넘파이 데이터를 가져올 수 있음\n",
        "\n",
        "```\n",
        "하나 받으면 for문에서 하나만 리턴하고 두개받으면 두개리턴함 from 텐서 슬라이스와 for문은세트다!!\n",
        "```"
      ],
      "metadata": {
        "id": "gFr3faaSZpid"
      }
    },
    {
      "cell_type": "code",
      "source": [
        "import numpy as np\n",
        "num_items = 20\n",
        "num_list = np.arange(num_items)"
      ],
      "metadata": {
        "id": "22-3k3XmYfRe"
      },
      "execution_count": null,
      "outputs": []
    },
    {
      "cell_type": "code",
      "source": [
        "# 객체 정보가 텐서슬라이스 데이터셋이다.\n",
        "num_list_dataset = tf.data.Dataset.from_tensor_slices(num_list)\n",
        "num_list_dataset"
      ],
      "metadata": {
        "colab": {
          "base_uri": "https://localhost:8080/"
        },
        "id": "g9809mVLZ5h5",
        "outputId": "4854a6b8-21f4-45e4-9cb1-c50b832c9693"
      },
      "execution_count": null,
      "outputs": [
        {
          "output_type": "execute_result",
          "data": {
            "text/plain": [
              "<TensorSliceDataset element_spec=TensorSpec(shape=(), dtype=tf.int64, name=None)>"
            ]
          },
          "metadata": {},
          "execution_count": 8
        }
      ]
    },
    {
      "cell_type": "code",
      "source": [
        "for item in num_list_dataset.take(1):\n",
        "  print(item)"
      ],
      "metadata": {
        "colab": {
          "base_uri": "https://localhost:8080/"
        },
        "id": "n7MR_5rpaAJY",
        "outputId": "046c1f08-ffa8-4a40-8efe-9531e1b4d5ef"
      },
      "execution_count": null,
      "outputs": [
        {
          "output_type": "stream",
          "name": "stdout",
          "text": [
            "tf.Tensor(0, shape=(), dtype=int64)\n"
          ]
        }
      ]
    },
    {
      "cell_type": "code",
      "source": [
        "for item in num_list_dataset:\n",
        "  print(item)"
      ],
      "metadata": {
        "colab": {
          "base_uri": "https://localhost:8080/"
        },
        "id": "wdgt4TwRaIP8",
        "outputId": "e34f9159-6b03-4fb7-c17b-b6eb31092d3b"
      },
      "execution_count": null,
      "outputs": [
        {
          "output_type": "stream",
          "name": "stdout",
          "text": [
            "tf.Tensor(0, shape=(), dtype=int64)\n",
            "tf.Tensor(1, shape=(), dtype=int64)\n",
            "tf.Tensor(2, shape=(), dtype=int64)\n",
            "tf.Tensor(3, shape=(), dtype=int64)\n",
            "tf.Tensor(4, shape=(), dtype=int64)\n",
            "tf.Tensor(5, shape=(), dtype=int64)\n",
            "tf.Tensor(6, shape=(), dtype=int64)\n",
            "tf.Tensor(7, shape=(), dtype=int64)\n",
            "tf.Tensor(8, shape=(), dtype=int64)\n",
            "tf.Tensor(9, shape=(), dtype=int64)\n",
            "tf.Tensor(10, shape=(), dtype=int64)\n",
            "tf.Tensor(11, shape=(), dtype=int64)\n",
            "tf.Tensor(12, shape=(), dtype=int64)\n",
            "tf.Tensor(13, shape=(), dtype=int64)\n",
            "tf.Tensor(14, shape=(), dtype=int64)\n",
            "tf.Tensor(15, shape=(), dtype=int64)\n",
            "tf.Tensor(16, shape=(), dtype=int64)\n",
            "tf.Tensor(17, shape=(), dtype=int64)\n",
            "tf.Tensor(18, shape=(), dtype=int64)\n",
            "tf.Tensor(19, shape=(), dtype=int64)\n"
          ]
        }
      ]
    },
    {
      "cell_type": "markdown",
      "source": [
        "#### from_generator()\n",
        "\n",
        "해당 클래스 메서드를 사용하면 생성자에서 데이터셋 생성 가능\n",
        "\n",
        "output_types, output_shapes 인수로 출력 자료형과 크기를 지정해주어야함"
      ],
      "metadata": {
        "id": "XypKzbN-aSZq"
      }
    },
    {
      "cell_type": "markdown",
      "source": [
        "![1.PNG](data:image/png;base64,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)"
      ],
      "metadata": {
        "id": "4KuGUu0va7uJ"
      }
    },
    {
      "cell_type": "markdown",
      "source": [
        "-> 너무 어려워서 쓸때 배우자하하하"
      ],
      "metadata": {
        "id": "IiJXG-m-a_kC"
      }
    },
    {
      "cell_type": "markdown",
      "source": [
        "#### batch, repeat\n",
        "\n",
        "batch : 배치 사이즈 크기로 나눔\n",
        "\n",
        "리핏 : 반복함"
      ],
      "metadata": {
        "id": "uqSuEa4ZbF38"
      }
    },
    {
      "cell_type": "code",
      "source": [
        "dataset = num_list_dataset.repeat(3).batch(7)"
      ],
      "metadata": {
        "id": "ThfdHa2faQOC"
      },
      "execution_count": null,
      "outputs": []
    },
    {
      "cell_type": "code",
      "source": [
        "# 7개로 3번 반복해서 수행\n",
        "for item in dataset:\n",
        "  print(item)"
      ],
      "metadata": {
        "colab": {
          "base_uri": "https://localhost:8080/"
        },
        "id": "mgxgCLTybXlR",
        "outputId": "1a5d7949-9e89-4592-9f57-c20e77a72730"
      },
      "execution_count": null,
      "outputs": [
        {
          "output_type": "stream",
          "name": "stdout",
          "text": [
            "tf.Tensor([0 1 2 3 4 5 6], shape=(7,), dtype=int64)\n",
            "tf.Tensor([ 7  8  9 10 11 12 13], shape=(7,), dtype=int64)\n",
            "tf.Tensor([14 15 16 17 18 19  0], shape=(7,), dtype=int64)\n",
            "tf.Tensor([1 2 3 4 5 6 7], shape=(7,), dtype=int64)\n",
            "tf.Tensor([ 8  9 10 11 12 13 14], shape=(7,), dtype=int64)\n",
            "tf.Tensor([15 16 17 18 19  0  1], shape=(7,), dtype=int64)\n",
            "tf.Tensor([2 3 4 5 6 7 8], shape=(7,), dtype=int64)\n",
            "tf.Tensor([ 9 10 11 12 13 14 15], shape=(7,), dtype=int64)\n",
            "tf.Tensor([16 17 18 19], shape=(4,), dtype=int64)\n"
          ]
        }
      ]
    },
    {
      "cell_type": "code",
      "source": [
        "dataset = num_list_dataset.repeat(3).batch(7, drop_remainder=True) # 남는거 짤라서 3/ 3/ 2로 반복됨\n",
        "for item in dataset:\n",
        "  print(item)"
      ],
      "metadata": {
        "colab": {
          "base_uri": "https://localhost:8080/"
        },
        "id": "biZKX-dcbgaa",
        "outputId": "7d2c8c89-2480-4c37-bc83-959b89bfc4a8"
      },
      "execution_count": null,
      "outputs": [
        {
          "output_type": "stream",
          "name": "stdout",
          "text": [
            "tf.Tensor([0 1 2 3 4 5 6], shape=(7,), dtype=int64)\n",
            "tf.Tensor([ 7  8  9 10 11 12 13], shape=(7,), dtype=int64)\n",
            "tf.Tensor([14 15 16 17 18 19  0], shape=(7,), dtype=int64)\n",
            "tf.Tensor([1 2 3 4 5 6 7], shape=(7,), dtype=int64)\n",
            "tf.Tensor([ 8  9 10 11 12 13 14], shape=(7,), dtype=int64)\n",
            "tf.Tensor([15 16 17 18 19  0  1], shape=(7,), dtype=int64)\n",
            "tf.Tensor([2 3 4 5 6 7 8], shape=(7,), dtype=int64)\n",
            "tf.Tensor([ 9 10 11 12 13 14 15], shape=(7,), dtype=int64)\n"
          ]
        }
      ]
    },
    {
      "cell_type": "markdown",
      "source": [
        "#### map, filter\n",
        "전처리단계에서 시행하여 원하지 않는 데이터 거름\n",
        "\n",
        "-> 이거 두개를 진짜 많이 쓰는 거 같아서 잘 알아야한다. "
      ],
      "metadata": {
        "id": "-QzKta-hb9m-"
      }
    },
    {
      "cell_type": "code",
      "source": [
        "from tensorflow.data import Dataset"
      ],
      "metadata": {
        "id": "LBIjAOfpb0Hc"
      },
      "execution_count": null,
      "outputs": []
    },
    {
      "cell_type": "code",
      "source": [
        "dataset = Dataset.range(1, 6)\n",
        "dataset = dataset.map(lambda x: x*2) # 데이터셋.map을 하네 -> 데이터셋에 map 함수의 인자인 함수의 매개변수로 데이터셋을 넣는다는 의미\n",
        "list(dataset.as_numpy_iterator())"
      ],
      "metadata": {
        "colab": {
          "base_uri": "https://localhost:8080/"
        },
        "id": "Sii6dpjccMy3",
        "outputId": "20ead10a-3446-43bd-ee95-c6a8618042cb"
      },
      "execution_count": null,
      "outputs": [
        {
          "output_type": "execute_result",
          "data": {
            "text/plain": [
              "[2, 4, 6, 8, 10]"
            ]
          },
          "metadata": {},
          "execution_count": 22
        }
      ]
    },
    {
      "cell_type": "code",
      "source": [
        "def gob(dataset):\n",
        "  return dataset * 2\n",
        "\n",
        "dataset = Dataset.range(1, 6)\n",
        "dataset = dataset.map(gob) # 데이터셋.map을 하네 -> 데이터셋에 map 함수의 인자인 함수의 매개변수로 데이터셋을 넣는다는 의미\n",
        "list(dataset.as_numpy_iterator())"
      ],
      "metadata": {
        "colab": {
          "base_uri": "https://localhost:8080/"
        },
        "id": "_z2cKr8HcUwE",
        "outputId": "b056c110-bdf7-426f-c441-3f56322c56cb"
      },
      "execution_count": null,
      "outputs": [
        {
          "output_type": "execute_result",
          "data": {
            "text/plain": [
              "[2, 4, 6, 8, 10]"
            ]
          },
          "metadata": {},
          "execution_count": 23
        }
      ]
    },
    {
      "cell_type": "code",
      "source": [
        "dataset = Dataset.from_tensor_slices([1, 2, 3, 4,5, 6, 7, 8, 9, 10])\n",
        "dataset = dataset.filter(lambda x: x!=5) # 데이터셋.filter를 하네 -> 데이터셋에 filter 함수의 인자인 함수의 매개변수로 넣는다는 의미\n",
        "list(dataset.as_numpy_iterator())"
      ],
      "metadata": {
        "colab": {
          "base_uri": "https://localhost:8080/"
        },
        "id": "ZrSjR_-vc0gE",
        "outputId": "8dc22af4-16d8-4947-d157-a9ff11bb1c7f"
      },
      "execution_count": null,
      "outputs": [
        {
          "output_type": "execute_result",
          "data": {
            "text/plain": [
              "[1, 2, 3, 4, 6, 7, 8, 9, 10]"
            ]
          },
          "metadata": {},
          "execution_count": 24
        }
      ]
    },
    {
      "cell_type": "markdown",
      "source": [
        "#### shuffle, take\n",
        "\n",
        "셔플하면 가져올 때마다 다른 데이터 가져옴"
      ],
      "metadata": {
        "id": "spVrdgPteCa1"
      }
    },
    {
      "cell_type": "code",
      "source": [
        "# batch를 했으면 가져와도 batch로 가져오는 것이라서 배치가 2면 take2하면 4개를 가져오는 것이다.\n",
        "data2, info = tfds.load(\"imdb_reviews\", with_info = True) # t로 해야 info를 불러올 수 있음 꼭 불러오삼!!!\n",
        "train_dataset = data2[\"train\"]\n",
        "\n",
        "train_dataset = train_dataset.batch(5).shuffle(5).take(2)\n",
        "for data in train_dataset:\n",
        "  print(data) # 결과에 b가 배치구나!!!"
      ],
      "metadata": {
        "colab": {
          "base_uri": "https://localhost:8080/",
          "height": 391,
          "referenced_widgets": [
            "1c24f14c5f2a4105b0fe6796f5979e72",
            "a1a25ee039e140d182e9b5d8c9bb572b",
            "9be9364932f34ab68a78d1abe66a3da9",
            "7d3ab8eda62a4952840b25a89797fcec",
            "b8ac5b1d772f4c568bd81a28513d515a",
            "17d6a77e0e28497a847e346d70e99858",
            "f930f4d0560b4c0fb0a4b0623d007969",
            "2f48ebbe9d9b4bc1b64684545c6c6061",
            "7daa98bd7e3840eba99ac5bfd0b97c42",
            "3c9f6484126a4e6eb29467ae98af2424",
            "875efd69368e4d14b63ac31d5e9603a3",
            "bbfc7a76eb4e4e76802dd79d354e44c6",
            "9aae6ca8bb304567b46bf1df2a062202",
            "61c3e1dcf8c94453b180de2e4871754a",
            "088198f5906e4d21b5a126c0394a8a93",
            "784b4f39741149cfa10df5d8e4fbf601",
            "dd12e75a8ecc4babbc4a0c355afd435a",
            "7d36ae3191d34b6382f2577fee156eb6",
            "6815f69104264970816bb008109e347a",
            "c8e9d08dc2f44958b7b3f10a6e4fc27d",
            "0ecc26226d324e948a5eb2849b6e0d1e",
            "bb887c57d9c9453fa1c9340396f49bb7",
            "af2ef7b2981f4ac29bb0a86ae2ac5498",
            "7a93c6e78f844ee99be1bc3c466369da",
            "1377eea32b81404dbeabc20173b11c7a",
            "a1e5df84eeae4e52b9222c1acf3d9537",
            "49d5c8943dd44226a41f30c9b05e85af",
            "12292bca81ff48c69f0c71086d408e57",
            "abaffda8d33c4ebdb4ffab878dc5c80c",
            "bfeb484b36d142a9b1c5f6569ff2058d",
            "d9321504c8e34cea8f534e7f0edfe562",
            "5cf4b1d6f6e74176b0fda90b0e0edf71",
            "92471dc306c44310a24d4bcee7a8db90",
            "181c5e2cd7484b448bb9bb56c137dfd3",
            "0533643819744a02a43117baf2102ca9",
            "6ba1280ac6c740089c87d42bf87d2b15",
            "d572b9e2927e4304a897188ea16be27d",
            "17453274f8d64e9180fc02dfe70fa157",
            "3272f4a3a4c448b6938d5300bb025bec",
            "0384fb5dd7e14197a0b19bd85eb3fbd8",
            "d8ff757246574529b0bf4db1188fafae",
            "7ba5b2d465bd4cc2bbadff4417cc8383",
            "94d6f172669640e7ad8bae6313390f14",
            "b168e85be35b4440b5f5161b1bdc7fb4",
            "d38bafdc18404c6c92475455e9359edb",
            "6e52778afb8d4a5bb7af28271219ec1f",
            "6c3be5732ef848a6be548d0c105be43d",
            "3792867a11b44af58e34bec8dd36dce6",
            "be09ca74e6f145848fd0bec65aa2b61f",
            "d1fb185501a84339be5e9b466977dce9",
            "680c0d04d2d34db28cf46244bc854bb2",
            "f1ac3a9401d04da5b981d17d063de3e5",
            "8340eb0ed0c84b6f8df89e47053f878e",
            "0d63afac625648ffae58c0f15fbb4904",
            "80322382c9904f848092f330782e57a4",
            "ad1a3110369845849888c60f20e566c8",
            "a57a7d94e305423bba5e0880e0366990",
            "e8ebaeb6da384a51be45c2a6fe85b361",
            "07322e9adffa4849847adb8d52103ddd",
            "35bb8db8b4e844a8b5cda5748b066796",
            "3c5def72936e4d119082cbb010238184",
            "543eeef5ed0e457e9f081cbbfbb71365",
            "cb1571cda6f04e3c87850262100aec49",
            "70681849d8764f899afecd25bfe053d6",
            "b1141c03e541441cb0f36d6a8e3140b5",
            "2131f60ad65a4a60bb4d196d79bf9550",
            "8315c535171546a083a05e07c272d63e",
            "d788f5b53627451c8951c85407e80fb9",
            "7178ff0897024b3ebcdf0497b25c9d4a",
            "11281de4570049a4acbb7a8e64eb3241",
            "4a351f4a89b041d893130a5736fd2738",
            "9ace1fb4cb72451fbe8f4c9fc4a65ed9",
            "3f20f1bd29cc4acbb47c8dfe96c52963",
            "7b5a124cbb2443b3b41204b9ee13652e",
            "3d7a1e15494e4ae8aaa3819e0f6267af",
            "71f7337d7f4b409c8ea8844fcb612155",
            "9e3841b30dec4cdd870fc6f75042f3aa",
            "664a86d33793409cba22714e1e681954",
            "ecf9fcfc65ed44549dc48c261f627aa6",
            "8494d87986ac4799b1d3a1cfe25c1ea0",
            "2bed38c7c8c5436fbba0c36cc069fcca",
            "8702c95acddc441dac3ce6e30723444d",
            "2336483f99004a188e06a41f2f60235b",
            "2556af1bf4fd48ab9c63a109d48c2393",
            "14ae9c5ff4954d4092906b34b05fbbd6",
            "7c01ff82ac5f4518a442b7520dc6db33",
            "ae61d7c06ae047db9f7febe315673856",
            "55217af1d80e478c94300c7433688d5b",
            "6cfbb41911f9428e9c074544b2f9fe2b",
            "f75682c29f944357bf63601172ba4259",
            "b06b895eca2546a9a638b0417a424669",
            "17f65de64ff74dcc951d7ab9fc0c359c",
            "ceafa67cff7d4b0fad409dd65cbb2843",
            "b58e08e83a814cdf9d4ef46a8cea362e",
            "d2bd600e42e84aa2a6c398a8b3493221",
            "6d47de60176548c1965bcb7aa7edfb3d",
            "7a19f5a037cb48ce9c5a6c52769d0c1f",
            "9bca8eaf15e049078a074adf3c9a2fcd",
            "d75e5a8082c44cb6b19db2aa3aea581c"
          ]
        },
        "id": "Fj-9y-vadml_",
        "outputId": "008417e0-3cfb-4de6-feb5-062d6fa0e2fe"
      },
      "execution_count": null,
      "outputs": [
        {
          "output_type": "stream",
          "name": "stdout",
          "text": [
            "Downloading and preparing dataset 80.23 MiB (download: 80.23 MiB, generated: Unknown size, total: 80.23 MiB) to ~/tensorflow_datasets/imdb_reviews/plain_text/1.0.0...\n"
          ]
        },
        {
          "output_type": "display_data",
          "data": {
            "text/plain": [
              "Dl Completed...: 0 url [00:00, ? url/s]"
            ],
            "application/vnd.jupyter.widget-view+json": {
              "version_major": 2,
              "version_minor": 0,
              "model_id": "1c24f14c5f2a4105b0fe6796f5979e72"
            }
          },
          "metadata": {}
        },
        {
          "output_type": "display_data",
          "data": {
            "text/plain": [
              "Dl Size...: 0 MiB [00:00, ? MiB/s]"
            ],
            "application/vnd.jupyter.widget-view+json": {
              "version_major": 2,
              "version_minor": 0,
              "model_id": "bbfc7a76eb4e4e76802dd79d354e44c6"
            }
          },
          "metadata": {}
        },
        {
          "output_type": "display_data",
          "data": {
            "text/plain": [
              "Generating splits...:   0%|          | 0/3 [00:00<?, ? splits/s]"
            ],
            "application/vnd.jupyter.widget-view+json": {
              "version_major": 2,
              "version_minor": 0,
              "model_id": "af2ef7b2981f4ac29bb0a86ae2ac5498"
            }
          },
          "metadata": {}
        },
        {
          "output_type": "display_data",
          "data": {
            "text/plain": [
              "Generating train examples...:   0%|          | 0/25000 [00:00<?, ? examples/s]"
            ],
            "application/vnd.jupyter.widget-view+json": {
              "version_major": 2,
              "version_minor": 0,
              "model_id": "181c5e2cd7484b448bb9bb56c137dfd3"
            }
          },
          "metadata": {}
        },
        {
          "output_type": "display_data",
          "data": {
            "text/plain": [
              "Shuffling ~/tensorflow_datasets/imdb_reviews/plain_text/1.0.0.incompleteMIH3JC/imdb_reviews-train.tfrecord*...…"
            ],
            "application/vnd.jupyter.widget-view+json": {
              "version_major": 2,
              "version_minor": 0,
              "model_id": "d38bafdc18404c6c92475455e9359edb"
            }
          },
          "metadata": {}
        },
        {
          "output_type": "display_data",
          "data": {
            "text/plain": [
              "Generating test examples...:   0%|          | 0/25000 [00:00<?, ? examples/s]"
            ],
            "application/vnd.jupyter.widget-view+json": {
              "version_major": 2,
              "version_minor": 0,
              "model_id": "ad1a3110369845849888c60f20e566c8"
            }
          },
          "metadata": {}
        },
        {
          "output_type": "display_data",
          "data": {
            "text/plain": [
              "Shuffling ~/tensorflow_datasets/imdb_reviews/plain_text/1.0.0.incompleteMIH3JC/imdb_reviews-test.tfrecord*...:…"
            ],
            "application/vnd.jupyter.widget-view+json": {
              "version_major": 2,
              "version_minor": 0,
              "model_id": "8315c535171546a083a05e07c272d63e"
            }
          },
          "metadata": {}
        },
        {
          "output_type": "display_data",
          "data": {
            "text/plain": [
              "Generating unsupervised examples...:   0%|          | 0/50000 [00:00<?, ? examples/s]"
            ],
            "application/vnd.jupyter.widget-view+json": {
              "version_major": 2,
              "version_minor": 0,
              "model_id": "664a86d33793409cba22714e1e681954"
            }
          },
          "metadata": {}
        },
        {
          "output_type": "display_data",
          "data": {
            "text/plain": [
              "Shuffling ~/tensorflow_datasets/imdb_reviews/plain_text/1.0.0.incompleteMIH3JC/imdb_reviews-unsupervised.tfrec…"
            ],
            "application/vnd.jupyter.widget-view+json": {
              "version_major": 2,
              "version_minor": 0,
              "model_id": "6cfbb41911f9428e9c074544b2f9fe2b"
            }
          },
          "metadata": {}
        },
        {
          "output_type": "stream",
          "name": "stdout",
          "text": [
            "Dataset imdb_reviews downloaded and prepared to ~/tensorflow_datasets/imdb_reviews/plain_text/1.0.0. Subsequent calls will reuse this data.\n",
            "{'label': <tf.Tensor: shape=(5,), dtype=int64, numpy=array([0, 1, 1, 1, 0])>, 'text': <tf.Tensor: shape=(5,), dtype=string, numpy=\n",
            "array([b'It was disgusting and painful. What a waste of a cast! I swear, the audience (1/2 full) laughed TWICE in 90 minutes. This is not a lie. Do not even rent it.<br /><br />Zeta Jones was just too mean to be believable.<br /><br />Cusack was OK. Just OK. I felt sorry for him (the actor) in case people remember this mess.<br /><br />Roberts was the same as she always is. Charming and sweet, but with no purpose. The \"romance\" with John was completely unbelievable.',\n",
            "       b'This is a straight-to-video movie, so it should go without saying that it\\'s not going to rival the first Lion King, but that said, this was downright good.<br /><br />My kids loved this, but that\\'s a given, they love anything that\\'s a cartoon. The big shock was that *I* liked it too, it was laugh out loud funny at some parts (even the fart jokes*), had lots of rather creative tie-ins with the first movie, and even some jokes that you had to be older to understand (but without being risqu\\xc3\\xa9 like in Shrek [\"do you think he\\'s compensating for something?\"]).<br /><br />A special note on the fart jokes, I was surprised to find that none of the jokes were just toilet noises (in fact there were almost no noises/imagery at all, the references were actually rather subtle), they actually had a setup/punchline/etc, and were almost in good taste. I\\'d like my kids to think that there\\'s more to humor than going to the bathroom, and this movie is fine in those regards.<br /><br />Hmm what else? The music was so-so, not nearly as creative as in the first or second movie, but plenty of fun for the kids. No painfully corny moments, which was a blessing for me. A little action but nothing too scary (the Secret of NIMH gave my kids nightmares, not sure a G rating was appropriate for that one...)<br /><br />All in all I\\'d say this is a great movie for kids of any age, one that\\'s 100% safe to let them watch (I try not to be overly sensitive but I\\'ve had to jump up and turn off the TV during a few movies that were less kid-appropriate than expected) - but you\\'re safe to leave the room during this one. I\\'d say stick around anyway though, you might find that you enjoy it too :)',\n",
            "       b'Finally, Timon and Pumbaa in their own film...<br /><br />\\'The Lion King 1 1/2: Hakuna Matata\\' is an irreverent new take on a classic tale. Which classic tale, you ask? Why, \\'The Lion King\\' of course!<br /><br />Yep, if there\\'s one thing that Disney is never short of, it\\'s narcissism.<br /><br />But that doesn\\'t mean that this isn\\'t a good film. It\\'s basically the events of \\'The Lion King\\' as told from Timon and Pumbaa\\'s perspective. And it\\'s because of this that you\\'ll have to know the story of \\'The Lion King\\' by heart to see where they\\'re coming from.<br /><br />Anyway, at one level I was watching this and thinking \"Oh my god this is so lame...\" and on another level I was having a ball. Much of the humour is predictable - I mean, when Pumbaa makes up two beds, a big one for himself and a small one for Timon, within the first nanosecond we all know that Timon is going to take the big one. But that doesn\\'t stop it from being hilarious, which, IMO, is \\'Hakuna Matata\\' in a nutshell. It\\'s not what happens, it\\'s how.<br /><br />And a note of warning: there are also some fart jokes. Seriously, did you expect anything else in a film where Pumbaa takes centre stage? But as fart jokes go, these are especially good, and should satisfy even the most particular connoisseur.<br /><br />The returning voice talent is great. I\\'m kinda surprised that some of the actors were willing to return, what with most of them only having two or three lines (if they\\'re lucky). Whoopi Goldberg is particularly welcome.<br /><br />The music is also great. From \\'Digga Tunnah\\' at the start to \\'That\\'s all I need\\', an adaption of \\'Warthog Rhapsody\\' (a song that was cut from \\'The Lion King\\' and is frankly much improved in this incarnation), the music leaves me with nothing to complain about whatsoever.<br /><br />In the end, Timon and Pumbaa are awesome characters, and while it may be argued that \\'Hakuna Matata\\' is simply an excuse to see them in various fun and assorted compromising situations then so be it. It\\'s rare to find characters that you just want to spend time with.<br /><br />Am I starting to sound creepy?<br /><br />Either way, \\'The Lion King 1 1/2\\' is great if you\\'ve seen \\'The Lion King\\' far too many times. Especially if you are right now thinking \"Don\\'t be silly, there\\'s no such thing as seeing \\'The Lion King\\' too many times!\"',\n",
            "       b'Indian Directors have it tough, They have to compete with movies like \"Laggan\" where 11 henpecked,Castrated males defend their village and half of them are certifiable idiots. \"Devdas\", a hapless, fedar- festooned foreign return drinking to oblivion, with characters running in endless corridors oblivious to any one\\'s feelings or sentiments-alas they live in an ornate squalor of red tapestry and pageantry. But to make a good movie, you have to tight-rope walk to appease the frontbenchers who are the quentessential gapers who are mesmerized with Split skirts and Dishum-Dishum fights preferably involving a nitwit \"Bollywood\" leading actor who is marginally handsome. So you can connect with a director who wants to tell a tale of Leonine village head who in own words \"defending his Village\" this is considered a violent movie or too masculine for a male audience. There are very few actors who can convey the anger and pathos like Nana Patekar (Narasimhan). Nana Patekar lets you in his courtyard and watch him beret and mock the Politician when his loyal admirers burst in laughter with every word of satire thrown at him, meanwhile his daughter is bathing his Grandson.This is as authentic a scene you can get in rural India. Nana Patekar is the essential actor who belongs to the old school of acting which is a disappearing breed in Hindi Films. The violence depicted is an intricate part of storytelling with Song&Dances thrown in for the gawkers without whom movies won\\'t sell, a sad but true state of affairs. Faster this changes better for \"Bollywood\". All said and done this is one good Movie.',\n",
            "       b\"Nathan Detroit runs illegal craps games for high rollers in NYC, but the heat is on and he can't find a secure location. He bets chronic gambler Sky Masterson that Sky can't make a prim missionary, Sarah Brown, go out to dinner with him. Sky takes up the challenge, but both men have some surprises in store \\xc2\\x85<br /><br />This is one of those expensive fifties MGM musicals in splashy colour, with big sets, loud music, larger-than-life roles and performances to match; Broadway photographed for the big screen if you like that sort of thing, which I don't. My main problem with these type of movies is simply the music. I like all kinds of music, from Albinoni to ZZ Top, but Broadway show tunes in swing time with never-ending pah-pah-tah-dah trumpet flourishes at the end of every fourth bar aren't my cup of tea. This was written by the tag team of Frank Loesser, Mankiewicz, Jo Swerling and Abe Burrows (based on a couple of Damon Runyon stories), and while the plot is quite affable the songs are weak. Blaine's two numbers for example are identical, unnecessary, don't advance the plot and grate on the ears (and are also flagrantly misogynistic if that sort of thing bothers you). There are only two memorable tunes, Luck Be A Lady (sung by Brando, not Sinatra as you might expect) and Sit Down, You're Rockin' The Boat (nicely performed by Kaye) but you have to sit through two hours to get to them. The movie's trump card is a young Brando giving a thoughtful, laid-back performance; he also sings quite well and even dances a little, and is evenly matched with the always interesting Simmons. The sequence where the two of them escape to Havana for the night is a welcome respite from all the noise, bustle and vowel-murdering of Noo Yawk. Fans of musicals may dig this, but in my view a musical has to do something more than just film the stage show.\"],\n",
            "      dtype=object)>}\n",
            "{'label': <tf.Tensor: shape=(5,), dtype=int64, numpy=array([1, 1, 1, 1, 1])>, 'text': <tf.Tensor: shape=(5,), dtype=string, numpy=\n",
            "array([b\"I can still remember first seeing this on TV. I couldn't believe TVNZ let it on! I had to own it! A lot of the humor will be lost on non-NZ'ers, but give it a go! <br /><br />Since finishing the Back of the Y series Matt and Chris have gone on to bigger and better(?) things. NZ's greatest dare-devil stuntman, Randy Campbell has often appeared on the British TV series Balls of Steel. Yes, he still f^@ks up all his stunts because he is too drunk.<br /><br />Also the 'house band' Deja Voodoo have since released 2 albums, Brown Sabbath and Back in Brown. The band consists of members of the Back of the Y team and singles such as 'I Would Give You One of My Beers (But I've Only Got 6)' and 'You Weren't Even Born in The 80's' continue their humor.<br /><br />The South-By-Southwest film festival also featured their feature length film 'The Devil Made Me Do It' which will be released early 2008 in NZ.<br /><br />All up, if you don't find these guys funny then you can just F%^K OFF!!\",\n",
            "       b'In a time of magic, barbarians and demons abound a diabolical tyrant named Nekhron and his mother Queen Juliane who lives in the realm of ice and wants to conquer the region of fire ruled by the King Jerol but when his beautiful daughter Princess Teegra has been kidnapped by Nekhron\\'s goons, a warrior named Larn must protect her and must defeat Nekhron from taking over the world and the kingdom with the help of an avenger named Darkwolf.<br /><br />A nicely done and excellent underrated animated fantasy epic that combines live actors with animation traced over them ( rotoscoping), it\\'s Ralph Bakshi\\'s second best movie only with \"American Pop\" being number one and \"Heavy Traffic\" being third and \"Wizards\" being fourth. It\\'s certainly better than his \"Cool World\" or \"Lord of the Rings\", the artwork is designed by famed artist Frank Farzetta and the animation has good coloring and there\\'s also a hottie for the guys.<br /><br />I highly recommend this movie to fantasy and animation lovers everywhere especially the new 2-Disc Limited Edition DVD from Blue Underground.<br /><br />Also recommended: \"The Black Cauldron\", \"The Dark Crystal\", \"Conan The Barbarian\", \"The Wizard of Oz\", \" Rock & Rule\", \"Wizards\", \"Heavy Metal\", \"Starchaser: Legend of Orin\", \"Fantastic Planet\", \" Princess Mononoke\", \" Nausicca: Valley of the Wind\", \" Conan The Destroyer\", \" Willow\", \" The Princess Bride\", \"Lord of the Rings ( 1978)\", \" The Sword in The Stone\", \" Excalibur\", \" Army of Darkness\", \" Krull\", \"Dragonheart\", \" King Arthur\", \" The Hobbit\", \" Return of the King ( 1980)\", \"Conquest\", \" American Pop\", \" Jason and The Argonauts\", \" Clash of the Titans\", \" The Last Unicorn\", \" The Secret of NIMH\", \"The Flight of Dragons\", \" Hercules (Disney)\", \" Legend\", \" The Chronicles of Narnia\", \" Harry Potter and The Goblet of Fire\".',\n",
            "       b'A pretty memorable movie of the animals-killing-people variety, specifically similar to \"Willard\" in that it stars an aging character actor (in this case, a step down a bit to the level of Les Tremayne, who puts in the only distinguished performance I\\'ve seen him give) in a role as a man whose life is unbalanced and who subsequently decides to use his animal friends to exact revenge on those who have wronged him. Yes, this is one of those movies where pretty much everybody is despicable, so that you will cheer when they die, and really the selection of actors, locations, etc. couldn\\'t be better at giving the film an atmosphere of shabby decadence.<br /><br />Tremayne\\'s character is \"Snakey Bender\", and he is certainly the most interesting thing about the movie: an aged snake collector who is obsessed with John Philip Souza\\'s music. When the local preacher clamps down on his practice of collecting small animals from the local schoolchildren as bait for his snakes, and his friend gets married to a stripper (thus upsetting his ritual Wednesday night band concert) he goes on the rampage, in the process creating a memorable pile-up of clunkers beneath the cliff where he dumps the wrecks after disposing of their unfortunate owners. One amusing game you can play while watching \"Snakes\" is to place bets on which cars will land the farthest down the cliff.<br /><br />All in all, very cheap and exploitative, but will really be a lot of fun for fans of these kinds of movies.',\n",
            "       b\"Except for an awkward scene, this refreshing fairy tale fantasy has a fun and delightful undercurrent of adult cynical wit that charms its way into the audience as well as a soundtrack that powerfully moves this fairy epic along. Except for one of the Robert DeNiro scenes that doesn't come across smooth and appears out of sync with the tone of the rest of the movie, this luscious romantic fairy tail has a great storytelling feel and the strong magic and the fine balance between serious adventure scenes and the lighter spiritual humor is well done. In the updated tradition of THE PRINCESS BRIDE this contemporary presentation of magic and love is captivating. Eight out of Ten Stars.\",\n",
            "       b'In this film we have the fabulous opportunity to see what happened to Timon and Pumbaa in the film when they are not shown - which is a lot! This film even goes back to before Simba and (presumbably) just after the birth of Kiara. <br /><br />Quite true to the first film, \"Lion King 1/2 (or Lion King 3 in other places)\" is a funny, entertaining, exciting and surprising film (or sequel if that\\'s what you want to call it). A bundle of surprises and hilarity await for you!<br /><br />While Timon and Pumbaa are watching a film at the cinema (with a remote control), Timon and Pumbaa have an argument of what point of \"The Lion King\" they are going to start watching, as Timon wants to go to the part when he and Pumbaa come in and Pumbaa wants to go back to the beginning. They have a very fair compromise of watching the film of their own story, which is what awaits... It starts with Timon\\'s first home...<br /><br />For anyone with a good sense of humour who liked the first films of just about any age, enjoy \"Lion King 1/2\"! :-)'],\n",
            "      dtype=object)>}\n"
          ]
        }
      ]
    },
    {
      "cell_type": "code",
      "source": [
        "# 데이터 셋 객체를 이터레이터로 만들면 next next로 가져올 수 있음\n",
        "\n",
        "dataset = Dataset.range(2)\n",
        "iterator = iter(dataset)\n",
        "\n",
        "print(dataset)\n",
        "print(iterator.get_next())\n",
        "print(iterator.get_next())"
      ],
      "metadata": {
        "colab": {
          "base_uri": "https://localhost:8080/"
        },
        "id": "qovdiODkeXRc",
        "outputId": "b2b6f82c-d79e-4f8b-dd7a-874f9bf5d62f"
      },
      "execution_count": null,
      "outputs": [
        {
          "output_type": "stream",
          "name": "stdout",
          "text": [
            "<RangeDataset element_spec=TensorSpec(shape=(), dtype=tf.int64, name=None)>\n",
            "tf.Tensor(0, shape=(), dtype=int64)\n",
            "tf.Tensor(1, shape=(), dtype=int64)\n"
          ]
        }
      ]
    },
    {
      "cell_type": "markdown",
      "source": [
        "## 자동 미분과 그래프 함수와 데이터 셋 객체를 사용한 훈련\n",
        "\n",
        "-> 결론적으로 tfdataset 객체로 만들면 그래프와 자동 미분을 할 수 있다.\n",
        "\n",
        "-> ★ 찐 고수로 가는 길"
      ],
      "metadata": {
        "id": "VZJkN6QFh9hS"
      }
    },
    {
      "cell_type": "code",
      "source": [
        "import tensorflow as tf\n",
        "import numpy as np\n",
        "from tensorflow import keras\n",
        "from tensorflow.keras.datasets.mnist import load_data\n",
        "from sklearn.model_selection import train_test_split\n",
        "from tensorflow.keras.layers import Dense, Flatten, Conv2D, Input, Dropout, Activation, BatchNormalization \n",
        "from tensorflow.keras import Model"
      ],
      "metadata": {
        "id": "S77O7mxwfoHP"
      },
      "execution_count": 19,
      "outputs": []
    },
    {
      "cell_type": "code",
      "source": [
        "# 1. MNIST 데이터셋 임포트\n",
        "(X_train, y_train), (X_test, y_test) = load_data()\n",
        "\n",
        "X_train,X_val, y_train,y_val = train_test_split(X_train, y_train, \n",
        "                                                test_size = 0.3,\n",
        "                                                random_state = 111)"
      ],
      "metadata": {
        "id": "_8_LAI0TkTQr"
      },
      "execution_count": 13,
      "outputs": []
    },
    {
      "cell_type": "code",
      "source": [
        "# 이거 하고 안하고는 상관 없음\n",
        "X_train = X_train / 255.\n",
        "X_test = X_test / 255."
      ],
      "metadata": {
        "id": "uUEDpIpax5vJ"
      },
      "execution_count": 4,
      "outputs": []
    },
    {
      "cell_type": "code",
      "source": [
        "train_dataset = tf.data.Dataset.from_tensor_slices((X_train, y_train))\n",
        "train_dataset = train_dataset.shuffle(1000)\n",
        "train_dataset = train_dataset.batch(32)\n",
        "\n",
        "test_dataset = tf.data.Dataset.from_tensor_slices((X_test, y_test))\n",
        "test_dataset = test_dataset.batch(32)"
      ],
      "metadata": {
        "id": "06CfsiBfkUkC"
      },
      "execution_count": 14,
      "outputs": []
    },
    {
      "cell_type": "code",
      "source": [
        "# network and training\n",
        "EPOCHS = 2\n",
        "BATCH_SIZE = 20\n",
        "VERBOSE = 1\n",
        "NB_CLASSES = 10   # number of outputs = number of digits\n",
        "N_HIDDEN = 128 # 은닉층 개수?\n",
        "VALIDATION_SPLIT=0.2"
      ],
      "metadata": {
        "id": "18F2pNaWk4MJ"
      },
      "execution_count": 30,
      "outputs": []
    },
    {
      "cell_type": "code",
      "source": [
        "#build the model\n",
        "\n",
        "DROPOUT = 0.3\n",
        "RESHAPED = 784\n",
        "\n",
        "#build the model\n",
        "\n",
        "DROPOUT = 0.3\n",
        "RESHAPED = 784\n",
        "\n",
        "model = tf.keras.models.Sequential()\n",
        "model.add(Flatten(input_shape=(28, 28))) # 이거 내가 추가함 ㅎㅎ\n",
        "model.add(keras.layers.Dense(N_HIDDEN,\n",
        "   \t\tinput_shape=(RESHAPED,),\n",
        "   \t\tname='dense_layer', activation='relu'))\n",
        "model.add(keras.layers.Dropout(DROPOUT))\n",
        "\n",
        "model.add(keras.layers.Dense(N_HIDDEN,\n",
        "   \t\tname='dense_layer_2', activation='relu'))\n",
        "model.add(keras.layers.Dropout(DROPOUT))\n",
        "\n",
        "model.add(keras.layers.Dense(NB_CLASSES,\n",
        "   \t\tname='dense_layer_3', activation='sigmoid'))"
      ],
      "metadata": {
        "id": "I9ckSlGmlL2b"
      },
      "execution_count": 31,
      "outputs": []
    },
    {
      "cell_type": "code",
      "source": [
        "loss_obj = tf.keras.losses.SparseCategoricalCrossentropy()\n",
        "optimizer = tf.keras.optimizers.Adam()"
      ],
      "metadata": {
        "id": "SuwYXoiRlNLJ"
      },
      "execution_count": 22,
      "outputs": []
    },
    {
      "cell_type": "markdown",
      "source": [
        "#### 이것들 loss.result하면 loss와 accuracy 결과를 얻을 수 있어서 나중에 epoch 찍을 때 씀"
      ],
      "metadata": {
        "id": "aeBZXybe1ulU"
      }
    },
    {
      "cell_type": "code",
      "source": [
        "train_loss = tf.keras.metrics.Mean(name = \"train_loss\")\n",
        "train_accuracy = tf.keras.metrics.SparseCategoricalAccuracy(name = \"train_accuracy\")\n",
        "\n",
        "test_loss = tf.keras.metrics.Mean(name = \"test_loss\")\n",
        "test_accuracy = tf.keras.metrics.SparseCategoricalAccuracy(name = \"test_accuracy\")"
      ],
      "metadata": {
        "id": "58R-AofPllg6"
      },
      "execution_count": 23,
      "outputs": []
    },
    {
      "cell_type": "markdown",
      "source": [
        "#### 그래프를 사용하여 학습하면 속도가 빠름\n",
        "\n",
        "이건 걍 틀을 외우는 게 좋을듯?? 모든 이런 코드를 알아볼 수 있을 정도로 달달"
      ],
      "metadata": {
        "id": "L6xwKm2vl5h7"
      }
    },
    {
      "cell_type": "markdown",
      "source": [
        "```\n",
        "-> 이게 스탭마다 반복적으로 계산하는 역할을 함\n",
        "```"
      ],
      "metadata": {
        "id": "y8lqHCeeoIAb"
      }
    },
    {
      "cell_type": "code",
      "source": [
        "@tf.function\n",
        "def train_step(image, labels):\n",
        "  with tf.GradientTape() as tape:\n",
        "    predictions = model(image) # 모델 출력이 예측이다.\n",
        "    loss = loss_obj(labels, predictions) # 이러면 차이까지\n",
        "\n",
        "  gradients = tape.gradient(loss, model.trainable_variables) # loss랑 v 넣어주고\n",
        "  optimizer.apply_gradients(zip(gradients, model.trainable_variables)) # 이렇게 넣어주고\n",
        "\n",
        "  train_loss(loss)\n",
        "  train_accuracy(labels, predictions)"
      ],
      "metadata": {
        "id": "UivejjkLl3rH"
      },
      "execution_count": 24,
      "outputs": []
    },
    {
      "cell_type": "code",
      "source": [
        "@tf.function\n",
        "def test_step(image, labels):\n",
        "    predictions = model(image) # 모델 출력이 예측이다.\n",
        "    loss = loss_obj(labels, predictions) # 이러면 차이까지\n",
        "\n",
        "    test_loss(loss)\n",
        "    test_accuracy(labels, predictions)"
      ],
      "metadata": {
        "id": "-vgnisT_m4C4"
      },
      "execution_count": 25,
      "outputs": []
    },
    {
      "cell_type": "markdown",
      "source": [
        "```\n",
        "오류 1 : loss_obj = tf.keras.losses.SparseCategoricalCrossentropy()가 sparse카테고리컬인데 모델 마지막단 dense1로해서 안 맞음 ㄷㄷ 그래서 10으로 바꿔줌 -> 와 진짜 이런거 맞춰야하는 구나\n",
        "```"
      ],
      "metadata": {
        "id": "UA0YYpYAq4AX"
      }
    },
    {
      "cell_type": "code",
      "source": [
        "epochs = 20\n",
        "\n",
        "for epoch in range(epochs):\n",
        "  for images, labels in train_dataset: # for i in train_dataset:과 같은 건데 tensor slice에 데이터와 라벨을 넣었으니 리턴이 2개!!!\n",
        "    train_step(images, labels)\n",
        "\n",
        "  for test_imgaes, test_labels in test_dataset:\n",
        "    test_step(test_imgaes, test_labels)\n",
        "\n",
        "  template = \"Epochs: {:3d}\\tLoss: {:.4f}\\tAccuracy:{:.4f}\\tTest Loss: {:.4f}\\tTest Accuracy: {:.4f}\\t\"\n",
        "  print(template.format(epoch+1,\n",
        "                        train_loss.result()*100, \n",
        "                        train_accuracy.result()*100,\n",
        "                        test_loss.result(), \n",
        "                        test_accuracy.result()*100))"
      ],
      "metadata": {
        "colab": {
          "base_uri": "https://localhost:8080/"
        },
        "id": "Og0Hiiv9nZJN",
        "outputId": "7eeb2d85-53d4-4ece-920c-4e968bcef9bc"
      },
      "execution_count": 36,
      "outputs": [
        {
          "output_type": "stream",
          "name": "stdout",
          "text": [
            "Epochs:   1\tLoss: 29.7896\tAccuracy:96.6403\tTest Loss: 0.3183\tTest Accuracy: 95.2530\t\n",
            "Epochs:   2\tLoss: 28.8060\tAccuracy:96.7220\tTest Loss: 0.3155\tTest Accuracy: 95.3071\t\n",
            "Epochs:   3\tLoss: 27.9020\tAccuracy:96.7951\tTest Loss: 0.3132\tTest Accuracy: 95.3476\t\n",
            "Epochs:   4\tLoss: 27.0248\tAccuracy:96.8725\tTest Loss: 0.3121\tTest Accuracy: 95.3839\t\n",
            "Epochs:   5\tLoss: 26.2143\tAccuracy:96.9436\tTest Loss: 0.3120\tTest Accuracy: 95.4126\t\n",
            "Epochs:   6\tLoss: 25.4412\tAccuracy:97.0153\tTest Loss: 0.3111\tTest Accuracy: 95.4454\t\n",
            "Epochs:   7\tLoss: 24.7285\tAccuracy:97.0773\tTest Loss: 0.3113\tTest Accuracy: 95.4610\t\n",
            "Epochs:   8\tLoss: 24.0555\tAccuracy:97.1388\tTest Loss: 0.3100\tTest Accuracy: 95.4960\t\n",
            "Epochs:   9\tLoss: 23.4161\tAccuracy:97.1979\tTest Loss: 0.3094\tTest Accuracy: 95.5310\t\n",
            "Epochs:  10\tLoss: 22.8264\tAccuracy:97.2519\tTest Loss: 0.3093\tTest Accuracy: 95.5634\t\n",
            "Epochs:  11\tLoss: 22.2430\tAccuracy:97.3086\tTest Loss: 0.3087\tTest Accuracy: 95.5982\t\n",
            "Epochs:  12\tLoss: 21.7012\tAccuracy:97.3628\tTest Loss: 0.3092\tTest Accuracy: 95.6209\t\n",
            "Epochs:  13\tLoss: 21.1909\tAccuracy:97.4125\tTest Loss: 0.3091\tTest Accuracy: 95.6509\t\n",
            "Epochs:  14\tLoss: 20.7106\tAccuracy:97.4592\tTest Loss: 0.3100\tTest Accuracy: 95.6750\t\n",
            "Epochs:  15\tLoss: 20.2510\tAccuracy:97.5053\tTest Loss: 0.3102\tTest Accuracy: 95.7013\t\n",
            "Epochs:  16\tLoss: 19.8025\tAccuracy:97.5493\tTest Loss: 0.3100\tTest Accuracy: 95.7224\t\n",
            "Epochs:  17\tLoss: 19.3687\tAccuracy:97.5941\tTest Loss: 0.3104\tTest Accuracy: 95.7467\t\n",
            "Epochs:  18\tLoss: 18.9940\tAccuracy:97.6298\tTest Loss: 0.3109\tTest Accuracy: 95.7655\t\n",
            "Epochs:  19\tLoss: 18.5970\tAccuracy:97.6710\tTest Loss: 0.3113\tTest Accuracy: 95.7849\t\n",
            "Epochs:  20\tLoss: 18.2200\tAccuracy:97.7098\tTest Loss: 0.3117\tTest Accuracy: 95.8076\t\n"
          ]
        }
      ]
    },
    {
      "cell_type": "markdown",
      "source": [
        "### sketch2fashion의 학습법과 비교해보자"
      ],
      "metadata": {
        "id": "ps07jrVD2jn0"
      }
    },
    {
      "cell_type": "code",
      "source": [],
      "metadata": {
        "id": "D6deW5hcpKRc"
      },
      "execution_count": null,
      "outputs": []
    }
  ]
}