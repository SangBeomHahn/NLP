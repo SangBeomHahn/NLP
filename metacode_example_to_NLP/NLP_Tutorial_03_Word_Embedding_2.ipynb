{
  "nbformat": 4,
  "nbformat_minor": 0,
  "metadata": {
    "colab": {
      "provenance": [],
      "collapsed_sections": [
        "g-s1r49cPiwG",
        "9zzumrPtwOPw",
        "XLlJlcabKiCP",
        "5iG6Auk_KmYc",
        "7zCMDn0Yznzb"
      ]
    },
    "kernelspec": {
      "name": "python3",
      "display_name": "Python 3"
    },
    "language_info": {
      "name": "python"
    },
    "widgets": {
      "application/vnd.jupyter.widget-state+json": {
        "b0cb0e7d20354dfc97c900817447cac6": {
          "model_module": "@jupyter-widgets/controls",
          "model_name": "HBoxModel",
          "model_module_version": "1.5.0",
          "state": {
            "_dom_classes": [],
            "_model_module": "@jupyter-widgets/controls",
            "_model_module_version": "1.5.0",
            "_model_name": "HBoxModel",
            "_view_count": null,
            "_view_module": "@jupyter-widgets/controls",
            "_view_module_version": "1.5.0",
            "_view_name": "HBoxView",
            "box_style": "",
            "children": [
              "IPY_MODEL_89159f7570a94748a5b6c5b7b0339a66",
              "IPY_MODEL_05c2fc5cdf6f43c78163c3594ffd9c41",
              "IPY_MODEL_7bb5b58b23dc4f2bad1b50cca4a1f854"
            ],
            "layout": "IPY_MODEL_fdb801e30f644aeeb5b1296a535bae82"
          }
        },
        "89159f7570a94748a5b6c5b7b0339a66": {
          "model_module": "@jupyter-widgets/controls",
          "model_name": "HTMLModel",
          "model_module_version": "1.5.0",
          "state": {
            "_dom_classes": [],
            "_model_module": "@jupyter-widgets/controls",
            "_model_module_version": "1.5.0",
            "_model_name": "HTMLModel",
            "_view_count": null,
            "_view_module": "@jupyter-widgets/controls",
            "_view_module_version": "1.5.0",
            "_view_name": "HTMLView",
            "description": "",
            "description_tooltip": null,
            "layout": "IPY_MODEL_9570a028eba941b688a372eaa7137430",
            "placeholder": "​",
            "style": "IPY_MODEL_4a4fe8e2407f41579c1dda3e2806fb34",
            "value": "Downloading builder script: 100%"
          }
        },
        "05c2fc5cdf6f43c78163c3594ffd9c41": {
          "model_module": "@jupyter-widgets/controls",
          "model_name": "FloatProgressModel",
          "model_module_version": "1.5.0",
          "state": {
            "_dom_classes": [],
            "_model_module": "@jupyter-widgets/controls",
            "_model_module_version": "1.5.0",
            "_model_name": "FloatProgressModel",
            "_view_count": null,
            "_view_module": "@jupyter-widgets/controls",
            "_view_module_version": "1.5.0",
            "_view_name": "ProgressView",
            "bar_style": "success",
            "description": "",
            "description_tooltip": null,
            "layout": "IPY_MODEL_1629d323c84a46288c81d2ac565766a1",
            "max": 3176,
            "min": 0,
            "orientation": "horizontal",
            "style": "IPY_MODEL_a401b2a90d4a41d5a5e2279ff722bd23",
            "value": 3176
          }
        },
        "7bb5b58b23dc4f2bad1b50cca4a1f854": {
          "model_module": "@jupyter-widgets/controls",
          "model_name": "HTMLModel",
          "model_module_version": "1.5.0",
          "state": {
            "_dom_classes": [],
            "_model_module": "@jupyter-widgets/controls",
            "_model_module_version": "1.5.0",
            "_model_name": "HTMLModel",
            "_view_count": null,
            "_view_module": "@jupyter-widgets/controls",
            "_view_module_version": "1.5.0",
            "_view_name": "HTMLView",
            "description": "",
            "description_tooltip": null,
            "layout": "IPY_MODEL_bc96f8d437384a968c292b7379ef0f07",
            "placeholder": "​",
            "style": "IPY_MODEL_2197f61b65764486b8ce8a87a93dda14",
            "value": " 3.18k/3.18k [00:00&lt;00:00, 7.51kB/s]"
          }
        },
        "fdb801e30f644aeeb5b1296a535bae82": {
          "model_module": "@jupyter-widgets/base",
          "model_name": "LayoutModel",
          "model_module_version": "1.2.0",
          "state": {
            "_model_module": "@jupyter-widgets/base",
            "_model_module_version": "1.2.0",
            "_model_name": "LayoutModel",
            "_view_count": null,
            "_view_module": "@jupyter-widgets/base",
            "_view_module_version": "1.2.0",
            "_view_name": "LayoutView",
            "align_content": null,
            "align_items": null,
            "align_self": null,
            "border": null,
            "bottom": null,
            "display": null,
            "flex": null,
            "flex_flow": null,
            "grid_area": null,
            "grid_auto_columns": null,
            "grid_auto_flow": null,
            "grid_auto_rows": null,
            "grid_column": null,
            "grid_gap": null,
            "grid_row": null,
            "grid_template_areas": null,
            "grid_template_columns": null,
            "grid_template_rows": null,
            "height": null,
            "justify_content": null,
            "justify_items": null,
            "left": null,
            "margin": null,
            "max_height": null,
            "max_width": null,
            "min_height": null,
            "min_width": null,
            "object_fit": null,
            "object_position": null,
            "order": null,
            "overflow": null,
            "overflow_x": null,
            "overflow_y": null,
            "padding": null,
            "right": null,
            "top": null,
            "visibility": null,
            "width": null
          }
        },
        "9570a028eba941b688a372eaa7137430": {
          "model_module": "@jupyter-widgets/base",
          "model_name": "LayoutModel",
          "model_module_version": "1.2.0",
          "state": {
            "_model_module": "@jupyter-widgets/base",
            "_model_module_version": "1.2.0",
            "_model_name": "LayoutModel",
            "_view_count": null,
            "_view_module": "@jupyter-widgets/base",
            "_view_module_version": "1.2.0",
            "_view_name": "LayoutView",
            "align_content": null,
            "align_items": null,
            "align_self": null,
            "border": null,
            "bottom": null,
            "display": null,
            "flex": null,
            "flex_flow": null,
            "grid_area": null,
            "grid_auto_columns": null,
            "grid_auto_flow": null,
            "grid_auto_rows": null,
            "grid_column": null,
            "grid_gap": null,
            "grid_row": null,
            "grid_template_areas": null,
            "grid_template_columns": null,
            "grid_template_rows": null,
            "height": null,
            "justify_content": null,
            "justify_items": null,
            "left": null,
            "margin": null,
            "max_height": null,
            "max_width": null,
            "min_height": null,
            "min_width": null,
            "object_fit": null,
            "object_position": null,
            "order": null,
            "overflow": null,
            "overflow_x": null,
            "overflow_y": null,
            "padding": null,
            "right": null,
            "top": null,
            "visibility": null,
            "width": null
          }
        },
        "4a4fe8e2407f41579c1dda3e2806fb34": {
          "model_module": "@jupyter-widgets/controls",
          "model_name": "DescriptionStyleModel",
          "model_module_version": "1.5.0",
          "state": {
            "_model_module": "@jupyter-widgets/controls",
            "_model_module_version": "1.5.0",
            "_model_name": "DescriptionStyleModel",
            "_view_count": null,
            "_view_module": "@jupyter-widgets/base",
            "_view_module_version": "1.2.0",
            "_view_name": "StyleView",
            "description_width": ""
          }
        },
        "1629d323c84a46288c81d2ac565766a1": {
          "model_module": "@jupyter-widgets/base",
          "model_name": "LayoutModel",
          "model_module_version": "1.2.0",
          "state": {
            "_model_module": "@jupyter-widgets/base",
            "_model_module_version": "1.2.0",
            "_model_name": "LayoutModel",
            "_view_count": null,
            "_view_module": "@jupyter-widgets/base",
            "_view_module_version": "1.2.0",
            "_view_name": "LayoutView",
            "align_content": null,
            "align_items": null,
            "align_self": null,
            "border": null,
            "bottom": null,
            "display": null,
            "flex": null,
            "flex_flow": null,
            "grid_area": null,
            "grid_auto_columns": null,
            "grid_auto_flow": null,
            "grid_auto_rows": null,
            "grid_column": null,
            "grid_gap": null,
            "grid_row": null,
            "grid_template_areas": null,
            "grid_template_columns": null,
            "grid_template_rows": null,
            "height": null,
            "justify_content": null,
            "justify_items": null,
            "left": null,
            "margin": null,
            "max_height": null,
            "max_width": null,
            "min_height": null,
            "min_width": null,
            "object_fit": null,
            "object_position": null,
            "order": null,
            "overflow": null,
            "overflow_x": null,
            "overflow_y": null,
            "padding": null,
            "right": null,
            "top": null,
            "visibility": null,
            "width": null
          }
        },
        "a401b2a90d4a41d5a5e2279ff722bd23": {
          "model_module": "@jupyter-widgets/controls",
          "model_name": "ProgressStyleModel",
          "model_module_version": "1.5.0",
          "state": {
            "_model_module": "@jupyter-widgets/controls",
            "_model_module_version": "1.5.0",
            "_model_name": "ProgressStyleModel",
            "_view_count": null,
            "_view_module": "@jupyter-widgets/base",
            "_view_module_version": "1.2.0",
            "_view_name": "StyleView",
            "bar_color": null,
            "description_width": ""
          }
        },
        "bc96f8d437384a968c292b7379ef0f07": {
          "model_module": "@jupyter-widgets/base",
          "model_name": "LayoutModel",
          "model_module_version": "1.2.0",
          "state": {
            "_model_module": "@jupyter-widgets/base",
            "_model_module_version": "1.2.0",
            "_model_name": "LayoutModel",
            "_view_count": null,
            "_view_module": "@jupyter-widgets/base",
            "_view_module_version": "1.2.0",
            "_view_name": "LayoutView",
            "align_content": null,
            "align_items": null,
            "align_self": null,
            "border": null,
            "bottom": null,
            "display": null,
            "flex": null,
            "flex_flow": null,
            "grid_area": null,
            "grid_auto_columns": null,
            "grid_auto_flow": null,
            "grid_auto_rows": null,
            "grid_column": null,
            "grid_gap": null,
            "grid_row": null,
            "grid_template_areas": null,
            "grid_template_columns": null,
            "grid_template_rows": null,
            "height": null,
            "justify_content": null,
            "justify_items": null,
            "left": null,
            "margin": null,
            "max_height": null,
            "max_width": null,
            "min_height": null,
            "min_width": null,
            "object_fit": null,
            "object_position": null,
            "order": null,
            "overflow": null,
            "overflow_x": null,
            "overflow_y": null,
            "padding": null,
            "right": null,
            "top": null,
            "visibility": null,
            "width": null
          }
        },
        "2197f61b65764486b8ce8a87a93dda14": {
          "model_module": "@jupyter-widgets/controls",
          "model_name": "DescriptionStyleModel",
          "model_module_version": "1.5.0",
          "state": {
            "_model_module": "@jupyter-widgets/controls",
            "_model_module_version": "1.5.0",
            "_model_name": "DescriptionStyleModel",
            "_view_count": null,
            "_view_module": "@jupyter-widgets/base",
            "_view_module_version": "1.2.0",
            "_view_name": "StyleView",
            "description_width": ""
          }
        },
        "82b2537f5f1447f087a6ec62292a3cde": {
          "model_module": "@jupyter-widgets/controls",
          "model_name": "HBoxModel",
          "model_module_version": "1.5.0",
          "state": {
            "_dom_classes": [],
            "_model_module": "@jupyter-widgets/controls",
            "_model_module_version": "1.5.0",
            "_model_name": "HBoxModel",
            "_view_count": null,
            "_view_module": "@jupyter-widgets/controls",
            "_view_module_version": "1.5.0",
            "_view_name": "HBoxView",
            "box_style": "",
            "children": [
              "IPY_MODEL_73f51e871a504da29f4ab34014ca6fd7",
              "IPY_MODEL_c8173ae5d9f44ed296fafa7c1b151e10",
              "IPY_MODEL_1a6db171e8a9469baac1b92fff6092e0"
            ],
            "layout": "IPY_MODEL_db19285bdc9f4468a63a28e8993e83b6"
          }
        },
        "73f51e871a504da29f4ab34014ca6fd7": {
          "model_module": "@jupyter-widgets/controls",
          "model_name": "HTMLModel",
          "model_module_version": "1.5.0",
          "state": {
            "_dom_classes": [],
            "_model_module": "@jupyter-widgets/controls",
            "_model_module_version": "1.5.0",
            "_model_name": "HTMLModel",
            "_view_count": null,
            "_view_module": "@jupyter-widgets/controls",
            "_view_module_version": "1.5.0",
            "_view_name": "HTMLView",
            "description": "",
            "description_tooltip": null,
            "layout": "IPY_MODEL_f49f9cb1f45d400d94e43a2cfcc14db0",
            "placeholder": "​",
            "style": "IPY_MODEL_7c61ff370c9b40f9966000eab1740e91",
            "value": "Downloading metadata: 100%"
          }
        },
        "c8173ae5d9f44ed296fafa7c1b151e10": {
          "model_module": "@jupyter-widgets/controls",
          "model_name": "FloatProgressModel",
          "model_module_version": "1.5.0",
          "state": {
            "_dom_classes": [],
            "_model_module": "@jupyter-widgets/controls",
            "_model_module_version": "1.5.0",
            "_model_name": "FloatProgressModel",
            "_view_count": null,
            "_view_module": "@jupyter-widgets/controls",
            "_view_module_version": "1.5.0",
            "_view_name": "ProgressView",
            "bar_style": "success",
            "description": "",
            "description_tooltip": null,
            "layout": "IPY_MODEL_8a28b532fe14465aa560dc2d20eaa913",
            "max": 1672,
            "min": 0,
            "orientation": "horizontal",
            "style": "IPY_MODEL_338b61aa1f0c4e05910ba2345c14f504",
            "value": 1672
          }
        },
        "1a6db171e8a9469baac1b92fff6092e0": {
          "model_module": "@jupyter-widgets/controls",
          "model_name": "HTMLModel",
          "model_module_version": "1.5.0",
          "state": {
            "_dom_classes": [],
            "_model_module": "@jupyter-widgets/controls",
            "_model_module_version": "1.5.0",
            "_model_name": "HTMLModel",
            "_view_count": null,
            "_view_module": "@jupyter-widgets/controls",
            "_view_module_version": "1.5.0",
            "_view_name": "HTMLView",
            "description": "",
            "description_tooltip": null,
            "layout": "IPY_MODEL_0dac53d4747a4cbab12353b375c4dba4",
            "placeholder": "​",
            "style": "IPY_MODEL_e20f61857cba4b25bad2ac583f0a3966",
            "value": " 1.67k/1.67k [00:00&lt;00:00, 7.58kB/s]"
          }
        },
        "db19285bdc9f4468a63a28e8993e83b6": {
          "model_module": "@jupyter-widgets/base",
          "model_name": "LayoutModel",
          "model_module_version": "1.2.0",
          "state": {
            "_model_module": "@jupyter-widgets/base",
            "_model_module_version": "1.2.0",
            "_model_name": "LayoutModel",
            "_view_count": null,
            "_view_module": "@jupyter-widgets/base",
            "_view_module_version": "1.2.0",
            "_view_name": "LayoutView",
            "align_content": null,
            "align_items": null,
            "align_self": null,
            "border": null,
            "bottom": null,
            "display": null,
            "flex": null,
            "flex_flow": null,
            "grid_area": null,
            "grid_auto_columns": null,
            "grid_auto_flow": null,
            "grid_auto_rows": null,
            "grid_column": null,
            "grid_gap": null,
            "grid_row": null,
            "grid_template_areas": null,
            "grid_template_columns": null,
            "grid_template_rows": null,
            "height": null,
            "justify_content": null,
            "justify_items": null,
            "left": null,
            "margin": null,
            "max_height": null,
            "max_width": null,
            "min_height": null,
            "min_width": null,
            "object_fit": null,
            "object_position": null,
            "order": null,
            "overflow": null,
            "overflow_x": null,
            "overflow_y": null,
            "padding": null,
            "right": null,
            "top": null,
            "visibility": null,
            "width": null
          }
        },
        "f49f9cb1f45d400d94e43a2cfcc14db0": {
          "model_module": "@jupyter-widgets/base",
          "model_name": "LayoutModel",
          "model_module_version": "1.2.0",
          "state": {
            "_model_module": "@jupyter-widgets/base",
            "_model_module_version": "1.2.0",
            "_model_name": "LayoutModel",
            "_view_count": null,
            "_view_module": "@jupyter-widgets/base",
            "_view_module_version": "1.2.0",
            "_view_name": "LayoutView",
            "align_content": null,
            "align_items": null,
            "align_self": null,
            "border": null,
            "bottom": null,
            "display": null,
            "flex": null,
            "flex_flow": null,
            "grid_area": null,
            "grid_auto_columns": null,
            "grid_auto_flow": null,
            "grid_auto_rows": null,
            "grid_column": null,
            "grid_gap": null,
            "grid_row": null,
            "grid_template_areas": null,
            "grid_template_columns": null,
            "grid_template_rows": null,
            "height": null,
            "justify_content": null,
            "justify_items": null,
            "left": null,
            "margin": null,
            "max_height": null,
            "max_width": null,
            "min_height": null,
            "min_width": null,
            "object_fit": null,
            "object_position": null,
            "order": null,
            "overflow": null,
            "overflow_x": null,
            "overflow_y": null,
            "padding": null,
            "right": null,
            "top": null,
            "visibility": null,
            "width": null
          }
        },
        "7c61ff370c9b40f9966000eab1740e91": {
          "model_module": "@jupyter-widgets/controls",
          "model_name": "DescriptionStyleModel",
          "model_module_version": "1.5.0",
          "state": {
            "_model_module": "@jupyter-widgets/controls",
            "_model_module_version": "1.5.0",
            "_model_name": "DescriptionStyleModel",
            "_view_count": null,
            "_view_module": "@jupyter-widgets/base",
            "_view_module_version": "1.2.0",
            "_view_name": "StyleView",
            "description_width": ""
          }
        },
        "8a28b532fe14465aa560dc2d20eaa913": {
          "model_module": "@jupyter-widgets/base",
          "model_name": "LayoutModel",
          "model_module_version": "1.2.0",
          "state": {
            "_model_module": "@jupyter-widgets/base",
            "_model_module_version": "1.2.0",
            "_model_name": "LayoutModel",
            "_view_count": null,
            "_view_module": "@jupyter-widgets/base",
            "_view_module_version": "1.2.0",
            "_view_name": "LayoutView",
            "align_content": null,
            "align_items": null,
            "align_self": null,
            "border": null,
            "bottom": null,
            "display": null,
            "flex": null,
            "flex_flow": null,
            "grid_area": null,
            "grid_auto_columns": null,
            "grid_auto_flow": null,
            "grid_auto_rows": null,
            "grid_column": null,
            "grid_gap": null,
            "grid_row": null,
            "grid_template_areas": null,
            "grid_template_columns": null,
            "grid_template_rows": null,
            "height": null,
            "justify_content": null,
            "justify_items": null,
            "left": null,
            "margin": null,
            "max_height": null,
            "max_width": null,
            "min_height": null,
            "min_width": null,
            "object_fit": null,
            "object_position": null,
            "order": null,
            "overflow": null,
            "overflow_x": null,
            "overflow_y": null,
            "padding": null,
            "right": null,
            "top": null,
            "visibility": null,
            "width": null
          }
        },
        "338b61aa1f0c4e05910ba2345c14f504": {
          "model_module": "@jupyter-widgets/controls",
          "model_name": "ProgressStyleModel",
          "model_module_version": "1.5.0",
          "state": {
            "_model_module": "@jupyter-widgets/controls",
            "_model_module_version": "1.5.0",
            "_model_name": "ProgressStyleModel",
            "_view_count": null,
            "_view_module": "@jupyter-widgets/base",
            "_view_module_version": "1.2.0",
            "_view_name": "StyleView",
            "bar_color": null,
            "description_width": ""
          }
        },
        "0dac53d4747a4cbab12353b375c4dba4": {
          "model_module": "@jupyter-widgets/base",
          "model_name": "LayoutModel",
          "model_module_version": "1.2.0",
          "state": {
            "_model_module": "@jupyter-widgets/base",
            "_model_module_version": "1.2.0",
            "_model_name": "LayoutModel",
            "_view_count": null,
            "_view_module": "@jupyter-widgets/base",
            "_view_module_version": "1.2.0",
            "_view_name": "LayoutView",
            "align_content": null,
            "align_items": null,
            "align_self": null,
            "border": null,
            "bottom": null,
            "display": null,
            "flex": null,
            "flex_flow": null,
            "grid_area": null,
            "grid_auto_columns": null,
            "grid_auto_flow": null,
            "grid_auto_rows": null,
            "grid_column": null,
            "grid_gap": null,
            "grid_row": null,
            "grid_template_areas": null,
            "grid_template_columns": null,
            "grid_template_rows": null,
            "height": null,
            "justify_content": null,
            "justify_items": null,
            "left": null,
            "margin": null,
            "max_height": null,
            "max_width": null,
            "min_height": null,
            "min_width": null,
            "object_fit": null,
            "object_position": null,
            "order": null,
            "overflow": null,
            "overflow_x": null,
            "overflow_y": null,
            "padding": null,
            "right": null,
            "top": null,
            "visibility": null,
            "width": null
          }
        },
        "e20f61857cba4b25bad2ac583f0a3966": {
          "model_module": "@jupyter-widgets/controls",
          "model_name": "DescriptionStyleModel",
          "model_module_version": "1.5.0",
          "state": {
            "_model_module": "@jupyter-widgets/controls",
            "_model_module_version": "1.5.0",
            "_model_name": "DescriptionStyleModel",
            "_view_count": null,
            "_view_module": "@jupyter-widgets/base",
            "_view_module_version": "1.2.0",
            "_view_name": "StyleView",
            "description_width": ""
          }
        },
        "96830c161da94ec2bdb58b5ce4df8a67": {
          "model_module": "@jupyter-widgets/controls",
          "model_name": "HBoxModel",
          "model_module_version": "1.5.0",
          "state": {
            "_dom_classes": [],
            "_model_module": "@jupyter-widgets/controls",
            "_model_module_version": "1.5.0",
            "_model_name": "HBoxModel",
            "_view_count": null,
            "_view_module": "@jupyter-widgets/controls",
            "_view_module_version": "1.5.0",
            "_view_name": "HBoxView",
            "box_style": "",
            "children": [
              "IPY_MODEL_d55c246074244b4b99b671d28923a56d",
              "IPY_MODEL_2963f2509ff940079758794ae2dcf7be",
              "IPY_MODEL_a28cc3712fab4142b91cce4f76ff2553"
            ],
            "layout": "IPY_MODEL_21bff703f1944b37ad0947a89409ffd0"
          }
        },
        "d55c246074244b4b99b671d28923a56d": {
          "model_module": "@jupyter-widgets/controls",
          "model_name": "HTMLModel",
          "model_module_version": "1.5.0",
          "state": {
            "_dom_classes": [],
            "_model_module": "@jupyter-widgets/controls",
            "_model_module_version": "1.5.0",
            "_model_name": "HTMLModel",
            "_view_count": null,
            "_view_module": "@jupyter-widgets/controls",
            "_view_module_version": "1.5.0",
            "_view_name": "HTMLView",
            "description": "",
            "description_tooltip": null,
            "layout": "IPY_MODEL_953641cbd5504b29b5a84f4c6272f649",
            "placeholder": "​",
            "style": "IPY_MODEL_18a6e238ff354fadb68711dbac6bf83f",
            "value": "Downloading readme: 100%"
          }
        },
        "2963f2509ff940079758794ae2dcf7be": {
          "model_module": "@jupyter-widgets/controls",
          "model_name": "FloatProgressModel",
          "model_module_version": "1.5.0",
          "state": {
            "_dom_classes": [],
            "_model_module": "@jupyter-widgets/controls",
            "_model_module_version": "1.5.0",
            "_model_name": "FloatProgressModel",
            "_view_count": null,
            "_view_module": "@jupyter-widgets/controls",
            "_view_module_version": "1.5.0",
            "_view_name": "ProgressView",
            "bar_style": "success",
            "description": "",
            "description_tooltip": null,
            "layout": "IPY_MODEL_7dc781bf47e1464996dbd53ca7e46add",
            "max": 3739,
            "min": 0,
            "orientation": "horizontal",
            "style": "IPY_MODEL_c467a853a73948d9a5e20d07b8986789",
            "value": 3739
          }
        },
        "a28cc3712fab4142b91cce4f76ff2553": {
          "model_module": "@jupyter-widgets/controls",
          "model_name": "HTMLModel",
          "model_module_version": "1.5.0",
          "state": {
            "_dom_classes": [],
            "_model_module": "@jupyter-widgets/controls",
            "_model_module_version": "1.5.0",
            "_model_name": "HTMLModel",
            "_view_count": null,
            "_view_module": "@jupyter-widgets/controls",
            "_view_module_version": "1.5.0",
            "_view_name": "HTMLView",
            "description": "",
            "description_tooltip": null,
            "layout": "IPY_MODEL_23c62cc64db149b4b60ee71b8ec22003",
            "placeholder": "​",
            "style": "IPY_MODEL_e50f5025529f46a6a0f05585d981e8fd",
            "value": " 3.74k/3.74k [00:00&lt;00:00, 6.77kB/s]"
          }
        },
        "21bff703f1944b37ad0947a89409ffd0": {
          "model_module": "@jupyter-widgets/base",
          "model_name": "LayoutModel",
          "model_module_version": "1.2.0",
          "state": {
            "_model_module": "@jupyter-widgets/base",
            "_model_module_version": "1.2.0",
            "_model_name": "LayoutModel",
            "_view_count": null,
            "_view_module": "@jupyter-widgets/base",
            "_view_module_version": "1.2.0",
            "_view_name": "LayoutView",
            "align_content": null,
            "align_items": null,
            "align_self": null,
            "border": null,
            "bottom": null,
            "display": null,
            "flex": null,
            "flex_flow": null,
            "grid_area": null,
            "grid_auto_columns": null,
            "grid_auto_flow": null,
            "grid_auto_rows": null,
            "grid_column": null,
            "grid_gap": null,
            "grid_row": null,
            "grid_template_areas": null,
            "grid_template_columns": null,
            "grid_template_rows": null,
            "height": null,
            "justify_content": null,
            "justify_items": null,
            "left": null,
            "margin": null,
            "max_height": null,
            "max_width": null,
            "min_height": null,
            "min_width": null,
            "object_fit": null,
            "object_position": null,
            "order": null,
            "overflow": null,
            "overflow_x": null,
            "overflow_y": null,
            "padding": null,
            "right": null,
            "top": null,
            "visibility": null,
            "width": null
          }
        },
        "953641cbd5504b29b5a84f4c6272f649": {
          "model_module": "@jupyter-widgets/base",
          "model_name": "LayoutModel",
          "model_module_version": "1.2.0",
          "state": {
            "_model_module": "@jupyter-widgets/base",
            "_model_module_version": "1.2.0",
            "_model_name": "LayoutModel",
            "_view_count": null,
            "_view_module": "@jupyter-widgets/base",
            "_view_module_version": "1.2.0",
            "_view_name": "LayoutView",
            "align_content": null,
            "align_items": null,
            "align_self": null,
            "border": null,
            "bottom": null,
            "display": null,
            "flex": null,
            "flex_flow": null,
            "grid_area": null,
            "grid_auto_columns": null,
            "grid_auto_flow": null,
            "grid_auto_rows": null,
            "grid_column": null,
            "grid_gap": null,
            "grid_row": null,
            "grid_template_areas": null,
            "grid_template_columns": null,
            "grid_template_rows": null,
            "height": null,
            "justify_content": null,
            "justify_items": null,
            "left": null,
            "margin": null,
            "max_height": null,
            "max_width": null,
            "min_height": null,
            "min_width": null,
            "object_fit": null,
            "object_position": null,
            "order": null,
            "overflow": null,
            "overflow_x": null,
            "overflow_y": null,
            "padding": null,
            "right": null,
            "top": null,
            "visibility": null,
            "width": null
          }
        },
        "18a6e238ff354fadb68711dbac6bf83f": {
          "model_module": "@jupyter-widgets/controls",
          "model_name": "DescriptionStyleModel",
          "model_module_version": "1.5.0",
          "state": {
            "_model_module": "@jupyter-widgets/controls",
            "_model_module_version": "1.5.0",
            "_model_name": "DescriptionStyleModel",
            "_view_count": null,
            "_view_module": "@jupyter-widgets/base",
            "_view_module_version": "1.2.0",
            "_view_name": "StyleView",
            "description_width": ""
          }
        },
        "7dc781bf47e1464996dbd53ca7e46add": {
          "model_module": "@jupyter-widgets/base",
          "model_name": "LayoutModel",
          "model_module_version": "1.2.0",
          "state": {
            "_model_module": "@jupyter-widgets/base",
            "_model_module_version": "1.2.0",
            "_model_name": "LayoutModel",
            "_view_count": null,
            "_view_module": "@jupyter-widgets/base",
            "_view_module_version": "1.2.0",
            "_view_name": "LayoutView",
            "align_content": null,
            "align_items": null,
            "align_self": null,
            "border": null,
            "bottom": null,
            "display": null,
            "flex": null,
            "flex_flow": null,
            "grid_area": null,
            "grid_auto_columns": null,
            "grid_auto_flow": null,
            "grid_auto_rows": null,
            "grid_column": null,
            "grid_gap": null,
            "grid_row": null,
            "grid_template_areas": null,
            "grid_template_columns": null,
            "grid_template_rows": null,
            "height": null,
            "justify_content": null,
            "justify_items": null,
            "left": null,
            "margin": null,
            "max_height": null,
            "max_width": null,
            "min_height": null,
            "min_width": null,
            "object_fit": null,
            "object_position": null,
            "order": null,
            "overflow": null,
            "overflow_x": null,
            "overflow_y": null,
            "padding": null,
            "right": null,
            "top": null,
            "visibility": null,
            "width": null
          }
        },
        "c467a853a73948d9a5e20d07b8986789": {
          "model_module": "@jupyter-widgets/controls",
          "model_name": "ProgressStyleModel",
          "model_module_version": "1.5.0",
          "state": {
            "_model_module": "@jupyter-widgets/controls",
            "_model_module_version": "1.5.0",
            "_model_name": "ProgressStyleModel",
            "_view_count": null,
            "_view_module": "@jupyter-widgets/base",
            "_view_module_version": "1.2.0",
            "_view_name": "StyleView",
            "bar_color": null,
            "description_width": ""
          }
        },
        "23c62cc64db149b4b60ee71b8ec22003": {
          "model_module": "@jupyter-widgets/base",
          "model_name": "LayoutModel",
          "model_module_version": "1.2.0",
          "state": {
            "_model_module": "@jupyter-widgets/base",
            "_model_module_version": "1.2.0",
            "_model_name": "LayoutModel",
            "_view_count": null,
            "_view_module": "@jupyter-widgets/base",
            "_view_module_version": "1.2.0",
            "_view_name": "LayoutView",
            "align_content": null,
            "align_items": null,
            "align_self": null,
            "border": null,
            "bottom": null,
            "display": null,
            "flex": null,
            "flex_flow": null,
            "grid_area": null,
            "grid_auto_columns": null,
            "grid_auto_flow": null,
            "grid_auto_rows": null,
            "grid_column": null,
            "grid_gap": null,
            "grid_row": null,
            "grid_template_areas": null,
            "grid_template_columns": null,
            "grid_template_rows": null,
            "height": null,
            "justify_content": null,
            "justify_items": null,
            "left": null,
            "margin": null,
            "max_height": null,
            "max_width": null,
            "min_height": null,
            "min_width": null,
            "object_fit": null,
            "object_position": null,
            "order": null,
            "overflow": null,
            "overflow_x": null,
            "overflow_y": null,
            "padding": null,
            "right": null,
            "top": null,
            "visibility": null,
            "width": null
          }
        },
        "e50f5025529f46a6a0f05585d981e8fd": {
          "model_module": "@jupyter-widgets/controls",
          "model_name": "DescriptionStyleModel",
          "model_module_version": "1.5.0",
          "state": {
            "_model_module": "@jupyter-widgets/controls",
            "_model_module_version": "1.5.0",
            "_model_name": "DescriptionStyleModel",
            "_view_count": null,
            "_view_module": "@jupyter-widgets/base",
            "_view_module_version": "1.2.0",
            "_view_name": "StyleView",
            "description_width": ""
          }
        },
        "328fe906aac44f18bccd0cd2eef0e799": {
          "model_module": "@jupyter-widgets/controls",
          "model_name": "HBoxModel",
          "model_module_version": "1.5.0",
          "state": {
            "_dom_classes": [],
            "_model_module": "@jupyter-widgets/controls",
            "_model_module_version": "1.5.0",
            "_model_name": "HBoxModel",
            "_view_count": null,
            "_view_module": "@jupyter-widgets/controls",
            "_view_module_version": "1.5.0",
            "_view_name": "HBoxView",
            "box_style": "",
            "children": [
              "IPY_MODEL_73aca0aa4b454f95b57938cc9229f6f5",
              "IPY_MODEL_e699ad4b86ab4598a4d707c3a196757a",
              "IPY_MODEL_b9c8566387014ca2b49348cfe6b9014b"
            ],
            "layout": "IPY_MODEL_003757fb5b024ca4a91915455c30288f"
          }
        },
        "73aca0aa4b454f95b57938cc9229f6f5": {
          "model_module": "@jupyter-widgets/controls",
          "model_name": "HTMLModel",
          "model_module_version": "1.5.0",
          "state": {
            "_dom_classes": [],
            "_model_module": "@jupyter-widgets/controls",
            "_model_module_version": "1.5.0",
            "_model_name": "HTMLModel",
            "_view_count": null,
            "_view_module": "@jupyter-widgets/controls",
            "_view_module_version": "1.5.0",
            "_view_name": "HTMLView",
            "description": "",
            "description_tooltip": null,
            "layout": "IPY_MODEL_6395498936d54afa8da7910b569dc8fd",
            "placeholder": "​",
            "style": "IPY_MODEL_cb47352bc98a4961a3dc220435046fd4",
            "value": "Downloading data files: 100%"
          }
        },
        "e699ad4b86ab4598a4d707c3a196757a": {
          "model_module": "@jupyter-widgets/controls",
          "model_name": "FloatProgressModel",
          "model_module_version": "1.5.0",
          "state": {
            "_dom_classes": [],
            "_model_module": "@jupyter-widgets/controls",
            "_model_module_version": "1.5.0",
            "_model_name": "FloatProgressModel",
            "_view_count": null,
            "_view_module": "@jupyter-widgets/controls",
            "_view_module_version": "1.5.0",
            "_view_name": "ProgressView",
            "bar_style": "success",
            "description": "",
            "description_tooltip": null,
            "layout": "IPY_MODEL_beac5b6ec2f1442b8b1c25c93dbd053b",
            "max": 2,
            "min": 0,
            "orientation": "horizontal",
            "style": "IPY_MODEL_ffa25621f9144d469e62c92e8c2d6169",
            "value": 2
          }
        },
        "b9c8566387014ca2b49348cfe6b9014b": {
          "model_module": "@jupyter-widgets/controls",
          "model_name": "HTMLModel",
          "model_module_version": "1.5.0",
          "state": {
            "_dom_classes": [],
            "_model_module": "@jupyter-widgets/controls",
            "_model_module_version": "1.5.0",
            "_model_name": "HTMLModel",
            "_view_count": null,
            "_view_module": "@jupyter-widgets/controls",
            "_view_module_version": "1.5.0",
            "_view_name": "HTMLView",
            "description": "",
            "description_tooltip": null,
            "layout": "IPY_MODEL_f8b1008db9994278bd60003d045d35c4",
            "placeholder": "​",
            "style": "IPY_MODEL_19787f2bcae1480b998de0372143d910",
            "value": " 2/2 [00:08&lt;00:00,  3.93s/it]"
          }
        },
        "003757fb5b024ca4a91915455c30288f": {
          "model_module": "@jupyter-widgets/base",
          "model_name": "LayoutModel",
          "model_module_version": "1.2.0",
          "state": {
            "_model_module": "@jupyter-widgets/base",
            "_model_module_version": "1.2.0",
            "_model_name": "LayoutModel",
            "_view_count": null,
            "_view_module": "@jupyter-widgets/base",
            "_view_module_version": "1.2.0",
            "_view_name": "LayoutView",
            "align_content": null,
            "align_items": null,
            "align_self": null,
            "border": null,
            "bottom": null,
            "display": null,
            "flex": null,
            "flex_flow": null,
            "grid_area": null,
            "grid_auto_columns": null,
            "grid_auto_flow": null,
            "grid_auto_rows": null,
            "grid_column": null,
            "grid_gap": null,
            "grid_row": null,
            "grid_template_areas": null,
            "grid_template_columns": null,
            "grid_template_rows": null,
            "height": null,
            "justify_content": null,
            "justify_items": null,
            "left": null,
            "margin": null,
            "max_height": null,
            "max_width": null,
            "min_height": null,
            "min_width": null,
            "object_fit": null,
            "object_position": null,
            "order": null,
            "overflow": null,
            "overflow_x": null,
            "overflow_y": null,
            "padding": null,
            "right": null,
            "top": null,
            "visibility": null,
            "width": null
          }
        },
        "6395498936d54afa8da7910b569dc8fd": {
          "model_module": "@jupyter-widgets/base",
          "model_name": "LayoutModel",
          "model_module_version": "1.2.0",
          "state": {
            "_model_module": "@jupyter-widgets/base",
            "_model_module_version": "1.2.0",
            "_model_name": "LayoutModel",
            "_view_count": null,
            "_view_module": "@jupyter-widgets/base",
            "_view_module_version": "1.2.0",
            "_view_name": "LayoutView",
            "align_content": null,
            "align_items": null,
            "align_self": null,
            "border": null,
            "bottom": null,
            "display": null,
            "flex": null,
            "flex_flow": null,
            "grid_area": null,
            "grid_auto_columns": null,
            "grid_auto_flow": null,
            "grid_auto_rows": null,
            "grid_column": null,
            "grid_gap": null,
            "grid_row": null,
            "grid_template_areas": null,
            "grid_template_columns": null,
            "grid_template_rows": null,
            "height": null,
            "justify_content": null,
            "justify_items": null,
            "left": null,
            "margin": null,
            "max_height": null,
            "max_width": null,
            "min_height": null,
            "min_width": null,
            "object_fit": null,
            "object_position": null,
            "order": null,
            "overflow": null,
            "overflow_x": null,
            "overflow_y": null,
            "padding": null,
            "right": null,
            "top": null,
            "visibility": null,
            "width": null
          }
        },
        "cb47352bc98a4961a3dc220435046fd4": {
          "model_module": "@jupyter-widgets/controls",
          "model_name": "DescriptionStyleModel",
          "model_module_version": "1.5.0",
          "state": {
            "_model_module": "@jupyter-widgets/controls",
            "_model_module_version": "1.5.0",
            "_model_name": "DescriptionStyleModel",
            "_view_count": null,
            "_view_module": "@jupyter-widgets/base",
            "_view_module_version": "1.2.0",
            "_view_name": "StyleView",
            "description_width": ""
          }
        },
        "beac5b6ec2f1442b8b1c25c93dbd053b": {
          "model_module": "@jupyter-widgets/base",
          "model_name": "LayoutModel",
          "model_module_version": "1.2.0",
          "state": {
            "_model_module": "@jupyter-widgets/base",
            "_model_module_version": "1.2.0",
            "_model_name": "LayoutModel",
            "_view_count": null,
            "_view_module": "@jupyter-widgets/base",
            "_view_module_version": "1.2.0",
            "_view_name": "LayoutView",
            "align_content": null,
            "align_items": null,
            "align_self": null,
            "border": null,
            "bottom": null,
            "display": null,
            "flex": null,
            "flex_flow": null,
            "grid_area": null,
            "grid_auto_columns": null,
            "grid_auto_flow": null,
            "grid_auto_rows": null,
            "grid_column": null,
            "grid_gap": null,
            "grid_row": null,
            "grid_template_areas": null,
            "grid_template_columns": null,
            "grid_template_rows": null,
            "height": null,
            "justify_content": null,
            "justify_items": null,
            "left": null,
            "margin": null,
            "max_height": null,
            "max_width": null,
            "min_height": null,
            "min_width": null,
            "object_fit": null,
            "object_position": null,
            "order": null,
            "overflow": null,
            "overflow_x": null,
            "overflow_y": null,
            "padding": null,
            "right": null,
            "top": null,
            "visibility": null,
            "width": null
          }
        },
        "ffa25621f9144d469e62c92e8c2d6169": {
          "model_module": "@jupyter-widgets/controls",
          "model_name": "ProgressStyleModel",
          "model_module_version": "1.5.0",
          "state": {
            "_model_module": "@jupyter-widgets/controls",
            "_model_module_version": "1.5.0",
            "_model_name": "ProgressStyleModel",
            "_view_count": null,
            "_view_module": "@jupyter-widgets/base",
            "_view_module_version": "1.2.0",
            "_view_name": "StyleView",
            "bar_color": null,
            "description_width": ""
          }
        },
        "f8b1008db9994278bd60003d045d35c4": {
          "model_module": "@jupyter-widgets/base",
          "model_name": "LayoutModel",
          "model_module_version": "1.2.0",
          "state": {
            "_model_module": "@jupyter-widgets/base",
            "_model_module_version": "1.2.0",
            "_model_name": "LayoutModel",
            "_view_count": null,
            "_view_module": "@jupyter-widgets/base",
            "_view_module_version": "1.2.0",
            "_view_name": "LayoutView",
            "align_content": null,
            "align_items": null,
            "align_self": null,
            "border": null,
            "bottom": null,
            "display": null,
            "flex": null,
            "flex_flow": null,
            "grid_area": null,
            "grid_auto_columns": null,
            "grid_auto_flow": null,
            "grid_auto_rows": null,
            "grid_column": null,
            "grid_gap": null,
            "grid_row": null,
            "grid_template_areas": null,
            "grid_template_columns": null,
            "grid_template_rows": null,
            "height": null,
            "justify_content": null,
            "justify_items": null,
            "left": null,
            "margin": null,
            "max_height": null,
            "max_width": null,
            "min_height": null,
            "min_width": null,
            "object_fit": null,
            "object_position": null,
            "order": null,
            "overflow": null,
            "overflow_x": null,
            "overflow_y": null,
            "padding": null,
            "right": null,
            "top": null,
            "visibility": null,
            "width": null
          }
        },
        "19787f2bcae1480b998de0372143d910": {
          "model_module": "@jupyter-widgets/controls",
          "model_name": "DescriptionStyleModel",
          "model_module_version": "1.5.0",
          "state": {
            "_model_module": "@jupyter-widgets/controls",
            "_model_module_version": "1.5.0",
            "_model_name": "DescriptionStyleModel",
            "_view_count": null,
            "_view_module": "@jupyter-widgets/base",
            "_view_module_version": "1.2.0",
            "_view_name": "StyleView",
            "description_width": ""
          }
        },
        "4c60d3ff5315448abd25e42dedd35e11": {
          "model_module": "@jupyter-widgets/controls",
          "model_name": "HBoxModel",
          "model_module_version": "1.5.0",
          "state": {
            "_dom_classes": [],
            "_model_module": "@jupyter-widgets/controls",
            "_model_module_version": "1.5.0",
            "_model_name": "HBoxModel",
            "_view_count": null,
            "_view_module": "@jupyter-widgets/controls",
            "_view_module_version": "1.5.0",
            "_view_name": "HBoxView",
            "box_style": "",
            "children": [
              "IPY_MODEL_fbbda2f0462d435ebfb6a768f0137be0",
              "IPY_MODEL_050842f60bd849d0ba2b7d46025aadda",
              "IPY_MODEL_5fb0c5918dd149819c6afd25c857fe66"
            ],
            "layout": "IPY_MODEL_9a715d94af6c4c519fad54ffb2936ec4"
          }
        },
        "fbbda2f0462d435ebfb6a768f0137be0": {
          "model_module": "@jupyter-widgets/controls",
          "model_name": "HTMLModel",
          "model_module_version": "1.5.0",
          "state": {
            "_dom_classes": [],
            "_model_module": "@jupyter-widgets/controls",
            "_model_module_version": "1.5.0",
            "_model_name": "HTMLModel",
            "_view_count": null,
            "_view_module": "@jupyter-widgets/controls",
            "_view_module_version": "1.5.0",
            "_view_name": "HTMLView",
            "description": "",
            "description_tooltip": null,
            "layout": "IPY_MODEL_c26828d5f3d94f5281085f83bf6ee9e7",
            "placeholder": "​",
            "style": "IPY_MODEL_4e45df4fa09f4f2b8c5278b2d66feced",
            "value": "Downloading data: "
          }
        },
        "050842f60bd849d0ba2b7d46025aadda": {
          "model_module": "@jupyter-widgets/controls",
          "model_name": "FloatProgressModel",
          "model_module_version": "1.5.0",
          "state": {
            "_dom_classes": [],
            "_model_module": "@jupyter-widgets/controls",
            "_model_module_version": "1.5.0",
            "_model_name": "FloatProgressModel",
            "_view_count": null,
            "_view_module": "@jupyter-widgets/controls",
            "_view_module_version": "1.5.0",
            "_view_name": "ProgressView",
            "bar_style": "success",
            "description": "",
            "description_tooltip": null,
            "layout": "IPY_MODEL_b96927b863ee4143bc14dc07e733b21d",
            "max": 6330648,
            "min": 0,
            "orientation": "horizontal",
            "style": "IPY_MODEL_e6312e6aaf5944bbabe53192a24e20cf",
            "value": 6330648
          }
        },
        "5fb0c5918dd149819c6afd25c857fe66": {
          "model_module": "@jupyter-widgets/controls",
          "model_name": "HTMLModel",
          "model_module_version": "1.5.0",
          "state": {
            "_dom_classes": [],
            "_model_module": "@jupyter-widgets/controls",
            "_model_module_version": "1.5.0",
            "_model_name": "HTMLModel",
            "_view_count": null,
            "_view_module": "@jupyter-widgets/controls",
            "_view_module_version": "1.5.0",
            "_view_name": "HTMLView",
            "description": "",
            "description_tooltip": null,
            "layout": "IPY_MODEL_11a6d6da8c4343c698ef8d3c60aacacd",
            "placeholder": "​",
            "style": "IPY_MODEL_7d94afc0c47b46ad8edd4389a866a397",
            "value": " 14.6M/? [00:01&lt;00:00, 11.1MB/s]"
          }
        },
        "9a715d94af6c4c519fad54ffb2936ec4": {
          "model_module": "@jupyter-widgets/base",
          "model_name": "LayoutModel",
          "model_module_version": "1.2.0",
          "state": {
            "_model_module": "@jupyter-widgets/base",
            "_model_module_version": "1.2.0",
            "_model_name": "LayoutModel",
            "_view_count": null,
            "_view_module": "@jupyter-widgets/base",
            "_view_module_version": "1.2.0",
            "_view_name": "LayoutView",
            "align_content": null,
            "align_items": null,
            "align_self": null,
            "border": null,
            "bottom": null,
            "display": null,
            "flex": null,
            "flex_flow": null,
            "grid_area": null,
            "grid_auto_columns": null,
            "grid_auto_flow": null,
            "grid_auto_rows": null,
            "grid_column": null,
            "grid_gap": null,
            "grid_row": null,
            "grid_template_areas": null,
            "grid_template_columns": null,
            "grid_template_rows": null,
            "height": null,
            "justify_content": null,
            "justify_items": null,
            "left": null,
            "margin": null,
            "max_height": null,
            "max_width": null,
            "min_height": null,
            "min_width": null,
            "object_fit": null,
            "object_position": null,
            "order": null,
            "overflow": null,
            "overflow_x": null,
            "overflow_y": null,
            "padding": null,
            "right": null,
            "top": null,
            "visibility": null,
            "width": null
          }
        },
        "c26828d5f3d94f5281085f83bf6ee9e7": {
          "model_module": "@jupyter-widgets/base",
          "model_name": "LayoutModel",
          "model_module_version": "1.2.0",
          "state": {
            "_model_module": "@jupyter-widgets/base",
            "_model_module_version": "1.2.0",
            "_model_name": "LayoutModel",
            "_view_count": null,
            "_view_module": "@jupyter-widgets/base",
            "_view_module_version": "1.2.0",
            "_view_name": "LayoutView",
            "align_content": null,
            "align_items": null,
            "align_self": null,
            "border": null,
            "bottom": null,
            "display": null,
            "flex": null,
            "flex_flow": null,
            "grid_area": null,
            "grid_auto_columns": null,
            "grid_auto_flow": null,
            "grid_auto_rows": null,
            "grid_column": null,
            "grid_gap": null,
            "grid_row": null,
            "grid_template_areas": null,
            "grid_template_columns": null,
            "grid_template_rows": null,
            "height": null,
            "justify_content": null,
            "justify_items": null,
            "left": null,
            "margin": null,
            "max_height": null,
            "max_width": null,
            "min_height": null,
            "min_width": null,
            "object_fit": null,
            "object_position": null,
            "order": null,
            "overflow": null,
            "overflow_x": null,
            "overflow_y": null,
            "padding": null,
            "right": null,
            "top": null,
            "visibility": null,
            "width": null
          }
        },
        "4e45df4fa09f4f2b8c5278b2d66feced": {
          "model_module": "@jupyter-widgets/controls",
          "model_name": "DescriptionStyleModel",
          "model_module_version": "1.5.0",
          "state": {
            "_model_module": "@jupyter-widgets/controls",
            "_model_module_version": "1.5.0",
            "_model_name": "DescriptionStyleModel",
            "_view_count": null,
            "_view_module": "@jupyter-widgets/base",
            "_view_module_version": "1.2.0",
            "_view_name": "StyleView",
            "description_width": ""
          }
        },
        "b96927b863ee4143bc14dc07e733b21d": {
          "model_module": "@jupyter-widgets/base",
          "model_name": "LayoutModel",
          "model_module_version": "1.2.0",
          "state": {
            "_model_module": "@jupyter-widgets/base",
            "_model_module_version": "1.2.0",
            "_model_name": "LayoutModel",
            "_view_count": null,
            "_view_module": "@jupyter-widgets/base",
            "_view_module_version": "1.2.0",
            "_view_name": "LayoutView",
            "align_content": null,
            "align_items": null,
            "align_self": null,
            "border": null,
            "bottom": null,
            "display": null,
            "flex": null,
            "flex_flow": null,
            "grid_area": null,
            "grid_auto_columns": null,
            "grid_auto_flow": null,
            "grid_auto_rows": null,
            "grid_column": null,
            "grid_gap": null,
            "grid_row": null,
            "grid_template_areas": null,
            "grid_template_columns": null,
            "grid_template_rows": null,
            "height": null,
            "justify_content": null,
            "justify_items": null,
            "left": null,
            "margin": null,
            "max_height": null,
            "max_width": null,
            "min_height": null,
            "min_width": null,
            "object_fit": null,
            "object_position": null,
            "order": null,
            "overflow": null,
            "overflow_x": null,
            "overflow_y": null,
            "padding": null,
            "right": null,
            "top": null,
            "visibility": null,
            "width": null
          }
        },
        "e6312e6aaf5944bbabe53192a24e20cf": {
          "model_module": "@jupyter-widgets/controls",
          "model_name": "ProgressStyleModel",
          "model_module_version": "1.5.0",
          "state": {
            "_model_module": "@jupyter-widgets/controls",
            "_model_module_version": "1.5.0",
            "_model_name": "ProgressStyleModel",
            "_view_count": null,
            "_view_module": "@jupyter-widgets/base",
            "_view_module_version": "1.2.0",
            "_view_name": "StyleView",
            "bar_color": null,
            "description_width": ""
          }
        },
        "11a6d6da8c4343c698ef8d3c60aacacd": {
          "model_module": "@jupyter-widgets/base",
          "model_name": "LayoutModel",
          "model_module_version": "1.2.0",
          "state": {
            "_model_module": "@jupyter-widgets/base",
            "_model_module_version": "1.2.0",
            "_model_name": "LayoutModel",
            "_view_count": null,
            "_view_module": "@jupyter-widgets/base",
            "_view_module_version": "1.2.0",
            "_view_name": "LayoutView",
            "align_content": null,
            "align_items": null,
            "align_self": null,
            "border": null,
            "bottom": null,
            "display": null,
            "flex": null,
            "flex_flow": null,
            "grid_area": null,
            "grid_auto_columns": null,
            "grid_auto_flow": null,
            "grid_auto_rows": null,
            "grid_column": null,
            "grid_gap": null,
            "grid_row": null,
            "grid_template_areas": null,
            "grid_template_columns": null,
            "grid_template_rows": null,
            "height": null,
            "justify_content": null,
            "justify_items": null,
            "left": null,
            "margin": null,
            "max_height": null,
            "max_width": null,
            "min_height": null,
            "min_width": null,
            "object_fit": null,
            "object_position": null,
            "order": null,
            "overflow": null,
            "overflow_x": null,
            "overflow_y": null,
            "padding": null,
            "right": null,
            "top": null,
            "visibility": null,
            "width": null
          }
        },
        "7d94afc0c47b46ad8edd4389a866a397": {
          "model_module": "@jupyter-widgets/controls",
          "model_name": "DescriptionStyleModel",
          "model_module_version": "1.5.0",
          "state": {
            "_model_module": "@jupyter-widgets/controls",
            "_model_module_version": "1.5.0",
            "_model_name": "DescriptionStyleModel",
            "_view_count": null,
            "_view_module": "@jupyter-widgets/base",
            "_view_module_version": "1.2.0",
            "_view_name": "StyleView",
            "description_width": ""
          }
        },
        "3c5834699b694b6d804bbbc1b71b9dcf": {
          "model_module": "@jupyter-widgets/controls",
          "model_name": "HBoxModel",
          "model_module_version": "1.5.0",
          "state": {
            "_dom_classes": [],
            "_model_module": "@jupyter-widgets/controls",
            "_model_module_version": "1.5.0",
            "_model_name": "HBoxModel",
            "_view_count": null,
            "_view_module": "@jupyter-widgets/controls",
            "_view_module_version": "1.5.0",
            "_view_name": "HBoxView",
            "box_style": "",
            "children": [
              "IPY_MODEL_32c7bae988d14c5ab2e4cde8797ac1f2",
              "IPY_MODEL_d586f68a16ee4193ac16e0bbc4f8cfe9",
              "IPY_MODEL_44a11c9eeecb41019691dc10b70baeca"
            ],
            "layout": "IPY_MODEL_ba394c88d3fb407c975de03f97a06246"
          }
        },
        "32c7bae988d14c5ab2e4cde8797ac1f2": {
          "model_module": "@jupyter-widgets/controls",
          "model_name": "HTMLModel",
          "model_module_version": "1.5.0",
          "state": {
            "_dom_classes": [],
            "_model_module": "@jupyter-widgets/controls",
            "_model_module_version": "1.5.0",
            "_model_name": "HTMLModel",
            "_view_count": null,
            "_view_module": "@jupyter-widgets/controls",
            "_view_module_version": "1.5.0",
            "_view_name": "HTMLView",
            "description": "",
            "description_tooltip": null,
            "layout": "IPY_MODEL_23e70839bde84bfebdd3be1c4bfabab5",
            "placeholder": "​",
            "style": "IPY_MODEL_6a9ff8eadc1445e69a5e1db6b5ebe400",
            "value": "Downloading data: "
          }
        },
        "d586f68a16ee4193ac16e0bbc4f8cfe9": {
          "model_module": "@jupyter-widgets/controls",
          "model_name": "FloatProgressModel",
          "model_module_version": "1.5.0",
          "state": {
            "_dom_classes": [],
            "_model_module": "@jupyter-widgets/controls",
            "_model_module_version": "1.5.0",
            "_model_name": "FloatProgressModel",
            "_view_count": null,
            "_view_module": "@jupyter-widgets/controls",
            "_view_module_version": "1.5.0",
            "_view_name": "ProgressView",
            "bar_style": "success",
            "description": "",
            "description_tooltip": null,
            "layout": "IPY_MODEL_e09bc836c74b449e8eda7673dced99f0",
            "max": 2116336,
            "min": 0,
            "orientation": "horizontal",
            "style": "IPY_MODEL_3e09a428e1304b4ba813f07c57a6ebde",
            "value": 2116336
          }
        },
        "44a11c9eeecb41019691dc10b70baeca": {
          "model_module": "@jupyter-widgets/controls",
          "model_name": "HTMLModel",
          "model_module_version": "1.5.0",
          "state": {
            "_dom_classes": [],
            "_model_module": "@jupyter-widgets/controls",
            "_model_module_version": "1.5.0",
            "_model_name": "HTMLModel",
            "_view_count": null,
            "_view_module": "@jupyter-widgets/controls",
            "_view_module_version": "1.5.0",
            "_view_name": "HTMLView",
            "description": "",
            "description_tooltip": null,
            "layout": "IPY_MODEL_c9ee4adb455f4aa0b7de54620bef1648",
            "placeholder": "​",
            "style": "IPY_MODEL_735f3b90115a4f289b0a324f5ffc5ec0",
            "value": " 4.89M/? [00:00&lt;00:00, 9.50MB/s]"
          }
        },
        "ba394c88d3fb407c975de03f97a06246": {
          "model_module": "@jupyter-widgets/base",
          "model_name": "LayoutModel",
          "model_module_version": "1.2.0",
          "state": {
            "_model_module": "@jupyter-widgets/base",
            "_model_module_version": "1.2.0",
            "_model_name": "LayoutModel",
            "_view_count": null,
            "_view_module": "@jupyter-widgets/base",
            "_view_module_version": "1.2.0",
            "_view_name": "LayoutView",
            "align_content": null,
            "align_items": null,
            "align_self": null,
            "border": null,
            "bottom": null,
            "display": null,
            "flex": null,
            "flex_flow": null,
            "grid_area": null,
            "grid_auto_columns": null,
            "grid_auto_flow": null,
            "grid_auto_rows": null,
            "grid_column": null,
            "grid_gap": null,
            "grid_row": null,
            "grid_template_areas": null,
            "grid_template_columns": null,
            "grid_template_rows": null,
            "height": null,
            "justify_content": null,
            "justify_items": null,
            "left": null,
            "margin": null,
            "max_height": null,
            "max_width": null,
            "min_height": null,
            "min_width": null,
            "object_fit": null,
            "object_position": null,
            "order": null,
            "overflow": null,
            "overflow_x": null,
            "overflow_y": null,
            "padding": null,
            "right": null,
            "top": null,
            "visibility": null,
            "width": null
          }
        },
        "23e70839bde84bfebdd3be1c4bfabab5": {
          "model_module": "@jupyter-widgets/base",
          "model_name": "LayoutModel",
          "model_module_version": "1.2.0",
          "state": {
            "_model_module": "@jupyter-widgets/base",
            "_model_module_version": "1.2.0",
            "_model_name": "LayoutModel",
            "_view_count": null,
            "_view_module": "@jupyter-widgets/base",
            "_view_module_version": "1.2.0",
            "_view_name": "LayoutView",
            "align_content": null,
            "align_items": null,
            "align_self": null,
            "border": null,
            "bottom": null,
            "display": null,
            "flex": null,
            "flex_flow": null,
            "grid_area": null,
            "grid_auto_columns": null,
            "grid_auto_flow": null,
            "grid_auto_rows": null,
            "grid_column": null,
            "grid_gap": null,
            "grid_row": null,
            "grid_template_areas": null,
            "grid_template_columns": null,
            "grid_template_rows": null,
            "height": null,
            "justify_content": null,
            "justify_items": null,
            "left": null,
            "margin": null,
            "max_height": null,
            "max_width": null,
            "min_height": null,
            "min_width": null,
            "object_fit": null,
            "object_position": null,
            "order": null,
            "overflow": null,
            "overflow_x": null,
            "overflow_y": null,
            "padding": null,
            "right": null,
            "top": null,
            "visibility": null,
            "width": null
          }
        },
        "6a9ff8eadc1445e69a5e1db6b5ebe400": {
          "model_module": "@jupyter-widgets/controls",
          "model_name": "DescriptionStyleModel",
          "model_module_version": "1.5.0",
          "state": {
            "_model_module": "@jupyter-widgets/controls",
            "_model_module_version": "1.5.0",
            "_model_name": "DescriptionStyleModel",
            "_view_count": null,
            "_view_module": "@jupyter-widgets/base",
            "_view_module_version": "1.2.0",
            "_view_name": "StyleView",
            "description_width": ""
          }
        },
        "e09bc836c74b449e8eda7673dced99f0": {
          "model_module": "@jupyter-widgets/base",
          "model_name": "LayoutModel",
          "model_module_version": "1.2.0",
          "state": {
            "_model_module": "@jupyter-widgets/base",
            "_model_module_version": "1.2.0",
            "_model_name": "LayoutModel",
            "_view_count": null,
            "_view_module": "@jupyter-widgets/base",
            "_view_module_version": "1.2.0",
            "_view_name": "LayoutView",
            "align_content": null,
            "align_items": null,
            "align_self": null,
            "border": null,
            "bottom": null,
            "display": null,
            "flex": null,
            "flex_flow": null,
            "grid_area": null,
            "grid_auto_columns": null,
            "grid_auto_flow": null,
            "grid_auto_rows": null,
            "grid_column": null,
            "grid_gap": null,
            "grid_row": null,
            "grid_template_areas": null,
            "grid_template_columns": null,
            "grid_template_rows": null,
            "height": null,
            "justify_content": null,
            "justify_items": null,
            "left": null,
            "margin": null,
            "max_height": null,
            "max_width": null,
            "min_height": null,
            "min_width": null,
            "object_fit": null,
            "object_position": null,
            "order": null,
            "overflow": null,
            "overflow_x": null,
            "overflow_y": null,
            "padding": null,
            "right": null,
            "top": null,
            "visibility": null,
            "width": null
          }
        },
        "3e09a428e1304b4ba813f07c57a6ebde": {
          "model_module": "@jupyter-widgets/controls",
          "model_name": "ProgressStyleModel",
          "model_module_version": "1.5.0",
          "state": {
            "_model_module": "@jupyter-widgets/controls",
            "_model_module_version": "1.5.0",
            "_model_name": "ProgressStyleModel",
            "_view_count": null,
            "_view_module": "@jupyter-widgets/base",
            "_view_module_version": "1.2.0",
            "_view_name": "StyleView",
            "bar_color": null,
            "description_width": ""
          }
        },
        "c9ee4adb455f4aa0b7de54620bef1648": {
          "model_module": "@jupyter-widgets/base",
          "model_name": "LayoutModel",
          "model_module_version": "1.2.0",
          "state": {
            "_model_module": "@jupyter-widgets/base",
            "_model_module_version": "1.2.0",
            "_model_name": "LayoutModel",
            "_view_count": null,
            "_view_module": "@jupyter-widgets/base",
            "_view_module_version": "1.2.0",
            "_view_name": "LayoutView",
            "align_content": null,
            "align_items": null,
            "align_self": null,
            "border": null,
            "bottom": null,
            "display": null,
            "flex": null,
            "flex_flow": null,
            "grid_area": null,
            "grid_auto_columns": null,
            "grid_auto_flow": null,
            "grid_auto_rows": null,
            "grid_column": null,
            "grid_gap": null,
            "grid_row": null,
            "grid_template_areas": null,
            "grid_template_columns": null,
            "grid_template_rows": null,
            "height": null,
            "justify_content": null,
            "justify_items": null,
            "left": null,
            "margin": null,
            "max_height": null,
            "max_width": null,
            "min_height": null,
            "min_width": null,
            "object_fit": null,
            "object_position": null,
            "order": null,
            "overflow": null,
            "overflow_x": null,
            "overflow_y": null,
            "padding": null,
            "right": null,
            "top": null,
            "visibility": null,
            "width": null
          }
        },
        "735f3b90115a4f289b0a324f5ffc5ec0": {
          "model_module": "@jupyter-widgets/controls",
          "model_name": "DescriptionStyleModel",
          "model_module_version": "1.5.0",
          "state": {
            "_model_module": "@jupyter-widgets/controls",
            "_model_module_version": "1.5.0",
            "_model_name": "DescriptionStyleModel",
            "_view_count": null,
            "_view_module": "@jupyter-widgets/base",
            "_view_module_version": "1.2.0",
            "_view_name": "StyleView",
            "description_width": ""
          }
        },
        "2894dc1fcb8540119ad4f7156d437601": {
          "model_module": "@jupyter-widgets/controls",
          "model_name": "HBoxModel",
          "model_module_version": "1.5.0",
          "state": {
            "_dom_classes": [],
            "_model_module": "@jupyter-widgets/controls",
            "_model_module_version": "1.5.0",
            "_model_name": "HBoxModel",
            "_view_count": null,
            "_view_module": "@jupyter-widgets/controls",
            "_view_module_version": "1.5.0",
            "_view_name": "HBoxView",
            "box_style": "",
            "children": [
              "IPY_MODEL_5fc0a2dd2b9145da8229065ea2d21f80",
              "IPY_MODEL_831cc074fc80485682e8cc5406992251",
              "IPY_MODEL_d5568211e21448ea812030a19e5bdbc9"
            ],
            "layout": "IPY_MODEL_e47ea10ed42646d5be8505e299e25497"
          }
        },
        "5fc0a2dd2b9145da8229065ea2d21f80": {
          "model_module": "@jupyter-widgets/controls",
          "model_name": "HTMLModel",
          "model_module_version": "1.5.0",
          "state": {
            "_dom_classes": [],
            "_model_module": "@jupyter-widgets/controls",
            "_model_module_version": "1.5.0",
            "_model_name": "HTMLModel",
            "_view_count": null,
            "_view_module": "@jupyter-widgets/controls",
            "_view_module_version": "1.5.0",
            "_view_name": "HTMLView",
            "description": "",
            "description_tooltip": null,
            "layout": "IPY_MODEL_5cf87d09b13643309f3d053450415d2b",
            "placeholder": "​",
            "style": "IPY_MODEL_e42fb3ca5b1e4b2384bf19ee45a20f0a",
            "value": "Extracting data files #1: 100%"
          }
        },
        "831cc074fc80485682e8cc5406992251": {
          "model_module": "@jupyter-widgets/controls",
          "model_name": "FloatProgressModel",
          "model_module_version": "1.5.0",
          "state": {
            "_dom_classes": [],
            "_model_module": "@jupyter-widgets/controls",
            "_model_module_version": "1.5.0",
            "_model_name": "FloatProgressModel",
            "_view_count": null,
            "_view_module": "@jupyter-widgets/controls",
            "_view_module_version": "1.5.0",
            "_view_name": "ProgressView",
            "bar_style": "success",
            "description": "",
            "description_tooltip": null,
            "layout": "IPY_MODEL_e6ca0320d5934889b7d892c8dee793f9",
            "max": 1,
            "min": 0,
            "orientation": "horizontal",
            "style": "IPY_MODEL_03ecfc202465488694e965a5faae192c",
            "value": 1
          }
        },
        "d5568211e21448ea812030a19e5bdbc9": {
          "model_module": "@jupyter-widgets/controls",
          "model_name": "HTMLModel",
          "model_module_version": "1.5.0",
          "state": {
            "_dom_classes": [],
            "_model_module": "@jupyter-widgets/controls",
            "_model_module_version": "1.5.0",
            "_model_name": "HTMLModel",
            "_view_count": null,
            "_view_module": "@jupyter-widgets/controls",
            "_view_module_version": "1.5.0",
            "_view_name": "HTMLView",
            "description": "",
            "description_tooltip": null,
            "layout": "IPY_MODEL_3387cb2d0bd24b89a03364abac910894",
            "placeholder": "​",
            "style": "IPY_MODEL_24e48b4de1a641d683f361ce3c8483c0",
            "value": " 1/1 [00:00&lt;00:00,  3.97obj/s]"
          }
        },
        "e47ea10ed42646d5be8505e299e25497": {
          "model_module": "@jupyter-widgets/base",
          "model_name": "LayoutModel",
          "model_module_version": "1.2.0",
          "state": {
            "_model_module": "@jupyter-widgets/base",
            "_model_module_version": "1.2.0",
            "_model_name": "LayoutModel",
            "_view_count": null,
            "_view_module": "@jupyter-widgets/base",
            "_view_module_version": "1.2.0",
            "_view_name": "LayoutView",
            "align_content": null,
            "align_items": null,
            "align_self": null,
            "border": null,
            "bottom": null,
            "display": null,
            "flex": null,
            "flex_flow": null,
            "grid_area": null,
            "grid_auto_columns": null,
            "grid_auto_flow": null,
            "grid_auto_rows": null,
            "grid_column": null,
            "grid_gap": null,
            "grid_row": null,
            "grid_template_areas": null,
            "grid_template_columns": null,
            "grid_template_rows": null,
            "height": null,
            "justify_content": null,
            "justify_items": null,
            "left": null,
            "margin": null,
            "max_height": null,
            "max_width": null,
            "min_height": null,
            "min_width": null,
            "object_fit": null,
            "object_position": null,
            "order": null,
            "overflow": null,
            "overflow_x": null,
            "overflow_y": null,
            "padding": null,
            "right": null,
            "top": null,
            "visibility": null,
            "width": null
          }
        },
        "5cf87d09b13643309f3d053450415d2b": {
          "model_module": "@jupyter-widgets/base",
          "model_name": "LayoutModel",
          "model_module_version": "1.2.0",
          "state": {
            "_model_module": "@jupyter-widgets/base",
            "_model_module_version": "1.2.0",
            "_model_name": "LayoutModel",
            "_view_count": null,
            "_view_module": "@jupyter-widgets/base",
            "_view_module_version": "1.2.0",
            "_view_name": "LayoutView",
            "align_content": null,
            "align_items": null,
            "align_self": null,
            "border": null,
            "bottom": null,
            "display": null,
            "flex": null,
            "flex_flow": null,
            "grid_area": null,
            "grid_auto_columns": null,
            "grid_auto_flow": null,
            "grid_auto_rows": null,
            "grid_column": null,
            "grid_gap": null,
            "grid_row": null,
            "grid_template_areas": null,
            "grid_template_columns": null,
            "grid_template_rows": null,
            "height": null,
            "justify_content": null,
            "justify_items": null,
            "left": null,
            "margin": null,
            "max_height": null,
            "max_width": null,
            "min_height": null,
            "min_width": null,
            "object_fit": null,
            "object_position": null,
            "order": null,
            "overflow": null,
            "overflow_x": null,
            "overflow_y": null,
            "padding": null,
            "right": null,
            "top": null,
            "visibility": null,
            "width": null
          }
        },
        "e42fb3ca5b1e4b2384bf19ee45a20f0a": {
          "model_module": "@jupyter-widgets/controls",
          "model_name": "DescriptionStyleModel",
          "model_module_version": "1.5.0",
          "state": {
            "_model_module": "@jupyter-widgets/controls",
            "_model_module_version": "1.5.0",
            "_model_name": "DescriptionStyleModel",
            "_view_count": null,
            "_view_module": "@jupyter-widgets/base",
            "_view_module_version": "1.2.0",
            "_view_name": "StyleView",
            "description_width": ""
          }
        },
        "e6ca0320d5934889b7d892c8dee793f9": {
          "model_module": "@jupyter-widgets/base",
          "model_name": "LayoutModel",
          "model_module_version": "1.2.0",
          "state": {
            "_model_module": "@jupyter-widgets/base",
            "_model_module_version": "1.2.0",
            "_model_name": "LayoutModel",
            "_view_count": null,
            "_view_module": "@jupyter-widgets/base",
            "_view_module_version": "1.2.0",
            "_view_name": "LayoutView",
            "align_content": null,
            "align_items": null,
            "align_self": null,
            "border": null,
            "bottom": null,
            "display": null,
            "flex": null,
            "flex_flow": null,
            "grid_area": null,
            "grid_auto_columns": null,
            "grid_auto_flow": null,
            "grid_auto_rows": null,
            "grid_column": null,
            "grid_gap": null,
            "grid_row": null,
            "grid_template_areas": null,
            "grid_template_columns": null,
            "grid_template_rows": null,
            "height": null,
            "justify_content": null,
            "justify_items": null,
            "left": null,
            "margin": null,
            "max_height": null,
            "max_width": null,
            "min_height": null,
            "min_width": null,
            "object_fit": null,
            "object_position": null,
            "order": null,
            "overflow": null,
            "overflow_x": null,
            "overflow_y": null,
            "padding": null,
            "right": null,
            "top": null,
            "visibility": null,
            "width": null
          }
        },
        "03ecfc202465488694e965a5faae192c": {
          "model_module": "@jupyter-widgets/controls",
          "model_name": "ProgressStyleModel",
          "model_module_version": "1.5.0",
          "state": {
            "_model_module": "@jupyter-widgets/controls",
            "_model_module_version": "1.5.0",
            "_model_name": "ProgressStyleModel",
            "_view_count": null,
            "_view_module": "@jupyter-widgets/base",
            "_view_module_version": "1.2.0",
            "_view_name": "StyleView",
            "bar_color": null,
            "description_width": ""
          }
        },
        "3387cb2d0bd24b89a03364abac910894": {
          "model_module": "@jupyter-widgets/base",
          "model_name": "LayoutModel",
          "model_module_version": "1.2.0",
          "state": {
            "_model_module": "@jupyter-widgets/base",
            "_model_module_version": "1.2.0",
            "_model_name": "LayoutModel",
            "_view_count": null,
            "_view_module": "@jupyter-widgets/base",
            "_view_module_version": "1.2.0",
            "_view_name": "LayoutView",
            "align_content": null,
            "align_items": null,
            "align_self": null,
            "border": null,
            "bottom": null,
            "display": null,
            "flex": null,
            "flex_flow": null,
            "grid_area": null,
            "grid_auto_columns": null,
            "grid_auto_flow": null,
            "grid_auto_rows": null,
            "grid_column": null,
            "grid_gap": null,
            "grid_row": null,
            "grid_template_areas": null,
            "grid_template_columns": null,
            "grid_template_rows": null,
            "height": null,
            "justify_content": null,
            "justify_items": null,
            "left": null,
            "margin": null,
            "max_height": null,
            "max_width": null,
            "min_height": null,
            "min_width": null,
            "object_fit": null,
            "object_position": null,
            "order": null,
            "overflow": null,
            "overflow_x": null,
            "overflow_y": null,
            "padding": null,
            "right": null,
            "top": null,
            "visibility": null,
            "width": null
          }
        },
        "24e48b4de1a641d683f361ce3c8483c0": {
          "model_module": "@jupyter-widgets/controls",
          "model_name": "DescriptionStyleModel",
          "model_module_version": "1.5.0",
          "state": {
            "_model_module": "@jupyter-widgets/controls",
            "_model_module_version": "1.5.0",
            "_model_name": "DescriptionStyleModel",
            "_view_count": null,
            "_view_module": "@jupyter-widgets/base",
            "_view_module_version": "1.2.0",
            "_view_name": "StyleView",
            "description_width": ""
          }
        },
        "6f7ca6cbda20419e9bd2bd95f107625b": {
          "model_module": "@jupyter-widgets/controls",
          "model_name": "HBoxModel",
          "model_module_version": "1.5.0",
          "state": {
            "_dom_classes": [],
            "_model_module": "@jupyter-widgets/controls",
            "_model_module_version": "1.5.0",
            "_model_name": "HBoxModel",
            "_view_count": null,
            "_view_module": "@jupyter-widgets/controls",
            "_view_module_version": "1.5.0",
            "_view_name": "HBoxView",
            "box_style": "",
            "children": [
              "IPY_MODEL_fb625e34a00849089c4f1c75a74c349c",
              "IPY_MODEL_b69eb6ede2814ecab865dc33464516a8",
              "IPY_MODEL_fc169eb5250a4d72a7a1096bdb2fc616"
            ],
            "layout": "IPY_MODEL_67d5e07e68414ea29a9971e5f91005c4"
          }
        },
        "fb625e34a00849089c4f1c75a74c349c": {
          "model_module": "@jupyter-widgets/controls",
          "model_name": "HTMLModel",
          "model_module_version": "1.5.0",
          "state": {
            "_dom_classes": [],
            "_model_module": "@jupyter-widgets/controls",
            "_model_module_version": "1.5.0",
            "_model_name": "HTMLModel",
            "_view_count": null,
            "_view_module": "@jupyter-widgets/controls",
            "_view_module_version": "1.5.0",
            "_view_name": "HTMLView",
            "description": "",
            "description_tooltip": null,
            "layout": "IPY_MODEL_5e76832fa28a4288afc16a6470b852d7",
            "placeholder": "​",
            "style": "IPY_MODEL_a974c65ed99d4f07bbf04090623e898d",
            "value": "Extracting data files #0: 100%"
          }
        },
        "b69eb6ede2814ecab865dc33464516a8": {
          "model_module": "@jupyter-widgets/controls",
          "model_name": "FloatProgressModel",
          "model_module_version": "1.5.0",
          "state": {
            "_dom_classes": [],
            "_model_module": "@jupyter-widgets/controls",
            "_model_module_version": "1.5.0",
            "_model_name": "FloatProgressModel",
            "_view_count": null,
            "_view_module": "@jupyter-widgets/controls",
            "_view_module_version": "1.5.0",
            "_view_name": "ProgressView",
            "bar_style": "success",
            "description": "",
            "description_tooltip": null,
            "layout": "IPY_MODEL_d735a2cadbd942298fed4e89ef536a21",
            "max": 1,
            "min": 0,
            "orientation": "horizontal",
            "style": "IPY_MODEL_88a6c4171f1341fbbfabab2117a3c999",
            "value": 1
          }
        },
        "fc169eb5250a4d72a7a1096bdb2fc616": {
          "model_module": "@jupyter-widgets/controls",
          "model_name": "HTMLModel",
          "model_module_version": "1.5.0",
          "state": {
            "_dom_classes": [],
            "_model_module": "@jupyter-widgets/controls",
            "_model_module_version": "1.5.0",
            "_model_name": "HTMLModel",
            "_view_count": null,
            "_view_module": "@jupyter-widgets/controls",
            "_view_module_version": "1.5.0",
            "_view_name": "HTMLView",
            "description": "",
            "description_tooltip": null,
            "layout": "IPY_MODEL_7739ed888ee5447bac4015bede947aeb",
            "placeholder": "​",
            "style": "IPY_MODEL_b39324e6306d470ea5230f4e97b0d211",
            "value": " 1/1 [00:00&lt;00:00,  4.30obj/s]"
          }
        },
        "67d5e07e68414ea29a9971e5f91005c4": {
          "model_module": "@jupyter-widgets/base",
          "model_name": "LayoutModel",
          "model_module_version": "1.2.0",
          "state": {
            "_model_module": "@jupyter-widgets/base",
            "_model_module_version": "1.2.0",
            "_model_name": "LayoutModel",
            "_view_count": null,
            "_view_module": "@jupyter-widgets/base",
            "_view_module_version": "1.2.0",
            "_view_name": "LayoutView",
            "align_content": null,
            "align_items": null,
            "align_self": null,
            "border": null,
            "bottom": null,
            "display": null,
            "flex": null,
            "flex_flow": null,
            "grid_area": null,
            "grid_auto_columns": null,
            "grid_auto_flow": null,
            "grid_auto_rows": null,
            "grid_column": null,
            "grid_gap": null,
            "grid_row": null,
            "grid_template_areas": null,
            "grid_template_columns": null,
            "grid_template_rows": null,
            "height": null,
            "justify_content": null,
            "justify_items": null,
            "left": null,
            "margin": null,
            "max_height": null,
            "max_width": null,
            "min_height": null,
            "min_width": null,
            "object_fit": null,
            "object_position": null,
            "order": null,
            "overflow": null,
            "overflow_x": null,
            "overflow_y": null,
            "padding": null,
            "right": null,
            "top": null,
            "visibility": null,
            "width": null
          }
        },
        "5e76832fa28a4288afc16a6470b852d7": {
          "model_module": "@jupyter-widgets/base",
          "model_name": "LayoutModel",
          "model_module_version": "1.2.0",
          "state": {
            "_model_module": "@jupyter-widgets/base",
            "_model_module_version": "1.2.0",
            "_model_name": "LayoutModel",
            "_view_count": null,
            "_view_module": "@jupyter-widgets/base",
            "_view_module_version": "1.2.0",
            "_view_name": "LayoutView",
            "align_content": null,
            "align_items": null,
            "align_self": null,
            "border": null,
            "bottom": null,
            "display": null,
            "flex": null,
            "flex_flow": null,
            "grid_area": null,
            "grid_auto_columns": null,
            "grid_auto_flow": null,
            "grid_auto_rows": null,
            "grid_column": null,
            "grid_gap": null,
            "grid_row": null,
            "grid_template_areas": null,
            "grid_template_columns": null,
            "grid_template_rows": null,
            "height": null,
            "justify_content": null,
            "justify_items": null,
            "left": null,
            "margin": null,
            "max_height": null,
            "max_width": null,
            "min_height": null,
            "min_width": null,
            "object_fit": null,
            "object_position": null,
            "order": null,
            "overflow": null,
            "overflow_x": null,
            "overflow_y": null,
            "padding": null,
            "right": null,
            "top": null,
            "visibility": null,
            "width": null
          }
        },
        "a974c65ed99d4f07bbf04090623e898d": {
          "model_module": "@jupyter-widgets/controls",
          "model_name": "DescriptionStyleModel",
          "model_module_version": "1.5.0",
          "state": {
            "_model_module": "@jupyter-widgets/controls",
            "_model_module_version": "1.5.0",
            "_model_name": "DescriptionStyleModel",
            "_view_count": null,
            "_view_module": "@jupyter-widgets/base",
            "_view_module_version": "1.2.0",
            "_view_name": "StyleView",
            "description_width": ""
          }
        },
        "d735a2cadbd942298fed4e89ef536a21": {
          "model_module": "@jupyter-widgets/base",
          "model_name": "LayoutModel",
          "model_module_version": "1.2.0",
          "state": {
            "_model_module": "@jupyter-widgets/base",
            "_model_module_version": "1.2.0",
            "_model_name": "LayoutModel",
            "_view_count": null,
            "_view_module": "@jupyter-widgets/base",
            "_view_module_version": "1.2.0",
            "_view_name": "LayoutView",
            "align_content": null,
            "align_items": null,
            "align_self": null,
            "border": null,
            "bottom": null,
            "display": null,
            "flex": null,
            "flex_flow": null,
            "grid_area": null,
            "grid_auto_columns": null,
            "grid_auto_flow": null,
            "grid_auto_rows": null,
            "grid_column": null,
            "grid_gap": null,
            "grid_row": null,
            "grid_template_areas": null,
            "grid_template_columns": null,
            "grid_template_rows": null,
            "height": null,
            "justify_content": null,
            "justify_items": null,
            "left": null,
            "margin": null,
            "max_height": null,
            "max_width": null,
            "min_height": null,
            "min_width": null,
            "object_fit": null,
            "object_position": null,
            "order": null,
            "overflow": null,
            "overflow_x": null,
            "overflow_y": null,
            "padding": null,
            "right": null,
            "top": null,
            "visibility": null,
            "width": null
          }
        },
        "88a6c4171f1341fbbfabab2117a3c999": {
          "model_module": "@jupyter-widgets/controls",
          "model_name": "ProgressStyleModel",
          "model_module_version": "1.5.0",
          "state": {
            "_model_module": "@jupyter-widgets/controls",
            "_model_module_version": "1.5.0",
            "_model_name": "ProgressStyleModel",
            "_view_count": null,
            "_view_module": "@jupyter-widgets/base",
            "_view_module_version": "1.2.0",
            "_view_name": "StyleView",
            "bar_color": null,
            "description_width": ""
          }
        },
        "7739ed888ee5447bac4015bede947aeb": {
          "model_module": "@jupyter-widgets/base",
          "model_name": "LayoutModel",
          "model_module_version": "1.2.0",
          "state": {
            "_model_module": "@jupyter-widgets/base",
            "_model_module_version": "1.2.0",
            "_model_name": "LayoutModel",
            "_view_count": null,
            "_view_module": "@jupyter-widgets/base",
            "_view_module_version": "1.2.0",
            "_view_name": "LayoutView",
            "align_content": null,
            "align_items": null,
            "align_self": null,
            "border": null,
            "bottom": null,
            "display": null,
            "flex": null,
            "flex_flow": null,
            "grid_area": null,
            "grid_auto_columns": null,
            "grid_auto_flow": null,
            "grid_auto_rows": null,
            "grid_column": null,
            "grid_gap": null,
            "grid_row": null,
            "grid_template_areas": null,
            "grid_template_columns": null,
            "grid_template_rows": null,
            "height": null,
            "justify_content": null,
            "justify_items": null,
            "left": null,
            "margin": null,
            "max_height": null,
            "max_width": null,
            "min_height": null,
            "min_width": null,
            "object_fit": null,
            "object_position": null,
            "order": null,
            "overflow": null,
            "overflow_x": null,
            "overflow_y": null,
            "padding": null,
            "right": null,
            "top": null,
            "visibility": null,
            "width": null
          }
        },
        "b39324e6306d470ea5230f4e97b0d211": {
          "model_module": "@jupyter-widgets/controls",
          "model_name": "DescriptionStyleModel",
          "model_module_version": "1.5.0",
          "state": {
            "_model_module": "@jupyter-widgets/controls",
            "_model_module_version": "1.5.0",
            "_model_name": "DescriptionStyleModel",
            "_view_count": null,
            "_view_module": "@jupyter-widgets/base",
            "_view_module_version": "1.2.0",
            "_view_name": "StyleView",
            "description_width": ""
          }
        },
        "eba9ea4fcb7c4a7f91d0f94e5fa030b6": {
          "model_module": "@jupyter-widgets/controls",
          "model_name": "HBoxModel",
          "model_module_version": "1.5.0",
          "state": {
            "_dom_classes": [],
            "_model_module": "@jupyter-widgets/controls",
            "_model_module_version": "1.5.0",
            "_model_name": "HBoxModel",
            "_view_count": null,
            "_view_module": "@jupyter-widgets/controls",
            "_view_module_version": "1.5.0",
            "_view_name": "HBoxView",
            "box_style": "",
            "children": [
              "IPY_MODEL_2a6716ee138f4fc38624feeccfc94761",
              "IPY_MODEL_b93833c598b94d31a7baa5bd47235658",
              "IPY_MODEL_9b6dd2d30f4a487eb01033a8fc72a301"
            ],
            "layout": "IPY_MODEL_069211fb23fc4ee2a0543b45f167d507"
          }
        },
        "2a6716ee138f4fc38624feeccfc94761": {
          "model_module": "@jupyter-widgets/controls",
          "model_name": "HTMLModel",
          "model_module_version": "1.5.0",
          "state": {
            "_dom_classes": [],
            "_model_module": "@jupyter-widgets/controls",
            "_model_module_version": "1.5.0",
            "_model_name": "HTMLModel",
            "_view_count": null,
            "_view_module": "@jupyter-widgets/controls",
            "_view_module_version": "1.5.0",
            "_view_name": "HTMLView",
            "description": "",
            "description_tooltip": null,
            "layout": "IPY_MODEL_d76fb02419e3486b82d73fbdfa4c6e2f",
            "placeholder": "​",
            "style": "IPY_MODEL_82e20f0e18c2469f9776962ada2ef628",
            "value": "Generating train split: 100%"
          }
        },
        "b93833c598b94d31a7baa5bd47235658": {
          "model_module": "@jupyter-widgets/controls",
          "model_name": "FloatProgressModel",
          "model_module_version": "1.5.0",
          "state": {
            "_dom_classes": [],
            "_model_module": "@jupyter-widgets/controls",
            "_model_module_version": "1.5.0",
            "_model_name": "FloatProgressModel",
            "_view_count": null,
            "_view_module": "@jupyter-widgets/controls",
            "_view_module_version": "1.5.0",
            "_view_name": "ProgressView",
            "bar_style": "",
            "description": "",
            "description_tooltip": null,
            "layout": "IPY_MODEL_e43bf072c96747418d8883f22a33bd28",
            "max": 150000,
            "min": 0,
            "orientation": "horizontal",
            "style": "IPY_MODEL_d7a1cc90df5b4d338748f167d28b3a87",
            "value": 150000
          }
        },
        "9b6dd2d30f4a487eb01033a8fc72a301": {
          "model_module": "@jupyter-widgets/controls",
          "model_name": "HTMLModel",
          "model_module_version": "1.5.0",
          "state": {
            "_dom_classes": [],
            "_model_module": "@jupyter-widgets/controls",
            "_model_module_version": "1.5.0",
            "_model_name": "HTMLModel",
            "_view_count": null,
            "_view_module": "@jupyter-widgets/controls",
            "_view_module_version": "1.5.0",
            "_view_name": "HTMLView",
            "description": "",
            "description_tooltip": null,
            "layout": "IPY_MODEL_1d77ce1d45b64558b1bedb6b539c3ba5",
            "placeholder": "​",
            "style": "IPY_MODEL_ad3151cbadf042029040777a49175a98",
            "value": " 150000/150000 [00:18&lt;00:00, 25891.78 examples/s]"
          }
        },
        "069211fb23fc4ee2a0543b45f167d507": {
          "model_module": "@jupyter-widgets/base",
          "model_name": "LayoutModel",
          "model_module_version": "1.2.0",
          "state": {
            "_model_module": "@jupyter-widgets/base",
            "_model_module_version": "1.2.0",
            "_model_name": "LayoutModel",
            "_view_count": null,
            "_view_module": "@jupyter-widgets/base",
            "_view_module_version": "1.2.0",
            "_view_name": "LayoutView",
            "align_content": null,
            "align_items": null,
            "align_self": null,
            "border": null,
            "bottom": null,
            "display": null,
            "flex": null,
            "flex_flow": null,
            "grid_area": null,
            "grid_auto_columns": null,
            "grid_auto_flow": null,
            "grid_auto_rows": null,
            "grid_column": null,
            "grid_gap": null,
            "grid_row": null,
            "grid_template_areas": null,
            "grid_template_columns": null,
            "grid_template_rows": null,
            "height": null,
            "justify_content": null,
            "justify_items": null,
            "left": null,
            "margin": null,
            "max_height": null,
            "max_width": null,
            "min_height": null,
            "min_width": null,
            "object_fit": null,
            "object_position": null,
            "order": null,
            "overflow": null,
            "overflow_x": null,
            "overflow_y": null,
            "padding": null,
            "right": null,
            "top": null,
            "visibility": "hidden",
            "width": null
          }
        },
        "d76fb02419e3486b82d73fbdfa4c6e2f": {
          "model_module": "@jupyter-widgets/base",
          "model_name": "LayoutModel",
          "model_module_version": "1.2.0",
          "state": {
            "_model_module": "@jupyter-widgets/base",
            "_model_module_version": "1.2.0",
            "_model_name": "LayoutModel",
            "_view_count": null,
            "_view_module": "@jupyter-widgets/base",
            "_view_module_version": "1.2.0",
            "_view_name": "LayoutView",
            "align_content": null,
            "align_items": null,
            "align_self": null,
            "border": null,
            "bottom": null,
            "display": null,
            "flex": null,
            "flex_flow": null,
            "grid_area": null,
            "grid_auto_columns": null,
            "grid_auto_flow": null,
            "grid_auto_rows": null,
            "grid_column": null,
            "grid_gap": null,
            "grid_row": null,
            "grid_template_areas": null,
            "grid_template_columns": null,
            "grid_template_rows": null,
            "height": null,
            "justify_content": null,
            "justify_items": null,
            "left": null,
            "margin": null,
            "max_height": null,
            "max_width": null,
            "min_height": null,
            "min_width": null,
            "object_fit": null,
            "object_position": null,
            "order": null,
            "overflow": null,
            "overflow_x": null,
            "overflow_y": null,
            "padding": null,
            "right": null,
            "top": null,
            "visibility": null,
            "width": null
          }
        },
        "82e20f0e18c2469f9776962ada2ef628": {
          "model_module": "@jupyter-widgets/controls",
          "model_name": "DescriptionStyleModel",
          "model_module_version": "1.5.0",
          "state": {
            "_model_module": "@jupyter-widgets/controls",
            "_model_module_version": "1.5.0",
            "_model_name": "DescriptionStyleModel",
            "_view_count": null,
            "_view_module": "@jupyter-widgets/base",
            "_view_module_version": "1.2.0",
            "_view_name": "StyleView",
            "description_width": ""
          }
        },
        "e43bf072c96747418d8883f22a33bd28": {
          "model_module": "@jupyter-widgets/base",
          "model_name": "LayoutModel",
          "model_module_version": "1.2.0",
          "state": {
            "_model_module": "@jupyter-widgets/base",
            "_model_module_version": "1.2.0",
            "_model_name": "LayoutModel",
            "_view_count": null,
            "_view_module": "@jupyter-widgets/base",
            "_view_module_version": "1.2.0",
            "_view_name": "LayoutView",
            "align_content": null,
            "align_items": null,
            "align_self": null,
            "border": null,
            "bottom": null,
            "display": null,
            "flex": null,
            "flex_flow": null,
            "grid_area": null,
            "grid_auto_columns": null,
            "grid_auto_flow": null,
            "grid_auto_rows": null,
            "grid_column": null,
            "grid_gap": null,
            "grid_row": null,
            "grid_template_areas": null,
            "grid_template_columns": null,
            "grid_template_rows": null,
            "height": null,
            "justify_content": null,
            "justify_items": null,
            "left": null,
            "margin": null,
            "max_height": null,
            "max_width": null,
            "min_height": null,
            "min_width": null,
            "object_fit": null,
            "object_position": null,
            "order": null,
            "overflow": null,
            "overflow_x": null,
            "overflow_y": null,
            "padding": null,
            "right": null,
            "top": null,
            "visibility": null,
            "width": null
          }
        },
        "d7a1cc90df5b4d338748f167d28b3a87": {
          "model_module": "@jupyter-widgets/controls",
          "model_name": "ProgressStyleModel",
          "model_module_version": "1.5.0",
          "state": {
            "_model_module": "@jupyter-widgets/controls",
            "_model_module_version": "1.5.0",
            "_model_name": "ProgressStyleModel",
            "_view_count": null,
            "_view_module": "@jupyter-widgets/base",
            "_view_module_version": "1.2.0",
            "_view_name": "StyleView",
            "bar_color": null,
            "description_width": ""
          }
        },
        "1d77ce1d45b64558b1bedb6b539c3ba5": {
          "model_module": "@jupyter-widgets/base",
          "model_name": "LayoutModel",
          "model_module_version": "1.2.0",
          "state": {
            "_model_module": "@jupyter-widgets/base",
            "_model_module_version": "1.2.0",
            "_model_name": "LayoutModel",
            "_view_count": null,
            "_view_module": "@jupyter-widgets/base",
            "_view_module_version": "1.2.0",
            "_view_name": "LayoutView",
            "align_content": null,
            "align_items": null,
            "align_self": null,
            "border": null,
            "bottom": null,
            "display": null,
            "flex": null,
            "flex_flow": null,
            "grid_area": null,
            "grid_auto_columns": null,
            "grid_auto_flow": null,
            "grid_auto_rows": null,
            "grid_column": null,
            "grid_gap": null,
            "grid_row": null,
            "grid_template_areas": null,
            "grid_template_columns": null,
            "grid_template_rows": null,
            "height": null,
            "justify_content": null,
            "justify_items": null,
            "left": null,
            "margin": null,
            "max_height": null,
            "max_width": null,
            "min_height": null,
            "min_width": null,
            "object_fit": null,
            "object_position": null,
            "order": null,
            "overflow": null,
            "overflow_x": null,
            "overflow_y": null,
            "padding": null,
            "right": null,
            "top": null,
            "visibility": null,
            "width": null
          }
        },
        "ad3151cbadf042029040777a49175a98": {
          "model_module": "@jupyter-widgets/controls",
          "model_name": "DescriptionStyleModel",
          "model_module_version": "1.5.0",
          "state": {
            "_model_module": "@jupyter-widgets/controls",
            "_model_module_version": "1.5.0",
            "_model_name": "DescriptionStyleModel",
            "_view_count": null,
            "_view_module": "@jupyter-widgets/base",
            "_view_module_version": "1.2.0",
            "_view_name": "StyleView",
            "description_width": ""
          }
        },
        "49dbc92b633744969db1b5caa48942f8": {
          "model_module": "@jupyter-widgets/controls",
          "model_name": "HBoxModel",
          "model_module_version": "1.5.0",
          "state": {
            "_dom_classes": [],
            "_model_module": "@jupyter-widgets/controls",
            "_model_module_version": "1.5.0",
            "_model_name": "HBoxModel",
            "_view_count": null,
            "_view_module": "@jupyter-widgets/controls",
            "_view_module_version": "1.5.0",
            "_view_name": "HBoxView",
            "box_style": "",
            "children": [
              "IPY_MODEL_9931dcd2ed9547329727cf3f6a9bcb5b",
              "IPY_MODEL_4f25588772ac4773b688852cf0b19285",
              "IPY_MODEL_7a0c9438fab041079a02c63051b40ee3"
            ],
            "layout": "IPY_MODEL_b39876448a57479ebffc49ccaaacb81b"
          }
        },
        "9931dcd2ed9547329727cf3f6a9bcb5b": {
          "model_module": "@jupyter-widgets/controls",
          "model_name": "HTMLModel",
          "model_module_version": "1.5.0",
          "state": {
            "_dom_classes": [],
            "_model_module": "@jupyter-widgets/controls",
            "_model_module_version": "1.5.0",
            "_model_name": "HTMLModel",
            "_view_count": null,
            "_view_module": "@jupyter-widgets/controls",
            "_view_module_version": "1.5.0",
            "_view_name": "HTMLView",
            "description": "",
            "description_tooltip": null,
            "layout": "IPY_MODEL_a2eff5e203284e98a64e1eef440af340",
            "placeholder": "​",
            "style": "IPY_MODEL_a63ca242159f4a2b83b9f342953c11e2",
            "value": "Generating test split: 100%"
          }
        },
        "4f25588772ac4773b688852cf0b19285": {
          "model_module": "@jupyter-widgets/controls",
          "model_name": "FloatProgressModel",
          "model_module_version": "1.5.0",
          "state": {
            "_dom_classes": [],
            "_model_module": "@jupyter-widgets/controls",
            "_model_module_version": "1.5.0",
            "_model_name": "FloatProgressModel",
            "_view_count": null,
            "_view_module": "@jupyter-widgets/controls",
            "_view_module_version": "1.5.0",
            "_view_name": "ProgressView",
            "bar_style": "",
            "description": "",
            "description_tooltip": null,
            "layout": "IPY_MODEL_9f5e99e7e1e5452592ea4e19f7cecf1b",
            "max": 50000,
            "min": 0,
            "orientation": "horizontal",
            "style": "IPY_MODEL_7cca14f9e56b4556a0fbe7d0a8e698f1",
            "value": 50000
          }
        },
        "7a0c9438fab041079a02c63051b40ee3": {
          "model_module": "@jupyter-widgets/controls",
          "model_name": "HTMLModel",
          "model_module_version": "1.5.0",
          "state": {
            "_dom_classes": [],
            "_model_module": "@jupyter-widgets/controls",
            "_model_module_version": "1.5.0",
            "_model_name": "HTMLModel",
            "_view_count": null,
            "_view_module": "@jupyter-widgets/controls",
            "_view_module_version": "1.5.0",
            "_view_name": "HTMLView",
            "description": "",
            "description_tooltip": null,
            "layout": "IPY_MODEL_c2cab8600ce645059420a6f774020f07",
            "placeholder": "​",
            "style": "IPY_MODEL_1a14060982a345e4874fc365bd1f52c1",
            "value": " 50000/50000 [00:20&lt;00:00, 26217.29 examples/s]"
          }
        },
        "b39876448a57479ebffc49ccaaacb81b": {
          "model_module": "@jupyter-widgets/base",
          "model_name": "LayoutModel",
          "model_module_version": "1.2.0",
          "state": {
            "_model_module": "@jupyter-widgets/base",
            "_model_module_version": "1.2.0",
            "_model_name": "LayoutModel",
            "_view_count": null,
            "_view_module": "@jupyter-widgets/base",
            "_view_module_version": "1.2.0",
            "_view_name": "LayoutView",
            "align_content": null,
            "align_items": null,
            "align_self": null,
            "border": null,
            "bottom": null,
            "display": null,
            "flex": null,
            "flex_flow": null,
            "grid_area": null,
            "grid_auto_columns": null,
            "grid_auto_flow": null,
            "grid_auto_rows": null,
            "grid_column": null,
            "grid_gap": null,
            "grid_row": null,
            "grid_template_areas": null,
            "grid_template_columns": null,
            "grid_template_rows": null,
            "height": null,
            "justify_content": null,
            "justify_items": null,
            "left": null,
            "margin": null,
            "max_height": null,
            "max_width": null,
            "min_height": null,
            "min_width": null,
            "object_fit": null,
            "object_position": null,
            "order": null,
            "overflow": null,
            "overflow_x": null,
            "overflow_y": null,
            "padding": null,
            "right": null,
            "top": null,
            "visibility": "hidden",
            "width": null
          }
        },
        "a2eff5e203284e98a64e1eef440af340": {
          "model_module": "@jupyter-widgets/base",
          "model_name": "LayoutModel",
          "model_module_version": "1.2.0",
          "state": {
            "_model_module": "@jupyter-widgets/base",
            "_model_module_version": "1.2.0",
            "_model_name": "LayoutModel",
            "_view_count": null,
            "_view_module": "@jupyter-widgets/base",
            "_view_module_version": "1.2.0",
            "_view_name": "LayoutView",
            "align_content": null,
            "align_items": null,
            "align_self": null,
            "border": null,
            "bottom": null,
            "display": null,
            "flex": null,
            "flex_flow": null,
            "grid_area": null,
            "grid_auto_columns": null,
            "grid_auto_flow": null,
            "grid_auto_rows": null,
            "grid_column": null,
            "grid_gap": null,
            "grid_row": null,
            "grid_template_areas": null,
            "grid_template_columns": null,
            "grid_template_rows": null,
            "height": null,
            "justify_content": null,
            "justify_items": null,
            "left": null,
            "margin": null,
            "max_height": null,
            "max_width": null,
            "min_height": null,
            "min_width": null,
            "object_fit": null,
            "object_position": null,
            "order": null,
            "overflow": null,
            "overflow_x": null,
            "overflow_y": null,
            "padding": null,
            "right": null,
            "top": null,
            "visibility": null,
            "width": null
          }
        },
        "a63ca242159f4a2b83b9f342953c11e2": {
          "model_module": "@jupyter-widgets/controls",
          "model_name": "DescriptionStyleModel",
          "model_module_version": "1.5.0",
          "state": {
            "_model_module": "@jupyter-widgets/controls",
            "_model_module_version": "1.5.0",
            "_model_name": "DescriptionStyleModel",
            "_view_count": null,
            "_view_module": "@jupyter-widgets/base",
            "_view_module_version": "1.2.0",
            "_view_name": "StyleView",
            "description_width": ""
          }
        },
        "9f5e99e7e1e5452592ea4e19f7cecf1b": {
          "model_module": "@jupyter-widgets/base",
          "model_name": "LayoutModel",
          "model_module_version": "1.2.0",
          "state": {
            "_model_module": "@jupyter-widgets/base",
            "_model_module_version": "1.2.0",
            "_model_name": "LayoutModel",
            "_view_count": null,
            "_view_module": "@jupyter-widgets/base",
            "_view_module_version": "1.2.0",
            "_view_name": "LayoutView",
            "align_content": null,
            "align_items": null,
            "align_self": null,
            "border": null,
            "bottom": null,
            "display": null,
            "flex": null,
            "flex_flow": null,
            "grid_area": null,
            "grid_auto_columns": null,
            "grid_auto_flow": null,
            "grid_auto_rows": null,
            "grid_column": null,
            "grid_gap": null,
            "grid_row": null,
            "grid_template_areas": null,
            "grid_template_columns": null,
            "grid_template_rows": null,
            "height": null,
            "justify_content": null,
            "justify_items": null,
            "left": null,
            "margin": null,
            "max_height": null,
            "max_width": null,
            "min_height": null,
            "min_width": null,
            "object_fit": null,
            "object_position": null,
            "order": null,
            "overflow": null,
            "overflow_x": null,
            "overflow_y": null,
            "padding": null,
            "right": null,
            "top": null,
            "visibility": null,
            "width": null
          }
        },
        "7cca14f9e56b4556a0fbe7d0a8e698f1": {
          "model_module": "@jupyter-widgets/controls",
          "model_name": "ProgressStyleModel",
          "model_module_version": "1.5.0",
          "state": {
            "_model_module": "@jupyter-widgets/controls",
            "_model_module_version": "1.5.0",
            "_model_name": "ProgressStyleModel",
            "_view_count": null,
            "_view_module": "@jupyter-widgets/base",
            "_view_module_version": "1.2.0",
            "_view_name": "StyleView",
            "bar_color": null,
            "description_width": ""
          }
        },
        "c2cab8600ce645059420a6f774020f07": {
          "model_module": "@jupyter-widgets/base",
          "model_name": "LayoutModel",
          "model_module_version": "1.2.0",
          "state": {
            "_model_module": "@jupyter-widgets/base",
            "_model_module_version": "1.2.0",
            "_model_name": "LayoutModel",
            "_view_count": null,
            "_view_module": "@jupyter-widgets/base",
            "_view_module_version": "1.2.0",
            "_view_name": "LayoutView",
            "align_content": null,
            "align_items": null,
            "align_self": null,
            "border": null,
            "bottom": null,
            "display": null,
            "flex": null,
            "flex_flow": null,
            "grid_area": null,
            "grid_auto_columns": null,
            "grid_auto_flow": null,
            "grid_auto_rows": null,
            "grid_column": null,
            "grid_gap": null,
            "grid_row": null,
            "grid_template_areas": null,
            "grid_template_columns": null,
            "grid_template_rows": null,
            "height": null,
            "justify_content": null,
            "justify_items": null,
            "left": null,
            "margin": null,
            "max_height": null,
            "max_width": null,
            "min_height": null,
            "min_width": null,
            "object_fit": null,
            "object_position": null,
            "order": null,
            "overflow": null,
            "overflow_x": null,
            "overflow_y": null,
            "padding": null,
            "right": null,
            "top": null,
            "visibility": null,
            "width": null
          }
        },
        "1a14060982a345e4874fc365bd1f52c1": {
          "model_module": "@jupyter-widgets/controls",
          "model_name": "DescriptionStyleModel",
          "model_module_version": "1.5.0",
          "state": {
            "_model_module": "@jupyter-widgets/controls",
            "_model_module_version": "1.5.0",
            "_model_name": "DescriptionStyleModel",
            "_view_count": null,
            "_view_module": "@jupyter-widgets/base",
            "_view_module_version": "1.2.0",
            "_view_name": "StyleView",
            "description_width": ""
          }
        },
        "9252ca586977481fbcbbad30bafeb02b": {
          "model_module": "@jupyter-widgets/controls",
          "model_name": "HBoxModel",
          "model_module_version": "1.5.0",
          "state": {
            "_dom_classes": [],
            "_model_module": "@jupyter-widgets/controls",
            "_model_module_version": "1.5.0",
            "_model_name": "HBoxModel",
            "_view_count": null,
            "_view_module": "@jupyter-widgets/controls",
            "_view_module_version": "1.5.0",
            "_view_name": "HBoxView",
            "box_style": "",
            "children": [
              "IPY_MODEL_dd0d7be60508427f984b4ac306d29a40",
              "IPY_MODEL_5818a3cb68f242adafcf7276e8ede371",
              "IPY_MODEL_6dbae87db0634a498b7f29743ebd5ccc"
            ],
            "layout": "IPY_MODEL_c1d02e7d992546509fc4ea2467c29df5"
          }
        },
        "dd0d7be60508427f984b4ac306d29a40": {
          "model_module": "@jupyter-widgets/controls",
          "model_name": "HTMLModel",
          "model_module_version": "1.5.0",
          "state": {
            "_dom_classes": [],
            "_model_module": "@jupyter-widgets/controls",
            "_model_module_version": "1.5.0",
            "_model_name": "HTMLModel",
            "_view_count": null,
            "_view_module": "@jupyter-widgets/controls",
            "_view_module_version": "1.5.0",
            "_view_name": "HTMLView",
            "description": "",
            "description_tooltip": null,
            "layout": "IPY_MODEL_d0aa3159860f43ad8638692beef2fb71",
            "placeholder": "​",
            "style": "IPY_MODEL_001e6ca80f98487eb231ef20b2ff883e",
            "value": "100%"
          }
        },
        "5818a3cb68f242adafcf7276e8ede371": {
          "model_module": "@jupyter-widgets/controls",
          "model_name": "FloatProgressModel",
          "model_module_version": "1.5.0",
          "state": {
            "_dom_classes": [],
            "_model_module": "@jupyter-widgets/controls",
            "_model_module_version": "1.5.0",
            "_model_name": "FloatProgressModel",
            "_view_count": null,
            "_view_module": "@jupyter-widgets/controls",
            "_view_module_version": "1.5.0",
            "_view_name": "ProgressView",
            "bar_style": "success",
            "description": "",
            "description_tooltip": null,
            "layout": "IPY_MODEL_063c58b2c9314ac98d36afce8f24fa03",
            "max": 2,
            "min": 0,
            "orientation": "horizontal",
            "style": "IPY_MODEL_093146f50cb3492eb97825ff0cad69c2",
            "value": 2
          }
        },
        "6dbae87db0634a498b7f29743ebd5ccc": {
          "model_module": "@jupyter-widgets/controls",
          "model_name": "HTMLModel",
          "model_module_version": "1.5.0",
          "state": {
            "_dom_classes": [],
            "_model_module": "@jupyter-widgets/controls",
            "_model_module_version": "1.5.0",
            "_model_name": "HTMLModel",
            "_view_count": null,
            "_view_module": "@jupyter-widgets/controls",
            "_view_module_version": "1.5.0",
            "_view_name": "HTMLView",
            "description": "",
            "description_tooltip": null,
            "layout": "IPY_MODEL_df3625e48c0c477aabcfd66030bd9660",
            "placeholder": "​",
            "style": "IPY_MODEL_cb0cd12bfbe549388057b392f4f2e118",
            "value": " 2/2 [00:00&lt;00:00, 33.00it/s]"
          }
        },
        "c1d02e7d992546509fc4ea2467c29df5": {
          "model_module": "@jupyter-widgets/base",
          "model_name": "LayoutModel",
          "model_module_version": "1.2.0",
          "state": {
            "_model_module": "@jupyter-widgets/base",
            "_model_module_version": "1.2.0",
            "_model_name": "LayoutModel",
            "_view_count": null,
            "_view_module": "@jupyter-widgets/base",
            "_view_module_version": "1.2.0",
            "_view_name": "LayoutView",
            "align_content": null,
            "align_items": null,
            "align_self": null,
            "border": null,
            "bottom": null,
            "display": null,
            "flex": null,
            "flex_flow": null,
            "grid_area": null,
            "grid_auto_columns": null,
            "grid_auto_flow": null,
            "grid_auto_rows": null,
            "grid_column": null,
            "grid_gap": null,
            "grid_row": null,
            "grid_template_areas": null,
            "grid_template_columns": null,
            "grid_template_rows": null,
            "height": null,
            "justify_content": null,
            "justify_items": null,
            "left": null,
            "margin": null,
            "max_height": null,
            "max_width": null,
            "min_height": null,
            "min_width": null,
            "object_fit": null,
            "object_position": null,
            "order": null,
            "overflow": null,
            "overflow_x": null,
            "overflow_y": null,
            "padding": null,
            "right": null,
            "top": null,
            "visibility": null,
            "width": null
          }
        },
        "d0aa3159860f43ad8638692beef2fb71": {
          "model_module": "@jupyter-widgets/base",
          "model_name": "LayoutModel",
          "model_module_version": "1.2.0",
          "state": {
            "_model_module": "@jupyter-widgets/base",
            "_model_module_version": "1.2.0",
            "_model_name": "LayoutModel",
            "_view_count": null,
            "_view_module": "@jupyter-widgets/base",
            "_view_module_version": "1.2.0",
            "_view_name": "LayoutView",
            "align_content": null,
            "align_items": null,
            "align_self": null,
            "border": null,
            "bottom": null,
            "display": null,
            "flex": null,
            "flex_flow": null,
            "grid_area": null,
            "grid_auto_columns": null,
            "grid_auto_flow": null,
            "grid_auto_rows": null,
            "grid_column": null,
            "grid_gap": null,
            "grid_row": null,
            "grid_template_areas": null,
            "grid_template_columns": null,
            "grid_template_rows": null,
            "height": null,
            "justify_content": null,
            "justify_items": null,
            "left": null,
            "margin": null,
            "max_height": null,
            "max_width": null,
            "min_height": null,
            "min_width": null,
            "object_fit": null,
            "object_position": null,
            "order": null,
            "overflow": null,
            "overflow_x": null,
            "overflow_y": null,
            "padding": null,
            "right": null,
            "top": null,
            "visibility": null,
            "width": null
          }
        },
        "001e6ca80f98487eb231ef20b2ff883e": {
          "model_module": "@jupyter-widgets/controls",
          "model_name": "DescriptionStyleModel",
          "model_module_version": "1.5.0",
          "state": {
            "_model_module": "@jupyter-widgets/controls",
            "_model_module_version": "1.5.0",
            "_model_name": "DescriptionStyleModel",
            "_view_count": null,
            "_view_module": "@jupyter-widgets/base",
            "_view_module_version": "1.2.0",
            "_view_name": "StyleView",
            "description_width": ""
          }
        },
        "063c58b2c9314ac98d36afce8f24fa03": {
          "model_module": "@jupyter-widgets/base",
          "model_name": "LayoutModel",
          "model_module_version": "1.2.0",
          "state": {
            "_model_module": "@jupyter-widgets/base",
            "_model_module_version": "1.2.0",
            "_model_name": "LayoutModel",
            "_view_count": null,
            "_view_module": "@jupyter-widgets/base",
            "_view_module_version": "1.2.0",
            "_view_name": "LayoutView",
            "align_content": null,
            "align_items": null,
            "align_self": null,
            "border": null,
            "bottom": null,
            "display": null,
            "flex": null,
            "flex_flow": null,
            "grid_area": null,
            "grid_auto_columns": null,
            "grid_auto_flow": null,
            "grid_auto_rows": null,
            "grid_column": null,
            "grid_gap": null,
            "grid_row": null,
            "grid_template_areas": null,
            "grid_template_columns": null,
            "grid_template_rows": null,
            "height": null,
            "justify_content": null,
            "justify_items": null,
            "left": null,
            "margin": null,
            "max_height": null,
            "max_width": null,
            "min_height": null,
            "min_width": null,
            "object_fit": null,
            "object_position": null,
            "order": null,
            "overflow": null,
            "overflow_x": null,
            "overflow_y": null,
            "padding": null,
            "right": null,
            "top": null,
            "visibility": null,
            "width": null
          }
        },
        "093146f50cb3492eb97825ff0cad69c2": {
          "model_module": "@jupyter-widgets/controls",
          "model_name": "ProgressStyleModel",
          "model_module_version": "1.5.0",
          "state": {
            "_model_module": "@jupyter-widgets/controls",
            "_model_module_version": "1.5.0",
            "_model_name": "ProgressStyleModel",
            "_view_count": null,
            "_view_module": "@jupyter-widgets/base",
            "_view_module_version": "1.2.0",
            "_view_name": "StyleView",
            "bar_color": null,
            "description_width": ""
          }
        },
        "df3625e48c0c477aabcfd66030bd9660": {
          "model_module": "@jupyter-widgets/base",
          "model_name": "LayoutModel",
          "model_module_version": "1.2.0",
          "state": {
            "_model_module": "@jupyter-widgets/base",
            "_model_module_version": "1.2.0",
            "_model_name": "LayoutModel",
            "_view_count": null,
            "_view_module": "@jupyter-widgets/base",
            "_view_module_version": "1.2.0",
            "_view_name": "LayoutView",
            "align_content": null,
            "align_items": null,
            "align_self": null,
            "border": null,
            "bottom": null,
            "display": null,
            "flex": null,
            "flex_flow": null,
            "grid_area": null,
            "grid_auto_columns": null,
            "grid_auto_flow": null,
            "grid_auto_rows": null,
            "grid_column": null,
            "grid_gap": null,
            "grid_row": null,
            "grid_template_areas": null,
            "grid_template_columns": null,
            "grid_template_rows": null,
            "height": null,
            "justify_content": null,
            "justify_items": null,
            "left": null,
            "margin": null,
            "max_height": null,
            "max_width": null,
            "min_height": null,
            "min_width": null,
            "object_fit": null,
            "object_position": null,
            "order": null,
            "overflow": null,
            "overflow_x": null,
            "overflow_y": null,
            "padding": null,
            "right": null,
            "top": null,
            "visibility": null,
            "width": null
          }
        },
        "cb0cd12bfbe549388057b392f4f2e118": {
          "model_module": "@jupyter-widgets/controls",
          "model_name": "DescriptionStyleModel",
          "model_module_version": "1.5.0",
          "state": {
            "_model_module": "@jupyter-widgets/controls",
            "_model_module_version": "1.5.0",
            "_model_name": "DescriptionStyleModel",
            "_view_count": null,
            "_view_module": "@jupyter-widgets/base",
            "_view_module_version": "1.2.0",
            "_view_name": "StyleView",
            "description_width": ""
          }
        }
      }
    }
  },
  "cells": [
    {
      "cell_type": "markdown",
      "source": [
        "# **NLP_Tutorial_03_Word_Embedding_2**\n",
        "\n",
        "-> word2vec 이후 감정분석에 적용하기"
      ],
      "metadata": {
        "id": "gp1pBWdtpIfo"
      }
    },
    {
      "cell_type": "markdown",
      "source": [
        "### **Package 설치**\n",
        " - datasets (huggingface 자연어처리 dataset)\n",
        " - konlpy (한글 자연어처리 Tool)\n",
        " - tqdm (반복문의 Progress Bar)\n"
      ],
      "metadata": {
        "id": "fADe9aBdpMSK"
      }
    },
    {
      "cell_type": "code",
      "execution_count": null,
      "metadata": {
        "id": "i7sMWOD3pCJr",
        "colab": {
          "base_uri": "https://localhost:8080/"
        },
        "outputId": "cd67e33d-5306-43a6-f6b1-de0547016769"
      },
      "outputs": [
        {
          "output_type": "stream",
          "name": "stdout",
          "text": [
            "Looking in indexes: https://pypi.org/simple, https://us-python.pkg.dev/colab-wheels/public/simple/\n",
            "Collecting datasets\n",
            "  Downloading datasets-2.7.1-py3-none-any.whl (451 kB)\n",
            "\u001b[K     |████████████████████████████████| 451 kB 7.6 MB/s \n",
            "\u001b[?25hRequirement already satisfied: numpy>=1.17 in /usr/local/lib/python3.8/dist-packages (from datasets) (1.21.6)\n",
            "Requirement already satisfied: dill<0.3.7 in /usr/local/lib/python3.8/dist-packages (from datasets) (0.3.6)\n",
            "Requirement already satisfied: fsspec[http]>=2021.11.1 in /usr/local/lib/python3.8/dist-packages (from datasets) (2022.11.0)\n",
            "Requirement already satisfied: pandas in /usr/local/lib/python3.8/dist-packages (from datasets) (1.3.5)\n",
            "Requirement already satisfied: tqdm>=4.62.1 in /usr/local/lib/python3.8/dist-packages (from datasets) (4.64.1)\n",
            "Collecting huggingface-hub<1.0.0,>=0.2.0\n",
            "  Downloading huggingface_hub-0.11.1-py3-none-any.whl (182 kB)\n",
            "\u001b[K     |████████████████████████████████| 182 kB 30.7 MB/s \n",
            "\u001b[?25hRequirement already satisfied: pyyaml>=5.1 in /usr/local/lib/python3.8/dist-packages (from datasets) (6.0)\n",
            "Collecting multiprocess\n",
            "  Downloading multiprocess-0.70.14-py38-none-any.whl (132 kB)\n",
            "\u001b[K     |████████████████████████████████| 132 kB 43.0 MB/s \n",
            "\u001b[?25hRequirement already satisfied: pyarrow>=6.0.0 in /usr/local/lib/python3.8/dist-packages (from datasets) (9.0.0)\n",
            "Collecting responses<0.19\n",
            "  Downloading responses-0.18.0-py3-none-any.whl (38 kB)\n",
            "Requirement already satisfied: aiohttp in /usr/local/lib/python3.8/dist-packages (from datasets) (3.8.3)\n",
            "Requirement already satisfied: requests>=2.19.0 in /usr/local/lib/python3.8/dist-packages (from datasets) (2.23.0)\n",
            "Requirement already satisfied: packaging in /usr/local/lib/python3.8/dist-packages (from datasets) (21.3)\n",
            "Collecting xxhash\n",
            "  Downloading xxhash-3.1.0-cp38-cp38-manylinux_2_17_x86_64.manylinux2014_x86_64.whl (212 kB)\n",
            "\u001b[K     |████████████████████████████████| 212 kB 41.7 MB/s \n",
            "\u001b[?25hRequirement already satisfied: charset-normalizer<3.0,>=2.0 in /usr/local/lib/python3.8/dist-packages (from aiohttp->datasets) (2.1.1)\n",
            "Requirement already satisfied: attrs>=17.3.0 in /usr/local/lib/python3.8/dist-packages (from aiohttp->datasets) (22.1.0)\n",
            "Requirement already satisfied: frozenlist>=1.1.1 in /usr/local/lib/python3.8/dist-packages (from aiohttp->datasets) (1.3.3)\n",
            "Requirement already satisfied: async-timeout<5.0,>=4.0.0a3 in /usr/local/lib/python3.8/dist-packages (from aiohttp->datasets) (4.0.2)\n",
            "Requirement already satisfied: multidict<7.0,>=4.5 in /usr/local/lib/python3.8/dist-packages (from aiohttp->datasets) (6.0.3)\n",
            "Requirement already satisfied: yarl<2.0,>=1.0 in /usr/local/lib/python3.8/dist-packages (from aiohttp->datasets) (1.8.2)\n",
            "Requirement already satisfied: aiosignal>=1.1.2 in /usr/local/lib/python3.8/dist-packages (from aiohttp->datasets) (1.3.1)\n",
            "Requirement already satisfied: filelock in /usr/local/lib/python3.8/dist-packages (from huggingface-hub<1.0.0,>=0.2.0->datasets) (3.8.0)\n",
            "Requirement already satisfied: typing-extensions>=3.7.4.3 in /usr/local/lib/python3.8/dist-packages (from huggingface-hub<1.0.0,>=0.2.0->datasets) (4.4.0)\n",
            "Requirement already satisfied: pyparsing!=3.0.5,>=2.0.2 in /usr/local/lib/python3.8/dist-packages (from packaging->datasets) (3.0.9)\n",
            "Requirement already satisfied: chardet<4,>=3.0.2 in /usr/local/lib/python3.8/dist-packages (from requests>=2.19.0->datasets) (3.0.4)\n",
            "Requirement already satisfied: idna<3,>=2.5 in /usr/local/lib/python3.8/dist-packages (from requests>=2.19.0->datasets) (2.10)\n",
            "Requirement already satisfied: urllib3!=1.25.0,!=1.25.1,<1.26,>=1.21.1 in /usr/local/lib/python3.8/dist-packages (from requests>=2.19.0->datasets) (1.24.3)\n",
            "Requirement already satisfied: certifi>=2017.4.17 in /usr/local/lib/python3.8/dist-packages (from requests>=2.19.0->datasets) (2022.9.24)\n",
            "Collecting urllib3!=1.25.0,!=1.25.1,<1.26,>=1.21.1\n",
            "  Downloading urllib3-1.25.11-py2.py3-none-any.whl (127 kB)\n",
            "\u001b[K     |████████████████████████████████| 127 kB 20.1 MB/s \n",
            "\u001b[?25hRequirement already satisfied: python-dateutil>=2.7.3 in /usr/local/lib/python3.8/dist-packages (from pandas->datasets) (2.8.2)\n",
            "Requirement already satisfied: pytz>=2017.3 in /usr/local/lib/python3.8/dist-packages (from pandas->datasets) (2022.6)\n",
            "Requirement already satisfied: six>=1.5 in /usr/local/lib/python3.8/dist-packages (from python-dateutil>=2.7.3->pandas->datasets) (1.15.0)\n",
            "Installing collected packages: urllib3, xxhash, responses, multiprocess, huggingface-hub, datasets\n",
            "  Attempting uninstall: urllib3\n",
            "    Found existing installation: urllib3 1.24.3\n",
            "    Uninstalling urllib3-1.24.3:\n",
            "      Successfully uninstalled urllib3-1.24.3\n",
            "Successfully installed datasets-2.7.1 huggingface-hub-0.11.1 multiprocess-0.70.14 responses-0.18.0 urllib3-1.25.11 xxhash-3.1.0\n",
            "Looking in indexes: https://pypi.org/simple, https://us-python.pkg.dev/colab-wheels/public/simple/\n",
            "Collecting konlpy\n",
            "  Downloading konlpy-0.6.0-py2.py3-none-any.whl (19.4 MB)\n",
            "\u001b[K     |████████████████████████████████| 19.4 MB 1.2 MB/s \n",
            "\u001b[?25hCollecting JPype1>=0.7.0\n",
            "  Downloading JPype1-1.4.1-cp38-cp38-manylinux_2_12_x86_64.manylinux2010_x86_64.whl (465 kB)\n",
            "\u001b[K     |████████████████████████████████| 465 kB 29.4 MB/s \n",
            "\u001b[?25hRequirement already satisfied: lxml>=4.1.0 in /usr/local/lib/python3.8/dist-packages (from konlpy) (4.9.1)\n",
            "Requirement already satisfied: numpy>=1.6 in /usr/local/lib/python3.8/dist-packages (from konlpy) (1.21.6)\n",
            "Requirement already satisfied: packaging in /usr/local/lib/python3.8/dist-packages (from JPype1>=0.7.0->konlpy) (21.3)\n",
            "Requirement already satisfied: pyparsing!=3.0.5,>=2.0.2 in /usr/local/lib/python3.8/dist-packages (from packaging->JPype1>=0.7.0->konlpy) (3.0.9)\n",
            "Installing collected packages: JPype1, konlpy\n",
            "Successfully installed JPype1-1.4.1 konlpy-0.6.0\n",
            "Looking in indexes: https://pypi.org/simple, https://us-python.pkg.dev/colab-wheels/public/simple/\n",
            "Requirement already satisfied: tqdm in /usr/local/lib/python3.8/dist-packages (4.64.1)\n"
          ]
        }
      ],
      "source": [
        "!pip install datasets\n",
        "!pip install konlpy\n",
        "!pip install tqdm"
      ]
    },
    {
      "cell_type": "markdown",
      "source": [
        "### **3-0. 데이터셋 준비**\n",
        "Naver Sentiment Movie Corpus(nsmc) <br>\n",
        "영화 리뷰를 별점을 기준으로 긍정(1), 부정(0)으로 구분한 데이터셋"
      ],
      "metadata": {
        "id": "CvyOhW3JKPOO"
      }
    },
    {
      "cell_type": "code",
      "source": [
        "from datasets import load_dataset\n",
        "\n",
        "# nsmc 데이터셋 다운로드\n",
        "dataset = load_dataset(\"nsmc\")"
      ],
      "metadata": {
        "id": "-Qz2_SCOpo2Y",
        "colab": {
          "base_uri": "https://localhost:8080/",
          "height": 443,
          "referenced_widgets": [
            "b0cb0e7d20354dfc97c900817447cac6",
            "89159f7570a94748a5b6c5b7b0339a66",
            "05c2fc5cdf6f43c78163c3594ffd9c41",
            "7bb5b58b23dc4f2bad1b50cca4a1f854",
            "fdb801e30f644aeeb5b1296a535bae82",
            "9570a028eba941b688a372eaa7137430",
            "4a4fe8e2407f41579c1dda3e2806fb34",
            "1629d323c84a46288c81d2ac565766a1",
            "a401b2a90d4a41d5a5e2279ff722bd23",
            "bc96f8d437384a968c292b7379ef0f07",
            "2197f61b65764486b8ce8a87a93dda14",
            "82b2537f5f1447f087a6ec62292a3cde",
            "73f51e871a504da29f4ab34014ca6fd7",
            "c8173ae5d9f44ed296fafa7c1b151e10",
            "1a6db171e8a9469baac1b92fff6092e0",
            "db19285bdc9f4468a63a28e8993e83b6",
            "f49f9cb1f45d400d94e43a2cfcc14db0",
            "7c61ff370c9b40f9966000eab1740e91",
            "8a28b532fe14465aa560dc2d20eaa913",
            "338b61aa1f0c4e05910ba2345c14f504",
            "0dac53d4747a4cbab12353b375c4dba4",
            "e20f61857cba4b25bad2ac583f0a3966",
            "96830c161da94ec2bdb58b5ce4df8a67",
            "d55c246074244b4b99b671d28923a56d",
            "2963f2509ff940079758794ae2dcf7be",
            "a28cc3712fab4142b91cce4f76ff2553",
            "21bff703f1944b37ad0947a89409ffd0",
            "953641cbd5504b29b5a84f4c6272f649",
            "18a6e238ff354fadb68711dbac6bf83f",
            "7dc781bf47e1464996dbd53ca7e46add",
            "c467a853a73948d9a5e20d07b8986789",
            "23c62cc64db149b4b60ee71b8ec22003",
            "e50f5025529f46a6a0f05585d981e8fd",
            "328fe906aac44f18bccd0cd2eef0e799",
            "73aca0aa4b454f95b57938cc9229f6f5",
            "e699ad4b86ab4598a4d707c3a196757a",
            "b9c8566387014ca2b49348cfe6b9014b",
            "003757fb5b024ca4a91915455c30288f",
            "6395498936d54afa8da7910b569dc8fd",
            "cb47352bc98a4961a3dc220435046fd4",
            "beac5b6ec2f1442b8b1c25c93dbd053b",
            "ffa25621f9144d469e62c92e8c2d6169",
            "f8b1008db9994278bd60003d045d35c4",
            "19787f2bcae1480b998de0372143d910",
            "4c60d3ff5315448abd25e42dedd35e11",
            "fbbda2f0462d435ebfb6a768f0137be0",
            "050842f60bd849d0ba2b7d46025aadda",
            "5fb0c5918dd149819c6afd25c857fe66",
            "9a715d94af6c4c519fad54ffb2936ec4",
            "c26828d5f3d94f5281085f83bf6ee9e7",
            "4e45df4fa09f4f2b8c5278b2d66feced",
            "b96927b863ee4143bc14dc07e733b21d",
            "e6312e6aaf5944bbabe53192a24e20cf",
            "11a6d6da8c4343c698ef8d3c60aacacd",
            "7d94afc0c47b46ad8edd4389a866a397",
            "3c5834699b694b6d804bbbc1b71b9dcf",
            "32c7bae988d14c5ab2e4cde8797ac1f2",
            "d586f68a16ee4193ac16e0bbc4f8cfe9",
            "44a11c9eeecb41019691dc10b70baeca",
            "ba394c88d3fb407c975de03f97a06246",
            "23e70839bde84bfebdd3be1c4bfabab5",
            "6a9ff8eadc1445e69a5e1db6b5ebe400",
            "e09bc836c74b449e8eda7673dced99f0",
            "3e09a428e1304b4ba813f07c57a6ebde",
            "c9ee4adb455f4aa0b7de54620bef1648",
            "735f3b90115a4f289b0a324f5ffc5ec0",
            "2894dc1fcb8540119ad4f7156d437601",
            "5fc0a2dd2b9145da8229065ea2d21f80",
            "831cc074fc80485682e8cc5406992251",
            "d5568211e21448ea812030a19e5bdbc9",
            "e47ea10ed42646d5be8505e299e25497",
            "5cf87d09b13643309f3d053450415d2b",
            "e42fb3ca5b1e4b2384bf19ee45a20f0a",
            "e6ca0320d5934889b7d892c8dee793f9",
            "03ecfc202465488694e965a5faae192c",
            "3387cb2d0bd24b89a03364abac910894",
            "24e48b4de1a641d683f361ce3c8483c0",
            "6f7ca6cbda20419e9bd2bd95f107625b",
            "fb625e34a00849089c4f1c75a74c349c",
            "b69eb6ede2814ecab865dc33464516a8",
            "fc169eb5250a4d72a7a1096bdb2fc616",
            "67d5e07e68414ea29a9971e5f91005c4",
            "5e76832fa28a4288afc16a6470b852d7",
            "a974c65ed99d4f07bbf04090623e898d",
            "d735a2cadbd942298fed4e89ef536a21",
            "88a6c4171f1341fbbfabab2117a3c999",
            "7739ed888ee5447bac4015bede947aeb",
            "b39324e6306d470ea5230f4e97b0d211",
            "eba9ea4fcb7c4a7f91d0f94e5fa030b6",
            "2a6716ee138f4fc38624feeccfc94761",
            "b93833c598b94d31a7baa5bd47235658",
            "9b6dd2d30f4a487eb01033a8fc72a301",
            "069211fb23fc4ee2a0543b45f167d507",
            "d76fb02419e3486b82d73fbdfa4c6e2f",
            "82e20f0e18c2469f9776962ada2ef628",
            "e43bf072c96747418d8883f22a33bd28",
            "d7a1cc90df5b4d338748f167d28b3a87",
            "1d77ce1d45b64558b1bedb6b539c3ba5",
            "ad3151cbadf042029040777a49175a98",
            "49dbc92b633744969db1b5caa48942f8",
            "9931dcd2ed9547329727cf3f6a9bcb5b",
            "4f25588772ac4773b688852cf0b19285",
            "7a0c9438fab041079a02c63051b40ee3",
            "b39876448a57479ebffc49ccaaacb81b",
            "a2eff5e203284e98a64e1eef440af340",
            "a63ca242159f4a2b83b9f342953c11e2",
            "9f5e99e7e1e5452592ea4e19f7cecf1b",
            "7cca14f9e56b4556a0fbe7d0a8e698f1",
            "c2cab8600ce645059420a6f774020f07",
            "1a14060982a345e4874fc365bd1f52c1",
            "9252ca586977481fbcbbad30bafeb02b",
            "dd0d7be60508427f984b4ac306d29a40",
            "5818a3cb68f242adafcf7276e8ede371",
            "6dbae87db0634a498b7f29743ebd5ccc",
            "c1d02e7d992546509fc4ea2467c29df5",
            "d0aa3159860f43ad8638692beef2fb71",
            "001e6ca80f98487eb231ef20b2ff883e",
            "063c58b2c9314ac98d36afce8f24fa03",
            "093146f50cb3492eb97825ff0cad69c2",
            "df3625e48c0c477aabcfd66030bd9660",
            "cb0cd12bfbe549388057b392f4f2e118"
          ]
        },
        "outputId": "51429334-e792-4bdd-e9e7-f27d30bd3a61"
      },
      "execution_count": null,
      "outputs": [
        {
          "output_type": "display_data",
          "data": {
            "text/plain": [
              "Downloading builder script:   0%|          | 0.00/3.18k [00:00<?, ?B/s]"
            ],
            "application/vnd.jupyter.widget-view+json": {
              "version_major": 2,
              "version_minor": 0,
              "model_id": "b0cb0e7d20354dfc97c900817447cac6"
            }
          },
          "metadata": {}
        },
        {
          "output_type": "display_data",
          "data": {
            "text/plain": [
              "Downloading metadata:   0%|          | 0.00/1.67k [00:00<?, ?B/s]"
            ],
            "application/vnd.jupyter.widget-view+json": {
              "version_major": 2,
              "version_minor": 0,
              "model_id": "82b2537f5f1447f087a6ec62292a3cde"
            }
          },
          "metadata": {}
        },
        {
          "output_type": "display_data",
          "data": {
            "text/plain": [
              "Downloading readme:   0%|          | 0.00/3.74k [00:00<?, ?B/s]"
            ],
            "application/vnd.jupyter.widget-view+json": {
              "version_major": 2,
              "version_minor": 0,
              "model_id": "96830c161da94ec2bdb58b5ce4df8a67"
            }
          },
          "metadata": {}
        },
        {
          "output_type": "stream",
          "name": "stdout",
          "text": [
            "Downloading and preparing dataset nsmc/default to /root/.cache/huggingface/datasets/nsmc/default/1.1.0/bfd4729bf1a67114e5267e6916b9e4807010aeb238e4a3c2b95fbfa3a014b5f3...\n"
          ]
        },
        {
          "output_type": "display_data",
          "data": {
            "text/plain": [
              "Downloading data files:   0%|          | 0/2 [00:00<?, ?it/s]"
            ],
            "application/vnd.jupyter.widget-view+json": {
              "version_major": 2,
              "version_minor": 0,
              "model_id": "328fe906aac44f18bccd0cd2eef0e799"
            }
          },
          "metadata": {}
        },
        {
          "output_type": "display_data",
          "data": {
            "text/plain": [
              "Downloading data:   0%|          | 0.00/6.33M [00:00<?, ?B/s]"
            ],
            "application/vnd.jupyter.widget-view+json": {
              "version_major": 2,
              "version_minor": 0,
              "model_id": "4c60d3ff5315448abd25e42dedd35e11"
            }
          },
          "metadata": {}
        },
        {
          "output_type": "display_data",
          "data": {
            "text/plain": [
              "Downloading data:   0%|          | 0.00/2.12M [00:00<?, ?B/s]"
            ],
            "application/vnd.jupyter.widget-view+json": {
              "version_major": 2,
              "version_minor": 0,
              "model_id": "3c5834699b694b6d804bbbc1b71b9dcf"
            }
          },
          "metadata": {}
        },
        {
          "output_type": "stream",
          "name": "stdout",
          "text": [
            "  "
          ]
        },
        {
          "output_type": "display_data",
          "data": {
            "text/plain": [
              "Extracting data files #1:   0%|          | 0/1 [00:00<?, ?obj/s]"
            ],
            "application/vnd.jupyter.widget-view+json": {
              "version_major": 2,
              "version_minor": 0,
              "model_id": "2894dc1fcb8540119ad4f7156d437601"
            }
          },
          "metadata": {}
        },
        {
          "output_type": "display_data",
          "data": {
            "text/plain": [
              "Extracting data files #0:   0%|          | 0/1 [00:00<?, ?obj/s]"
            ],
            "application/vnd.jupyter.widget-view+json": {
              "version_major": 2,
              "version_minor": 0,
              "model_id": "6f7ca6cbda20419e9bd2bd95f107625b"
            }
          },
          "metadata": {}
        },
        {
          "output_type": "display_data",
          "data": {
            "text/plain": [
              "Generating train split:   0%|          | 0/150000 [00:00<?, ? examples/s]"
            ],
            "application/vnd.jupyter.widget-view+json": {
              "version_major": 2,
              "version_minor": 0,
              "model_id": "eba9ea4fcb7c4a7f91d0f94e5fa030b6"
            }
          },
          "metadata": {}
        },
        {
          "output_type": "display_data",
          "data": {
            "text/plain": [
              "Generating test split:   0%|          | 0/50000 [00:00<?, ? examples/s]"
            ],
            "application/vnd.jupyter.widget-view+json": {
              "version_major": 2,
              "version_minor": 0,
              "model_id": "49dbc92b633744969db1b5caa48942f8"
            }
          },
          "metadata": {}
        },
        {
          "output_type": "stream",
          "name": "stdout",
          "text": [
            "Dataset nsmc downloaded and prepared to /root/.cache/huggingface/datasets/nsmc/default/1.1.0/bfd4729bf1a67114e5267e6916b9e4807010aeb238e4a3c2b95fbfa3a014b5f3. Subsequent calls will reuse this data.\n"
          ]
        },
        {
          "output_type": "display_data",
          "data": {
            "text/plain": [
              "  0%|          | 0/2 [00:00<?, ?it/s]"
            ],
            "application/vnd.jupyter.widget-view+json": {
              "version_major": 2,
              "version_minor": 0,
              "model_id": "9252ca586977481fbcbbad30bafeb02b"
            }
          },
          "metadata": {}
        }
      ]
    },
    {
      "cell_type": "code",
      "source": [
        "dataset"
      ],
      "metadata": {
        "colab": {
          "base_uri": "https://localhost:8080/"
        },
        "id": "fEfQUVtPlAVu",
        "outputId": "2b876ff2-11ca-48ea-e743-e9872606d574"
      },
      "execution_count": null,
      "outputs": [
        {
          "output_type": "execute_result",
          "data": {
            "text/plain": [
              "DatasetDict({\n",
              "    train: Dataset({\n",
              "        features: ['id', 'document', 'label'],\n",
              "        num_rows: 150000\n",
              "    })\n",
              "    test: Dataset({\n",
              "        features: ['id', 'document', 'label'],\n",
              "        num_rows: 50000\n",
              "    })\n",
              "})"
            ]
          },
          "metadata": {},
          "execution_count": 3
        }
      ]
    },
    {
      "cell_type": "code",
      "source": [
        "dataset[\"train\"]"
      ],
      "metadata": {
        "colab": {
          "base_uri": "https://localhost:8080/"
        },
        "id": "K7qwyrfOlI8j",
        "outputId": "90457b0a-aace-4925-9396-ea953ea7303d"
      },
      "execution_count": null,
      "outputs": [
        {
          "output_type": "execute_result",
          "data": {
            "text/plain": [
              "Dataset({\n",
              "    features: ['id', 'document', 'label'],\n",
              "    num_rows: 150000\n",
              "})"
            ]
          },
          "metadata": {},
          "execution_count": 4
        }
      ]
    },
    {
      "cell_type": "code",
      "source": [
        "dataset[\"train\"][0]"
      ],
      "metadata": {
        "colab": {
          "base_uri": "https://localhost:8080/"
        },
        "id": "cwrk02GalLPR",
        "outputId": "1689164e-076c-4cea-de35-f32b7506f87f"
      },
      "execution_count": null,
      "outputs": [
        {
          "output_type": "execute_result",
          "data": {
            "text/plain": [
              "{'id': '9976970', 'document': '아 더빙.. 진짜 짜증나네요 목소리', 'label': 0}"
            ]
          },
          "metadata": {},
          "execution_count": 6
        }
      ]
    },
    {
      "cell_type": "code",
      "source": [
        "dataset[\"train\"][0][\"document\"]"
      ],
      "metadata": {
        "colab": {
          "base_uri": "https://localhost:8080/",
          "height": 35
        },
        "id": "sEGT29KDlR1V",
        "outputId": "3e060813-a6d3-4d86-9668-3287d97d241e"
      },
      "execution_count": null,
      "outputs": [
        {
          "output_type": "execute_result",
          "data": {
            "text/plain": [
              "'아 더빙.. 진짜 짜증나네요 목소리'"
            ],
            "application/vnd.google.colaboratory.intrinsic+json": {
              "type": "string"
            }
          },
          "metadata": {},
          "execution_count": 7
        }
      ]
    },
    {
      "cell_type": "markdown",
      "source": [
        "```\n",
        "데이터 셋에서 데이터와 라벨을 리스트에 저장한다.\n",
        "```"
      ],
      "metadata": {
        "id": "UtKr8wbYlVDZ"
      }
    },
    {
      "cell_type": "code",
      "source": [
        "train_sents = [dataset[\"train\"][idx][\"document\"] for idx in range(len(dataset[\"train\"]))]\n",
        "train_labels = [dataset[\"train\"][idx][\"label\"] for idx in range(len(dataset[\"train\"]))]\n",
        "test_sents = [dataset[\"test\"][idx][\"document\"] for idx in range(len(dataset[\"test\"]))]\n",
        "test_labels = [dataset[\"test\"][idx][\"label\"] for idx in range(len(dataset[\"test\"]))]"
      ],
      "metadata": {
        "id": "OrA7I_lmk_ex"
      },
      "execution_count": null,
      "outputs": []
    },
    {
      "cell_type": "markdown",
      "source": [
        "```\n",
        "지난 시간에는 1000개의 문장을 보정, 정출했기에 라이브러리를 사용했다.\n",
        "\n",
        "이번에는 150000개를 다 사용할 것이다. 데이터의 수가 많으면 라이브러리 사용에 시간이 많이 걸린 다는 것을 유의하고 강의에서는 시간관계상 띄어쓰기나 맞춤법 등 보정은 안 하고 그 외에 정제 및 추출만 하겠다.\n",
        "\n",
        "1. 불용어\n",
        "2. 한글이 아닌 글자 제거\n",
        "3. 어간 추출\n",
        "\n",
        "\n",
        "-> 순서\n",
        "토큰화 > 정제 및 추출 > 인코딩이다. 근데 okt에는 토큰화가 아닌 원본 문장을 넣어야하고 그러면 토큰화 결과를 반환한다. \n",
        "\n",
        "+ 보정은 토큰화 전에 하는데 시간이 많이 걸려서 패스한다.\n",
        "```"
      ],
      "metadata": {
        "id": "udc5ZEiglfF7"
      }
    },
    {
      "cell_type": "code",
      "source": [
        "# 원본 문장을 넣으면 토큰화 결과 반환\n",
        "for sent_i in tqdm(train_sents[:5]):\n",
        "  tokens = okt.morphs(sent_i, stem=True) # 어간 추출\n",
        "  print(sent_i)\n",
        "  print(tokens)"
      ],
      "metadata": {
        "colab": {
          "base_uri": "https://localhost:8080/"
        },
        "id": "vUoQDspoueOn",
        "outputId": "07916e06-20b5-4195-8f8b-0108908cf0d6"
      },
      "execution_count": null,
      "outputs": [
        {
          "output_type": "stream",
          "name": "stderr",
          "text": [
            "100%|██████████| 5/5 [00:00<00:00, 147.45it/s]"
          ]
        },
        {
          "output_type": "stream",
          "name": "stdout",
          "text": [
            "아 더빙.. 진짜 짜증나네요 목소리\n",
            "['아', '더빙', '..', '진짜', '짜증나다', '목소리']\n",
            "흠...포스터보고 초딩영화줄....오버연기조차 가볍지 않구나\n",
            "['흠', '...', '포스터', '보고', '초딩', '영화', '줄', '....', '오버', '연기', '조차', '가볍다', '않다']\n",
            "너무재밓었다그래서보는것을추천한다\n",
            "['너', '무재', '밓었', '다그', '래서', '보다', '추천', '한', '다']\n",
            "교도소 이야기구먼 ..솔직히 재미는 없다..평점 조정\n",
            "['교도소', '이야기', '구먼', '..', '솔직하다', '재미', '는', '없다', '..', '평점', '조정']\n",
            "사이몬페그의 익살스런 연기가 돋보였던 영화!스파이더맨에서 늙어보이기만 했던 커스틴 던스트가 너무나도 이뻐보였다\n",
            "['사이', '몬페', '그', '의', '익살스럽다', '연기', '가', '돋보이다', '영화', '!', '스파이더맨', '에서', '늙다', '보이다', '하다', '커스틴', '던스트', '가', '너무나도', '이쁘다', '보이다']\n"
          ]
        },
        {
          "output_type": "stream",
          "name": "stderr",
          "text": [
            "\n"
          ]
        }
      ]
    },
    {
      "cell_type": "code",
      "source": [
        "from konlpy.tag import Okt\n",
        "from tqdm import tqdm\n",
        "\n",
        "# stopwords 정의\n",
        "stopwords = [\"하다\",\"한\",\"에\",\"와\",\"자\",\"과\",\"걍\",\"잘\",\"좀\",\"는\",\"의\",\"가\",\"이\",\"은\",\"들\"]\n",
        "\n",
        "okt = Okt()\n",
        "\n",
        "train_nsmc_corpus = []\n",
        "for sent_i in tqdm(train_sents):\n",
        "  \n",
        "  \n",
        "  # 한글이 아닌 글자는 제거\n",
        "  # 정규식으로 한글을 뜻하는 re이다. 그것을 \"\" 아무것도 아닌 것으로 대체한다. = 제거힌디.\n",
        "  new_sent_i = sent_i.replace(\"[^가-힣ㄱ-하-ㅣ ]\",\"\") \n",
        "\n",
        "\n",
        "\n",
        "  tokens = okt.morphs(new_sent_i, stem=True) # 한글 아닌 글자 제거한 후 어간 추출\n",
        "  tokens = [word_i for word_i in tokens if word_i not in stopwords] # 불용어 제거\n",
        "\n",
        "  train_nsmc_corpus.append(tokens) # 결과 : 한글로 된 어간이 추출된 단어로만 구성된다.\n",
        "\n",
        "\n",
        "test_nsmc_corpus = []\n",
        "for sent_i in tqdm(test_sents):\n",
        "  new_sent_i = sent_i.replace(\"[^가-힣ㄱ-하-ㅣ ]\",\"\")\n",
        "  tokens = okt.morphs(new_sent_i, stem=True)\n",
        "  tokens = [word_i for word_i in tokens if word_i not in stopwords]\n",
        "\n",
        "  test_nsmc_corpus.append(tokens)"
      ],
      "metadata": {
        "id": "vGJXUcZOpxK8",
        "colab": {
          "base_uri": "https://localhost:8080/"
        },
        "outputId": "a99ee7cf-ec99-44d6-856d-d3a13ebf559b"
      },
      "execution_count": null,
      "outputs": [
        {
          "output_type": "stream",
          "name": "stderr",
          "text": [
            "100%|██████████| 150000/150000 [08:51<00:00, 282.25it/s]\n",
            "100%|██████████| 50000/50000 [03:14<00:00, 257.68it/s]\n"
          ]
        }
      ]
    },
    {
      "cell_type": "markdown",
      "source": [
        "```\n",
        "bow, tfidf는 단어 임베딩을 하기 위해서 vocab_size만한 벡터가 필요하고 대부분이 0인 sparse한 벡터였다.(의미가 없는 데이터)\n",
        "\n",
        "이번에는 dense한 밀집 벡터 형식의 단어 임베딩을 해보자\n",
        "\n",
        "+ 또한 bow, tfidf는 단어 임베딩이라고 하지만 단어의 출현 빈도를 보기 때문에 문장 단위로 수치 표현을 하는 것이었다. 이번엔 단어 하나만을 숫자로 표현해보자\n",
        "```"
      ],
      "metadata": {
        "id": "Y5x2jMwNjMyj"
      }
    },
    {
      "cell_type": "markdown",
      "source": [
        "### **3-1. Word2Vec (CBoW)**\n",
        "Word2Vec은 이웃 단어 예측을 통해 단어의 임베딩을 학습하는 기법 <br>\n",
        "CBoW 기법 / Skip-Gram 기법 <br> <br> \n",
        "CBoW는 주위(Window) 단어를 보고 중심 단어를 예측\n",
        "\n",
        "```\n",
        "ex) 5개의 단어를 본다면 앞에 두개와 뒤에 두개를 보고 3번 째 단어가 어떤 단어가 되어야하는 지를 맞추도록 학습이 된다.\n",
        "\n",
        "이웃한 단어 사이의 관계를 반영하는 임베딩을 만들 수 있다.\n",
        "```"
      ],
      "metadata": {
        "id": "9NBBoylMKcbP"
      }
    },
    {
      "cell_type": "markdown",
      "source": [
        "```\n",
        "인자\n",
        "1. sentences : 데이터\n",
        "2. size : 임베딩 차원\n",
        "3. window : 윈도우\n",
        "4. min_count : 빈도수가 5개 이하인 단어는 임베딩하지 않겠다\n",
        "5. workers : 프로세스 개수(= cpu개수 몇개로 학습할 건가)\n",
        "6. sg = cbow/ skipgram\n",
        "```"
      ],
      "metadata": {
        "id": "UzNRY3QJp_ky"
      }
    },
    {
      "cell_type": "code",
      "source": [
        "from gensim.models import Word2Vec\n",
        "\n",
        "'''\n",
        "# 나는 학교에 지하철을 타고 간다\n",
        "# 나는 학교에 [      ] 타고 간다 -> 윈도우의 주변 단어로 중심단어를 맞추도록 학습이 된다.\n",
        "# 차, 버스, 지하철, 자전거 -> 그러면 모델은 가능한 대중 교통을 다 생각할 수 있고 이렇게 가능한 것들을 다 예측하도록 학습이 된다.\n",
        "# 이렇게 되면 차, 버스, 지하철, 자전거 등의 대중교통 들은 비슷한 단어 임베딩을 가지게 된다!!!\n",
        "# 이때 예측과 정답의 차이로 학습을 한다. -> 따라서 단어들간의 관계가 반영된다.\n",
        "'''\n",
        "\n",
        "CBOW_model = Word2Vec(sentences=train_nsmc_corpus , size = 100 , window = 5, min_count=5, workers = 4, sg = 0)\n",
        "# sg = 0 (CBOW)  /  sg = 1 (skip gram)"
      ],
      "metadata": {
        "id": "cyadeB8NpQvN"
      },
      "execution_count": null,
      "outputs": []
    },
    {
      "cell_type": "code",
      "source": [
        "# 송강호라는 벡터 구하기 -> 100-dim으로 구성\n",
        "CBOW_model.wv[\"송강호\"]"
      ],
      "metadata": {
        "id": "TWtREj5e2-4u",
        "colab": {
          "base_uri": "https://localhost:8080/"
        },
        "outputId": "5decc5c3-79c4-4baa-cdce-ad3816c050e5"
      },
      "execution_count": null,
      "outputs": [
        {
          "output_type": "execute_result",
          "data": {
            "text/plain": [
              "array([-0.2628437 , -0.4772478 ,  0.23714902,  0.108261  , -0.22606453,\n",
              "        0.45416036,  0.3946831 ,  0.14584689,  0.29550198, -0.3781312 ,\n",
              "        0.05215524, -0.03210475, -0.21495825,  0.19717748, -0.12327231,\n",
              "        0.11480867,  0.22195497, -0.12611334, -0.05030181, -0.11514618,\n",
              "       -0.2236208 ,  0.14717443,  0.07398075, -0.11808933,  0.2227676 ,\n",
              "       -0.065589  , -0.19093974,  0.28443652, -0.10423951, -0.6661239 ,\n",
              "        0.11916403, -0.351201  , -0.22943462,  0.01228224,  0.02278129,\n",
              "        0.06770418,  0.16982408, -0.18317719,  0.15024005,  0.02706133,\n",
              "        0.25394517,  0.01896458,  0.367126  ,  0.07914708, -0.05828024,\n",
              "       -0.26531145, -0.16744003,  0.43909192,  0.36344227, -0.4778765 ,\n",
              "       -0.12529951,  0.01365054,  0.02586485, -0.07423191,  0.04482049,\n",
              "        0.07650961, -0.205869  , -0.3518455 ,  0.2614185 ,  0.05062447,\n",
              "        0.47692335, -0.28031155,  0.20891698, -0.42138496,  0.11372356,\n",
              "        0.32726842,  0.07744976,  0.15001541, -0.3298002 ,  0.02441076,\n",
              "       -0.11976431, -0.06963799, -0.4391056 ,  0.12525643, -0.04242603,\n",
              "        0.4455339 , -0.30431825,  0.19486381, -0.01298679,  0.22081362,\n",
              "        0.1964544 , -0.4348131 ,  0.42912376,  0.08473703, -0.11666629,\n",
              "       -0.32162368, -0.39561838, -0.5229049 ,  0.14324547,  0.12480827,\n",
              "        0.1830077 , -0.09832055,  0.18824078,  0.03782183, -0.6281594 ,\n",
              "       -0.31233862,  0.07501058, -0.05043023, -0.00095142, -0.20785819],\n",
              "      dtype=float32)"
            ]
          },
          "metadata": {},
          "execution_count": 11
        }
      ]
    },
    {
      "cell_type": "markdown",
      "source": [
        "```\n",
        "중간에 들어올 단어가 무엇일지 예측을 하면서 학습이 되어서 예측되는 단어들이 비슷한 벡터가 될것이라고 했다.\n",
        "\n",
        "결과 비슷한 단어들은 비슷한 상황에서의 단어들이 나온다.\n",
        "\n",
        "\n",
        "```\n"
      ],
      "metadata": {
        "id": "ZJvITXRXrnqQ"
      }
    },
    {
      "cell_type": "code",
      "source": [
        "# 이번 영화 ㅁ 연기가 진짜 좋았어라면 \n",
        "# ㅁ에는 송강호, 한석규, 차승원, 황정민, 이정재가 들어갈 수 있었던 것이다.\n",
        "CBOW_model.wv.most_similar(\"송강호\", topn=5)"
      ],
      "metadata": {
        "id": "alpABxgOsPy7",
        "colab": {
          "base_uri": "https://localhost:8080/"
        },
        "outputId": "91fcd348-525e-44b3-80a1-19bc27d2cb89"
      },
      "execution_count": null,
      "outputs": [
        {
          "output_type": "execute_result",
          "data": {
            "text/plain": [
              "[('한석규', 0.9075385332107544),\n",
              " ('차승원', 0.8906582593917847),\n",
              " ('황정민', 0.887117326259613),\n",
              " ('이정재', 0.8853720426559448),\n",
              " ('신들리다', 0.8847559094429016)]"
            ]
          },
          "metadata": {},
          "execution_count": 13
        }
      ]
    },
    {
      "cell_type": "code",
      "source": [
        "# 사전에 없는 단어는 오류가 난다. lookup table을 만드는 것이기 때문이다. 따라서 예외처리를 해야한다.\n",
        "CBOW_model.wv.most_similar(\"자연어\", topn=5)"
      ],
      "metadata": {
        "colab": {
          "base_uri": "https://localhost:8080/",
          "height": 342
        },
        "id": "EDWKzUiPsGFd",
        "outputId": "c1ac2a64-bfac-41c6-db1d-48d60114858e"
      },
      "execution_count": null,
      "outputs": [
        {
          "output_type": "error",
          "ename": "KeyError",
          "evalue": "ignored",
          "traceback": [
            "\u001b[0;31m---------------------------------------------------------------------------\u001b[0m",
            "\u001b[0;31mKeyError\u001b[0m                                  Traceback (most recent call last)",
            "\u001b[0;32m<ipython-input-16-1e12548059c2>\u001b[0m in \u001b[0;36m<module>\u001b[0;34m\u001b[0m\n\u001b[1;32m      1\u001b[0m \u001b[0;31m# 사전에 없는 단어는 오류가 난다. lookup table을 만드는 것이기 때문이다.\u001b[0m\u001b[0;34m\u001b[0m\u001b[0;34m\u001b[0m\u001b[0;34m\u001b[0m\u001b[0m\n\u001b[0;32m----> 2\u001b[0;31m \u001b[0mCBOW_model\u001b[0m\u001b[0;34m.\u001b[0m\u001b[0mwv\u001b[0m\u001b[0;34m.\u001b[0m\u001b[0mmost_similar\u001b[0m\u001b[0;34m(\u001b[0m\u001b[0;34m\"자연어\"\u001b[0m\u001b[0;34m,\u001b[0m \u001b[0mtopn\u001b[0m\u001b[0;34m=\u001b[0m\u001b[0;36m5\u001b[0m\u001b[0;34m)\u001b[0m\u001b[0;34m\u001b[0m\u001b[0;34m\u001b[0m\u001b[0m\n\u001b[0m",
            "\u001b[0;32m/usr/local/lib/python3.8/dist-packages/gensim/models/keyedvectors.py\u001b[0m in \u001b[0;36mmost_similar\u001b[0;34m(self, positive, negative, topn, restrict_vocab, indexer)\u001b[0m\n\u001b[1;32m    529\u001b[0m                 \u001b[0mmean\u001b[0m\u001b[0;34m.\u001b[0m\u001b[0mappend\u001b[0m\u001b[0;34m(\u001b[0m\u001b[0mweight\u001b[0m \u001b[0;34m*\u001b[0m \u001b[0mword\u001b[0m\u001b[0;34m)\u001b[0m\u001b[0;34m\u001b[0m\u001b[0;34m\u001b[0m\u001b[0m\n\u001b[1;32m    530\u001b[0m             \u001b[0;32melse\u001b[0m\u001b[0;34m:\u001b[0m\u001b[0;34m\u001b[0m\u001b[0;34m\u001b[0m\u001b[0m\n\u001b[0;32m--> 531\u001b[0;31m                 \u001b[0mmean\u001b[0m\u001b[0;34m.\u001b[0m\u001b[0mappend\u001b[0m\u001b[0;34m(\u001b[0m\u001b[0mweight\u001b[0m \u001b[0;34m*\u001b[0m \u001b[0mself\u001b[0m\u001b[0;34m.\u001b[0m\u001b[0mword_vec\u001b[0m\u001b[0;34m(\u001b[0m\u001b[0mword\u001b[0m\u001b[0;34m,\u001b[0m \u001b[0muse_norm\u001b[0m\u001b[0;34m=\u001b[0m\u001b[0;32mTrue\u001b[0m\u001b[0;34m)\u001b[0m\u001b[0;34m)\u001b[0m\u001b[0;34m\u001b[0m\u001b[0;34m\u001b[0m\u001b[0m\n\u001b[0m\u001b[1;32m    532\u001b[0m                 \u001b[0;32mif\u001b[0m \u001b[0mword\u001b[0m \u001b[0;32min\u001b[0m \u001b[0mself\u001b[0m\u001b[0;34m.\u001b[0m\u001b[0mvocab\u001b[0m\u001b[0;34m:\u001b[0m\u001b[0;34m\u001b[0m\u001b[0;34m\u001b[0m\u001b[0m\n\u001b[1;32m    533\u001b[0m                     \u001b[0mall_words\u001b[0m\u001b[0;34m.\u001b[0m\u001b[0madd\u001b[0m\u001b[0;34m(\u001b[0m\u001b[0mself\u001b[0m\u001b[0;34m.\u001b[0m\u001b[0mvocab\u001b[0m\u001b[0;34m[\u001b[0m\u001b[0mword\u001b[0m\u001b[0;34m]\u001b[0m\u001b[0;34m.\u001b[0m\u001b[0mindex\u001b[0m\u001b[0;34m)\u001b[0m\u001b[0;34m\u001b[0m\u001b[0;34m\u001b[0m\u001b[0m\n",
            "\u001b[0;32m/usr/local/lib/python3.8/dist-packages/gensim/models/keyedvectors.py\u001b[0m in \u001b[0;36mword_vec\u001b[0;34m(self, word, use_norm)\u001b[0m\n\u001b[1;32m    450\u001b[0m             \u001b[0;32mreturn\u001b[0m \u001b[0mresult\u001b[0m\u001b[0;34m\u001b[0m\u001b[0;34m\u001b[0m\u001b[0m\n\u001b[1;32m    451\u001b[0m         \u001b[0;32melse\u001b[0m\u001b[0;34m:\u001b[0m\u001b[0;34m\u001b[0m\u001b[0;34m\u001b[0m\u001b[0m\n\u001b[0;32m--> 452\u001b[0;31m             \u001b[0;32mraise\u001b[0m \u001b[0mKeyError\u001b[0m\u001b[0;34m(\u001b[0m\u001b[0;34m\"word '%s' not in vocabulary\"\u001b[0m \u001b[0;34m%\u001b[0m \u001b[0mword\u001b[0m\u001b[0;34m)\u001b[0m\u001b[0;34m\u001b[0m\u001b[0;34m\u001b[0m\u001b[0m\n\u001b[0m\u001b[1;32m    453\u001b[0m \u001b[0;34m\u001b[0m\u001b[0m\n\u001b[1;32m    454\u001b[0m     \u001b[0;32mdef\u001b[0m \u001b[0mget_vector\u001b[0m\u001b[0;34m(\u001b[0m\u001b[0mself\u001b[0m\u001b[0;34m,\u001b[0m \u001b[0mword\u001b[0m\u001b[0;34m)\u001b[0m\u001b[0;34m:\u001b[0m\u001b[0;34m\u001b[0m\u001b[0;34m\u001b[0m\u001b[0m\n",
            "\u001b[0;31mKeyError\u001b[0m: \"word '자연어' not in vocabulary\""
          ]
        }
      ]
    },
    {
      "cell_type": "code",
      "source": [
        "train_nsmc_corpus[:10]"
      ],
      "metadata": {
        "colab": {
          "base_uri": "https://localhost:8080/"
        },
        "id": "lJ3PK1fVtEsT",
        "outputId": "4df957d5-6b70-4762-ac65-0b569f777c3c"
      },
      "execution_count": null,
      "outputs": [
        {
          "output_type": "execute_result",
          "data": {
            "text/plain": [
              "[['아', '더빙', '..', '진짜', '짜증나다', '목소리'],\n",
              " ['흠',\n",
              "  '...',\n",
              "  '포스터',\n",
              "  '보고',\n",
              "  '초딩',\n",
              "  '영화',\n",
              "  '줄',\n",
              "  '....',\n",
              "  '오버',\n",
              "  '연기',\n",
              "  '조차',\n",
              "  '가볍다',\n",
              "  '않다'],\n",
              " ['너', '무재', '밓었', '다그', '래서', '보다', '추천', '다'],\n",
              " ['교도소', '이야기', '구먼', '..', '솔직하다', '재미', '없다', '..', '평점', '조정'],\n",
              " ['사이',\n",
              "  '몬페',\n",
              "  '그',\n",
              "  '익살스럽다',\n",
              "  '연기',\n",
              "  '돋보이다',\n",
              "  '영화',\n",
              "  '!',\n",
              "  '스파이더맨',\n",
              "  '에서',\n",
              "  '늙다',\n",
              "  '보이다',\n",
              "  '커스틴',\n",
              "  '던스트',\n",
              "  '너무나도',\n",
              "  '이쁘다',\n",
              "  '보이다'],\n",
              " ['막',\n",
              "  '걸음',\n",
              "  '마',\n",
              "  '떼다',\n",
              "  '3',\n",
              "  '세',\n",
              "  '부터',\n",
              "  '초등학교',\n",
              "  '1',\n",
              "  '학년',\n",
              "  '생인',\n",
              "  '8',\n",
              "  '살다',\n",
              "  '영화',\n",
              "  '.',\n",
              "  'ㅋㅋㅋ',\n",
              "  '...',\n",
              "  '별',\n",
              "  '반개',\n",
              "  '도',\n",
              "  '아깝다',\n",
              "  '움',\n",
              "  '.'],\n",
              " ['원작', '긴장감', '을', '제대로', '살리다', '.'],\n",
              " ['별',\n",
              "  '반개',\n",
              "  '도',\n",
              "  '아깝다',\n",
              "  '욕',\n",
              "  '나오다',\n",
              "  '이응경',\n",
              "  '길용우',\n",
              "  '연',\n",
              "  '기',\n",
              "  '생활',\n",
              "  '몇',\n",
              "  '년',\n",
              "  '인지',\n",
              "  '..',\n",
              "  '정말',\n",
              "  '발',\n",
              "  '로',\n",
              "  '해도',\n",
              "  '그것',\n",
              "  '보단',\n",
              "  '낫다',\n",
              "  '납치',\n",
              "  '.',\n",
              "  '감금',\n",
              "  '만',\n",
              "  '반복',\n",
              "  '반복',\n",
              "  '..',\n",
              "  '드라마',\n",
              "  '가족',\n",
              "  '도',\n",
              "  '없다',\n",
              "  '연기',\n",
              "  '못',\n",
              "  '사람',\n",
              "  '만',\n",
              "  '모',\n",
              "  '엿',\n",
              "  '네'],\n",
              " ['액션', '없다', '재미', '있다', '몇', '안되다', '영화'],\n",
              " ['왜케',\n",
              "  '평점',\n",
              "  '낮다',\n",
              "  '?',\n",
              "  '꽤',\n",
              "  '볼',\n",
              "  '만',\n",
              "  '데',\n",
              "  '..',\n",
              "  '헐리우드',\n",
              "  '식',\n",
              "  '화려하다',\n",
              "  '너무',\n",
              "  '길들이다',\n",
              "  '있다',\n",
              "  '?']]"
            ]
          },
          "metadata": {},
          "execution_count": 21
        }
      ]
    },
    {
      "cell_type": "code",
      "source": [
        "len(train_nsmc_corpus)"
      ],
      "metadata": {
        "colab": {
          "base_uri": "https://localhost:8080/"
        },
        "id": "imR5UbS-uCPv",
        "outputId": "0a258004-9d7b-40c2-eddb-a710219f80ab"
      },
      "execution_count": null,
      "outputs": [
        {
          "output_type": "execute_result",
          "data": {
            "text/plain": [
              "150000"
            ]
          },
          "metadata": {},
          "execution_count": 22
        }
      ]
    },
    {
      "cell_type": "markdown",
      "source": [
        "```\n",
        "결과 : 지금 문장 150000개가 있다. 그 문장에 토큰화 > 정제 및 추출을 했다. 1500000개의 문장이 리스트에 한 문장씩 구분되어 있다. \n",
        "\n",
        "그러한 문장을 for문으로 한 문장 씩 불러서 각 단어를 임베딩하고 sent_emb으로 붙이고 전체 문장 배열에 append한다.\n",
        "\n",
        "+ 추가로 문장의 단어를 임베딩한 후 문장의 임베딩은 단어 임베딩의 평균으로 한다.\n",
        "```"
      ],
      "metadata": {
        "id": "LEcT4yIOthmO"
      }
    },
    {
      "cell_type": "code",
      "source": [
        "dim = 100\n",
        "sent_emb = np.zeros(dim)\n",
        "\n",
        "for i in train_nsmc_corpus[:10]:\n",
        "    word_emb = CBOW_model.wv[i]\n",
        "    sent_emb += word_emb\n",
        "    print(sent_emb)"
      ],
      "metadata": {
        "colab": {
          "base_uri": "https://localhost:8080/",
          "height": 1000
        },
        "id": "VanXnBQHshl6",
        "outputId": "e512800c-c8be-4d8c-96e4-e26e8caf783f"
      },
      "execution_count": null,
      "outputs": [
        {
          "output_type": "stream",
          "name": "stdout",
          "text": [
            "[-0.24741404  0.67173541  0.18896787  0.28265417 -0.01478071  0.5038864\n",
            " -1.08722007  0.49759418 -1.30356431  0.17740911  0.24749696  0.86684275\n",
            " -0.56336212 -0.13190328 -1.63394487 -0.30320615  1.33291435  0.38028178\n",
            " -0.03128756  1.34461188  0.65803874 -1.06445873 -0.58787864 -0.74107093\n",
            " -0.25719467  1.96874869  0.85347611 -0.26399794 -0.35309201  0.90471745\n",
            "  0.45554194 -1.12287235 -0.51878393 -2.79717493  0.43166605  0.99555719\n",
            "  1.30714214 -0.86195153  0.1531385   0.38983169  0.97367722 -0.501921\n",
            "  1.60702813 -1.30994391  1.41272604  0.23485899 -0.74714935 -0.30797896\n",
            " -0.26043099 -0.02807765 -0.41553783 -0.92578727  0.77919459  1.30872345\n",
            " -0.88941544  0.1587359  -0.57749742 -0.69296068  0.69670159  1.10503042\n",
            "  0.60368574  1.70543659 -1.20990086 -1.46070361 -0.17231928  0.33181959\n",
            " -0.27768391  1.31489861 -0.96715683  1.53960609  1.07003999  0.20555256\n",
            "  0.80984432  1.31233513  0.71575469  1.03613687  1.05304503  0.60894489\n",
            "  0.33415979  0.33395356 -0.01946349  0.20747575  0.04818515 -0.68579644\n",
            " -0.62931603  0.11247962  0.63782722  1.79603171  0.19330549 -1.73247075\n",
            "  0.13453451  0.16307312  0.15905243 -0.29294422 -0.0920787  -0.90272498\n",
            " -0.5965203   0.22142243  1.11859691  0.26967725]\n",
            "[-1.56999151  1.14838749 -0.32793035 -0.26051229  0.1035092   1.48009533\n",
            " -2.07810283  1.46381891 -3.06808734  0.14656651 -2.01752818  0.74616898\n",
            "  0.00991166 -0.41030358 -1.544205    0.80727476  0.32018983  0.12934306\n",
            "  1.95458984  2.54973662  0.504546   -0.78914261 -1.32917398 -0.18075317\n",
            " -0.67398542  1.64344794  0.2377798  -2.20516482 -0.59057121  2.23710811\n",
            " -0.3850086  -1.42599517  0.17758083 -3.35732859 -0.22201571  1.01033837\n",
            " -0.44812262 -2.16581184  0.06523235  0.16366085  1.76151562  0.16643554\n",
            "  1.7423726  -1.19947541  1.73684216 -0.21565861 -0.07360238  0.58950427\n",
            " -0.37387606 -0.92326753  0.05287111 -0.99059964 -0.38674128  0.89472595\n",
            " -1.23491314  1.57054952 -0.68428484 -1.68496692 -0.51101977  0.46139807\n",
            "  0.68214124  2.6024909  -2.62603498 -2.69142449  0.13669159  1.50808412\n",
            " -1.24548948  3.23520744 -0.88141576  0.12225115  1.42028254  1.29779325\n",
            "  0.23344773  2.17920142  0.71633311  3.02455819  2.04237801 -1.40732098\n",
            "  0.6924943  -0.16904068  0.7934454  -0.33298579 -0.42105635  0.7796734\n",
            " -0.86492759 -0.28452662  0.8249024   2.51534158  1.74265814 -2.75834823\n",
            "  1.51505521  0.17061754  0.55026403 -1.96417549  1.76605891 -1.38788712\n",
            " -0.61808574  1.3292979   0.45253813 -0.10060832]\n",
            "[-1.76873554  0.8026281   0.11950554 -0.28378776  0.22791369  1.68597889\n",
            " -2.06022141  1.81226584 -3.11493867 -0.27030116 -2.5662815   0.70487781\n",
            " -0.25315988  0.06917651 -2.08667349  0.70947274  0.65125287  0.36974342\n",
            "  1.68679767  2.46466644  0.19393806 -0.9543948  -1.26632024 -0.43309167\n",
            " -0.55486583  2.35259432  0.923693   -2.38697445 -0.71866541  2.19938877\n",
            "  0.16076609 -1.28746967  0.52513844 -4.11608285  0.18419951  0.95656626\n",
            " -0.25171542 -2.00549062 -0.06035785  0.74696162  2.26666236 -0.20343894\n",
            "  2.52926466 -1.79633087  1.95709492  0.33094388 -0.15874758  0.34731908\n",
            "  0.00489385 -0.88530358  0.60637921 -1.52248377 -0.5207521   1.30346125\n",
            " -1.35849358  1.35801886 -0.87516555 -2.29138809  0.01340491  0.60731155\n",
            "  0.97503942  2.98218161 -2.51876288 -3.31438363  0.48870598  1.83628991\n",
            " -1.23421543  3.47094052 -1.48864648  0.06700525  1.65311918  1.83169971\n",
            "  0.45765667  2.94915712  1.13087093  3.84935373  2.58522749 -1.16449086\n",
            "  0.8603414  -0.55050749  1.43612509 -0.79693753 -0.6042527   0.34669903\n",
            " -1.16270706 -0.27224248  0.89954649  2.51906946  1.67228931 -2.80596349\n",
            "  1.04647329  0.46579637  0.13395315 -1.93648649  1.87096375 -1.89967543\n",
            " -0.71410413  1.83041573  0.820916    0.0521884 ]\n",
            "[-2.66358663e+00  2.30997020e+00 -1.54528616e+00 -7.66900124e-01\n",
            "  9.10405586e-01  2.05434954e+00 -3.37206432e+00  1.62674241e+00\n",
            " -3.61045536e-01 -5.04201768e-01 -1.99822479e+00  6.52986821e-01\n",
            " -1.83122325e+00 -1.14760131e-01 -3.53655927e-01 -5.05296268e-01\n",
            "  3.11573994e+00  3.10174949e+00  1.00023609e+00  2.62866776e+00\n",
            "  9.88511965e-01 -1.23410515e+00 -1.03815475e+00  2.07961461e+00\n",
            " -3.34332108e+00  3.00499624e+00 -9.95099366e-01 -8.47256780e-01\n",
            " -1.97776251e+00  1.89432370e+00 -4.62538689e-01 -9.72181037e-01\n",
            " -3.42115641e-01 -4.70910114e+00  6.03871167e-01  1.05132406e+00\n",
            " -1.50973344e+00 -3.84089144e+00  5.31290486e-01  7.80241542e-01\n",
            "  3.38705361e+00  8.36651742e-01  3.82996401e+00 -1.07197225e+00\n",
            "  1.86336094e+00 -1.96570158e-03  1.78319523e+00  1.70670219e+00\n",
            " -1.04256421e+00 -2.97438606e+00 -1.17953420e-02 -3.78467173e+00\n",
            "  1.69901738e+00  3.10968679e+00 -4.09530355e+00  5.67331001e-01\n",
            " -2.69898412e+00 -1.16680557e+00 -9.99803483e-01  9.68496978e-01\n",
            "  1.65381908e-01  4.76290363e+00 -2.85335275e+00 -5.10639119e+00\n",
            "  1.51247929e+00  2.20895785e+00  1.13509996e+00  4.43763261e+00\n",
            " -1.95356876e+00 -1.28526440e+00  1.00029680e+00  4.06173383e+00\n",
            "  1.68699341e+00  3.49105692e+00  9.30203231e-01  2.39185208e+00\n",
            "  2.91170022e+00  6.78096846e-01 -6.73264176e-01 -8.83069396e-01\n",
            " -7.89491601e-01 -7.81600397e-01  1.08723807e+00  9.81202930e-01\n",
            " -1.21432540e+00 -1.73722785e+00  2.99031626e+00  2.62405188e+00\n",
            "  3.63363922e-01 -3.43621651e+00  1.67667535e+00  1.68114485e+00\n",
            "  2.09511799e+00 -1.95877453e+00  7.68466532e-01 -1.67100993e+00\n",
            " -4.54677362e+00  4.86542177e+00  4.66549933e-01  4.75858957e-01]\n"
          ]
        },
        {
          "output_type": "error",
          "ename": "KeyError",
          "evalue": "ignored",
          "traceback": [
            "\u001b[0;31m---------------------------------------------------------------------------\u001b[0m",
            "\u001b[0;31mKeyError\u001b[0m                                  Traceback (most recent call last)",
            "\u001b[0;32m<ipython-input-19-249fe4c2d8f2>\u001b[0m in \u001b[0;36m<module>\u001b[0;34m\u001b[0m\n\u001b[1;32m      3\u001b[0m \u001b[0;34m\u001b[0m\u001b[0m\n\u001b[1;32m      4\u001b[0m \u001b[0;32mfor\u001b[0m \u001b[0mi\u001b[0m \u001b[0;32min\u001b[0m \u001b[0mtrain_sent\u001b[0m\u001b[0;34m[\u001b[0m\u001b[0;34m:\u001b[0m\u001b[0;36m10\u001b[0m\u001b[0;34m]\u001b[0m\u001b[0;34m:\u001b[0m\u001b[0;34m\u001b[0m\u001b[0;34m\u001b[0m\u001b[0m\n\u001b[0;32m----> 5\u001b[0;31m     \u001b[0mword_emb\u001b[0m \u001b[0;34m=\u001b[0m \u001b[0mCBOW_model\u001b[0m\u001b[0;34m.\u001b[0m\u001b[0mwv\u001b[0m\u001b[0;34m[\u001b[0m\u001b[0mi\u001b[0m\u001b[0;34m]\u001b[0m\u001b[0;34m\u001b[0m\u001b[0;34m\u001b[0m\u001b[0m\n\u001b[0m\u001b[1;32m      6\u001b[0m     \u001b[0msent_emb\u001b[0m \u001b[0;34m+=\u001b[0m \u001b[0mword_emb\u001b[0m\u001b[0;34m\u001b[0m\u001b[0;34m\u001b[0m\u001b[0m\n\u001b[1;32m      7\u001b[0m     \u001b[0mprint\u001b[0m\u001b[0;34m(\u001b[0m\u001b[0msent_emb\u001b[0m\u001b[0;34m)\u001b[0m\u001b[0;34m\u001b[0m\u001b[0;34m\u001b[0m\u001b[0m\n",
            "\u001b[0;32m/usr/local/lib/python3.8/dist-packages/gensim/models/keyedvectors.py\u001b[0m in \u001b[0;36m__getitem__\u001b[0;34m(self, entities)\u001b[0m\n\u001b[1;32m    335\u001b[0m         \u001b[0;32mif\u001b[0m \u001b[0misinstance\u001b[0m\u001b[0;34m(\u001b[0m\u001b[0mentities\u001b[0m\u001b[0;34m,\u001b[0m \u001b[0mstring_types\u001b[0m\u001b[0;34m)\u001b[0m\u001b[0;34m:\u001b[0m\u001b[0;34m\u001b[0m\u001b[0;34m\u001b[0m\u001b[0m\n\u001b[1;32m    336\u001b[0m             \u001b[0;31m# allow calls like trained_model['office'], as a shorthand for trained_model[['office']]\u001b[0m\u001b[0;34m\u001b[0m\u001b[0;34m\u001b[0m\u001b[0;34m\u001b[0m\u001b[0m\n\u001b[0;32m--> 337\u001b[0;31m             \u001b[0;32mreturn\u001b[0m \u001b[0mself\u001b[0m\u001b[0;34m.\u001b[0m\u001b[0mget_vector\u001b[0m\u001b[0;34m(\u001b[0m\u001b[0mentities\u001b[0m\u001b[0;34m)\u001b[0m\u001b[0;34m\u001b[0m\u001b[0;34m\u001b[0m\u001b[0m\n\u001b[0m\u001b[1;32m    338\u001b[0m \u001b[0;34m\u001b[0m\u001b[0m\n\u001b[1;32m    339\u001b[0m         \u001b[0;32mreturn\u001b[0m \u001b[0mvstack\u001b[0m\u001b[0;34m(\u001b[0m\u001b[0;34m[\u001b[0m\u001b[0mself\u001b[0m\u001b[0;34m.\u001b[0m\u001b[0mget_vector\u001b[0m\u001b[0;34m(\u001b[0m\u001b[0mentity\u001b[0m\u001b[0;34m)\u001b[0m \u001b[0;32mfor\u001b[0m \u001b[0mentity\u001b[0m \u001b[0;32min\u001b[0m \u001b[0mentities\u001b[0m\u001b[0;34m]\u001b[0m\u001b[0;34m)\u001b[0m\u001b[0;34m\u001b[0m\u001b[0;34m\u001b[0m\u001b[0m\n",
            "\u001b[0;32m/usr/local/lib/python3.8/dist-packages/gensim/models/keyedvectors.py\u001b[0m in \u001b[0;36mget_vector\u001b[0;34m(self, word)\u001b[0m\n\u001b[1;32m    453\u001b[0m \u001b[0;34m\u001b[0m\u001b[0m\n\u001b[1;32m    454\u001b[0m     \u001b[0;32mdef\u001b[0m \u001b[0mget_vector\u001b[0m\u001b[0;34m(\u001b[0m\u001b[0mself\u001b[0m\u001b[0;34m,\u001b[0m \u001b[0mword\u001b[0m\u001b[0;34m)\u001b[0m\u001b[0;34m:\u001b[0m\u001b[0;34m\u001b[0m\u001b[0;34m\u001b[0m\u001b[0m\n\u001b[0;32m--> 455\u001b[0;31m         \u001b[0;32mreturn\u001b[0m \u001b[0mself\u001b[0m\u001b[0;34m.\u001b[0m\u001b[0mword_vec\u001b[0m\u001b[0;34m(\u001b[0m\u001b[0mword\u001b[0m\u001b[0;34m)\u001b[0m\u001b[0;34m\u001b[0m\u001b[0;34m\u001b[0m\u001b[0m\n\u001b[0m\u001b[1;32m    456\u001b[0m \u001b[0;34m\u001b[0m\u001b[0m\n\u001b[1;32m    457\u001b[0m     \u001b[0;32mdef\u001b[0m \u001b[0mwords_closer_than\u001b[0m\u001b[0;34m(\u001b[0m\u001b[0mself\u001b[0m\u001b[0;34m,\u001b[0m \u001b[0mw1\u001b[0m\u001b[0;34m,\u001b[0m \u001b[0mw2\u001b[0m\u001b[0;34m)\u001b[0m\u001b[0;34m:\u001b[0m\u001b[0;34m\u001b[0m\u001b[0;34m\u001b[0m\u001b[0m\n",
            "\u001b[0;32m/usr/local/lib/python3.8/dist-packages/gensim/models/keyedvectors.py\u001b[0m in \u001b[0;36mword_vec\u001b[0;34m(self, word, use_norm)\u001b[0m\n\u001b[1;32m    450\u001b[0m             \u001b[0;32mreturn\u001b[0m \u001b[0mresult\u001b[0m\u001b[0;34m\u001b[0m\u001b[0;34m\u001b[0m\u001b[0m\n\u001b[1;32m    451\u001b[0m         \u001b[0;32melse\u001b[0m\u001b[0;34m:\u001b[0m\u001b[0;34m\u001b[0m\u001b[0;34m\u001b[0m\u001b[0m\n\u001b[0;32m--> 452\u001b[0;31m             \u001b[0;32mraise\u001b[0m \u001b[0mKeyError\u001b[0m\u001b[0;34m(\u001b[0m\u001b[0;34m\"word '%s' not in vocabulary\"\u001b[0m \u001b[0;34m%\u001b[0m \u001b[0mword\u001b[0m\u001b[0;34m)\u001b[0m\u001b[0;34m\u001b[0m\u001b[0;34m\u001b[0m\u001b[0m\n\u001b[0m\u001b[1;32m    453\u001b[0m \u001b[0;34m\u001b[0m\u001b[0m\n\u001b[1;32m    454\u001b[0m     \u001b[0;32mdef\u001b[0m \u001b[0mget_vector\u001b[0m\u001b[0;34m(\u001b[0m\u001b[0mself\u001b[0m\u001b[0;34m,\u001b[0m \u001b[0mword\u001b[0m\u001b[0;34m)\u001b[0m\u001b[0;34m:\u001b[0m\u001b[0;34m\u001b[0m\u001b[0;34m\u001b[0m\u001b[0m\n",
            "\u001b[0;31mKeyError\u001b[0m: \"word '수간' not in vocabulary\""
          ]
        }
      ]
    },
    {
      "cell_type": "code",
      "source": [
        "import numpy as np\n",
        "\n",
        "def sentence_embedding_word2vec(model, sentence, dim=100):\n",
        "  sent_emb = np.zeros(dim)\n",
        "  n = 0\n",
        "\n",
        "  for word_i in sentence:\n",
        "    # Vocab에 존재하지 않는 단어의 경우 예외처리\n",
        "    try:\n",
        "      word_emb = model.wv[word_i]\n",
        "      sent_emb += word_emb\n",
        "      n += 1\n",
        "    except:\n",
        "      pass\n",
        "  \n",
        "  # 문장 임베딩 = 단어 임베딩의 평균\n",
        "  if n != 0:\n",
        "    sent_emb = sent_emb / n\n",
        "\n",
        "  return sent_emb\n",
        "\n",
        "train_x_cbow = list()\n",
        "test_x_cbow = list()\n",
        "\n",
        "for train_sent in tqdm(train_nsmc_corpus):\n",
        "  train_x_cbow.append(sentence_embedding_word2vec(CBOW_model, train_sent))\n",
        "  \n",
        "for test_sent in tqdm(test_nsmc_corpus):\n",
        "  test_x_cbow.append(sentence_embedding_word2vec(CBOW_model, test_sent))\n"
      ],
      "metadata": {
        "id": "AalTXvb4yXXb",
        "colab": {
          "base_uri": "https://localhost:8080/"
        },
        "outputId": "b549ad4a-4cf9-461a-8b0e-b6bb79b37ad6"
      },
      "execution_count": null,
      "outputs": [
        {
          "output_type": "stream",
          "name": "stderr",
          "text": [
            "100%|██████████| 150000/150000 [00:08<00:00, 17402.05it/s]\n",
            "100%|██████████| 50000/50000 [00:02<00:00, 16712.70it/s]\n"
          ]
        }
      ]
    },
    {
      "cell_type": "code",
      "source": [
        "print(len(train_x_cbow))"
      ],
      "metadata": {
        "colab": {
          "base_uri": "https://localhost:8080/"
        },
        "id": "bOwj7pK4u4TX",
        "outputId": "68bc6382-3e1e-461e-e3c3-7ca4e85680da"
      },
      "execution_count": null,
      "outputs": [
        {
          "output_type": "stream",
          "name": "stdout",
          "text": [
            "150000\n"
          ]
        }
      ]
    },
    {
      "cell_type": "markdown",
      "source": [
        "```\n",
        "문장 임베딩 결과로 한 문장을 이루는 단어들의 임베딩의 평균을 사용한다.\n",
        "\n",
        "예를 들어 한 문장이 3개의 단어가 5차원으로 임베딩이 되어있다면 [[1, 2, 3, 4, 5], [1, 2, 3, 4, 5], [1, 2, 3, 4, 5]] 이렇게 되어있고 \n",
        "\n",
        "평균은 [(1+1+1)/3, (2+2+2)/3, (3+3+3)/3, (4+4+4)/3, (5+5+5)/3] 이렇게 구할 것이다.\n",
        "```"
      ],
      "metadata": {
        "id": "WZdJ3RvqvFKU"
      }
    },
    {
      "cell_type": "code",
      "source": [
        "print(train_x_cbow[0])"
      ],
      "metadata": {
        "id": "Atabctsq2l_D",
        "colab": {
          "base_uri": "https://localhost:8080/"
        },
        "outputId": "05a07941-8cea-4c8a-e1eb-88982ba274b4"
      },
      "execution_count": null,
      "outputs": [
        {
          "output_type": "stream",
          "name": "stdout",
          "text": [
            "[-1.00505839 -0.81070619 -0.03293103 -0.52566174 -0.68931316  0.36177054\n",
            " -0.9444053  -0.19524381  0.55070054 -0.8609568   0.24253886 -0.36426238\n",
            " -1.16387616  0.10458526 -0.19977205  0.71803789  0.24559521 -0.23682014\n",
            "  0.25998896 -0.92308732 -0.31607508 -0.07139069  0.44520867 -0.12184798\n",
            "  0.08935051  0.74709111  0.43732359  0.02812632 -0.16734393 -0.52544974\n",
            " -0.56947294 -0.49256795  0.72977804 -0.08544813 -0.42400067  0.26071075\n",
            " -0.15846123 -0.47120438  0.3228762   0.85662265  0.35570175  0.07764144\n",
            " -1.17346953  0.17594641 -0.2289175   0.06001386 -0.52326286 -0.26134688\n",
            "  0.20611642  0.41414792 -0.97819123 -0.17363668 -0.61534542 -0.34313061\n",
            "  0.8130869  -0.48619541 -0.64887925  0.22245152 -0.27086574 -0.21967555\n",
            "  0.20752169 -0.00119175  0.57154278 -0.0804174   0.29208229 -0.16091868\n",
            " -0.14943271 -0.18036344 -0.6067974  -0.10508175 -0.0694753  -0.54693572\n",
            " -0.46157151 -0.18619849 -0.0381568   0.89438328 -0.06924705  0.12277227\n",
            " -0.21866433 -0.18549544 -0.25335103 -0.06380832 -0.08737337  0.73318611\n",
            "  0.02782719 -0.3906723  -0.11397168 -1.0939052   0.99723108  0.15635817\n",
            "  0.61078077  0.26889937  0.08842479 -0.05385812  0.25805798  0.25675599\n",
            "  0.64852545  0.40534873 -0.44959881 -0.39859245]\n"
          ]
        }
      ]
    },
    {
      "cell_type": "markdown",
      "source": [
        "### **LogisticRegression** <br>\n",
        "Linear Regression: 실수 범위의 값으로 예측 <br>\n",
        "Logistic Regression: 0과 1 사이의 값으로 예측\n",
        "\n",
        "-> 문장 임베딩 값이 수치값이니 w*x+b에 x 값으로 문장 임베딩 요소 값으로 넣어서 0과 1을 예측하자"
      ],
      "metadata": {
        "id": "g-s1r49cPiwG"
      }
    },
    {
      "cell_type": "code",
      "source": [
        "from sklearn.linear_model import LogisticRegression\n",
        "linear_model_cbow = LogisticRegression()\n",
        "linear_model_cbow.fit(train_x_cbow, train_labels)"
      ],
      "metadata": {
        "id": "o3f-dzRwwvhQ",
        "colab": {
          "base_uri": "https://localhost:8080/"
        },
        "outputId": "d846b64d-7c96-47d4-9de1-f2eaca03a3b6"
      },
      "execution_count": null,
      "outputs": [
        {
          "output_type": "stream",
          "name": "stderr",
          "text": [
            "/usr/local/lib/python3.8/dist-packages/sklearn/linear_model/_logistic.py:814: ConvergenceWarning: lbfgs failed to converge (status=1):\n",
            "STOP: TOTAL NO. of ITERATIONS REACHED LIMIT.\n",
            "\n",
            "Increase the number of iterations (max_iter) or scale the data as shown in:\n",
            "    https://scikit-learn.org/stable/modules/preprocessing.html\n",
            "Please also refer to the documentation for alternative solver options:\n",
            "    https://scikit-learn.org/stable/modules/linear_model.html#logistic-regression\n",
            "  n_iter_i = _check_optimize_result(\n"
          ]
        },
        {
          "output_type": "execute_result",
          "data": {
            "text/plain": [
              "LogisticRegression()"
            ]
          },
          "metadata": {},
          "execution_count": 28
        }
      ]
    },
    {
      "cell_type": "markdown",
      "source": [
        "### 모델 성능"
      ],
      "metadata": {
        "id": "9zzumrPtwOPw"
      }
    },
    {
      "cell_type": "code",
      "source": [
        "train_pred = linear_model_cbow.predict(train_x_cbow)\n",
        "# train_pred = [0, 1, 1, 0, ... ] => 0과 1로 이루어진 15만개의 예측 결과 리스트\n",
        "# train_labels = [0, 0, 1, 1, ...] => 0과 1로 이루어진 15만개의 정답 리스트\n",
        "print(\"train acc: {0}\".format(np.mean(train_pred == train_labels))) # 맞는 것들의 평균이 정확도이다.\n",
        "\n",
        "test_pred = linear_model_cbow.predict(test_x_cbow)\n",
        "print(\"test acc: {0}\".format(np.mean(test_pred == test_labels)))"
      ],
      "metadata": {
        "id": "RzD_IBN112HT",
        "colab": {
          "base_uri": "https://localhost:8080/"
        },
        "outputId": "48ee5401-272c-4102-c749-ae105b84e2bb"
      },
      "execution_count": null,
      "outputs": [
        {
          "output_type": "stream",
          "name": "stdout",
          "text": [
            "train acc: 0.8096933333333334\n",
            "test acc: 0.806\n"
          ]
        }
      ]
    },
    {
      "cell_type": "markdown",
      "source": [
        "### **3-2. Word2Vec (Skip-Gram)**\n",
        "Skip-Gram은 중심 단어를 보고 주위(Window) 단어들을 예측\n"
      ],
      "metadata": {
        "id": "XLlJlcabKiCP"
      }
    },
    {
      "cell_type": "code",
      "source": [
        "SkipGram_model = Word2Vec(sentences=train_nsmc_corpus , size = 100 , window = 5, min_count=5 , workers = 4 , sg = 1)\n",
        "\n",
        "train_x_skipgram = list()\n",
        "test_x_skipgram = list()\n",
        "\n",
        "for train_sent in tqdm(train_nsmc_corpus):\n",
        "  train_x_skipgram.append(sentence_embedding_word2vec(SkipGram_model, train_sent))\n",
        "  \n",
        "for test_sent in tqdm(test_nsmc_corpus):\n",
        "  test_x_skipgram.append(sentence_embedding_word2vec(SkipGram_model, test_sent))\n",
        "\n",
        "SkipGram_model.wv.most_similar(\"송강호\", topn=5)"
      ],
      "metadata": {
        "id": "de--mdHWEmB5",
        "colab": {
          "base_uri": "https://localhost:8080/"
        },
        "outputId": "e4768333-ee4d-4cef-e8cc-65460d6c0d9a"
      },
      "execution_count": null,
      "outputs": [
        {
          "output_type": "stream",
          "name": "stderr",
          "text": [
            "100%|██████████| 150000/150000 [00:07<00:00, 19725.20it/s]\n",
            "100%|██████████| 50000/50000 [00:02<00:00, 19624.89it/s]\n"
          ]
        },
        {
          "output_type": "execute_result",
          "data": {
            "text/plain": [
              "[('안성기', 0.8696361780166626),\n",
              " ('황정민', 0.8552669286727905),\n",
              " ('한석규', 0.8440371155738831),\n",
              " ('윤계상', 0.8416322469711304),\n",
              " ('류덕환', 0.8358038663864136)]"
            ]
          },
          "metadata": {},
          "execution_count": 31
        }
      ]
    },
    {
      "cell_type": "code",
      "source": [
        "linear_model_skipgram = LogisticRegression()\n",
        "linear_model_skipgram.fit(train_x_skipgram, train_labels)"
      ],
      "metadata": {
        "id": "UrXNjQBe6rS0",
        "colab": {
          "base_uri": "https://localhost:8080/"
        },
        "outputId": "be1995b1-8f75-4fb2-ac09-0804d72a9ecf"
      },
      "execution_count": null,
      "outputs": [
        {
          "output_type": "execute_result",
          "data": {
            "text/plain": [
              "LogisticRegression()"
            ]
          },
          "metadata": {},
          "execution_count": 32
        }
      ]
    },
    {
      "cell_type": "code",
      "source": [
        "train_pred = linear_model_skipgram.predict(train_x_skipgram)\n",
        "print(\"train acc: {0}\".format(np.mean(train_pred == train_labels)))\n",
        "test_pred = linear_model_skipgram.predict(test_x_skipgram)\n",
        "print(\"test acc: {0}\".format(np.mean(test_pred == test_labels)))"
      ],
      "metadata": {
        "id": "kcvKzpQ5FYvc",
        "colab": {
          "base_uri": "https://localhost:8080/"
        },
        "outputId": "056b3052-c16e-40ac-eef3-27035cfd9897"
      },
      "execution_count": null,
      "outputs": [
        {
          "output_type": "stream",
          "name": "stdout",
          "text": [
            "train acc: 0.8260133333333334\n",
            "test acc: 0.82134\n"
          ]
        }
      ]
    },
    {
      "cell_type": "markdown",
      "source": [
        "### **3-3. GloVe**\n",
        "Word2Vec은 이웃한 단어의 관계만 반영. 전체 코퍼스의 정보 반영 X <br>\n",
        "GloVe는 이웃한 단어의 내적이 전체 코퍼스에서의 동시 등장 확률이 되도록 학습 (전체 코퍼스의 정보 반영O)\n"
      ],
      "metadata": {
        "id": "5iG6Auk_KmYc"
      }
    },
    {
      "cell_type": "code",
      "source": [
        "pip install glove_python_binary"
      ],
      "metadata": {
        "colab": {
          "base_uri": "https://localhost:8080/"
        },
        "id": "HNB2nn9lxseQ",
        "outputId": "5f4cd705-dbe3-4352-e528-3d255aba8c9c"
      },
      "execution_count": null,
      "outputs": [
        {
          "output_type": "stream",
          "name": "stdout",
          "text": [
            "Looking in indexes: https://pypi.org/simple, https://us-python.pkg.dev/colab-wheels/public/simple/\n",
            "Collecting glove_python_binary\n",
            "  Downloading glove_python_binary-0.2.0-cp38-cp38-manylinux1_x86_64.whl (974 kB)\n",
            "\u001b[K     |████████████████████████████████| 974 kB 5.0 MB/s \n",
            "\u001b[?25hRequirement already satisfied: numpy in /usr/local/lib/python3.8/dist-packages (from glove_python_binary) (1.21.6)\n",
            "Requirement already satisfied: scipy in /usr/local/lib/python3.8/dist-packages (from glove_python_binary) (1.7.3)\n",
            "Installing collected packages: glove-python-binary\n",
            "Successfully installed glove-python-binary-0.2.0\n"
          ]
        }
      ]
    },
    {
      "cell_type": "code",
      "source": [
        "from glove import Corpus, Glove\n",
        "\n",
        "glove_corpus = Corpus()\n",
        "glove_corpus.fit(train_nsmc_corpus, window=5)\n",
        "\n",
        "glove_model = Glove(no_components=100, learning_rate=0.05)\n",
        "\n",
        "glove_model.fit(glove_corpus.matrix, epochs=30, no_threads=4, verbose=True)\n",
        "glove_model.add_dictionary(glove_corpus.dictionary)"
      ],
      "metadata": {
        "id": "bmovn0710V6K",
        "colab": {
          "base_uri": "https://localhost:8080/"
        },
        "outputId": "ba6a7a98-23df-4a4e-9f04-116bbee44cff"
      },
      "execution_count": null,
      "outputs": [
        {
          "output_type": "stream",
          "name": "stdout",
          "text": [
            "Performing 30 training epochs with 4 threads\n",
            "Epoch 0\n",
            "Epoch 1\n",
            "Epoch 2\n",
            "Epoch 3\n",
            "Epoch 4\n",
            "Epoch 5\n",
            "Epoch 6\n",
            "Epoch 7\n",
            "Epoch 8\n",
            "Epoch 9\n",
            "Epoch 10\n",
            "Epoch 11\n",
            "Epoch 12\n",
            "Epoch 13\n",
            "Epoch 14\n",
            "Epoch 15\n",
            "Epoch 16\n",
            "Epoch 17\n",
            "Epoch 18\n",
            "Epoch 19\n",
            "Epoch 20\n",
            "Epoch 21\n",
            "Epoch 22\n",
            "Epoch 23\n",
            "Epoch 24\n",
            "Epoch 25\n",
            "Epoch 26\n",
            "Epoch 27\n",
            "Epoch 28\n",
            "Epoch 29\n"
          ]
        }
      ]
    },
    {
      "cell_type": "code",
      "source": [
        "glove_model.most_similar(\"송강호\")"
      ],
      "metadata": {
        "id": "peEqRFar1SN1",
        "colab": {
          "base_uri": "https://localhost:8080/"
        },
        "outputId": "fe7352e7-7574-4b08-b9d6-a307a0a5c4d6"
      },
      "execution_count": null,
      "outputs": [
        {
          "output_type": "execute_result",
          "data": {
            "text/plain": [
              "[('김혜수', 0.8820887800824811),\n",
              " ('전도연', 0.8692602691476562),\n",
              " ('한석규', 0.868943840694518),\n",
              " ('황정민', 0.8219953944317955)]"
            ]
          },
          "metadata": {},
          "execution_count": 41
        }
      ]
    },
    {
      "cell_type": "code",
      "source": [
        "print(glove_model.dictionary[\"송강호\"])"
      ],
      "metadata": {
        "id": "oxg3-MF8V4Ea",
        "colab": {
          "base_uri": "https://localhost:8080/"
        },
        "outputId": "22215d57-44d8-4bc8-be03-00e80e4f60bc"
      },
      "execution_count": null,
      "outputs": [
        {
          "output_type": "stream",
          "name": "stdout",
          "text": [
            "1571\n"
          ]
        }
      ]
    },
    {
      "cell_type": "code",
      "source": [
        "glove_model.word_vectors[glove_model.dictionary[\"송강호\"]]"
      ],
      "metadata": {
        "id": "SHc_-VSn6Juj",
        "colab": {
          "base_uri": "https://localhost:8080/"
        },
        "outputId": "c5763d88-920e-49ac-9935-662fa141193e"
      },
      "execution_count": null,
      "outputs": [
        {
          "output_type": "execute_result",
          "data": {
            "text/plain": [
              "array([ 0.01816078, -0.06439144, -0.00099349,  0.03450806,  0.18384156,\n",
              "        0.29463263, -0.05815017, -0.0278993 , -0.04618377,  0.03156437,\n",
              "       -0.08516555,  0.05503753,  0.00833572,  0.19264104, -0.00294195,\n",
              "       -0.0155024 ,  0.04933996, -0.0542288 , -0.06119193,  0.19291067,\n",
              "       -0.05006303, -0.05321567,  0.26649126,  0.06193088,  0.06645491,\n",
              "       -0.03550653, -0.05063277,  0.13164599,  0.00806965,  0.00775278,\n",
              "       -0.13291446, -0.00402325,  0.09238119,  0.0215948 ,  0.08870745,\n",
              "        0.07999845,  0.17685755, -0.0483145 ,  0.08885426, -0.00470385,\n",
              "        0.00487702,  0.0150224 ,  0.2643144 ,  0.14368683,  0.00036187,\n",
              "        0.06050917, -0.04313718, -0.01014807, -0.06239805,  0.0545082 ,\n",
              "       -0.01298096, -0.09224155, -0.07451784,  0.04615526, -0.04694218,\n",
              "        0.01253877,  0.07027624, -0.02808629,  0.02376414, -0.00198097,\n",
              "        0.04510739,  0.03360412, -0.00560654,  0.15721051, -0.04011379,\n",
              "       -0.0115198 , -0.00078922, -0.00724472, -0.06214793, -0.10566136,\n",
              "        0.05729033, -0.05068898, -0.03947916,  0.09070091,  0.01261947,\n",
              "        0.31075652, -0.03275566, -0.00301665,  0.00763491,  0.14105184,\n",
              "       -0.06974253, -0.04417261, -0.0077923 , -0.03317796,  0.02636861,\n",
              "       -0.03468241, -0.01537538, -0.02820857,  0.02755107,  0.08041334,\n",
              "       -0.12213832,  0.06810803, -0.03979019, -0.01610812, -0.05931238,\n",
              "       -0.03182261, -0.05896167,  0.0635051 , -0.01309453, -0.04455613])"
            ]
          },
          "metadata": {},
          "execution_count": 43
        }
      ]
    },
    {
      "cell_type": "code",
      "source": [
        "def sentence_embedding_glove(model, sentence, dim=100):\n",
        "  sent_emb = np.zeros(100)\n",
        "  n = 0\n",
        "\n",
        "  for word_i in sentence:\n",
        "    try:\n",
        "      word_emb = model.word_vectors[model.dictionary[word_i]]\n",
        "      sent_emb += word_emb\n",
        "      n += 1\n",
        "    except:\n",
        "      pass\n",
        "  \n",
        "  if n != 0:\n",
        "    sent_emb = sent_emb / n\n",
        "\n",
        "  return sent_emb\n",
        "\n",
        "train_x_glove = list()\n",
        "test_x_glove = list()\n",
        "\n",
        "for train_sent in tqdm(train_nsmc_corpus):\n",
        "  train_x_glove.append(sentence_embedding_glove(glove_model, train_sent))\n",
        "  \n",
        "for test_sent in tqdm(test_nsmc_corpus):\n",
        "  test_x_glove.append(sentence_embedding_glove(glove_model, test_sent))"
      ],
      "metadata": {
        "id": "bWQIavPb6kyC",
        "colab": {
          "base_uri": "https://localhost:8080/"
        },
        "outputId": "75e53510-d561-4a0a-ad2d-72347808da11"
      },
      "execution_count": null,
      "outputs": [
        {
          "output_type": "stream",
          "name": "stderr",
          "text": [
            "100%|██████████| 150000/150000 [00:04<00:00, 33733.24it/s]\n",
            "100%|██████████| 50000/50000 [00:01<00:00, 37024.04it/s]\n"
          ]
        }
      ]
    },
    {
      "cell_type": "code",
      "source": [
        "linear_model_glove = LogisticRegression()\n",
        "linear_model_glove.fit(train_x_glove, train_labels)"
      ],
      "metadata": {
        "id": "ciGf7FPrHGHW",
        "colab": {
          "base_uri": "https://localhost:8080/"
        },
        "outputId": "673be483-3ffc-4f0e-d7ae-2193f314828a"
      },
      "execution_count": null,
      "outputs": [
        {
          "output_type": "stream",
          "name": "stderr",
          "text": [
            "/usr/local/lib/python3.8/dist-packages/sklearn/linear_model/_logistic.py:814: ConvergenceWarning: lbfgs failed to converge (status=1):\n",
            "STOP: TOTAL NO. of ITERATIONS REACHED LIMIT.\n",
            "\n",
            "Increase the number of iterations (max_iter) or scale the data as shown in:\n",
            "    https://scikit-learn.org/stable/modules/preprocessing.html\n",
            "Please also refer to the documentation for alternative solver options:\n",
            "    https://scikit-learn.org/stable/modules/linear_model.html#logistic-regression\n",
            "  n_iter_i = _check_optimize_result(\n"
          ]
        },
        {
          "output_type": "execute_result",
          "data": {
            "text/plain": [
              "LogisticRegression()"
            ]
          },
          "metadata": {},
          "execution_count": 45
        }
      ]
    },
    {
      "cell_type": "code",
      "source": [
        "train_pred = linear_model_glove.predict(train_x_glove)\n",
        "print(\"train acc: {0}\".format(np.mean(train_pred == train_labels)))\n",
        "test_pred = linear_model_glove.predict(test_x_glove)\n",
        "print(\"test acc: {0}\".format(np.mean(test_pred == test_labels)))"
      ],
      "metadata": {
        "id": "xWrcmtMW38MK",
        "colab": {
          "base_uri": "https://localhost:8080/"
        },
        "outputId": "d5b5f7d1-4d9f-4299-9bf7-12549e926c05"
      },
      "execution_count": null,
      "outputs": [
        {
          "output_type": "stream",
          "name": "stdout",
          "text": [
            "train acc: 0.78466\n",
            "test acc: 0.77944\n"
          ]
        }
      ]
    },
    {
      "cell_type": "markdown",
      "source": [
        "### **3-4. 학습한 모델 저장 및 불러오기**\n"
      ],
      "metadata": {
        "id": "7zCMDn0Yznzb"
      }
    },
    {
      "cell_type": "code",
      "source": [
        "# 저장\n",
        "CBOW_model.save(\"word2vec_cbow.model\")\n",
        "\n",
        "# 불러오기\n",
        "CBOW_model_2 = Word2Vec.load(\"word2vec_cbow.model\")\n",
        "\n",
        "cbow_vector_1 = CBOW_model.wv[\"송강호\"]\n",
        "cbow_vector_2 = CBOW_model_2.wv[\"송강호\"]\n",
        "\n",
        "if np.sum(np.abs(cbow_vector_1 - cbow_vector_2)) == 0:\n",
        "  print(\"두 단어 임베딩이 일치함!\")"
      ],
      "metadata": {
        "id": "4BAMn0j97KwK"
      },
      "execution_count": null,
      "outputs": []
    },
    {
      "cell_type": "code",
      "source": [
        "# 저장\n",
        "glove_model.save(\"glove.model\")\n",
        "\n",
        "# 불러오기\n",
        "glove_model_2 = glove_model.load(\"glove.model\")\n",
        "\n",
        "glove_vector_1 = glove_model.word_vectors[glove_model.dictionary[\"송강호\"]]\n",
        "glove_vector_2 = glove_model_2.word_vectors[glove_model.dictionary[\"송강호\"]]\n",
        "\n",
        "if np.sum(np.abs(glove_vector_1 - glove_vector_2)) == 0:\n",
        "  print(\"두 단어 임베딩이 일치함!\")"
      ],
      "metadata": {
        "id": "hVe2t-CIzSqt"
      },
      "execution_count": null,
      "outputs": []
    },
    {
      "cell_type": "code",
      "source": [],
      "metadata": {
        "id": "hkwXnJ2Y0php"
      },
      "execution_count": null,
      "outputs": []
    }
  ]
}