{
  "nbformat": 4,
  "nbformat_minor": 0,
  "metadata": {
    "colab": {
      "provenance": []
    },
    "kernelspec": {
      "name": "python3",
      "display_name": "Python 3"
    },
    "language_info": {
      "name": "python"
    }
  },
  "cells": [
    {
      "cell_type": "markdown",
      "source": [
        "# lstm으로 분류문제\n",
        "\n",
        "문장이 주어졌을 때 스팸메일 분류하기\n",
        "\n",
        "1. 데이터는 0, 1로 라벨링이 되어있다.\n",
        "\n",
        "2. 언어 모델의 흐름\n",
        "토큰화 > 정제 및 추출 > 인코딩 >\n",
        "임베딩(w2v) > \n",
        "\n",
        "-> 서브클래싱에 적용\n",
        "토큰화 > 정제 및 추출 > 인코딩 > keras.embedding\n",
        "\n",
        "-> 서브 클래싱 코드 : init에 사용할 레이어 선언하고  forward에서 함수형 API 사용해서 레이어 연결한다. forward가 순전파라서 그냥 함수형 쓰듯이 하면된다.\n",
        "\n",
        "\n",
        "3. 모델 선언"
      ],
      "metadata": {
        "id": "OXvfcjHOOkuH"
      }
    },
    {
      "cell_type": "code",
      "execution_count": null,
      "metadata": {
        "id": "vDUwTdk6Od0w"
      },
      "outputs": [],
      "source": [
        "import torch\n",
        "import torch.nn as nn\n",
        "import numpy as np\n",
        "from torch.autograd import Variable\n",
        "\n",
        "\n",
        "class LSTM_net(nn.Module):\n",
        "    def __init__(self, num_output, input_size, hidden_size, linear_size, num_layers, seq_length, device):\n",
        "        super(LSTM_net, self).__init__()\n",
        "        self.device = device\n",
        "        self.num_output = num_output\n",
        "        self.input_size = input_size\n",
        "        self.hidden_size = hidden_size\n",
        "        self.seq_length = seq_length\n",
        "        self.num_layers = num_layers\n",
        "        self.embed = nn.Embedding(size_vocab, dim_embed)\n",
        "\n",
        "        '''\n",
        "        1. bi를 지정 가능하다.\n",
        "        '''\n",
        "        self.lstm = nn.LSTM(input_size = input_size, hidden_size = hidden_size,\n",
        "                            num_layers = num_layers, dropout = 0.3, bidirectional = True) # lstm 레이어\n",
        "        \n",
        "        '''\n",
        "        1. 분류 문제 마지막 단의 fcn1\n",
        "        2. fcn의 입력으로 h * w인 y를 넣어도 되지만 그냥 h를 넣는 것과 다를 바가 없다. 그래서 hidden_size가 인풋\n",
        "        > 그리고 거기서 나온 linear size가 다음 linear size로 가고 num_output에서 분류한다.\n",
        "        '''\n",
        "        self.fclayer = nn.Linear(hidden_size, linear_size) \n",
        "        self.outlayer = nn.Linear(linear_size, num_output) # fcn2\n",
        "\n",
        "    \n",
        "\n",
        "\n",
        "    # 순전파(역전파는 메인함수에서 돌릴 것이기 때문에 굳이 클래스에 쓸 필요는 없다. 없다면 메인에 있구나~라고 생각하라)\n",
        "\n",
        "    def forward(self, x):\n",
        "        scaler = 2 if self.lstm.bidirectional == True else 1 # bi면 2 아니면 1를 리턴\n",
        "\n",
        "        # x는 정수 인코딩 결과이다.\n",
        "        emb = self.embeded(x)\n",
        "\n",
        "        # h, c state 초기화\n",
        "        h_state = Variable(torch.zeros(self.num_layers*scaler, x.size(0),\n",
        "                                       self.hidden_size, requires_grad = True)).to(self.device)\n",
        "\n",
        "\n",
        "        c_state = Variable(torch.zeros(self.num_layers*scaler, x.size(0),\n",
        "                                       self.hidden_size, requires_grad = True)).to(self.device)\n",
        "\n",
        "\n",
        "\n",
        "        # transpose는 입력의 shape을 맞춰주기 위함 1, 2차원을 바꿔주는 것이다.\n",
        "        lstm_out, (h, c) = self.lstm(emb).transpose(1,0), (h_state, c_state))\n",
        "        \n",
        "        h = h[-1] # h의 맨 마지막 인덱싱 (-1) : h이 배열에 저장되어있다.\n",
        "        h = self.fclayer(h).relu() # 히든을 fcn에 넣어서 predict\n",
        "        predict = self.outlayer(h)\n",
        "        return predict"
      ]
    },
    {
      "cell_type": "markdown",
      "source": [
        "4.데이터 전처리\n",
        "\n",
        "1) 0열이 text, 1열이 라벨 > iloc으로 0열 텍스트를 다 가져온다.\n",
        "\n",
        "2) 바로 붙이진 말고 문장별로 토큰화하고 불용어 처리(정제 및 추출)하고 token text에 append한다.\n",
        "\n",
        "-> 느낀게 있는데 원본 문장별로 학습을 시켜야 할까 아니면 토큰별로 다 쪼개서 append를 했는데 다 통으로 보는 걸까?\n",
        "\n",
        "+알았다. 문장별로 본다. 원본 문장 하나를 불용어 처리하는 함수에 넣어서 제거하고 다시 1차 append로 붙이고 1차가 끝나면 token_text에 전부 붙인다.\n",
        "\n",
        "[ ['i', 'am' ], ['he', 'is' ] ]이런 식이다.\n",
        "\n",
        "3) 인코딩 : keras의 preprocessing의 texts to sequence에 넣으면 알아서 인코딩이 된다.  \n",
        "\n"
      ],
      "metadata": {
        "id": "8Dt9EJ6UYM_A"
      }
    },
    {
      "cell_type": "markdown",
      "source": [
        "![1.PNG](data:image/png;base64,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)"
      ],
      "metadata": {
        "id": "g3QYvgECYbqo"
      }
    },
    {
      "cell_type": "markdown",
      "source": [
        "4) 라벨도 넘파이 행렬로 바꿔줘야한다. 위 작업을 거쳤으면 texts는 넘파이 행렬이다. 라벨도 넘파이로 만들어준다.(그러면 data api쓰기 좋다!!)\n",
        "\n",
        "5) 패딩 : seq_len을 가급적 통일해주는 것이 좋다. 가장 긴 것을 기준으로 잡고 짧은 애들은 훈련을 할 때 \"0이 나오기 전까지만 사용을 해라\"라고 할 수 있다.\n",
        "\n",
        "-> 근데 역시 자연어 처리는 개발자 직관이 성립한다고 했다. 지금 현재 최장 문장이 단어 수가 5500개이다. 일반적으로 스팸 메일은 앞에 두 문장만 봐도 알 수 있다.\n",
        "\n",
        "그러니 개발자 직관대로 seq_len을 100으로 잡자(이럴 수 있다는 것이지 이러라는 건 아니다.)"
      ],
      "metadata": {
        "id": "htTbPYysaQtl"
      }
    },
    {
      "cell_type": "markdown",
      "source": [
        "5.데이터 셋 클래스 선언\n",
        "\n",
        "데이터가 있으면 텐서로 바꿔야한다. return을 x, y 이런식으로 하면 데이터로더로 들어간다. (만들어 놓고 나중에 찾아 써라)\n",
        "\n",
        "-> 데이터로더는 데이터셋을 배치 단위로 짜르는 애다. 셔플도 된다.\n",
        "\n",
        "6.학습\n",
        "\n",
        "\n"
      ],
      "metadata": {
        "id": "4gXXWA0Scllj"
      }
    },
    {
      "cell_type": "code",
      "source": [],
      "metadata": {
        "id": "zBxLk63HX2B6"
      },
      "execution_count": null,
      "outputs": []
    },
    {
      "cell_type": "code",
      "source": [],
      "metadata": {
        "id": "ReR50RUKX1_0"
      },
      "execution_count": null,
      "outputs": []
    },
    {
      "cell_type": "code",
      "source": [],
      "metadata": {
        "id": "J53mNpctX19q"
      },
      "execution_count": null,
      "outputs": []
    },
    {
      "cell_type": "code",
      "source": [],
      "metadata": {
        "id": "BTFMMb8aX17t"
      },
      "execution_count": null,
      "outputs": []
    },
    {
      "cell_type": "markdown",
      "source": [
        "# seq2seq를 이용한 NLP 번역"
      ],
      "metadata": {
        "id": "JY-Oy9eQeuxu"
      }
    },
    {
      "cell_type": "code",
      "source": [
        "class CNN_1D(nn.Module):\n",
        "    def __init__(self, num_output, input_size, hidden_size, linear_size, kernel_size, seq_length, device):\n",
        "        super(CNN_1D, self).__init__()\n",
        "        self.device = device\n",
        "        self.conv1 = nn.Conv1d(in_channels = input_size, out_channels = hidden_size, kernel_size = kernel_size)\n",
        "        self.fclayer = nn.Linear(hidden_size * (seq_length - kernel_size + 1), linear_size)\n",
        "        self.outlayer = nn.Linear(linear_size, num_output)\n",
        "\n",
        "    def forward(self, x):\n",
        "        x = self.conv1(x.transpose(1,2)).flatten(1)\n",
        "        x = self.fclayer(x).relu()\n",
        "        predict = self.outlayer(x)\n",
        "        return predict"
      ],
      "metadata": {
        "id": "lnyYXQJcPZdK"
      },
      "execution_count": null,
      "outputs": []
    },
    {
      "cell_type": "markdown",
      "source": [
        "## seq2seq를 이용한 NLP 번역을 할 것이다\n",
        "\n",
        "-> 데이터는 공개된 데이터이다. 독일어와 영어를 번역할 것이다."
      ],
      "metadata": {
        "id": "I-Vg4snrrkXG"
      }
    },
    {
      "cell_type": "markdown",
      "source": [
        "```\n",
        "↓ 아래 블럭에서 데이터를 불러 오면 토큰화 정제 및 추출, 인코딩, 까지 되어있다.\n",
        "\n",
        "+ bos, eos까지 붙여준다.\n",
        "```"
      ],
      "metadata": {
        "id": "ArTNtw3ttE-P"
      }
    },
    {
      "cell_type": "code",
      "source": [
        "import nltk\n",
        "import numpy as np\n",
        "import re\n",
        "import shutil\n",
        "import tensorflow as tf\n",
        "import os\n",
        "import unicodedata\n",
        "\n",
        "from nltk.translate.bleu_score import sentence_bleu, SmoothingFunction\n",
        "\n",
        "def clean_up_logs(data_dir):\n",
        "    checkpoint_dir = os.path.join(data_dir, \"checkpoints\")\n",
        "    if os.path.exists(checkpoint_dir):\n",
        "        shutil.rmtree(checkpoint_dir, ignore_errors=True)\n",
        "        os.makedirs(checkpoint_dir)\n",
        "    return checkpoint_dir\n",
        "\n",
        "\n",
        "def preprocess_sentence(sent):\n",
        "    sent = \"\".join([c for c in unicodedata.normalize(\"NFD\", sent) \n",
        "        if unicodedata.category(c) != \"Mn\"])\n",
        "    sent = re.sub(r\"([!.?])\", r\" \\1\", sent)\n",
        "    sent = re.sub(r\"[^a-zA-Z!.?]+\", r\" \", sent)\n",
        "    sent = re.sub(r\"\\s+\", \" \", sent)\n",
        "    sent = sent.lower()\n",
        "    return sent\n",
        "\n",
        "\n",
        "def download_and_read():\n",
        "    en_sents, fr_sents_in, fr_sents_out = [], [], []\n",
        "    local_file = os.path.join(\"datasets\", \"fra.txt\")\n",
        "    with open(local_file, \"r\") as fin:\n",
        "        for i, line in enumerate(fin):\n",
        "            en_sent, fr_sent = line.strip().split('\\t')\n",
        "            en_sent = [w for w in preprocess_sentence(en_sent).split()]\n",
        "            fr_sent = preprocess_sentence(fr_sent)\n",
        "            fr_sent_in = [w for w in (\"BOS \" + fr_sent).split()]\n",
        "            fr_sent_out = [w for w in (fr_sent + \" EOS\").split()]\n",
        "            en_sents.append(en_sent)\n",
        "            fr_sents_in.append(fr_sent_in)\n",
        "            fr_sents_out.append(fr_sent_out)\n",
        "            if i >= num_sent_pairs - 1:\n",
        "                break\n",
        "    return en_sents, fr_sents_in, fr_sents_out"
      ],
      "metadata": {
        "id": "jSj_8H9wtEU_"
      },
      "execution_count": null,
      "outputs": []
    },
    {
      "cell_type": "markdown",
      "source": [
        "## 인, 디코더 선언\n",
        "\n",
        "### 인코더 네트워크 구성 -> 두개로 구성된다.\n",
        "1) 임베딩 : src문장을 임베딩을 통과시킨다.\n",
        "-> 인자 : 1. vocabsize 행이 vocabsize인 lookup table을 만든다.\n",
        "\n",
        "2.emb_dim : lookup table에서 열을 차지하는 임베딩 size\n",
        "\n",
        "\n",
        "2) rnn : 임베딩 출력값을 GRU을 거친다.\n",
        "\n",
        "-> 이후에 마지막의 hidden을 context vector로 사용한다.(return)\n",
        "\n",
        "-> 인자 : 임베딩 size를 입력으로 받는다.\n",
        "\n",
        "=> 결론 : 인코더는 이전에 스팸 메일 분류와 같은 모양이다. text를 인코딩하여 의미를 추출하는 것이 동일하기 때문이다.\n"
      ],
      "metadata": {
        "id": "M7NTR4TctZG4"
      }
    },
    {
      "cell_type": "code",
      "source": [
        "class Encoder(tf.keras.Model):\n",
        "    def __init__(self, vocab_size, embedding_dim, num_timesteps, \n",
        "            encoder_dim, **kwargs):\n",
        "        super(Encoder, self).__init__(**kwargs)\n",
        "        self.encoder_dim = encoder_dim\n",
        "\n",
        "        # 임베딩\n",
        "        self.embedding = tf.keras.layers.Embedding(\n",
        "            vocab_size, embedding_dim, input_length=num_timesteps)\n",
        "        \n",
        "        # rnn\n",
        "        self.rnn = tf.keras.layers.GRU(\n",
        "            # return_sequences=False: rnn 매 타임마다 출력하지 않고 마지막에만 출력을 한다.\n",
        "            encoder_dim, return_sequences=False, return_state=True)\n",
        "\n",
        "    # 객체 호출 메서드\n",
        "    def call(self, x, state):\n",
        "        x = self.embedding(x)\n",
        "        x, state = self.rnn(x, initial_state=state)\n",
        "        return x, state\n",
        "\n",
        "    def init_state(self, batch_size):\n",
        "        return tf.zeros((batch_size, self.encoder_dim))"
      ],
      "metadata": {
        "id": "qHBzoZgHst5d"
      },
      "execution_count": null,
      "outputs": []
    },
    {
      "cell_type": "markdown",
      "source": [
        "## 디코더 네트워크 구성 \n",
        "\n",
        "cv를 받아와서 lstm의 init hidden으로 사용하는 구조이다. -> 3가지이다.\n",
        "\n",
        "1) 임베딩 : 입력이 들어오면 마찬가지로 임베딩 레이어를 거친다. \n",
        "\n",
        "2) rnn : 임베딩 레이어 결과가 rnn을 거친다.\n",
        "\n",
        "3) fcn : 특이한게 fnc레이어가 하나 붙는다.\n",
        "\n",
        "-> 왜 붙냐면 lstm의 출력은 번역 결과이다. 근데 그러기 위해서는 출력이 원핫된 결과여야한다. 그 원핫의 클래스 개수는 vocab_size와 똑같다. 그래야 rnn이 번역 결과로 어떤 단어를 선택할지 알 수 있을 것이니 말이다. "
      ],
      "metadata": {
        "id": "vnWr4Yvgvq_U"
      }
    },
    {
      "cell_type": "code",
      "source": [
        "class Decoder(tf.keras.Model):\n",
        "    def __init__(self, vocab_size, embedding_dim, num_timesteps,\n",
        "            decoder_dim, **kwargs):\n",
        "        super(Decoder, self).__init__(**kwargs)\n",
        "        self.decoder_dim = decoder_dim\n",
        "        self.embedding = tf.keras.layers.Embedding(\n",
        "            vocab_size, embedding_dim, input_length=num_timesteps)\n",
        "        self.rnn = tf.keras.layers.GRU(\n",
        "            decoder_dim, return_sequences=True, return_state=True)\n",
        "        \n",
        "\n",
        "        self.dense = tf.keras.layers.Dense(vocab_size)\n",
        "\n",
        "    def call(self, x, state):\n",
        "        x = self.embedding(x)\n",
        "        x, state = self.rnn(x, state)\n",
        "        x = self.dense(x)\n",
        "        return x, state"
      ],
      "metadata": {
        "id": "HvYQLFnGvri0"
      },
      "execution_count": null,
      "outputs": []
    },
    {
      "cell_type": "code",
      "source": [
        "def loss_fn(ytrue, ypred):\n",
        "    scce = tf.keras.losses.SparseCategoricalCrossentropy(from_logits=True)\n",
        "    mask = tf.math.logical_not(tf.math.equal(ytrue, 0))\n",
        "    mask = tf.cast(mask, dtype=tf.int64)\n",
        "    loss = scce(ytrue, ypred, sample_weight=mask)\n",
        "    return loss\n",
        "\n",
        "\n",
        "@tf.function\n",
        "def train_step(encoder_in, decoder_in, decoder_out, encoder_state):\n",
        "    with tf.GradientTape() as tape:\n",
        "        encoder_out, encoder_state = encoder(encoder_in, encoder_state)\n",
        "        decoder_state = encoder_state\n",
        "        decoder_pred, decoder_state = decoder(decoder_in, decoder_state)\n",
        "        loss = loss_fn(decoder_out, decoder_pred)\n",
        "    \n",
        "    variables = encoder.trainable_variables + decoder.trainable_variables\n",
        "    gradients = tape.gradient(loss, variables)\n",
        "    optimizer.apply_gradients(zip(gradients, variables))\n",
        "    return loss\n",
        "\n",
        "\n",
        "\n",
        "\n",
        "def predict(encoder, decoder, batch_size, \n",
        "        sents_en, data_en, sents_fr_out, \n",
        "        word2idx_fr, idx2word_fr):\n",
        "    random_id = np.random.choice(len(sents_en))\n",
        "    print(\"input    : \",  \" \".join(sents_en[random_id]))\n",
        "    print(\"label    : \", \" \".join(sents_fr_out[random_id]))\n",
        "\n",
        "    # 인, 디코더 입력차원 배치 차원 생성\n",
        "    encoder_in = tf.expand_dims(data_en[random_id], axis=0)\n",
        "    decoder_out = tf.expand_dims(sents_fr_out[random_id], axis=0)\n",
        "\n",
        "    # 인코더 초기 상태 0\n",
        "    encoder_state = encoder.init_state(1)\n",
        "\n",
        "    '''\n",
        "    인코더의 출력에서 마지막 hidden state를 디코더의 초기 hidden으로 사용\n",
        "    인코더에서 매 타임마다 출력을 하지 않게 해서 마지막 hidden을 뽑기 가능\n",
        "    '''\n",
        "    encoder_out, encoder_state = encoder(encoder_in, encoder_state)\n",
        "    decoder_state = encoder_state\n",
        "\n",
        "    decoder_in = tf.expand_dims(tf.constant([word2idx_fr[\"BOS\"]]), axis=0)\n",
        "    \n",
        "    \n",
        "    \n",
        "    pred_sent_fr = []\n",
        "    while True:\n",
        "        decoder_pred, decoder_state = decoder(decoder_in, decoder_state)\n",
        "        decoder_pred = tf.argmax(decoder_pred, axis=-1)\n",
        "        pred_word = idx2word_fr[decoder_pred.numpy()[0][0]]\n",
        "        pred_sent_fr.append(pred_word)\n",
        "\n",
        "        # 디코더의 출력이 EOS면 break\n",
        "        if pred_word == \"EOS\":\n",
        "            break\n",
        "        decoder_in = decoder_pred\n",
        "    \n",
        "\n",
        "    # 예측한 결과를 pred_에 append하고 join하여 최종 문장으로 만듬\n",
        "    print(\"predicted: \", \" \".join(pred_sent_fr))"
      ],
      "metadata": {
        "id": "DqC0Sqc8tWok"
      },
      "execution_count": null,
      "outputs": []
    }
  ]
}