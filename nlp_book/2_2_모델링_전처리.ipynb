{
  "nbformat": 4,
  "nbformat_minor": 0,
  "metadata": {
    "colab": {
      "provenance": []
    },
    "kernelspec": {
      "name": "python3",
      "display_name": "Python 3"
    },
    "language_info": {
      "name": "python"
    }
  },
  "cells": [
    {
      "cell_type": "markdown",
      "source": [
        "## 6. 정수 인코딩\n",
        "\n",
        "컴퓨터는 숫자를 더 잘 이해하기에 텍스트를 숫자로 바꿔야하고 바꾸는 여러가지 기법들이 있다. \n",
        "\n",
        "이를 수행하기 위한 순서는 알듯이 토큰화 > 정제 및 추출이다. 이가 선행되어야 한다."
      ],
      "metadata": {
        "id": "4YSSFQLojcQn"
      }
    },
    {
      "cell_type": "markdown",
      "source": [
        "#### 1) 정수 인코딩\n",
        "\n",
        "단어에 정수를 부여하는 방법 중 하나로 단어를 빈도수 순으로 정렬한 단어 집합(vocabulary)을 만들고, 빈도수가 높은 순서대로 차례로 낮은 숫자부터 정수를 부여하는 방법"
      ],
      "metadata": {
        "id": "sxlUKtL0j99j"
      }
    },
    {
      "cell_type": "code",
      "execution_count": null,
      "metadata": {
        "id": "LSJdA8gZs1U1"
      },
      "outputs": [],
      "source": [
        "from nltk.tokenize import sent_tokenize\n",
        "from nltk.tokenize import word_tokenize\n",
        "from nltk.corpus import stopwords"
      ]
    },
    {
      "cell_type": "code",
      "source": [
        "raw_text = \"A barber is a person. a barber is good person. a barber is huge person. he Knew A Secret! The Secret He Kept is huge secret. Huge secret. His barber kept his word. a barber kept his word. His barber kept his secret. But keeping and keeping such a huge secret to himself was driving the barber crazy. the barber went up a huge mountain.\""
      ],
      "metadata": {
        "id": "mrSyKM15kNUm"
      },
      "execution_count": null,
      "outputs": []
    },
    {
      "cell_type": "code",
      "source": [
        "import nltk\n",
        "nltk.download('punkt')"
      ],
      "metadata": {
        "colab": {
          "base_uri": "https://localhost:8080/"
        },
        "id": "zVBUH_7ckSHP",
        "outputId": "22d52187-53c5-42dc-c6a0-52907affc9f9"
      },
      "execution_count": null,
      "outputs": [
        {
          "output_type": "stream",
          "name": "stderr",
          "text": [
            "[nltk_data] Downloading package punkt to /root/nltk_data...\n",
            "[nltk_data]   Unzipping tokenizers/punkt.zip.\n"
          ]
        },
        {
          "output_type": "execute_result",
          "data": {
            "text/plain": [
              "True"
            ]
          },
          "metadata": {},
          "execution_count": 5
        }
      ]
    },
    {
      "cell_type": "code",
      "source": [
        "# 문장 토큰화\n",
        "sentences = sent_tokenize(raw_text)\n",
        "print(sentences)"
      ],
      "metadata": {
        "colab": {
          "base_uri": "https://localhost:8080/"
        },
        "id": "nrZNKZ8IkOK-",
        "outputId": "dda2e6e8-d300-42c4-b777-10b33c603313"
      },
      "execution_count": null,
      "outputs": [
        {
          "output_type": "stream",
          "name": "stdout",
          "text": [
            "['A barber is a person.', 'a barber is good person.', 'a barber is huge person.', 'he Knew A Secret!', 'The Secret He Kept is huge secret.', 'Huge secret.', 'His barber kept his word.', 'a barber kept his word.', 'His barber kept his secret.', 'But keeping and keeping such a huge secret to himself was driving the barber crazy.', 'the barber went up a huge mountain.']\n"
          ]
        }
      ]
    },
    {
      "cell_type": "code",
      "source": [
        "nltk.download('stopwords')"
      ],
      "metadata": {
        "colab": {
          "base_uri": "https://localhost:8080/"
        },
        "id": "syEG_NwOlH1N",
        "outputId": "fe754539-d067-4dbb-b226-fc198ef63cc3"
      },
      "execution_count": null,
      "outputs": [
        {
          "output_type": "stream",
          "name": "stderr",
          "text": [
            "[nltk_data] Downloading package stopwords to /root/nltk_data...\n",
            "[nltk_data]   Unzipping corpora/stopwords.zip.\n"
          ]
        },
        {
          "output_type": "execute_result",
          "data": {
            "text/plain": [
              "True"
            ]
          },
          "metadata": {},
          "execution_count": 8
        }
      ]
    },
    {
      "cell_type": "code",
      "source": [
        "# 정제 및 추출\n",
        "# 1. 소문자화, 2. 단어 길이 2 이하 제거\n",
        "\n",
        "vocab = {}\n",
        "preprocessed_sentences = []\n",
        "stop_words = set(stopwords.words('english'))\n",
        "\n",
        "for sentence in sentences:\n",
        "    # 단어 토큰화\n",
        "    tokenized_sentence = word_tokenize(sentence)\n",
        "    result = []\n",
        "\n",
        "    for word in tokenized_sentence: \n",
        "        word = word.lower() # 모든 단어를 소문자화하여 단어의 개수를 줄인다.\n",
        "        if word not in stop_words: # 단어 토큰화 된 결과에 대해서 불용어를 제거한다.\n",
        "            if len(word) > 2: # 단어 길이가 2이하인 경우에 대하여 추가로 단어를 제거한다.\n",
        "                result.append(word)\n",
        "                if word not in vocab:\n",
        "                    vocab[word] = 0 \n",
        "                vocab[word] += 1 \n",
        "    preprocessed_sentences.append(result) \n",
        "print(preprocessed_sentences)"
      ],
      "metadata": {
        "colab": {
          "base_uri": "https://localhost:8080/"
        },
        "id": "nw02GSMFkQLX",
        "outputId": "7b0358b8-b5e1-4ccc-9a22-8d6485831945"
      },
      "execution_count": null,
      "outputs": [
        {
          "output_type": "stream",
          "name": "stdout",
          "text": [
            "[['barber', 'person'], ['barber', 'good', 'person'], ['barber', 'huge', 'person'], ['knew', 'secret'], ['secret', 'kept', 'huge', 'secret'], ['huge', 'secret'], ['barber', 'kept', 'word'], ['barber', 'kept', 'word'], ['barber', 'kept', 'secret'], ['keeping', 'keeping', 'huge', 'secret', 'driving', 'barber', 'crazy'], ['barber', 'went', 'huge', 'mountain']]\n"
          ]
        }
      ]
    },
    {
      "cell_type": "code",
      "source": [
        "# 인코딩하는 작업이지 엄밀히 말하면 단어 사전은 아님(하지만 책에서는 단어 집합이라고 표현한다. 아니라고 보기도 어렵기 때문이다.)\n",
        "# 단어 사전은 단어에 인덱스를 부여하고 단어 개수만큼 배열을 만들어서 인덱스와 단어를 매칭하는 개념\n",
        "print('단어 집합 :',vocab)"
      ],
      "metadata": {
        "colab": {
          "base_uri": "https://localhost:8080/"
        },
        "id": "xEWfy69alFsg",
        "outputId": "2d23b83a-7560-4092-ca8c-1598d8b4ab2c"
      },
      "execution_count": null,
      "outputs": [
        {
          "output_type": "stream",
          "name": "stdout",
          "text": [
            "단어 집합 : {'barber': 8, 'person': 3, 'good': 1, 'huge': 5, 'knew': 1, 'secret': 6, 'kept': 4, 'word': 2, 'keeping': 2, 'driving': 1, 'crazy': 1, 'went': 1, 'mountain': 1}\n"
          ]
        }
      ]
    },
    {
      "cell_type": "markdown",
      "source": [
        "높은 빈도수를 가진 단어일수록 낮은 정수 부여, 정수는 1부터 부여한다."
      ],
      "metadata": {
        "id": "m663AFycl1aP"
      }
    },
    {
      "cell_type": "code",
      "source": [
        "# 빈도수가 높은 순으로 정렬\n",
        "vocab_sorted = sorted(vocab.items(), key = lambda x:x[1], reverse = True)\n",
        "print(vocab_sorted)"
      ],
      "metadata": {
        "colab": {
          "base_uri": "https://localhost:8080/"
        },
        "id": "Moao5sZmlKv5",
        "outputId": "8ed78710-ede4-42da-c5e3-b20aa80d2c82"
      },
      "execution_count": null,
      "outputs": [
        {
          "output_type": "stream",
          "name": "stdout",
          "text": [
            "[('barber', 8), ('secret', 6), ('huge', 5), ('kept', 4), ('person', 3), ('word', 2), ('keeping', 2), ('good', 1), ('knew', 1), ('driving', 1), ('crazy', 1), ('went', 1), ('mountain', 1)]\n"
          ]
        }
      ]
    },
    {
      "cell_type": "markdown",
      "source": [
        "1의 인덱스를 가진 단어가 가장 빈도수가 높은 단어가 됩니다. 그리고 이러한 작업을 수행하는 동시에 각 단어의 빈도수를 알 경우에만 할 수 있는 전처리인 빈도수가 적은 단어를 제외시키는 작업을 수행\n",
        "\n",
        "등장 빈도가 낮은 단어는 자연어 처리에서 의미를 가지지 않을 가능성이 높기 때문이다."
      ],
      "metadata": {
        "id": "r9B9TzZimGtB"
      }
    },
    {
      "cell_type": "code",
      "source": [
        "word_to_index = {}\n",
        "i = 0\n",
        "for (word, frequency) in vocab_sorted :\n",
        "    if frequency > 1 : # 빈도수가 작은 단어는 제외.\n",
        "        i = i + 1\n",
        "        word_to_index[word] = i\n",
        "\n",
        "print(word_to_index)"
      ],
      "metadata": {
        "colab": {
          "base_uri": "https://localhost:8080/"
        },
        "id": "uPjBVRA3lh5A",
        "outputId": "efb008ad-47ec-47d5-ee6e-404e32a9236c"
      },
      "execution_count": null,
      "outputs": [
        {
          "output_type": "stream",
          "name": "stdout",
          "text": [
            "{'barber': 1, 'secret': 2, 'huge': 3, 'kept': 4, 'person': 5, 'word': 6, 'keeping': 7}\n"
          ]
        }
      ]
    },
    {
      "cell_type": "code",
      "source": [
        "vocab_size = 5\n",
        "\n",
        "# 인덱스가 5 초과인 단어 제거\n",
        "words_frequency = [word for word, index in word_to_index.items() if index >= vocab_size + 1]\n",
        "\n",
        "# 해당 단어에 대한 인덱스 정보를 삭제\n",
        "for w in words_frequency:\n",
        "    del word_to_index[w] # words_frequency에 속한다면 w2i에서 del하라\n",
        "print(word_to_index)"
      ],
      "metadata": {
        "colab": {
          "base_uri": "https://localhost:8080/"
        },
        "id": "SzPKgx1amCt9",
        "outputId": "5eb27d18-f018-4dca-ad45-39eab90bc040"
      },
      "execution_count": null,
      "outputs": [
        {
          "output_type": "stream",
          "name": "stdout",
          "text": [
            "{'barber': 1, 'secret': 2, 'huge': 3, 'kept': 4, 'person': 5}\n"
          ]
        }
      ]
    },
    {
      "cell_type": "markdown",
      "source": [
        "word_to_index를 사용하여 단어 토큰화가 된 상태로 저장된 sentences에 있는 각 단어를 정수로 바꾸는 작업을 해보자\n",
        "\n",
        "예를 들어 sentences에서 첫번째 문장은 ['barber', 'person']이었는데, 이 문장에 대해서는 [1, 5]로 인코딩합니다. 그런데 두번째 문장인 ['barber', 'good', 'person']에는 더 이상 word_to_index에는 존재하지 않는 단어인 'good'이라는 단어가 있다.\n",
        "\n",
        "이처럼 단어 집합에 존재하지 않는 단어들이 생기는 상황을 Out-Of-Vocabulary(단어 집합에 없는 단어) 문제라고 한다.\n",
        "\n",
        "이러한 것을 처리할 때 w2i에 'oov'라는 키를 만들고 맨 마지막에 붙인다."
      ],
      "metadata": {
        "id": "aYiS57TGnBmD"
      }
    },
    {
      "cell_type": "code",
      "source": [
        "word_to_index['OOV'] = len(word_to_index) + 1\n",
        "print(word_to_index)"
      ],
      "metadata": {
        "colab": {
          "base_uri": "https://localhost:8080/"
        },
        "id": "20DSl7N5m8S7",
        "outputId": "556227a8-a074-4bdd-9e50-b70417a45d39"
      },
      "execution_count": null,
      "outputs": [
        {
          "output_type": "stream",
          "name": "stdout",
          "text": [
            "{'barber': 1, 'secret': 2, 'huge': 3, 'kept': 4, 'person': 5, 'OOV': 6}\n"
          ]
        }
      ]
    },
    {
      "cell_type": "markdown",
      "source": [
        "이제 word_to_index를 사용하여 sentences의 모든 단어들을 맵핑되는 정수로 인코딩"
      ],
      "metadata": {
        "id": "fln5dA-Fnuqk"
      }
    },
    {
      "cell_type": "code",
      "source": [
        "encoded_sentences = [] # 문단 전체\n",
        "for sentence in preprocessed_sentences:\n",
        "    encoded_sentence = [] # 문장 하나\n",
        "    for word in sentence:\n",
        "        try:\n",
        "            # 단어 집합에 있는 단어라면 해당 단어의 정수를 리턴.\n",
        "            encoded_sentence.append(word_to_index[word])\n",
        "        except KeyError:\n",
        "            # 만약 단어 집합에 없는 단어라면 'OOV'의 정수를 리턴.\n",
        "            encoded_sentence.append(word_to_index['OOV'])\n",
        "    encoded_sentences.append(encoded_sentence)\n",
        "print(encoded_sentences)"
      ],
      "metadata": {
        "colab": {
          "base_uri": "https://localhost:8080/"
        },
        "id": "wda7djC-ndtG",
        "outputId": "6d217d05-0ebe-473c-f895-d9fafd0d963e"
      },
      "execution_count": null,
      "outputs": [
        {
          "output_type": "stream",
          "name": "stdout",
          "text": [
            "[[1, 5], [1, 6, 5], [1, 3, 5], [6, 2], [2, 4, 3, 2], [3, 2], [1, 4, 6], [1, 4, 6], [1, 4, 2], [6, 6, 3, 2, 6, 1, 6], [1, 6, 3, 6]]\n"
          ]
        }
      ]
    },
    {
      "cell_type": "markdown",
      "source": [
        "#### 2) 케라스의 텍스트 전처리\n",
        "\n",
        "위 작업을 빨리 하기 위해 케라스를 사용하기를 권장한다.\n",
        "\n"
      ],
      "metadata": {
        "id": "ImCqg_14oaf4"
      }
    },
    {
      "cell_type": "code",
      "source": [
        "from tensorflow.keras.preprocessing.text import Tokenizer"
      ],
      "metadata": {
        "id": "-7Slhgu7oSsg"
      },
      "execution_count": null,
      "outputs": []
    },
    {
      "cell_type": "code",
      "source": [
        "preprocessed_sentences = [['barber', 'person'], ['barber', 'good', 'person'], ['barber', 'huge', 'person'], ['knew', 'secret'], ['secret', 'kept', 'huge', 'secret'], ['huge', 'secret'], ['barber', 'kept', 'word'], ['barber', 'kept', 'word'], ['barber', 'kept', 'secret'], ['keeping', 'keeping', 'huge', 'secret', 'driving', 'barber', 'crazy'], ['barber', 'went', 'huge', 'mountain']]"
      ],
      "metadata": {
        "id": "e1DseNS9onuC"
      },
      "execution_count": null,
      "outputs": []
    },
    {
      "cell_type": "markdown",
      "source": [
        "fit_on_texts는 입력한 텍스트로부터 단어 빈도수가 높은 순으로 낮은 정수 인덱스를 부여하는데, 정확히 앞서 설명한 정수 인코딩 작업이 이루어진다"
      ],
      "metadata": {
        "id": "04xbz7d8o316"
      }
    },
    {
      "cell_type": "code",
      "source": [
        "tokenizer = Tokenizer()\n",
        "\n",
        "# fit_on_texts()안에 코퍼스를 입력으로 하면 빈도수를 기준으로 단어 집합을 생성.\n",
        "tokenizer.fit_on_texts(preprocessed_sentences) "
      ],
      "metadata": {
        "id": "jnc6j4jDoq1l"
      },
      "execution_count": null,
      "outputs": []
    },
    {
      "cell_type": "code",
      "source": [
        "print(tokenizer.word_index)"
      ],
      "metadata": {
        "colab": {
          "base_uri": "https://localhost:8080/"
        },
        "id": "l9BiJYD_o3G9",
        "outputId": "fd74a591-fb63-4077-e5e7-653e33e510e7"
      },
      "execution_count": null,
      "outputs": [
        {
          "output_type": "stream",
          "name": "stdout",
          "text": [
            "{'barber': 1, 'secret': 2, 'huge': 3, 'kept': 4, 'person': 5, 'word': 6, 'keeping': 7, 'good': 8, 'knew': 9, 'driving': 10, 'crazy': 11, 'went': 12, 'mountain': 13}\n"
          ]
        }
      ]
    },
    {
      "cell_type": "markdown",
      "source": [
        "texts_to_sequences()는 입력으로 들어온 코퍼스에 대해서 각 단어를 이미 정해진 인덱스로 변환한다."
      ],
      "metadata": {
        "id": "2-yJj02PpEK_"
      }
    },
    {
      "cell_type": "code",
      "source": [
        "print(tokenizer.texts_to_sequences(preprocessed_sentences))"
      ],
      "metadata": {
        "colab": {
          "base_uri": "https://localhost:8080/"
        },
        "id": "lpA6JEtbo9Jg",
        "outputId": "f2ed6af8-241c-4f45-a2b3-6acd02a7811a"
      },
      "execution_count": null,
      "outputs": [
        {
          "output_type": "stream",
          "name": "stdout",
          "text": [
            "[[1, 5], [1, 8, 5], [1, 3, 5], [9, 2], [2, 4, 3, 2], [3, 2], [1, 4, 6], [1, 4, 6], [1, 4, 2], [7, 7, 3, 2, 10, 1, 11], [1, 12, 3, 13]]\n"
          ]
        }
      ]
    },
    {
      "cell_type": "markdown",
      "source": [
        "앞서 빈도수가 가장 높은 단어 n개만을 사용하기 위해서 most_common()을 사용했다. 케라스 토크나이저에서는 tokenizer = Tokenizer(num_words=숫자)와 같은 방법으로 빈도수가 높은 상위 몇 개의 단어만 사용하겠다고 지정할 수 있다.\n",
        "\n",
        "이때 5개를 남기고 싶으면 6을 해야한다. 실질적으로 숫자 0에 지정된 단어가 존재하지 않는데도 케라스 토크나이저가 숫자 0까지 단어 집합의 크기로 산정하는 이유는 자연어 처리에서 패딩(padding)이라는 작업 때문이다."
      ],
      "metadata": {
        "id": "AHyoo0bhpLv4"
      }
    },
    {
      "cell_type": "code",
      "source": [
        "vocab_size = 5\n",
        "tokenizer = Tokenizer(num_words = vocab_size + 1) # 상위 5개 단어만 사용\n",
        "tokenizer.fit_on_texts(preprocessed_sentences)"
      ],
      "metadata": {
        "id": "SIq7M4_4pFZV"
      },
      "execution_count": null,
      "outputs": []
    },
    {
      "cell_type": "code",
      "source": [
        "# 하지만 여전히 13개이다??\n",
        "print(tokenizer.word_index)"
      ],
      "metadata": {
        "colab": {
          "base_uri": "https://localhost:8080/"
        },
        "id": "s9f_47lCpQ31",
        "outputId": "a3948c81-3c67-477c-8239-c9aa3a2c5659"
      },
      "execution_count": null,
      "outputs": [
        {
          "output_type": "stream",
          "name": "stdout",
          "text": [
            "{'barber': 1, 'secret': 2, 'huge': 3, 'kept': 4, 'person': 5, 'word': 6, 'keeping': 7, 'good': 8, 'knew': 9, 'driving': 10, 'crazy': 11, 'went': 12, 'mountain': 13}\n"
          ]
        }
      ]
    },
    {
      "cell_type": "markdown",
      "source": [
        "코퍼스에 대해서 각 단어를 이미 정해진 인덱스로 변환하는데, 상위 5개의 단어만을 사용하겠다고 지정하였으므로 1번 단어부터 5번 단어까지만 보존되고 나머지 단어들은 제거된 것을 볼 수 있다. \n",
        "\n",
        "이건 oov를 지정할 수 없으니 6도 없다."
      ],
      "metadata": {
        "id": "aa7ZvtnmqnFt"
      }
    },
    {
      "cell_type": "code",
      "source": [
        "# 실제 적용은 texts_to_sequences를 할 때 적용이 된다.\n",
        "print(tokenizer.texts_to_sequences(preprocessed_sentences))"
      ],
      "metadata": {
        "colab": {
          "base_uri": "https://localhost:8080/"
        },
        "id": "omrymCfqpqin",
        "outputId": "8c29aabb-f151-4d80-dd5b-9e07217263a5"
      },
      "execution_count": null,
      "outputs": [
        {
          "output_type": "stream",
          "name": "stdout",
          "text": [
            "[[1, 5], [1, 5], [1, 3, 5], [2], [2, 4, 3, 2], [3, 2], [1, 4], [1, 4], [1, 4, 2], [3, 2, 1], [1, 3]]\n"
          ]
        }
      ]
    },
    {
      "cell_type": "markdown",
      "source": [
        "케라스 토크나이저는 기본적으로 단어 집합에 없는 단어인 OOV에 대해서는 단어를 정수로 바꾸는 과정에서 아예 단어를 제거한다는 특징이 있다. 단어 집합에 없는 단어들은 OOV로 간주하여 보존하고 싶다면 oov_token 인자를 사용한다.\n",
        "\n",
        "만약 oov_token을 사용하기로 했다면 케라스 토크나이저는 기본적으로 'OOV'의 인덱스를 1로 하ㅁ\n",
        "\n",
        "따라서 상위 5개의 단어는 2!6의 인덱스를 가진다."
      ],
      "metadata": {
        "id": "UH91UF65rGG5"
      }
    },
    {
      "cell_type": "code",
      "source": [
        "# 숫자 0과 OOV를 고려해서 단어 집합의 크기는 +2\n",
        "vocab_size = 5\n",
        "tokenizer = Tokenizer(num_words = vocab_size + 2, oov_token = 'OOV')\n",
        "tokenizer.fit_on_texts(preprocessed_sentences)"
      ],
      "metadata": {
        "id": "Q2_Rh3esqSFk"
      },
      "execution_count": null,
      "outputs": []
    },
    {
      "cell_type": "code",
      "source": [
        "print(tokenizer.texts_to_sequences(preprocessed_sentences))"
      ],
      "metadata": {
        "colab": {
          "base_uri": "https://localhost:8080/"
        },
        "id": "UcQ2q8d9rKcp",
        "outputId": "1f20f0f4-c5ae-4ef2-9e5c-394d21bed88c"
      },
      "execution_count": null,
      "outputs": [
        {
          "output_type": "stream",
          "name": "stdout",
          "text": [
            "[[2, 6], [2, 1, 6], [2, 4, 6], [1, 3], [3, 5, 4, 3], [4, 3], [2, 5, 1], [2, 5, 1], [2, 5, 3], [1, 1, 4, 3, 1, 2, 1], [2, 1, 4, 1]]\n"
          ]
        }
      ]
    },
    {
      "cell_type": "markdown",
      "source": [
        "## 7. 패딩\n",
        "자연어 처리를 하다보면 각 문장(또는 문서)은 서로 길이가 다를 수 있습니다. 그런데 기계는 길이가 전부 동일한 문서들에 대해서는 하나의 행렬로 보고, 한꺼번에 묶어서 처리할 수 있다.\n",
        "\n",
        "즉, 병렬 연산을 위해서 여러 문장의 길이를 임의로 동일하게 맞춰주는 작업이 필요할 때가 있다."
      ],
      "metadata": {
        "id": "aJWxhm8CrczI"
      }
    },
    {
      "cell_type": "code",
      "source": [
        "import numpy as np\n",
        "from tensorflow.keras.preprocessing.text import Tokenizer"
      ],
      "metadata": {
        "id": "RzEDICjPrRZT"
      },
      "execution_count": null,
      "outputs": []
    },
    {
      "cell_type": "code",
      "source": [
        "preprocessed_sentences = [['barber', 'person'], ['barber', 'good', 'person'], ['barber', 'huge', 'person'], ['knew', 'secret'], ['secret', 'kept', 'huge', 'secret'], ['huge', 'secret'], ['barber', 'kept', 'word'], ['barber', 'kept', 'word'], ['barber', 'kept', 'secret'], ['keeping', 'keeping', 'huge', 'secret', 'driving', 'barber', 'crazy'], ['barber', 'went', 'huge', 'mountain']]"
      ],
      "metadata": {
        "id": "ZiBydW9Or03V"
      },
      "execution_count": null,
      "outputs": []
    },
    {
      "cell_type": "code",
      "source": [
        "tokenizer = Tokenizer()\n",
        "tokenizer.fit_on_texts(preprocessed_sentences)\n",
        "encoded = tokenizer.texts_to_sequences(preprocessed_sentences)\n",
        "print(encoded)"
      ],
      "metadata": {
        "colab": {
          "base_uri": "https://localhost:8080/"
        },
        "id": "aK_hk9JDr4Bx",
        "outputId": "9f37fb36-2d46-414c-aeb6-3612d7891e36"
      },
      "execution_count": null,
      "outputs": [
        {
          "output_type": "stream",
          "name": "stdout",
          "text": [
            "[[1, 5], [1, 8, 5], [1, 3, 5], [9, 2], [2, 4, 3, 2], [3, 2], [1, 4, 6], [1, 4, 6], [1, 4, 2], [7, 7, 3, 2, 10, 1, 11], [1, 12, 3, 13]]\n"
          ]
        }
      ]
    },
    {
      "cell_type": "markdown",
      "source": [
        "#### 1) 넘파이 패딩"
      ],
      "metadata": {
        "id": "hfnlXod3sznw"
      }
    },
    {
      "cell_type": "markdown",
      "source": [
        "모두 동일한 길이로 맞춰주기 위해서 이 중에서 가장 길이가 긴 문장의 길이를 계산해보겠다. 모든 문장의 길이를 7로 맞추겠다. \n",
        "\n",
        "이때 가상의 단어 'PAD'를 사용한다. 'PAD'라는 단어가 있다고 가정하고, 이 단어는 0번 단어라고 정의합니다. 길이가 7보다 짧은 문장에는 숫자 0을 채워서 길이 7로 맞춰준다.(아까 keras에서 idx 0을 pad로 본다고 했다.)"
      ],
      "metadata": {
        "id": "SBLul6FgsOBJ"
      }
    },
    {
      "cell_type": "code",
      "source": [
        "# 모두 동일한 길이로 맞춰주기 위해서 이 중에서 가장 길이가 긴 문장의 길이를 계산\n",
        "\n",
        "max_len = max(len(item) for item in encoded)\n",
        "print('최대 길이 :',max_len)"
      ],
      "metadata": {
        "colab": {
          "base_uri": "https://localhost:8080/"
        },
        "id": "noXNdfypr55I",
        "outputId": "0c236599-4592-4765-d527-dc89fa7d5bfc"
      },
      "execution_count": null,
      "outputs": [
        {
          "output_type": "stream",
          "name": "stdout",
          "text": [
            "최대 길이 : 7\n"
          ]
        }
      ]
    },
    {
      "cell_type": "markdown",
      "source": [
        "0번 단어는 사실 아무런 의미도 없는 단어이기 때문에 자연어 처리하는 과정에서 기계는 0번 단어를 무시하게 된다.\n",
        "\n",
        "이와 같이 데이터에 특정 값을 채워서 데이터의 크기(shape)를 조정하는 것을 패딩(padding)이라고 한다."
      ],
      "metadata": {
        "id": "DezA6Sq2spuv"
      }
    },
    {
      "cell_type": "code",
      "source": [
        "for sentence in encoded:\n",
        "    while len(sentence) < max_len:\n",
        "        sentence.append(0)\n",
        "\n",
        "padded_np = np.array(encoded)\n",
        "padded_np"
      ],
      "metadata": {
        "colab": {
          "base_uri": "https://localhost:8080/"
        },
        "id": "RADmPR2vsJOT",
        "outputId": "f930fb8a-dd75-45d0-bf1c-26c67a118dc8"
      },
      "execution_count": null,
      "outputs": [
        {
          "output_type": "execute_result",
          "data": {
            "text/plain": [
              "array([[ 1,  5,  0,  0,  0,  0,  0],\n",
              "       [ 1,  8,  5,  0,  0,  0,  0],\n",
              "       [ 1,  3,  5,  0,  0,  0,  0],\n",
              "       [ 9,  2,  0,  0,  0,  0,  0],\n",
              "       [ 2,  4,  3,  2,  0,  0,  0],\n",
              "       [ 3,  2,  0,  0,  0,  0,  0],\n",
              "       [ 1,  4,  6,  0,  0,  0,  0],\n",
              "       [ 1,  4,  6,  0,  0,  0,  0],\n",
              "       [ 1,  4,  2,  0,  0,  0,  0],\n",
              "       [ 7,  7,  3,  2, 10,  1, 11],\n",
              "       [ 1, 12,  3, 13,  0,  0,  0]])"
            ]
          },
          "metadata": {},
          "execution_count": 30
        }
      ]
    },
    {
      "cell_type": "markdown",
      "source": [
        "#### 2) 케라스 패딩\n",
        "\n",
        "기본적으로 pad를 문서의 뒤가 아니라 앞에 채운다. 뒤에 하고 싶으면 post 인자를 준다"
      ],
      "metadata": {
        "id": "jtVsTU5ZsvEx"
      }
    },
    {
      "cell_type": "code",
      "source": [
        "from tensorflow.keras.preprocessing.sequence import pad_sequences"
      ],
      "metadata": {
        "id": "1FmxBtkcsjRa"
      },
      "execution_count": null,
      "outputs": []
    },
    {
      "cell_type": "code",
      "source": [
        "encoded = tokenizer.texts_to_sequences(preprocessed_sentences)\n",
        "print(encoded)"
      ],
      "metadata": {
        "colab": {
          "base_uri": "https://localhost:8080/"
        },
        "id": "Nm5ElbCCs3n-",
        "outputId": "ede41284-0066-4219-ff88-a7eb529cca04"
      },
      "execution_count": null,
      "outputs": [
        {
          "output_type": "stream",
          "name": "stdout",
          "text": [
            "[[1, 5], [1, 8, 5], [1, 3, 5], [9, 2], [2, 4, 3, 2], [3, 2], [1, 4, 6], [1, 4, 6], [1, 4, 2], [7, 7, 3, 2, 10, 1, 11], [1, 12, 3, 13]]\n"
          ]
        }
      ]
    },
    {
      "cell_type": "code",
      "source": [
        "# 케라스의 padding\n",
        "padded = pad_sequences(encoded)\n",
        "padded"
      ],
      "metadata": {
        "colab": {
          "base_uri": "https://localhost:8080/"
        },
        "id": "m4zqTsY8s7Ap",
        "outputId": "1dabf49f-3263-4576-ad35-08a51098d6ad"
      },
      "execution_count": null,
      "outputs": [
        {
          "output_type": "execute_result",
          "data": {
            "text/plain": [
              "array([[ 0,  0,  0,  0,  0,  1,  5],\n",
              "       [ 0,  0,  0,  0,  1,  8,  5],\n",
              "       [ 0,  0,  0,  0,  1,  3,  5],\n",
              "       [ 0,  0,  0,  0,  0,  9,  2],\n",
              "       [ 0,  0,  0,  2,  4,  3,  2],\n",
              "       [ 0,  0,  0,  0,  0,  3,  2],\n",
              "       [ 0,  0,  0,  0,  1,  4,  6],\n",
              "       [ 0,  0,  0,  0,  1,  4,  6],\n",
              "       [ 0,  0,  0,  0,  1,  4,  2],\n",
              "       [ 7,  7,  3,  2, 10,  1, 11],\n",
              "       [ 0,  0,  0,  1, 12,  3, 13]], dtype=int32)"
            ]
          },
          "metadata": {},
          "execution_count": 33
        }
      ]
    },
    {
      "cell_type": "code",
      "source": [
        "# 뒤에 채우기\n",
        "padded = pad_sequences(encoded, padding='post')\n",
        "padded"
      ],
      "metadata": {
        "colab": {
          "base_uri": "https://localhost:8080/"
        },
        "id": "DPQg2QL1s8Xk",
        "outputId": "91f1ff7c-20c8-4c5c-f399-dd11b881a77b"
      },
      "execution_count": null,
      "outputs": [
        {
          "output_type": "execute_result",
          "data": {
            "text/plain": [
              "array([[ 1,  5,  0,  0,  0,  0,  0],\n",
              "       [ 1,  8,  5,  0,  0,  0,  0],\n",
              "       [ 1,  3,  5,  0,  0,  0,  0],\n",
              "       [ 9,  2,  0,  0,  0,  0,  0],\n",
              "       [ 2,  4,  3,  2,  0,  0,  0],\n",
              "       [ 3,  2,  0,  0,  0,  0,  0],\n",
              "       [ 1,  4,  6,  0,  0,  0,  0],\n",
              "       [ 1,  4,  6,  0,  0,  0,  0],\n",
              "       [ 1,  4,  2,  0,  0,  0,  0],\n",
              "       [ 7,  7,  3,  2, 10,  1, 11],\n",
              "       [ 1, 12,  3, 13,  0,  0,  0]], dtype=int32)"
            ]
          },
          "metadata": {},
          "execution_count": 34
        }
      ]
    },
    {
      "cell_type": "markdown",
      "source": [
        "지금까지는 가장 긴 길이를 가진 문서의 길이를 기준으로 패딩을 한다고 가정하였지만, 실제로는 꼭 가장 긴 문서의 길이를 기준으로 해야하는 것은 아니다. 가령, 모든 문서의 평균 길이가 20인데 문서 1개의 길이가 5,000이라고 해서 굳이 모든 문서의 길이를 5,000으로 패딩할 필요는 없을 수 있다.\n",
        "\n",
        "\n",
        "길이가 5보다 짧은 문서들은 0으로 패딩되고, 기존에 5보다 길었다면 데이터가 손실된다. 가령, 뒤에서 두번째 문장은 본래 [ 7, 7, 3, 2, 10, 1, 11]였으나 현재는 [ 3, 2, 10, 1, 11]로 변경된 것을 볼 수 있다. 짤리는 단어도 뒤에 단어가 아니고 앞에 단어가 짤린다.\n",
        "\n",
        "뒤의 단어를 삭제하는 truncating 인자가 있다."
      ],
      "metadata": {
        "id": "foLxfaJ6teKc"
      }
    },
    {
      "cell_type": "code",
      "source": [
        "# maxlen 인자\n",
        "padded = pad_sequences(encoded, padding='post', maxlen=5)\n",
        "padded"
      ],
      "metadata": {
        "colab": {
          "base_uri": "https://localhost:8080/"
        },
        "id": "iF5tQ3GatKdc",
        "outputId": "851429be-00b0-4ea8-db20-ea985baaec05"
      },
      "execution_count": null,
      "outputs": [
        {
          "output_type": "execute_result",
          "data": {
            "text/plain": [
              "array([[ 1,  5,  0,  0,  0],\n",
              "       [ 1,  8,  5,  0,  0],\n",
              "       [ 1,  3,  5,  0,  0],\n",
              "       [ 9,  2,  0,  0,  0],\n",
              "       [ 2,  4,  3,  2,  0],\n",
              "       [ 3,  2,  0,  0,  0],\n",
              "       [ 1,  4,  6,  0,  0],\n",
              "       [ 1,  4,  6,  0,  0],\n",
              "       [ 1,  4,  2,  0,  0],\n",
              "       [ 3,  2, 10,  1, 11],\n",
              "       [ 1, 12,  3, 13,  0]], dtype=int32)"
            ]
          },
          "metadata": {},
          "execution_count": 35
        }
      ]
    },
    {
      "cell_type": "code",
      "source": [
        "padded = pad_sequences(encoded, padding='post', truncating='post', maxlen=5)\n",
        "padded"
      ],
      "metadata": {
        "colab": {
          "base_uri": "https://localhost:8080/"
        },
        "id": "-QoyAfO1thqm",
        "outputId": "ae0fe7ea-ba17-4326-cec4-eff7ea132778"
      },
      "execution_count": null,
      "outputs": [
        {
          "output_type": "execute_result",
          "data": {
            "text/plain": [
              "array([[ 1,  5,  0,  0,  0],\n",
              "       [ 1,  8,  5,  0,  0],\n",
              "       [ 1,  3,  5,  0,  0],\n",
              "       [ 9,  2,  0,  0,  0],\n",
              "       [ 2,  4,  3,  2,  0],\n",
              "       [ 3,  2,  0,  0,  0],\n",
              "       [ 1,  4,  6,  0,  0],\n",
              "       [ 1,  4,  6,  0,  0],\n",
              "       [ 1,  4,  2,  0,  0],\n",
              "       [ 7,  7,  3,  2, 10],\n",
              "       [ 1, 12,  3, 13,  0]], dtype=int32)"
            ]
          },
          "metadata": {},
          "execution_count": 36
        }
      ]
    },
    {
      "cell_type": "markdown",
      "source": [
        "## 8. 원-핫 인코딩\n",
        "\n",
        "배우기에 앞서 단어 집합(vocab)에 대해서 정의한다. 반드시 이해해야한다.\n",
        "\n",
        "단어 집합은 서로 다른 단어들의 집합이다.(텍스트의 모든 단어를 중복을 허용하지 않고 모아놓으면 이를 단어 집합이라고 합니다.) book과 books는 다른 단어로 간주한다.앞으로 단어 집합에 있는 단어들을 가지고, 문자를 숫자. 더 구체적으로는 벡터로 바꿀 것이다.\n",
        "\n",
        "텍스트의 모든 단어를 중복을 허용하지 않고 모아놓으면 이를 단어 집합이라고 합니다. 이 단어 집합에 고유한 정수를 부여하면 정수 인코딩이다. 그러면 현재 단어들 마다 정수가 부여되었다. ex) book :150, dog : 171 등\n",
        "\n",
        "이 숫자로 바뀐 단어를 벡터로 바꿔보자"
      ],
      "metadata": {
        "id": "Thh5ePO3t8LK"
      }
    },
    {
      "cell_type": "markdown",
      "source": [
        "#### 1) 원-핫 인코딩\n",
        "단어 집합의크기를 벡터의 차원으로 보고 보고 싶은 단어의 인덱스만 1로 부여한 단어 표현 방식이다.\n",
        "\n",
        "=> 순서(2가지) : 1. 정수 인코딩 수행, 2. 그 단어에만 1 부여"
      ],
      "metadata": {
        "id": "JpciQb6jvImM"
      }
    },
    {
      "cell_type": "code",
      "source": [
        "pip install konlpy"
      ],
      "metadata": {
        "colab": {
          "base_uri": "https://localhost:8080/"
        },
        "id": "HJBsQyxdvogN",
        "outputId": "234abdf7-3d9b-41ab-e965-ba58e9bcdca1"
      },
      "execution_count": null,
      "outputs": [
        {
          "output_type": "stream",
          "name": "stdout",
          "text": [
            "Looking in indexes: https://pypi.org/simple, https://us-python.pkg.dev/colab-wheels/public/simple/\n",
            "Collecting konlpy\n",
            "  Downloading konlpy-0.6.0-py2.py3-none-any.whl (19.4 MB)\n",
            "\u001b[K     |████████████████████████████████| 19.4 MB 6.0 MB/s \n",
            "\u001b[?25hCollecting JPype1>=0.7.0\n",
            "  Downloading JPype1-1.4.1-cp38-cp38-manylinux_2_12_x86_64.manylinux2010_x86_64.whl (465 kB)\n",
            "\u001b[K     |████████████████████████████████| 465 kB 45.2 MB/s \n",
            "\u001b[?25hRequirement already satisfied: numpy>=1.6 in /usr/local/lib/python3.8/dist-packages (from konlpy) (1.21.6)\n",
            "Requirement already satisfied: lxml>=4.1.0 in /usr/local/lib/python3.8/dist-packages (from konlpy) (4.9.2)\n",
            "Requirement already satisfied: packaging in /usr/local/lib/python3.8/dist-packages (from JPype1>=0.7.0->konlpy) (21.3)\n",
            "Requirement already satisfied: pyparsing!=3.0.5,>=2.0.2 in /usr/local/lib/python3.8/dist-packages (from packaging->JPype1>=0.7.0->konlpy) (3.0.9)\n",
            "Installing collected packages: JPype1, konlpy\n",
            "Successfully installed JPype1-1.4.1 konlpy-0.6.0\n"
          ]
        }
      ]
    },
    {
      "cell_type": "code",
      "source": [
        "from konlpy.tag import Okt  \n",
        "\n",
        "okt = Okt()  \n",
        "tokens = okt.morphs(\"나는 자연어 처리를 배운다\")  \n",
        "print(tokens)"
      ],
      "metadata": {
        "colab": {
          "base_uri": "https://localhost:8080/"
        },
        "id": "HbIuoKuItzyo",
        "outputId": "0f5e6ccc-fccc-4366-c672-306afe965e4a"
      },
      "execution_count": null,
      "outputs": [
        {
          "output_type": "stream",
          "name": "stdout",
          "text": [
            "['나', '는', '자연어', '처리', '를', '배운다']\n"
          ]
        }
      ]
    },
    {
      "cell_type": "code",
      "source": [
        "# 빈도수 별로 정수 부여\n",
        "word_to_index = {word : index for index, word in enumerate(tokens)}\n",
        "print('단어 집합 :',word_to_index)"
      ],
      "metadata": {
        "colab": {
          "base_uri": "https://localhost:8080/"
        },
        "id": "ZIDEZGumvmye",
        "outputId": "7d659963-0915-4d84-cf7f-4edacefb5dd9"
      },
      "execution_count": null,
      "outputs": [
        {
          "output_type": "stream",
          "name": "stdout",
          "text": [
            "단어 집합 : {'나': 0, '는': 1, '자연어': 2, '처리': 3, '를': 4, '배운다': 5}\n"
          ]
        }
      ]
    },
    {
      "cell_type": "code",
      "source": [
        "# 원-핫 벡터를 만드는 함수\n",
        "\n",
        "def one_hot_encoding(word, word_to_index):\n",
        "  one_hot_vector = [0]*(len(word_to_index))\n",
        "  index = word_to_index[word]\n",
        "  one_hot_vector[index] = 1\n",
        "  return one_hot_vector"
      ],
      "metadata": {
        "id": "ObCOpLizwAge"
      },
      "execution_count": null,
      "outputs": []
    },
    {
      "cell_type": "code",
      "source": [
        "one_hot_encoding(\"자연어\", word_to_index)"
      ],
      "metadata": {
        "colab": {
          "base_uri": "https://localhost:8080/"
        },
        "id": "z87qUNRvwRfk",
        "outputId": "b087afb0-ebbb-4431-f42f-bf12db56b849"
      },
      "execution_count": null,
      "outputs": [
        {
          "output_type": "execute_result",
          "data": {
            "text/plain": [
              "[0, 0, 1, 0, 0, 0]"
            ]
          },
          "metadata": {},
          "execution_count": 42
        }
      ]
    },
    {
      "cell_type": "markdown",
      "source": [
        "#### 2) 케라스의 원-핫 인코딩\n",
        "\n",
        "역시 순서는 토큰화 > 벡터화이다."
      ],
      "metadata": {
        "id": "0Tl1qPbowSn7"
      }
    },
    {
      "cell_type": "code",
      "source": [
        "text = \"나랑 점심 먹으러 갈래 점심 메뉴는 햄버거 갈래 갈래 햄버거 최고야\""
      ],
      "metadata": {
        "id": "NkP3_mrswRuR"
      },
      "execution_count": null,
      "outputs": []
    },
    {
      "cell_type": "code",
      "source": [
        "from tensorflow.keras.preprocessing.text import Tokenizer\n",
        "from tensorflow.keras.utils import to_categorical\n",
        "\n",
        "text = \"나랑 점심 먹으러 갈래 점심 메뉴는 햄버거 갈래 갈래 햄버거 최고야\"\n",
        "\n",
        "tokenizer = Tokenizer()\n",
        "tokenizer.fit_on_texts([text])\n",
        "print('단어 집합 :',tokenizer.word_index)"
      ],
      "metadata": {
        "colab": {
          "base_uri": "https://localhost:8080/"
        },
        "id": "Qe37KAazwYeB",
        "outputId": "9940198c-0be3-4fbf-8fb7-7545dd9ec4cd"
      },
      "execution_count": null,
      "outputs": [
        {
          "output_type": "stream",
          "name": "stdout",
          "text": [
            "단어 집합 : {'갈래': 1, '점심': 2, '햄버거': 3, '나랑': 4, '먹으러': 5, '메뉴는': 6, '최고야': 7}\n"
          ]
        }
      ]
    },
    {
      "cell_type": "code",
      "source": [
        "# 정수 시퀀스로 변환\n",
        "sub_text = \"점심 먹으러 갈래 메뉴는 햄버거 최고야\"\n",
        "encoded = tokenizer.texts_to_sequences([sub_text])[0]\n",
        "print(encoded)"
      ],
      "metadata": {
        "colab": {
          "base_uri": "https://localhost:8080/"
        },
        "id": "IkiBqmgzwcXN",
        "outputId": "c4dfcf1d-3ec5-42ab-d023-396e3f562820"
      },
      "execution_count": null,
      "outputs": [
        {
          "output_type": "stream",
          "name": "stdout",
          "text": [
            "[2, 5, 1, 6, 3, 7]\n"
          ]
        }
      ]
    },
    {
      "cell_type": "code",
      "source": [
        "# 케라스의 원-핫\n",
        "one_hot = to_categorical(encoded)\n",
        "print(one_hot)"
      ],
      "metadata": {
        "colab": {
          "base_uri": "https://localhost:8080/"
        },
        "id": "jTUEidiMwrMV",
        "outputId": "8b198ef5-08ea-4392-c671-4ca821a05190"
      },
      "execution_count": null,
      "outputs": [
        {
          "output_type": "stream",
          "name": "stdout",
          "text": [
            "[[0. 0. 1. 0. 0. 0. 0. 0.]\n",
            " [0. 0. 0. 0. 0. 1. 0. 0.]\n",
            " [0. 1. 0. 0. 0. 0. 0. 0.]\n",
            " [0. 0. 0. 0. 0. 0. 1. 0.]\n",
            " [0. 0. 0. 1. 0. 0. 0. 0.]\n",
            " [0. 0. 0. 0. 0. 0. 0. 1.]]\n"
          ]
        }
      ]
    },
    {
      "cell_type": "markdown",
      "source": [
        "=> 원핫 인코딩의 한계\n",
        "\n",
        "1.단어 개수가 늘면 필요 공간이 는다.\n",
        "2.모든 단어 각각은 하나의 값만 1을 가지고 999개는 0의 값을 가지는 벡터라 비효율적이다.\n",
        "\n",
        "3.단어의 유사도를 표현하지 못한다.\n",
        "\n",
        "ex) 늑대, 호랑이, 강아지, 고양이\n",
        "[1, 0, 0, 0], [0, 1, 0, 0], [0, 0, 1, 0], [0, 0, 0, 1]의 원핫벡터를 부여받으면 강아지와 늑대가 유사하고, 호랑이와 고양이가 유사하다는 것을 표현할 수가 없다.\n",
        "\n",
        "극단적으로 강아지와 냉장고와 개가 있어도 강아지가 개와 유사한지 냉장고와 유사한지 알 수 없다."
      ],
      "metadata": {
        "id": "B2ubtm8ow310"
      }
    },
    {
      "cell_type": "markdown",
      "source": [
        "## 10. 한국어 전처리 패키지\n",
        "\n",
        "#### 1) PyKoSapcing \n",
        "문장을 띄어쓰기하여 반환한다."
      ],
      "metadata": {
        "id": "_A3YrstyyWJ_"
      }
    },
    {
      "cell_type": "code",
      "source": [
        "pip install git+https://github.com/haven-jeon/PyKoSpacing.git"
      ],
      "metadata": {
        "colab": {
          "base_uri": "https://localhost:8080/",
          "height": 1000
        },
        "id": "HRgzopfdytQx",
        "outputId": "9bf6ec85-e7ae-46d1-aa2f-f8a91e9ed578"
      },
      "execution_count": null,
      "outputs": [
        {
          "output_type": "stream",
          "name": "stdout",
          "text": [
            "Looking in indexes: https://pypi.org/simple, https://us-python.pkg.dev/colab-wheels/public/simple/\n",
            "Collecting git+https://github.com/haven-jeon/PyKoSpacing.git\n",
            "  Cloning https://github.com/haven-jeon/PyKoSpacing.git to /tmp/pip-req-build-2xb_o4p1\n",
            "  Running command git clone -q https://github.com/haven-jeon/PyKoSpacing.git /tmp/pip-req-build-2xb_o4p1\n",
            "Collecting tensorflow==2.9.3\n",
            "  Downloading tensorflow-2.9.3-cp38-cp38-manylinux_2_17_x86_64.manylinux2014_x86_64.whl (511.8 MB)\n",
            "\u001b[K     |████████████████████████████████| 511.8 MB 24 kB/s \n",
            "\u001b[?25hRequirement already satisfied: h5py==3.1.0 in /usr/local/lib/python3.8/dist-packages (from pykospacing==0.5) (3.1.0)\n",
            "Collecting argparse>=1.4.0\n",
            "  Downloading argparse-1.4.0-py2.py3-none-any.whl (23 kB)\n",
            "Requirement already satisfied: numpy>=1.17.5 in /usr/local/lib/python3.8/dist-packages (from h5py==3.1.0->pykospacing==0.5) (1.21.6)\n",
            "Requirement already satisfied: google-pasta>=0.1.1 in /usr/local/lib/python3.8/dist-packages (from tensorflow==2.9.3->pykospacing==0.5) (0.2.0)\n",
            "Requirement already satisfied: libclang>=13.0.0 in /usr/local/lib/python3.8/dist-packages (from tensorflow==2.9.3->pykospacing==0.5) (14.0.6)\n",
            "Requirement already satisfied: typing-extensions>=3.6.6 in /usr/local/lib/python3.8/dist-packages (from tensorflow==2.9.3->pykospacing==0.5) (4.4.0)\n",
            "Requirement already satisfied: six>=1.12.0 in /usr/local/lib/python3.8/dist-packages (from tensorflow==2.9.3->pykospacing==0.5) (1.15.0)\n",
            "Requirement already satisfied: keras-preprocessing>=1.1.1 in /usr/local/lib/python3.8/dist-packages (from tensorflow==2.9.3->pykospacing==0.5) (1.1.2)\n",
            "Requirement already satisfied: keras<2.10.0,>=2.9.0rc0 in /usr/local/lib/python3.8/dist-packages (from tensorflow==2.9.3->pykospacing==0.5) (2.9.0)\n",
            "Requirement already satisfied: opt-einsum>=2.3.2 in /usr/local/lib/python3.8/dist-packages (from tensorflow==2.9.3->pykospacing==0.5) (3.3.0)\n",
            "Requirement already satisfied: grpcio<2.0,>=1.24.3 in /usr/local/lib/python3.8/dist-packages (from tensorflow==2.9.3->pykospacing==0.5) (1.51.1)\n",
            "Requirement already satisfied: flatbuffers<2,>=1.12 in /usr/local/lib/python3.8/dist-packages (from tensorflow==2.9.3->pykospacing==0.5) (1.12)\n",
            "Requirement already satisfied: protobuf<3.20,>=3.9.2 in /usr/local/lib/python3.8/dist-packages (from tensorflow==2.9.3->pykospacing==0.5) (3.19.6)\n",
            "Requirement already satisfied: termcolor>=1.1.0 in /usr/local/lib/python3.8/dist-packages (from tensorflow==2.9.3->pykospacing==0.5) (2.1.1)\n",
            "Requirement already satisfied: tensorboard<2.10,>=2.9 in /usr/local/lib/python3.8/dist-packages (from tensorflow==2.9.3->pykospacing==0.5) (2.9.1)\n",
            "Requirement already satisfied: packaging in /usr/local/lib/python3.8/dist-packages (from tensorflow==2.9.3->pykospacing==0.5) (21.3)\n",
            "Requirement already satisfied: absl-py>=1.0.0 in /usr/local/lib/python3.8/dist-packages (from tensorflow==2.9.3->pykospacing==0.5) (1.3.0)\n",
            "Requirement already satisfied: astunparse>=1.6.0 in /usr/local/lib/python3.8/dist-packages (from tensorflow==2.9.3->pykospacing==0.5) (1.6.3)\n",
            "Requirement already satisfied: gast<=0.4.0,>=0.2.1 in /usr/local/lib/python3.8/dist-packages (from tensorflow==2.9.3->pykospacing==0.5) (0.4.0)\n",
            "Requirement already satisfied: wrapt>=1.11.0 in /usr/local/lib/python3.8/dist-packages (from tensorflow==2.9.3->pykospacing==0.5) (1.14.1)\n",
            "Requirement already satisfied: tensorflow-io-gcs-filesystem>=0.23.1 in /usr/local/lib/python3.8/dist-packages (from tensorflow==2.9.3->pykospacing==0.5) (0.28.0)\n",
            "Requirement already satisfied: tensorflow-estimator<2.10.0,>=2.9.0rc0 in /usr/local/lib/python3.8/dist-packages (from tensorflow==2.9.3->pykospacing==0.5) (2.9.0)\n",
            "Requirement already satisfied: setuptools in /usr/local/lib/python3.8/dist-packages (from tensorflow==2.9.3->pykospacing==0.5) (57.4.0)\n",
            "Requirement already satisfied: wheel<1.0,>=0.23.0 in /usr/local/lib/python3.8/dist-packages (from astunparse>=1.6.0->tensorflow==2.9.3->pykospacing==0.5) (0.38.4)\n",
            "Requirement already satisfied: google-auth-oauthlib<0.5,>=0.4.1 in /usr/local/lib/python3.8/dist-packages (from tensorboard<2.10,>=2.9->tensorflow==2.9.3->pykospacing==0.5) (0.4.6)\n",
            "Requirement already satisfied: tensorboard-plugin-wit>=1.6.0 in /usr/local/lib/python3.8/dist-packages (from tensorboard<2.10,>=2.9->tensorflow==2.9.3->pykospacing==0.5) (1.8.1)\n",
            "Requirement already satisfied: google-auth<3,>=1.6.3 in /usr/local/lib/python3.8/dist-packages (from tensorboard<2.10,>=2.9->tensorflow==2.9.3->pykospacing==0.5) (2.15.0)\n",
            "Requirement already satisfied: requests<3,>=2.21.0 in /usr/local/lib/python3.8/dist-packages (from tensorboard<2.10,>=2.9->tensorflow==2.9.3->pykospacing==0.5) (2.23.0)\n",
            "Requirement already satisfied: werkzeug>=1.0.1 in /usr/local/lib/python3.8/dist-packages (from tensorboard<2.10,>=2.9->tensorflow==2.9.3->pykospacing==0.5) (1.0.1)\n",
            "Requirement already satisfied: markdown>=2.6.8 in /usr/local/lib/python3.8/dist-packages (from tensorboard<2.10,>=2.9->tensorflow==2.9.3->pykospacing==0.5) (3.4.1)\n",
            "Requirement already satisfied: tensorboard-data-server<0.7.0,>=0.6.0 in /usr/local/lib/python3.8/dist-packages (from tensorboard<2.10,>=2.9->tensorflow==2.9.3->pykospacing==0.5) (0.6.1)\n",
            "Requirement already satisfied: cachetools<6.0,>=2.0.0 in /usr/local/lib/python3.8/dist-packages (from google-auth<3,>=1.6.3->tensorboard<2.10,>=2.9->tensorflow==2.9.3->pykospacing==0.5) (5.2.0)\n",
            "Requirement already satisfied: pyasn1-modules>=0.2.1 in /usr/local/lib/python3.8/dist-packages (from google-auth<3,>=1.6.3->tensorboard<2.10,>=2.9->tensorflow==2.9.3->pykospacing==0.5) (0.2.8)\n",
            "Requirement already satisfied: rsa<5,>=3.1.4 in /usr/local/lib/python3.8/dist-packages (from google-auth<3,>=1.6.3->tensorboard<2.10,>=2.9->tensorflow==2.9.3->pykospacing==0.5) (4.9)\n",
            "Requirement already satisfied: requests-oauthlib>=0.7.0 in /usr/local/lib/python3.8/dist-packages (from google-auth-oauthlib<0.5,>=0.4.1->tensorboard<2.10,>=2.9->tensorflow==2.9.3->pykospacing==0.5) (1.3.1)\n",
            "Requirement already satisfied: importlib-metadata>=4.4 in /usr/local/lib/python3.8/dist-packages (from markdown>=2.6.8->tensorboard<2.10,>=2.9->tensorflow==2.9.3->pykospacing==0.5) (5.1.0)\n",
            "Requirement already satisfied: zipp>=0.5 in /usr/local/lib/python3.8/dist-packages (from importlib-metadata>=4.4->markdown>=2.6.8->tensorboard<2.10,>=2.9->tensorflow==2.9.3->pykospacing==0.5) (3.11.0)\n",
            "Requirement already satisfied: pyasn1<0.5.0,>=0.4.6 in /usr/local/lib/python3.8/dist-packages (from pyasn1-modules>=0.2.1->google-auth<3,>=1.6.3->tensorboard<2.10,>=2.9->tensorflow==2.9.3->pykospacing==0.5) (0.4.8)\n",
            "Requirement already satisfied: idna<3,>=2.5 in /usr/local/lib/python3.8/dist-packages (from requests<3,>=2.21.0->tensorboard<2.10,>=2.9->tensorflow==2.9.3->pykospacing==0.5) (2.10)\n",
            "Requirement already satisfied: certifi>=2017.4.17 in /usr/local/lib/python3.8/dist-packages (from requests<3,>=2.21.0->tensorboard<2.10,>=2.9->tensorflow==2.9.3->pykospacing==0.5) (2022.12.7)\n",
            "Requirement already satisfied: chardet<4,>=3.0.2 in /usr/local/lib/python3.8/dist-packages (from requests<3,>=2.21.0->tensorboard<2.10,>=2.9->tensorflow==2.9.3->pykospacing==0.5) (3.0.4)\n",
            "Requirement already satisfied: urllib3!=1.25.0,!=1.25.1,<1.26,>=1.21.1 in /usr/local/lib/python3.8/dist-packages (from requests<3,>=2.21.0->tensorboard<2.10,>=2.9->tensorflow==2.9.3->pykospacing==0.5) (1.24.3)\n",
            "Requirement already satisfied: oauthlib>=3.0.0 in /usr/local/lib/python3.8/dist-packages (from requests-oauthlib>=0.7.0->google-auth-oauthlib<0.5,>=0.4.1->tensorboard<2.10,>=2.9->tensorflow==2.9.3->pykospacing==0.5) (3.2.2)\n",
            "Requirement already satisfied: pyparsing!=3.0.5,>=2.0.2 in /usr/local/lib/python3.8/dist-packages (from packaging->tensorflow==2.9.3->pykospacing==0.5) (3.0.9)\n",
            "Building wheels for collected packages: pykospacing\n",
            "  Building wheel for pykospacing (setup.py) ... \u001b[?25l\u001b[?25hdone\n",
            "  Created wheel for pykospacing: filename=pykospacing-0.5-py3-none-any.whl size=2268637 sha256=e66aab5ec31b15b08694cf99c673fad5e8679beb66776b461ec9bf02991f7444\n",
            "  Stored in directory: /tmp/pip-ephem-wheel-cache-9oqi59c9/wheels/79/a0/33/16f2cd03d21f76a663f5d69a0b96f0351335385349136fbd03\n",
            "Successfully built pykospacing\n",
            "Installing collected packages: tensorflow, argparse, pykospacing\n",
            "  Attempting uninstall: tensorflow\n",
            "    Found existing installation: tensorflow 2.9.2\n",
            "    Uninstalling tensorflow-2.9.2:\n",
            "      Successfully uninstalled tensorflow-2.9.2\n",
            "Successfully installed argparse-1.4.0 pykospacing-0.5 tensorflow-2.9.3\n"
          ]
        },
        {
          "output_type": "display_data",
          "data": {
            "application/vnd.colab-display-data+json": {
              "pip_warning": {
                "packages": [
                  "argparse",
                  "tensorflow"
                ]
              }
            }
          },
          "metadata": {}
        }
      ]
    },
    {
      "cell_type": "code",
      "source": [
        "sent = '김철수는 극중 두 인격의 사나이 이광수 역을 맡았다. 철수는 한국 유일의 태권도 전승자를 가리는 결전의 날을 앞두고 10년간 함께 훈련한 사형인 유연재(김광수 분)를 찾으러 속세로 내려온 인물이다.'"
      ],
      "metadata": {
        "id": "vF-J4guZwzUL"
      },
      "execution_count": null,
      "outputs": []
    },
    {
      "cell_type": "code",
      "source": [
        "new_sent = sent.replace(\" \", '') # 띄어쓰기가 없는 문장 임의로 만들기\n",
        "print(new_sent)"
      ],
      "metadata": {
        "colab": {
          "base_uri": "https://localhost:8080/"
        },
        "id": "mnvQPt5PynR8",
        "outputId": "aa3439b2-620d-4224-eada-32954c9e6c44"
      },
      "execution_count": null,
      "outputs": [
        {
          "output_type": "stream",
          "name": "stdout",
          "text": [
            "김철수는극중두인격의사나이이광수역을맡았다.철수는한국유일의태권도전승자를가리는결전의날을앞두고10년간함께훈련한사형인유연재(김광수분)를찾으러속세로내려온인물이다.\n"
          ]
        }
      ]
    },
    {
      "cell_type": "markdown",
      "source": [
        "원본과 패키지 사용 후 비교 -> 정확하게 결과가 일치한다."
      ],
      "metadata": {
        "id": "VrNLbKQdyvkG"
      }
    },
    {
      "cell_type": "code",
      "source": [
        "from pykospacing import Spacing\n",
        "spacing = Spacing()\n",
        "kospacing_sent = spacing(new_sent) \n",
        "\n",
        "print(sent)\n",
        "print(kospacing_sent)"
      ],
      "metadata": {
        "colab": {
          "base_uri": "https://localhost:8080/"
        },
        "id": "UJu-6KgNyoG8",
        "outputId": "4f77db24-191f-473e-cef2-9e62ba85989c"
      },
      "execution_count": null,
      "outputs": [
        {
          "output_type": "stream",
          "name": "stdout",
          "text": [
            "1/1 [==============================] - 1s 699ms/step\n",
            "김철수는 극중 두 인격의 사나이 이광수 역을 맡았다. 철수는 한국 유일의 태권도 전승자를 가리는 결전의 날을 앞두고 10년간 함께 훈련한 사형인 유연재(김광수 분)를 찾으러 속세로 내려온 인물이다.\n",
            "김철수는 극중 두 인격의 사나이 이광수 역을 맡았다. 철수는 한국 유일의 태권도 전승자를 가리는 결전의 날을 앞두고 10년간 함께 훈련한 사형인 유연재(김광수 분)를 찾으러 속세로 내려온 인물이다.\n"
          ]
        }
      ]
    },
    {
      "cell_type": "markdown",
      "source": [
        "#### 2) Py-hanspell\n",
        "네이버 한글맞춤법 검사기를 바탕으로 만들어진 패키지이다.\n",
        "\n",
        "이것은 또한 띄어쓰기도 보정한다."
      ],
      "metadata": {
        "id": "M2c2LkwEy4rY"
      }
    },
    {
      "cell_type": "code",
      "source": [
        "pip install git+https://github.com/ssut/py-hanspell.git"
      ],
      "metadata": {
        "colab": {
          "base_uri": "https://localhost:8080/"
        },
        "id": "m-rUY3S0zDsH",
        "outputId": "6ba6a118-24d9-49f7-b4be-e60fe3a58ac2"
      },
      "execution_count": null,
      "outputs": [
        {
          "output_type": "stream",
          "name": "stdout",
          "text": [
            "Looking in indexes: https://pypi.org/simple, https://us-python.pkg.dev/colab-wheels/public/simple/\n",
            "Collecting git+https://github.com/ssut/py-hanspell.git\n",
            "  Cloning https://github.com/ssut/py-hanspell.git to /tmp/pip-req-build-pcsj_ebo\n",
            "  Running command git clone -q https://github.com/ssut/py-hanspell.git /tmp/pip-req-build-pcsj_ebo\n",
            "Requirement already satisfied: requests in /usr/local/lib/python3.8/dist-packages (from py-hanspell==1.1) (2.23.0)\n",
            "Requirement already satisfied: idna<3,>=2.5 in /usr/local/lib/python3.8/dist-packages (from requests->py-hanspell==1.1) (2.10)\n",
            "Requirement already satisfied: chardet<4,>=3.0.2 in /usr/local/lib/python3.8/dist-packages (from requests->py-hanspell==1.1) (3.0.4)\n",
            "Requirement already satisfied: certifi>=2017.4.17 in /usr/local/lib/python3.8/dist-packages (from requests->py-hanspell==1.1) (2022.12.7)\n",
            "Requirement already satisfied: urllib3!=1.25.0,!=1.25.1,<1.26,>=1.21.1 in /usr/local/lib/python3.8/dist-packages (from requests->py-hanspell==1.1) (1.24.3)\n",
            "Building wheels for collected packages: py-hanspell\n",
            "  Building wheel for py-hanspell (setup.py) ... \u001b[?25l\u001b[?25hdone\n",
            "  Created wheel for py-hanspell: filename=py_hanspell-1.1-py3-none-any.whl size=4870 sha256=8abbd56ae74ce96b52b877bb6a043fe1b7baa0f098714bf614d299cb461c94be\n",
            "  Stored in directory: /tmp/pip-ephem-wheel-cache-mrp05a36/wheels/3f/a5/73/e4d2806ae141d274fdddaabf8c0ed79be9357d36bfdc99e4b4\n",
            "Successfully built py-hanspell\n",
            "Installing collected packages: py-hanspell\n",
            "Successfully installed py-hanspell-1.1\n"
          ]
        }
      ]
    },
    {
      "cell_type": "code",
      "source": [
        "from hanspell import spell_checker\n",
        "\n",
        "sent = \"맞춤법 틀리면 외 않되? 쓰고싶은대로쓰면돼지 \"\n",
        "spelled_sent = spell_checker.check(sent)\n",
        "\n",
        "hanspell_sent = spelled_sent.checked\n",
        "print(hanspell_sent)"
      ],
      "metadata": {
        "colab": {
          "base_uri": "https://localhost:8080/"
        },
        "id": "cf-Yyz0Cyy9u",
        "outputId": "e3d927f9-b33a-4d98-ac93-79b4243b5e2c"
      },
      "execution_count": null,
      "outputs": [
        {
          "output_type": "stream",
          "name": "stdout",
          "text": [
            "맞춤법 틀리면 왜 안돼? 쓰고 싶은 대로 쓰면 되지\n"
          ]
        }
      ]
    },
    {
      "cell_type": "markdown",
      "source": [
        "\n",
        "(여기)\n",
        "\n",
        "#### 3)soynlp\n",
        "품사 태깅, 단어 토큰화 등을 지원하는 단어 토크나이저(한국어 토크나이저 = 형태소 분석기)\n",
        "\n",
        "데이터에 \"자주 등장하는 단어들\"을 단어로 분석한다.내부적으로 단어 점수 표로 동작한다.(응집확률, 브랜칭 엔트로피)"
      ],
      "metadata": {
        "id": "2ex6ZQAmzLk_"
      }
    },
    {
      "cell_type": "code",
      "source": [
        "pip install soynlp"
      ],
      "metadata": {
        "colab": {
          "base_uri": "https://localhost:8080/"
        },
        "id": "SqS1QbXpzBFb",
        "outputId": "35637c98-4b1b-4cf0-ea62-46269550255f"
      },
      "execution_count": 1,
      "outputs": [
        {
          "output_type": "stream",
          "name": "stdout",
          "text": [
            "Looking in indexes: https://pypi.org/simple, https://us-python.pkg.dev/colab-wheels/public/simple/\n",
            "Collecting soynlp\n",
            "  Downloading soynlp-0.0.493-py3-none-any.whl (416 kB)\n",
            "\u001b[K     |████████████████████████████████| 416 kB 5.5 MB/s \n",
            "\u001b[?25hRequirement already satisfied: scikit-learn>=0.20.0 in /usr/local/lib/python3.8/dist-packages (from soynlp) (1.0.2)\n",
            "Requirement already satisfied: scipy>=1.1.0 in /usr/local/lib/python3.8/dist-packages (from soynlp) (1.7.3)\n",
            "Requirement already satisfied: psutil>=5.0.1 in /usr/local/lib/python3.8/dist-packages (from soynlp) (5.4.8)\n",
            "Requirement already satisfied: numpy>=1.12.1 in /usr/local/lib/python3.8/dist-packages (from soynlp) (1.21.6)\n",
            "Requirement already satisfied: joblib>=0.11 in /usr/local/lib/python3.8/dist-packages (from scikit-learn>=0.20.0->soynlp) (1.2.0)\n",
            "Requirement already satisfied: threadpoolctl>=2.0.0 in /usr/local/lib/python3.8/dist-packages (from scikit-learn>=0.20.0->soynlp) (3.1.0)\n",
            "Installing collected packages: soynlp\n",
            "Successfully installed soynlp-0.0.493\n"
          ]
        }
      ]
    },
    {
      "cell_type": "markdown",
      "source": [
        "-> 기존의 형태소 분석기가 가진 문제 : \n",
        "\n",
        "1.신조어 문제\n",
        "\n",
        "기존의 형태소 분석기는 신조어나 형태소 분석기에 등록되지 않은 단어 같은 경우에는 제대로 구분하지 못한다.\n",
        "\n",
        "에이비식스는 아이돌의 이름이고, 이대휘는 에이비식스의 멤버이며, 최애돌은 최고로 애정하는 캐릭터라는 뜻이지만 위의 형태소 분석 결과에서는 전부 분리된 결과를 보임\n",
        "\n",
        "\n",
        "그렇다면 텍스트 데이터에서 특정 문자 시퀀스가 함께 자주 등장하는 빈도가 높고, 앞 뒤로 조사 또는 완전히 다른 단어가 등장하는 것을 고려해서 해당 문자 시퀀스를 형태소라고 판단하는 단어 토크나이저라면?\n",
        "\n",
        "\n",
        "예를 들어 에이비식스라는 문자열이 \"자주 연결되어 등장한다면 한 단어라고 판단\"하고, 또한 에이비식스라는 단어 앞, 뒤에 '최고', '가수', '실력'과 같은 독립된 다른 단어들이 계속해서 등장한다면 에이비식스를 한 단어로 파악하는 식 그리고 이런 아이디어를 가진 단어 토크나이저가 soynlp이다.\n"
      ],
      "metadata": {
        "id": "oKaOm0X2zxXO"
      }
    },
    {
      "cell_type": "code",
      "source": [
        "pip install konlpy"
      ],
      "metadata": {
        "colab": {
          "base_uri": "https://localhost:8080/"
        },
        "id": "uZ0DjwRQThQV",
        "outputId": "e2889775-5031-4b6a-e22c-a86dde466298"
      },
      "execution_count": 3,
      "outputs": [
        {
          "output_type": "stream",
          "name": "stdout",
          "text": [
            "Looking in indexes: https://pypi.org/simple, https://us-python.pkg.dev/colab-wheels/public/simple/\n",
            "Collecting konlpy\n",
            "  Downloading konlpy-0.6.0-py2.py3-none-any.whl (19.4 MB)\n",
            "\u001b[K     |████████████████████████████████| 19.4 MB 1.2 MB/s \n",
            "\u001b[?25hRequirement already satisfied: lxml>=4.1.0 in /usr/local/lib/python3.8/dist-packages (from konlpy) (4.9.2)\n",
            "Collecting JPype1>=0.7.0\n",
            "  Downloading JPype1-1.4.1-cp38-cp38-manylinux_2_12_x86_64.manylinux2010_x86_64.whl (465 kB)\n",
            "\u001b[K     |████████████████████████████████| 465 kB 70.8 MB/s \n",
            "\u001b[?25hRequirement already satisfied: numpy>=1.6 in /usr/local/lib/python3.8/dist-packages (from konlpy) (1.21.6)\n",
            "Requirement already satisfied: packaging in /usr/local/lib/python3.8/dist-packages (from JPype1>=0.7.0->konlpy) (21.3)\n",
            "Requirement already satisfied: pyparsing!=3.0.5,>=2.0.2 in /usr/local/lib/python3.8/dist-packages (from packaging->JPype1>=0.7.0->konlpy) (3.0.9)\n",
            "Installing collected packages: JPype1, konlpy\n",
            "Successfully installed JPype1-1.4.1 konlpy-0.6.0\n"
          ]
        }
      ]
    },
    {
      "cell_type": "code",
      "source": [
        "import konlpy"
      ],
      "metadata": {
        "id": "oWqf_lRPTlsh"
      },
      "execution_count": 4,
      "outputs": []
    },
    {
      "cell_type": "code",
      "source": [
        "from konlpy.tag import Okt\n",
        "tokenizer = Okt()\n",
        "print(tokenizer.morphs('에이비식스 이대휘 1월 최애돌 기부 요정'))"
      ],
      "metadata": {
        "colab": {
          "base_uri": "https://localhost:8080/"
        },
        "id": "M4JmbuURzVI1",
        "outputId": "c3463a41-060b-4c33-f1e5-b2700f4f87e2"
      },
      "execution_count": 5,
      "outputs": [
        {
          "output_type": "stream",
          "name": "stdout",
          "text": [
            "['에이', '비식스', '이대', '휘', '1월', '최애', '돌', '기부', '요정']\n"
          ]
        }
      ]
    },
    {
      "cell_type": "markdown",
      "source": [
        "2.학습하기\n",
        "\n",
        "soynlp는 기본적으로 학습에 기반한 토크나이저이므로 학습에 필요한 한국어 문서를 다운로드해야 한다. 훈련 데이터는 3만 91개의 문서가 존재한다.(nlp에서는 문서가 문단일수도 문장일수도 있는 것 같다.)\n",
        "\n",
        "\n",
        "soynlp는 학습 기반의 단어 토크나이저이므로 기존의 KoNLPy에서 제공하는 형태소 분석기들과는 달리 학습 과정을 거쳐야 한다. 이는 전체 코퍼스로부터 응집 확률과 브랜칭 엔트로피 단어 점수표를 만드는 과정이다. (자주 연결되어 등장한다면 한 단어라고 판단하기 위한 평가 기준을 준비 하는 것이다.)\n",
        "\n"
      ],
      "metadata": {
        "id": "YtfJ6ooQ0Vzn"
      }
    },
    {
      "cell_type": "code",
      "source": [
        "import urllib.request\n",
        "from soynlp import DoublespaceLineCorpus\n",
        "from soynlp.word import WordExtractor"
      ],
      "metadata": {
        "id": "l-dNMdZjzzbI"
      },
      "execution_count": 6,
      "outputs": []
    },
    {
      "cell_type": "code",
      "source": [
        "urllib.request.urlretrieve(\"https://raw.githubusercontent.com/lovit/soynlp/master/tutorials/2016-10-20.txt\", filename=\"2016-10-20.txt\")"
      ],
      "metadata": {
        "colab": {
          "base_uri": "https://localhost:8080/"
        },
        "id": "rjETvC860i2Q",
        "outputId": "0f9fab3c-94ed-4121-eed4-a12512bba283"
      },
      "execution_count": 7,
      "outputs": [
        {
          "output_type": "execute_result",
          "data": {
            "text/plain": [
              "('2016-10-20.txt', <http.client.HTTPMessage at 0x7f9962b4e850>)"
            ]
          },
          "metadata": {},
          "execution_count": 7
        }
      ]
    },
    {
      "cell_type": "code",
      "source": [
        "# 훈련 데이터를 다수의 문서로 분리\n",
        "corpus = DoublespaceLineCorpus(\"2016-10-20.txt\")\n",
        "len(corpus)"
      ],
      "metadata": {
        "colab": {
          "base_uri": "https://localhost:8080/"
        },
        "id": "kGZ3_hln0krs",
        "outputId": "03c1994a-6343-4b3d-a5f4-4d2c993a34af"
      },
      "execution_count": 8,
      "outputs": [
        {
          "output_type": "execute_result",
          "data": {
            "text/plain": [
              "30091"
            ]
          },
          "metadata": {},
          "execution_count": 8
        }
      ]
    },
    {
      "cell_type": "code",
      "source": [
        "# 맨위 3개 출력\n",
        "i = 0\n",
        "for document in corpus:\n",
        "  if len(document) > 0:\n",
        "    print(document)\n",
        "    i = i+1\n",
        "  if i == 3:\n",
        "    break"
      ],
      "metadata": {
        "colab": {
          "base_uri": "https://localhost:8080/"
        },
        "id": "BhqReLOQ0pzM",
        "outputId": "725899ee-5ade-4d98-abbc-dcb6581cc385"
      },
      "execution_count": 9,
      "outputs": [
        {
          "output_type": "stream",
          "name": "stdout",
          "text": [
            "19  1990  52 1 22\n",
            "오패산터널 총격전 용의자 검거 서울 연합뉴스 경찰 관계자들이 19일 오후 서울 강북구 오패산 터널 인근에서 사제 총기를 발사해 경찰을 살해한 용의자 성모씨를 검거하고 있다 성씨는 검거 당시 서바이벌 게임에서 쓰는 방탄조끼에 헬멧까지 착용한 상태였다 독자제공 영상 캡처 연합뉴스  서울 연합뉴스 김은경 기자 사제 총기로 경찰을 살해한 범인 성모 46 씨는 주도면밀했다  경찰에 따르면 성씨는 19일 오후 강북경찰서 인근 부동산 업소 밖에서 부동산업자 이모 67 씨가 나오기를 기다렸다 이씨와는 평소에도 말다툼을 자주 한 것으로 알려졌다  이씨가 나와 걷기 시작하자 성씨는 따라가면서 미리 준비해온 사제 총기를 이씨에게 발사했다 총알이 빗나가면서 이씨는 도망갔다 그 빗나간 총알은 지나가던 행인 71 씨의 배를 스쳤다  성씨는 강북서 인근 치킨집까지 이씨 뒤를 쫓으며 실랑이하다 쓰러뜨린 후 총기와 함께 가져온 망치로 이씨 머리를 때렸다  이 과정에서 오후 6시 20분께 강북구 번동 길 위에서 사람들이 싸우고 있다 총소리가 났다 는 등의 신고가 여러건 들어왔다  5분 후에 성씨의 전자발찌가 훼손됐다는 신고가 보호관찰소 시스템을 통해 들어왔다 성범죄자로 전자발찌를 차고 있던 성씨는 부엌칼로 직접 자신의 발찌를 끊었다  용의자 소지 사제총기 2정 서울 연합뉴스 임헌정 기자 서울 시내에서 폭행 용의자가 현장 조사를 벌이던 경찰관에게 사제총기를 발사해 경찰관이 숨졌다 19일 오후 6시28분 강북구 번동에서 둔기로 맞았다 는 폭행 피해 신고가 접수돼 현장에서 조사하던 강북경찰서 번동파출소 소속 김모 54 경위가 폭행 용의자 성모 45 씨가 쏜 사제총기에 맞고 쓰러진 뒤 병원에 옮겨졌으나 숨졌다 사진은 용의자가 소지한 사제총기  신고를 받고 번동파출소에서 김창호 54 경위 등 경찰들이 오후 6시 29분께 현장으로 출동했다 성씨는 그사이 부동산 앞에 놓아뒀던 가방을 챙겨 오패산 쪽으로 도망간 후였다  김 경위는 오패산 터널 입구 오른쪽의 급경사에서 성씨에게 접근하다가 오후 6시 33분께 풀숲에 숨은 성씨가 허공에 난사한 10여발의 총알 중 일부를 왼쪽 어깨 뒷부분에 맞고 쓰러졌다  김 경위는 구급차가 도착했을 때 이미 의식이 없었고 심폐소생술을 하며 병원으로 옮겨졌으나 총알이 폐를 훼손해 오후 7시 40분께 사망했다  김 경위는 외근용 조끼를 입고 있었으나 총알을 막기에는 역부족이었다  머리에 부상을 입은 이씨도 함께 병원으로 이송됐으나 생명에는 지장이 없는 것으로 알려졌다  성씨는 오패산 터널 밑쪽 숲에서 오후 6시 45분께 잡혔다  총격현장 수색하는 경찰들 서울 연합뉴스 이효석 기자 19일 오후 서울 강북구 오패산 터널 인근에서 경찰들이 폭행 용의자가 사제총기를 발사해 경찰관이 사망한 사건을 조사 하고 있다  총 때문에 쫓던 경관들과 민간인들이 몸을 숨겼는데 인근 신발가게 직원 이모씨가 다가가 성씨를 덮쳤고 이어 현장에 있던 다른 상인들과 경찰이 가세해 체포했다  성씨는 경찰에 붙잡힌 직후 나 자살하려고 한 거다 맞아 죽어도 괜찮다 고 말한 것으로 전해졌다  성씨 자신도 경찰이 발사한 공포탄 1발 실탄 3발 중 실탄 1발을 배에 맞았으나 방탄조끼를 입은 상태여서 부상하지는 않았다  경찰은 인근을 수색해 성씨가 만든 사제총 16정과 칼 7개를 압수했다 실제 폭발할지는 알 수 없는 요구르트병에 무언가를 채워두고 심지를 꽂은 사제 폭탄도 발견됐다  일부는 숲에서 발견됐고 일부는 성씨가 소지한 가방 안에 있었다\n",
            "테헤란 연합뉴스 강훈상 특파원 이용 승객수 기준 세계 최대 공항인 아랍에미리트 두바이국제공항은 19일 현지시간 이 공항을 이륙하는 모든 항공기의 탑승객은 삼성전자의 갤럭시노트7을 휴대하면 안 된다고 밝혔다  두바이국제공항은 여러 항공 관련 기구의 권고에 따라 안전성에 우려가 있는 스마트폰 갤럭시노트7을 휴대하고 비행기를 타면 안 된다 며 탑승 전 검색 중 발견되면 압수할 계획 이라고 발표했다  공항 측은 갤럭시노트7의 배터리가 폭발 우려가 제기된 만큼 이 제품을 갖고 공항 안으로 들어오지 말라고 이용객에 당부했다  이런 조치는 두바이국제공항 뿐 아니라 신공항인 두바이월드센터에도 적용된다  배터리 폭발문제로 회수된 갤럭시노트7 연합뉴스자료사진\n"
          ]
        }
      ]
    },
    {
      "cell_type": "markdown",
      "source": [
        " WordExtractor.extract()를 통해서 전체 코퍼스에 대해 단어 점수표를 계산"
      ],
      "metadata": {
        "id": "fHjKJmoc1tAs"
      }
    },
    {
      "cell_type": "code",
      "source": [
        "word_extractor = WordExtractor()\n",
        "word_extractor.train(corpus)\n",
        "word_score_table = word_extractor.extract() # 단어 점수표 계산"
      ],
      "metadata": {
        "colab": {
          "base_uri": "https://localhost:8080/"
        },
        "id": "Z4PDP0lz0273",
        "outputId": "e79cf8ce-6e00-465c-d80d-920de91509fd"
      },
      "execution_count": 10,
      "outputs": [
        {
          "output_type": "stream",
          "name": "stdout",
          "text": [
            "training was done. used memory 1.427 Gb\n",
            "all cohesion probabilities was computed. # words = 223348\n",
            "all branching entropies was computed # words = 361598\n",
            "all accessor variety was computed # words = 361598\n"
          ]
        }
      ]
    },
    {
      "cell_type": "markdown",
      "source": [
        "#### 3) soynlp 응집 확률\n",
        "\n",
        "응집 확률은 내부 문자열(substring)이 얼마나 응집하여 자주 등장하는지를 판단하는 척도\n",
        "\n",
        "응집 확률은 문자열을 문자 단위로 분리하여 내부 문자열을 만드는 과정에서 왼쪽부터 순서대로 문자를 추가하면서 각 문자열이 주어졌을 때 그 다음 문자가 나올 확률을 계산하여 누적곱을 한 값이다.\n",
        "\n",
        "이 값이 높을수록 전체 코퍼스에서 이 문자열 시퀀스는 하나의 단어로 등장할 가능성이 높다.\n"
      ],
      "metadata": {
        "id": "a0TtLREG2G0C"
      }
    },
    {
      "cell_type": "markdown",
      "source": [
        "'반포한강공원에'라는 7의 길이를 가진 문자 시퀀스에 대해서 각 내부 문자열의 스코어를 구하는 과정은 아래와 같다.\n",
        "\n"
      ],
      "metadata": {
        "id": "Qt6MBivFUYlg"
      }
    },
    {
      "cell_type": "markdown",
      "source": [
        "![1.PNG](data:image/png;base64,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)"
      ],
      "metadata": {
        "id": "vUaQz0CJUcBm"
      }
    },
    {
      "cell_type": "markdown",
      "source": [
        "반포한강이 반포한보다 응집 확률이 높다."
      ],
      "metadata": {
        "id": "K0cAq8A9UsBf"
      }
    },
    {
      "cell_type": "code",
      "source": [
        "# '반포한'의 응집 확률을 계산\n",
        "word_score_table[\"반포한\"].cohesion_forward"
      ],
      "metadata": {
        "id": "33SuyLSM1uu9",
        "colab": {
          "base_uri": "https://localhost:8080/"
        },
        "outputId": "78aaecf9-d8cd-4bdb-c6b5-fbf7236aefbb"
      },
      "execution_count": 11,
      "outputs": [
        {
          "output_type": "execute_result",
          "data": {
            "text/plain": [
              "0.08838002913645132"
            ]
          },
          "metadata": {},
          "execution_count": 11
        }
      ]
    },
    {
      "cell_type": "code",
      "source": [
        "# '반포한강'의 응집 확률을 계산\n",
        "word_score_table[\"반포한강\"].cohesion_forward"
      ],
      "metadata": {
        "colab": {
          "base_uri": "https://localhost:8080/"
        },
        "id": "ip1j1LKqUm0S",
        "outputId": "7e91d6bd-2be1-4aa0-b57e-8db6bfb4c8e7"
      },
      "execution_count": 12,
      "outputs": [
        {
          "output_type": "execute_result",
          "data": {
            "text/plain": [
              "0.19841268168224552"
            ]
          },
          "metadata": {},
          "execution_count": 12
        }
      ]
    },
    {
      "cell_type": "markdown",
      "source": [
        "반포한강공원이 응집 확률이 더 높다. 응집도를 통해 판단하기에 하나의 단어로 판단하기에 가장 적합한 문자열을 찾을 수 있다. \n",
        "\n",
        "이것을 활용하면 아까 신조어였던 '에이비식스', '이대휘'등이 형태소 분석에서 쪼개진 것을 \"자주 연결되어 등장한다면 한 단어라고 판단\"하여 해결할 수 있겠다."
      ],
      "metadata": {
        "id": "7iLpLnxnUzpb"
      }
    },
    {
      "cell_type": "code",
      "source": [
        "word_score_table[\"반포한강공원\"].cohesion_forward"
      ],
      "metadata": {
        "colab": {
          "base_uri": "https://localhost:8080/"
        },
        "id": "GttiLSZGUqx9",
        "outputId": "97ec3a7e-744a-4bbe-e276-beb502d0107a"
      },
      "execution_count": 13,
      "outputs": [
        {
          "output_type": "execute_result",
          "data": {
            "text/plain": [
              "0.37891487632839754"
            ]
          },
          "metadata": {},
          "execution_count": 13
        }
      ]
    },
    {
      "cell_type": "markdown",
      "source": [
        "#### 4) 브랜팅 엔트로피\n",
        "\n",
        "Branching Entropy는 확률 분포의 엔트로피값을 사용합니다. 이는 주어진 문자열에서 얼마나 다음 문자가 등장할 수 있는지를 판단하는 척도이다.\n",
        "\n",
        "\n",
        "브랜칭 엔트로피를 주어진 문자 시퀀스에서 다음 문자 예측을 위해 헷갈리는 정도로 비유해봅시다. 브랜칭 엔트로피의 값은 하나의 완성된 단어에 가까워질수록 문맥으로 인해 점점 정확히 예측할 수 있게 되면서 점점 줄어드는 양상을 보인다.\n",
        "\n",
        "ex) 정답이 디스플레이인데 앞 글자 하나씩 말해서 정답을 맞춰보도록 해보자\n",
        "\n",
        "'디'만 나오는 것과 \"디스플\"이 나온 것의 정답 확률은 \"디스플\"이 높다.\n",
        "\n",
        "따라서 브랜칭 엔트로피는 헷갈리는 정도이니 많이 공개되었을 수록 점수가 낮아진다."
      ],
      "metadata": {
        "id": "RXCQ6N31VVtw"
      }
    },
    {
      "cell_type": "markdown",
      "source": [
        "'디스' 다음에는 다양한 문자가 올 수 있으니까 1.63이라는 값을 가지는 반면, '디스플'이라는 문자열 다음에는 다음 문자로 '레'가 오는 것이 너무나 명백하기 때문에 0이란 값을 가진다."
      ],
      "metadata": {
        "id": "hvgKHbZnWDEz"
      }
    },
    {
      "cell_type": "code",
      "source": [
        "word_score_table[\"디스\"].right_branching_entropy"
      ],
      "metadata": {
        "colab": {
          "base_uri": "https://localhost:8080/"
        },
        "id": "EEtExDj1Uwy5",
        "outputId": "78b91eb5-35b5-4a29-ea85-b6f758fc163f"
      },
      "execution_count": 14,
      "outputs": [
        {
          "output_type": "execute_result",
          "data": {
            "text/plain": [
              "1.6371694761537934"
            ]
          },
          "metadata": {},
          "execution_count": 14
        }
      ]
    },
    {
      "cell_type": "code",
      "source": [
        "word_score_table[\"디스플\"].right_branching_entropy"
      ],
      "metadata": {
        "colab": {
          "base_uri": "https://localhost:8080/"
        },
        "id": "HeA6E1M1V_-U",
        "outputId": "42f82048-7e92-4653-b1db-9decf84aedb3"
      },
      "execution_count": 15,
      "outputs": [
        {
          "output_type": "execute_result",
          "data": {
            "text/plain": [
              "-0.0"
            ]
          },
          "metadata": {},
          "execution_count": 15
        }
      ]
    },
    {
      "cell_type": "markdown",
      "source": [
        "갑자기 값이 증가합니다. 그 이유는 문자 시퀀스 '디스플레이'라는 문자 시퀀스 다음에는 조사나 다른 단어와 같은 다양한 경우가 있을 수 있기 때문 이는 하나의 단어가 끝나면 그 경계 부분부터 다시 브랜칭 엔트로피 값이 증가하게 됨을 의미. 그리고 이 값으로 단어를 판단하는 것이 가능."
      ],
      "metadata": {
        "id": "yxGKNveHWM_7"
      }
    },
    {
      "cell_type": "code",
      "source": [
        "word_score_table[\"디스플레이\"].right_branching_entropy"
      ],
      "metadata": {
        "colab": {
          "base_uri": "https://localhost:8080/"
        },
        "id": "yTE6oQIFWBGH",
        "outputId": "3803844d-48e7-4ca7-d0fd-1925898efc71"
      },
      "execution_count": 16,
      "outputs": [
        {
          "output_type": "execute_result",
          "data": {
            "text/plain": [
              "3.1400392861792916"
            ]
          },
          "metadata": {},
          "execution_count": 16
        }
      ]
    },
    {
      "cell_type": "markdown",
      "source": [
        "#### 5) 반복도는 문장 전제\n",
        "\n",
        "SNS나 채팅 데이터와 같은 한국어 데이터의 경우에는 ㅋㅋ, ㅎㅎ 등의 이모티콘의 경우 불필요하게 연속되는 경우가 많은데 ㅋㅋ, ㅋㅋㅋ, ㅋㅋㅋㅋ와 같은 경우를 모두 서로 다른 단어로 처리하는 것은 불필요하다. 이에 반복되는 것은 하나로 정규화시켜준다."
      ],
      "metadata": {
        "id": "vedi2fMCWkvn"
      }
    },
    {
      "cell_type": "code",
      "source": [
        "from soynlp.normalizer import *"
      ],
      "metadata": {
        "id": "M6n7ufmEWMCS"
      },
      "execution_count": 17,
      "outputs": []
    },
    {
      "cell_type": "code",
      "source": [
        "print(emoticon_normalize('앜ㅋㅋㅋㅋ이영화존잼쓰ㅠㅠㅠㅠㅠ', num_repeats=2))\n",
        "print(emoticon_normalize('앜ㅋㅋㅋㅋㅋㅋㅋㅋㅋ이영화존잼쓰ㅠㅠㅠㅠ', num_repeats=2))\n",
        "print(emoticon_normalize('앜ㅋㅋㅋㅋㅋㅋㅋㅋㅋㅋㅋㅋ이영화존잼쓰ㅠㅠㅠㅠㅠㅠ', num_repeats=2))\n",
        "print(emoticon_normalize('앜ㅋㅋㅋㅋㅋㅋㅋㅋㅋㅋㅋㅋㅋㅋㅋㅋㅋ이영화존잼쓰ㅠㅠㅠㅠㅠㅠㅠㅠ', num_repeats=2))"
      ],
      "metadata": {
        "colab": {
          "base_uri": "https://localhost:8080/"
        },
        "id": "_T6QOCPBWqqF",
        "outputId": "3d85f4e8-9e9d-48dc-f45e-9e055f910654"
      },
      "execution_count": 18,
      "outputs": [
        {
          "output_type": "stream",
          "name": "stdout",
          "text": [
            "아ㅋㅋ영화존잼쓰ㅠㅠ\n",
            "아ㅋㅋ영화존잼쓰ㅠㅠ\n",
            "아ㅋㅋ영화존잼쓰ㅠㅠ\n",
            "아ㅋㅋ영화존잼쓰ㅠㅠ\n"
          ]
        }
      ]
    },
    {
      "cell_type": "markdown",
      "source": [
        "#### 6) konlpy 커스터마이징\n",
        "\n",
        "아래의 상황에서  '은경이'는 사람 이름이므로 제대로 된 결과를 얻기 위해서는 '은', '경이'와 같이 글자가 분리되는 것이 아니라 '은경이' 또는 최소한 '은경'이라는 단어 토큰을 얻어야만 한다.\n",
        "\n",
        "이런 경우에는 형태소 분석기에 사용자 사전을 추가해줄 수 있습니다. '은경이'는 하나의 단어이기 때문에 분리하지말라고 형태소 분석기에 알려주는 것이다."
      ],
      "metadata": {
        "id": "DDIBeuqKW6Yy"
      }
    },
    {
      "cell_type": "code",
      "source": [
        "형태소 분석 입력 : '은경이는 사무실로 갔습니다.'\n",
        "형태소 분석 결과 : ['은', '경이', '는', '사무실', '로', '갔습니다', '.']"
      ],
      "metadata": {
        "id": "gDkuzYocWs6K"
      },
      "execution_count": null,
      "outputs": []
    },
    {
      "cell_type": "code",
      "source": [
        "pip install customized_konlpy"
      ],
      "metadata": {
        "colab": {
          "base_uri": "https://localhost:8080/"
        },
        "id": "MwJSL-WwXLDr",
        "outputId": "95337780-3ce3-49fb-e3cc-714c08da31db"
      },
      "execution_count": 19,
      "outputs": [
        {
          "output_type": "stream",
          "name": "stdout",
          "text": [
            "Looking in indexes: https://pypi.org/simple, https://us-python.pkg.dev/colab-wheels/public/simple/\n",
            "Collecting customized_konlpy\n",
            "  Downloading customized_konlpy-0.0.64-py3-none-any.whl (881 kB)\n",
            "\u001b[K     |████████████████████████████████| 881 kB 7.6 MB/s \n",
            "\u001b[?25hRequirement already satisfied: konlpy>=0.4.4 in /usr/local/lib/python3.8/dist-packages (from customized_konlpy) (0.6.0)\n",
            "Requirement already satisfied: Jpype1>=0.6.1 in /usr/local/lib/python3.8/dist-packages (from customized_konlpy) (1.4.1)\n",
            "Requirement already satisfied: packaging in /usr/local/lib/python3.8/dist-packages (from Jpype1>=0.6.1->customized_konlpy) (21.3)\n",
            "Requirement already satisfied: lxml>=4.1.0 in /usr/local/lib/python3.8/dist-packages (from konlpy>=0.4.4->customized_konlpy) (4.9.2)\n",
            "Requirement already satisfied: numpy>=1.6 in /usr/local/lib/python3.8/dist-packages (from konlpy>=0.4.4->customized_konlpy) (1.21.6)\n",
            "Requirement already satisfied: pyparsing!=3.0.5,>=2.0.2 in /usr/local/lib/python3.8/dist-packages (from packaging->Jpype1>=0.6.1->customized_konlpy) (3.0.9)\n",
            "Installing collected packages: customized-konlpy\n",
            "Successfully installed customized-konlpy-0.0.64\n"
          ]
        }
      ]
    },
    {
      "cell_type": "markdown",
      "source": [
        "add_dic를 하면 원래 은, 경이로 형태소를 분석하다가 은경이로 보기 시작한다."
      ],
      "metadata": {
        "id": "_2XDpJGHXTyr"
      }
    },
    {
      "cell_type": "code",
      "source": [
        "from ckonlpy.tag import Twitter\n",
        "twitter = Twitter()\n",
        "twitter.morphs('은경이는 사무실로 갔습니다.')"
      ],
      "metadata": {
        "colab": {
          "base_uri": "https://localhost:8080/"
        },
        "id": "VyxpxvqpXLst",
        "outputId": "5b77f946-22b6-4f10-c2ee-8aed2757b287"
      },
      "execution_count": 20,
      "outputs": [
        {
          "output_type": "stream",
          "name": "stderr",
          "text": [
            "/usr/local/lib/python3.8/dist-packages/konlpy/tag/_okt.py:17: UserWarning: \"Twitter\" has changed to \"Okt\" since KoNLPy v0.4.5.\n",
            "  warn('\"Twitter\" has changed to \"Okt\" since KoNLPy v0.4.5.')\n"
          ]
        },
        {
          "output_type": "execute_result",
          "data": {
            "text/plain": [
              "['은', '경이', '는', '사무실', '로', '갔습니다', '.']"
            ]
          },
          "metadata": {},
          "execution_count": 20
        }
      ]
    },
    {
      "cell_type": "code",
      "source": [
        "twitter.add_dictionary('은경이', 'Noun')"
      ],
      "metadata": {
        "id": "sV85LtClXPd4"
      },
      "execution_count": 21,
      "outputs": []
    },
    {
      "cell_type": "code",
      "source": [
        "twitter.morphs('은경이는 사무실로 갔습니다.')"
      ],
      "metadata": {
        "colab": {
          "base_uri": "https://localhost:8080/"
        },
        "id": "8mcnTQVZXSWS",
        "outputId": "fc6283ed-553f-4f6b-8134-a9aba02c96f5"
      },
      "execution_count": 22,
      "outputs": [
        {
          "output_type": "execute_result",
          "data": {
            "text/plain": [
              "['은경이', '는', '사무실', '로', '갔습니다', '.']"
            ]
          },
          "metadata": {},
          "execution_count": 22
        }
      ]
    },
    {
      "cell_type": "code",
      "source": [],
      "metadata": {
        "id": "3sjcCuq2XTXr"
      },
      "execution_count": null,
      "outputs": []
    }
  ]
}