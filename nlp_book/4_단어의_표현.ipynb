{
  "nbformat": 4,
  "nbformat_minor": 0,
  "metadata": {
    "colab": {
      "provenance": []
    },
    "kernelspec": {
      "name": "python3",
      "display_name": "Python 3"
    },
    "language_info": {
      "name": "python"
    }
  },
  "cells": [
    {
      "cell_type": "markdown",
      "source": [
        "## BOW란?\n",
        "\n",
        "-> BOW를 만드는 과정\n",
        "(1) 각 단어에 고유한 정수 인덱스를 부여한다.  \n",
        "(2) 각 인덱스의 위치에 단어 토큰의 등장 횟수를 기록한 벡터를 만든다.\n",
        "\n",
        "문서1 : 정부가 발표하는 물가상승률과 소비자가 느끼는 물가상승률은 다르다.\n",
        "\n",
        "문서 1에 대해 BOW를 만든다. 근데 bow는 단어에 대한 표현이 아니고 문서에 대한 표현 같다. 역시 이번에도 문장을 가져왔다."
      ],
      "metadata": {
        "id": "w_3HUN-xO9dI"
      }
    },
    {
      "cell_type": "code",
      "source": [
        "pip install konlpy"
      ],
      "metadata": {
        "colab": {
          "base_uri": "https://localhost:8080/"
        },
        "id": "pa3G4rhPPWcZ",
        "outputId": "4ac5c565-4719-4fd2-91b0-92a1e54ddc9e"
      },
      "execution_count": null,
      "outputs": [
        {
          "output_type": "stream",
          "name": "stdout",
          "text": [
            "Looking in indexes: https://pypi.org/simple, https://us-python.pkg.dev/colab-wheels/public/simple/\n",
            "Collecting konlpy\n",
            "  Downloading konlpy-0.6.0-py2.py3-none-any.whl (19.4 MB)\n",
            "\u001b[K     |████████████████████████████████| 19.4 MB 5.3 MB/s \n",
            "\u001b[?25hRequirement already satisfied: numpy>=1.6 in /usr/local/lib/python3.8/dist-packages (from konlpy) (1.21.6)\n",
            "Requirement already satisfied: lxml>=4.1.0 in /usr/local/lib/python3.8/dist-packages (from konlpy) (4.9.2)\n",
            "Collecting JPype1>=0.7.0\n",
            "  Downloading JPype1-1.4.1-cp38-cp38-manylinux_2_12_x86_64.manylinux2010_x86_64.whl (465 kB)\n",
            "\u001b[K     |████████████████████████████████| 465 kB 56.8 MB/s \n",
            "\u001b[?25hRequirement already satisfied: packaging in /usr/local/lib/python3.8/dist-packages (from JPype1>=0.7.0->konlpy) (21.3)\n",
            "Requirement already satisfied: pyparsing!=3.0.5,>=2.0.2 in /usr/local/lib/python3.8/dist-packages (from packaging->JPype1>=0.7.0->konlpy) (3.0.9)\n",
            "Installing collected packages: JPype1, konlpy\n",
            "Successfully installed JPype1-1.4.1 konlpy-0.6.0\n"
          ]
        }
      ]
    },
    {
      "cell_type": "code",
      "source": [
        "from konlpy.tag import Okt"
      ],
      "metadata": {
        "id": "c6dWLDgNP0iR"
      },
      "execution_count": null,
      "outputs": []
    },
    {
      "cell_type": "code",
      "source": [
        "doc1 = \"정부가 발표하는 물가상승률과 소비자가 느끼는 물가상승률은 다르다.\""
      ],
      "metadata": {
        "id": "MwQTaAKjPSTq"
      },
      "execution_count": null,
      "outputs": []
    },
    {
      "cell_type": "code",
      "source": [
        "okt = Okt()\n",
        "doc1 = doc1.replace('.', '')\n",
        "token = okt.morphs(doc1)"
      ],
      "metadata": {
        "id": "hhmYt_gqPpnT"
      },
      "execution_count": null,
      "outputs": []
    },
    {
      "cell_type": "code",
      "source": [
        "word_to_index = {}\n",
        "bow = []\n",
        "bow2 = []\n",
        "\n",
        "print(word_to_index.keys())"
      ],
      "metadata": {
        "colab": {
          "base_uri": "https://localhost:8080/"
        },
        "id": "-RAh_jFwP6AZ",
        "outputId": "6d384d22-7099-44ee-8cf1-a7ef7c42fc46"
      },
      "execution_count": null,
      "outputs": [
        {
          "output_type": "stream",
          "name": "stdout",
          "text": [
            "dict_keys([])\n"
          ]
        }
      ]
    },
    {
      "cell_type": "code",
      "source": [
        "for word in token: # 문장의 단어 하나씩 가져와서\n",
        "  if word not in word_to_index.keys(): # 키에 없는 처음 보는 단어라면\n",
        "    word_to_index[word] = len(word_to_index) # w2i에 문자를 정수에 맵핑함\n",
        "    # BoW에 전부 기본값 1을 넣는다.\n",
        "    bow.append(1)\n",
        "    print(bow)\n",
        "  else:\n",
        "    # 재등장하는 단어라면 그 단어의 현재 bow의 빈도수를 가져와서 1을 더한다.\n",
        "    index = word_to_index[word]\n",
        "    bow[index] = bow[index] + 1"
      ],
      "metadata": {
        "colab": {
          "base_uri": "https://localhost:8080/"
        },
        "id": "H01Ih34JQJf_",
        "outputId": "386a79b7-1334-40eb-cad7-2fbf7dbee7d8"
      },
      "execution_count": null,
      "outputs": [
        {
          "output_type": "stream",
          "name": "stdout",
          "text": [
            "[1]\n",
            "[1, 1]\n",
            "[1, 1, 1]\n",
            "[1, 1, 1, 1]\n",
            "[1, 1, 1, 1, 1]\n",
            "[1, 1, 1, 1, 1, 1]\n",
            "[1, 1, 1, 1, 1, 1, 1]\n",
            "[1, 2, 1, 1, 1, 1, 1, 1]\n",
            "[1, 2, 1, 1, 2, 1, 1, 1, 1]\n",
            "[1, 2, 1, 1, 2, 1, 1, 1, 1, 1]\n"
          ]
        }
      ]
    },
    {
      "cell_type": "markdown",
      "source": [
        "문서 1에 각 단어에 대해서 인덱스를 부여한 결과가 단어 사전이다. 단어 사전을 만드는 것이다.\n",
        "\n",
        "bow결과를 보면 인덱스 4에 해당하는 물가상승률은 두 번 언급되었기 때문에 인덱스 4에 해당하는 값이 2이다.\n",
        "\n"
      ],
      "metadata": {
        "id": "VHeN2aOpRwUc"
      }
    },
    {
      "cell_type": "code",
      "source": [
        "doc1 = \"정부가 발표하는 물가상승률과 소비자가 느끼는 물가상승률은 다르다.\"\n",
        "print('vocabulary :', word_to_index)\n",
        "print('bag of words vector :', bow)"
      ],
      "metadata": {
        "colab": {
          "base_uri": "https://localhost:8080/"
        },
        "id": "lxSMUooOQh6e",
        "outputId": "06a2e990-9e6d-49ae-9a71-41aa717e3be5"
      },
      "execution_count": null,
      "outputs": [
        {
          "output_type": "stream",
          "name": "stdout",
          "text": [
            "vocabulary : {'정부': 0, '가': 1, '발표': 2, '하는': 3, '물가상승률': 4, '과': 5, '소비자': 6, '느끼는': 7, '은': 8, '다르다': 9}\n",
            "bag of words vector : [1, 2, 1, 1, 2, 1, 1, 1, 1, 1]\n"
          ]
        }
      ]
    },
    {
      "cell_type": "code",
      "source": [
        "'''\n",
        "from konlpy.tag import Okt\n",
        "\n",
        "okt = Okt()\n",
        "\n",
        "def build_bag_of_words(document):\n",
        "  # 온점 제거 및 형태소 분석\n",
        "  document = document.replace('.', '')\n",
        "  tokenized_document = okt.morphs(document)\n",
        "\n",
        "  word_to_index = {}\n",
        "  bow = []\n",
        "\n",
        "  for word in tokenized_document:  \n",
        "    if word not in word_to_index.keys():\n",
        "      word_to_index[word] = len(word_to_index)  \n",
        "      # BoW에 전부 기본값 1을 넣는다.\n",
        "      bow.insert(len(word_to_index) - 1, 1)\n",
        "    else:\n",
        "      # 재등장하는 단어의 인덱스\n",
        "      index = word_to_index.get(word)\n",
        "      # 재등장한 단어는 해당하는 인덱스의 위치에 1을 더한다.\n",
        "      bow[index] = bow[index] + 1\n",
        "\n",
        "  return word_to_index, bow\n",
        "'''"
      ],
      "metadata": {
        "id": "VJoTAKvaUGXf"
      },
      "execution_count": null,
      "outputs": []
    },
    {
      "cell_type": "code",
      "source": [],
      "metadata": {
        "id": "4ao2Lc_YUKHx"
      },
      "execution_count": null,
      "outputs": []
    },
    {
      "cell_type": "code",
      "source": [],
      "metadata": {
        "id": "ZsJqddgNUKEG"
      },
      "execution_count": null,
      "outputs": []
    },
    {
      "cell_type": "markdown",
      "source": [
        "#### countvector 클래스로 bow 만들기\n",
        "\n",
        "사이킷 런에서는 단어의 빈도를 Count하여 Vector로 만드는 CountVectorizer 클래스를 지원한다.\n",
        "\n",
        "이를 이용하면 영어에 대해서는 손쉽게 BoW를 만들 수 있다."
      ],
      "metadata": {
        "id": "Jy6zgUZHSMYB"
      }
    },
    {
      "cell_type": "markdown",
      "source": [
        "예제 문장에서 you와 love는 두 번씩 언급되었으므로 각각 인덱스 2와 인덱스 4에서 2의 값을 가지며, 그 외의 값에서는 1의 값을 가지는 것을 볼 수 있다.\n",
        "\n",
        "알파벳 I는 BoW를 만드는 과정에서 사라졌는데, 이는 CountVectorizer가 기본적으로 길이가 2이상인 문자에 대해서만 토큰으로 인식하기 때문이다. (하지만 길이로 정제하는 것은 역시 영어권에서만 의미가 있다.)"
      ],
      "metadata": {
        "id": "0k92w2GeTFfS"
      }
    },
    {
      "cell_type": "code",
      "source": [
        "from sklearn.feature_extraction.text import CountVectorizer\n",
        "\n",
        "corpus = ['you know I want your love. because I love you.']\n",
        "vector = CountVectorizer()\n",
        "\n",
        "# 코퍼스로부터 각 단어의 빈도수를 기록\n",
        "print('bag of words vector :', vector.fit_transform(corpus).toarray()) \n",
        "\n",
        "# 각 단어의 인덱스가 어떻게 부여되었는지를 출력\n",
        "print('vocabulary :',vector.vocabulary_)"
      ],
      "metadata": {
        "colab": {
          "base_uri": "https://localhost:8080/"
        },
        "id": "rtwKrJj0RpSz",
        "outputId": "df82face-9e49-4bfe-df84-8a75cd51b6f4"
      },
      "execution_count": null,
      "outputs": [
        {
          "output_type": "stream",
          "name": "stdout",
          "text": [
            "bag of words vector : [[1 1 2 1 2 1]]\n",
            "vocabulary : {'you': 4, 'know': 1, 'want': 3, 'your': 5, 'love': 2, 'because': 0}\n"
          ]
        }
      ]
    },
    {
      "cell_type": "code",
      "source": [],
      "metadata": {
        "id": "tnuV0HrwTW-2"
      },
      "execution_count": null,
      "outputs": []
    },
    {
      "cell_type": "code",
      "source": [],
      "metadata": {
        "id": "YXPHC-4QTW8v"
      },
      "execution_count": null,
      "outputs": []
    },
    {
      "cell_type": "markdown",
      "source": [
        "주의할 것은 CountVectorizer는 단지 띄어쓰기만을 기준으로 단어를 자르는 낮은 수준의 토큰화를 진행하고 BoW를 만든다는 점이다. 이는 영어의 경우 띄어쓰기만으로 토큰화가 수행되기 때문에 문제가 없지만 한국어에 CountVectorizer를 적용하면, 조사 등의 이유로 제대로 BoW가 만들어지지 않음을 의미한다.\n",
        "\n",
        "아래를 보면 '물가상승률'이라는 단어를 인식하지 못한다.\n",
        "'물가상승률과'와 '물가상승률은' 으로 조사를 포함해서 하나의 단어로 판단하기 때문에 서로 다른 두 단어로 인식한다. 따라서 각각 다른 인덱스에 1이라는 빈도의 값을 갖는다.\n",
        "\n",
        "따라서 위의 BOW만드는 함수를 만들 줄 알아야한다."
      ],
      "metadata": {
        "id": "JfnOJJUqTXRW"
      }
    },
    {
      "cell_type": "code",
      "source": [
        "from sklearn.feature_extraction.text import CountVectorizer\n",
        "\n",
        "corpus = [\"정부가 발표하는 물가상승률과 소비자가 느끼는 물가상승률은 다르다.\"]\n",
        "vector = CountVectorizer()\n",
        "\n",
        "# 코퍼스로부터 각 단어의 빈도수를 기록\n",
        "print('bag of words vector :', vector.fit_transform(corpus).toarray()) \n",
        "\n",
        "# 각 단어의 인덱스가 어떻게 부여되었는지를 출력\n",
        "print('vocabulary :',vector.vocabulary_)"
      ],
      "metadata": {
        "colab": {
          "base_uri": "https://localhost:8080/"
        },
        "id": "QD6ScjIJSaAQ",
        "outputId": "42f712d4-7d68-466d-d95b-75ce7dc5e38c"
      },
      "execution_count": null,
      "outputs": [
        {
          "output_type": "stream",
          "name": "stdout",
          "text": [
            "bag of words vector : [[1 1 1 1 1 1 1]]\n",
            "vocabulary : {'정부가': 6, '발표하는': 4, '물가상승률과': 2, '소비자가': 5, '느끼는': 0, '물가상승률은': 3, '다르다': 1}\n"
          ]
        }
      ]
    },
    {
      "cell_type": "code",
      "source": [
        "token"
      ],
      "metadata": {
        "colab": {
          "base_uri": "https://localhost:8080/"
        },
        "id": "yxfBJwi7Smhr",
        "outputId": "8a0e77d8-41c9-4e4b-badd-f1898c8e8d9a"
      },
      "execution_count": null,
      "outputs": [
        {
          "output_type": "execute_result",
          "data": {
            "text/plain": [
              "['정부', '가', '발표', '하는', '물가상승률', '과', '소비자', '가', '느끼는', '물가상승률', '은', '다르다']"
            ]
          },
          "metadata": {},
          "execution_count": 23
        }
      ]
    },
    {
      "cell_type": "code",
      "source": [
        "from sklearn.feature_extraction.text import CountVectorizer\n",
        "\n",
        "corpus = [token]\n",
        "vector = CountVectorizer()\n",
        "\n",
        "# 코퍼스로부터 각 단어의 빈도수를 기록\n",
        "print('bag of words vector :', vector.fit_transform(corpus).toarray()) \n",
        "\n",
        "# 각 단어의 인덱스가 어떻게 부여되었는지를 출력\n",
        "print('vocabulary :',vector.vocabulary_)"
      ],
      "metadata": {
        "colab": {
          "base_uri": "https://localhost:8080/",
          "height": 400
        },
        "id": "GYCBn3g4Sd6p",
        "outputId": "a5709306-91f2-44c5-e774-f22c2849b96b"
      },
      "execution_count": null,
      "outputs": [
        {
          "output_type": "error",
          "ename": "AttributeError",
          "evalue": "ignored",
          "traceback": [
            "\u001b[0;31m---------------------------------------------------------------------------\u001b[0m",
            "\u001b[0;31mAttributeError\u001b[0m                            Traceback (most recent call last)",
            "\u001b[0;32m<ipython-input-24-214baf61d0c4>\u001b[0m in \u001b[0;36m<module>\u001b[0;34m\u001b[0m\n\u001b[1;32m      5\u001b[0m \u001b[0;34m\u001b[0m\u001b[0m\n\u001b[1;32m      6\u001b[0m \u001b[0;31m# 코퍼스로부터 각 단어의 빈도수를 기록\u001b[0m\u001b[0;34m\u001b[0m\u001b[0;34m\u001b[0m\u001b[0;34m\u001b[0m\u001b[0m\n\u001b[0;32m----> 7\u001b[0;31m \u001b[0mprint\u001b[0m\u001b[0;34m(\u001b[0m\u001b[0;34m'bag of words vector :'\u001b[0m\u001b[0;34m,\u001b[0m \u001b[0mvector\u001b[0m\u001b[0;34m.\u001b[0m\u001b[0mfit_transform\u001b[0m\u001b[0;34m(\u001b[0m\u001b[0mcorpus\u001b[0m\u001b[0;34m)\u001b[0m\u001b[0;34m.\u001b[0m\u001b[0mtoarray\u001b[0m\u001b[0;34m(\u001b[0m\u001b[0;34m)\u001b[0m\u001b[0;34m)\u001b[0m\u001b[0;34m\u001b[0m\u001b[0;34m\u001b[0m\u001b[0m\n\u001b[0m\u001b[1;32m      8\u001b[0m \u001b[0;34m\u001b[0m\u001b[0m\n\u001b[1;32m      9\u001b[0m \u001b[0;31m# 각 단어의 인덱스가 어떻게 부여되었는지를 출력\u001b[0m\u001b[0;34m\u001b[0m\u001b[0;34m\u001b[0m\u001b[0;34m\u001b[0m\u001b[0m\n",
            "\u001b[0;32m/usr/local/lib/python3.8/dist-packages/sklearn/feature_extraction/text.py\u001b[0m in \u001b[0;36mfit_transform\u001b[0;34m(self, raw_documents, y)\u001b[0m\n\u001b[1;32m   1328\u001b[0m                     \u001b[0;32mbreak\u001b[0m\u001b[0;34m\u001b[0m\u001b[0;34m\u001b[0m\u001b[0m\n\u001b[1;32m   1329\u001b[0m \u001b[0;34m\u001b[0m\u001b[0m\n\u001b[0;32m-> 1330\u001b[0;31m         \u001b[0mvocabulary\u001b[0m\u001b[0;34m,\u001b[0m \u001b[0mX\u001b[0m \u001b[0;34m=\u001b[0m \u001b[0mself\u001b[0m\u001b[0;34m.\u001b[0m\u001b[0m_count_vocab\u001b[0m\u001b[0;34m(\u001b[0m\u001b[0mraw_documents\u001b[0m\u001b[0;34m,\u001b[0m \u001b[0mself\u001b[0m\u001b[0;34m.\u001b[0m\u001b[0mfixed_vocabulary_\u001b[0m\u001b[0;34m)\u001b[0m\u001b[0;34m\u001b[0m\u001b[0;34m\u001b[0m\u001b[0m\n\u001b[0m\u001b[1;32m   1331\u001b[0m \u001b[0;34m\u001b[0m\u001b[0m\n\u001b[1;32m   1332\u001b[0m         \u001b[0;32mif\u001b[0m \u001b[0mself\u001b[0m\u001b[0;34m.\u001b[0m\u001b[0mbinary\u001b[0m\u001b[0;34m:\u001b[0m\u001b[0;34m\u001b[0m\u001b[0;34m\u001b[0m\u001b[0m\n",
            "\u001b[0;32m/usr/local/lib/python3.8/dist-packages/sklearn/feature_extraction/text.py\u001b[0m in \u001b[0;36m_count_vocab\u001b[0;34m(self, raw_documents, fixed_vocab)\u001b[0m\n\u001b[1;32m   1199\u001b[0m         \u001b[0;32mfor\u001b[0m \u001b[0mdoc\u001b[0m \u001b[0;32min\u001b[0m \u001b[0mraw_documents\u001b[0m\u001b[0;34m:\u001b[0m\u001b[0;34m\u001b[0m\u001b[0;34m\u001b[0m\u001b[0m\n\u001b[1;32m   1200\u001b[0m             \u001b[0mfeature_counter\u001b[0m \u001b[0;34m=\u001b[0m \u001b[0;34m{\u001b[0m\u001b[0;34m}\u001b[0m\u001b[0;34m\u001b[0m\u001b[0;34m\u001b[0m\u001b[0m\n\u001b[0;32m-> 1201\u001b[0;31m             \u001b[0;32mfor\u001b[0m \u001b[0mfeature\u001b[0m \u001b[0;32min\u001b[0m \u001b[0manalyze\u001b[0m\u001b[0;34m(\u001b[0m\u001b[0mdoc\u001b[0m\u001b[0;34m)\u001b[0m\u001b[0;34m:\u001b[0m\u001b[0;34m\u001b[0m\u001b[0;34m\u001b[0m\u001b[0m\n\u001b[0m\u001b[1;32m   1202\u001b[0m                 \u001b[0;32mtry\u001b[0m\u001b[0;34m:\u001b[0m\u001b[0;34m\u001b[0m\u001b[0;34m\u001b[0m\u001b[0m\n\u001b[1;32m   1203\u001b[0m                     \u001b[0mfeature_idx\u001b[0m \u001b[0;34m=\u001b[0m \u001b[0mvocabulary\u001b[0m\u001b[0;34m[\u001b[0m\u001b[0mfeature\u001b[0m\u001b[0;34m]\u001b[0m\u001b[0;34m\u001b[0m\u001b[0;34m\u001b[0m\u001b[0m\n",
            "\u001b[0;32m/usr/local/lib/python3.8/dist-packages/sklearn/feature_extraction/text.py\u001b[0m in \u001b[0;36m_analyze\u001b[0;34m(doc, analyzer, tokenizer, ngrams, preprocessor, decoder, stop_words)\u001b[0m\n\u001b[1;32m    111\u001b[0m     \u001b[0;32melse\u001b[0m\u001b[0;34m:\u001b[0m\u001b[0;34m\u001b[0m\u001b[0;34m\u001b[0m\u001b[0m\n\u001b[1;32m    112\u001b[0m         \u001b[0;32mif\u001b[0m \u001b[0mpreprocessor\u001b[0m \u001b[0;32mis\u001b[0m \u001b[0;32mnot\u001b[0m \u001b[0;32mNone\u001b[0m\u001b[0;34m:\u001b[0m\u001b[0;34m\u001b[0m\u001b[0;34m\u001b[0m\u001b[0m\n\u001b[0;32m--> 113\u001b[0;31m             \u001b[0mdoc\u001b[0m \u001b[0;34m=\u001b[0m \u001b[0mpreprocessor\u001b[0m\u001b[0;34m(\u001b[0m\u001b[0mdoc\u001b[0m\u001b[0;34m)\u001b[0m\u001b[0;34m\u001b[0m\u001b[0;34m\u001b[0m\u001b[0m\n\u001b[0m\u001b[1;32m    114\u001b[0m         \u001b[0;32mif\u001b[0m \u001b[0mtokenizer\u001b[0m \u001b[0;32mis\u001b[0m \u001b[0;32mnot\u001b[0m \u001b[0;32mNone\u001b[0m\u001b[0;34m:\u001b[0m\u001b[0;34m\u001b[0m\u001b[0;34m\u001b[0m\u001b[0m\n\u001b[1;32m    115\u001b[0m             \u001b[0mdoc\u001b[0m \u001b[0;34m=\u001b[0m \u001b[0mtokenizer\u001b[0m\u001b[0;34m(\u001b[0m\u001b[0mdoc\u001b[0m\u001b[0;34m)\u001b[0m\u001b[0;34m\u001b[0m\u001b[0;34m\u001b[0m\u001b[0m\n",
            "\u001b[0;32m/usr/local/lib/python3.8/dist-packages/sklearn/feature_extraction/text.py\u001b[0m in \u001b[0;36m_preprocess\u001b[0;34m(doc, accent_function, lower)\u001b[0m\n\u001b[1;32m     69\u001b[0m     \"\"\"\n\u001b[1;32m     70\u001b[0m     \u001b[0;32mif\u001b[0m \u001b[0mlower\u001b[0m\u001b[0;34m:\u001b[0m\u001b[0;34m\u001b[0m\u001b[0;34m\u001b[0m\u001b[0m\n\u001b[0;32m---> 71\u001b[0;31m         \u001b[0mdoc\u001b[0m \u001b[0;34m=\u001b[0m \u001b[0mdoc\u001b[0m\u001b[0;34m.\u001b[0m\u001b[0mlower\u001b[0m\u001b[0;34m(\u001b[0m\u001b[0;34m)\u001b[0m\u001b[0;34m\u001b[0m\u001b[0;34m\u001b[0m\u001b[0m\n\u001b[0m\u001b[1;32m     72\u001b[0m     \u001b[0;32mif\u001b[0m \u001b[0maccent_function\u001b[0m \u001b[0;32mis\u001b[0m \u001b[0;32mnot\u001b[0m \u001b[0;32mNone\u001b[0m\u001b[0;34m:\u001b[0m\u001b[0;34m\u001b[0m\u001b[0;34m\u001b[0m\u001b[0m\n\u001b[1;32m     73\u001b[0m         \u001b[0mdoc\u001b[0m \u001b[0;34m=\u001b[0m \u001b[0maccent_function\u001b[0m\u001b[0;34m(\u001b[0m\u001b[0mdoc\u001b[0m\u001b[0;34m)\u001b[0m\u001b[0;34m\u001b[0m\u001b[0;34m\u001b[0m\u001b[0m\n",
            "\u001b[0;31mAttributeError\u001b[0m: 'list' object has no attribute 'lower'"
          ]
        }
      ]
    },
    {
      "cell_type": "code",
      "source": [],
      "metadata": {
        "id": "munmXgFwSq_r"
      },
      "execution_count": null,
      "outputs": []
    },
    {
      "cell_type": "markdown",
      "source": [
        "#### 불용어를 제거한 BoW\n",
        "\n",
        "BoW를 사용한다는 것은 각 단어에 대한 빈도수를 수치화 하겠다는 것으로 결국 텍스트 내에서 어떤 단어들이 중요한지를 보고싶다는 의미를 함축하고 있다.\n",
        "\n",
        "CountVectorizer는 불용어를 지정하면, 불용어는 제외하고 BoW를 만들 수 있도록 불용어 제거 기능을 지원한다."
      ],
      "metadata": {
        "id": "MK6zvK3kT2V7"
      }
    },
    {
      "cell_type": "code",
      "source": [
        "# 사용자 자체 불용어 \n",
        "from sklearn.feature_extraction.text import CountVectorizer\n",
        "from nltk.corpus import stopwords"
      ],
      "metadata": {
        "id": "kKnonHPRUefE"
      },
      "execution_count": null,
      "outputs": []
    },
    {
      "cell_type": "code",
      "source": [
        "text = [\"Family is not an important thing. It's everything.\"]\n",
        "vect = CountVectorizer(stop_words=[\"the\", \"a\", \"an\", \"is\", \"not\"])\n",
        "print('bag of words vector :',vect.fit_transform(text).toarray())\n",
        "print('vocabulary :',vect.vocabulary_)"
      ],
      "metadata": {
        "colab": {
          "base_uri": "https://localhost:8080/"
        },
        "id": "-2iTPXWIUfU1",
        "outputId": "fef78ce7-76db-4f87-e056-435503a095c9"
      },
      "execution_count": null,
      "outputs": [
        {
          "output_type": "stream",
          "name": "stdout",
          "text": [
            "bag of words vector : [[1 1 1 1 1]]\n",
            "vocabulary : {'family': 1, 'important': 2, 'thing': 4, 'it': 3, 'everything': 0}\n"
          ]
        }
      ]
    },
    {
      "cell_type": "code",
      "source": [],
      "metadata": {
        "id": "YtbfYm6oUxSI"
      },
      "execution_count": null,
      "outputs": []
    },
    {
      "cell_type": "code",
      "source": [],
      "metadata": {
        "id": "vqeReKSmUxNd"
      },
      "execution_count": null,
      "outputs": []
    },
    {
      "cell_type": "code",
      "source": [
        "import nltk\n",
        "nltk.download('stopwords')"
      ],
      "metadata": {
        "colab": {
          "base_uri": "https://localhost:8080/"
        },
        "id": "s6BiR2iGUsrK",
        "outputId": "529d799a-75d7-41d8-d02a-a2009d5e00cb"
      },
      "execution_count": null,
      "outputs": [
        {
          "output_type": "stream",
          "name": "stderr",
          "text": [
            "[nltk_data] Downloading package stopwords to /root/nltk_data...\n",
            "[nltk_data]   Unzipping corpora/stopwords.zip.\n"
          ]
        },
        {
          "output_type": "execute_result",
          "data": {
            "text/plain": [
              "True"
            ]
          },
          "metadata": {},
          "execution_count": 29
        }
      ]
    },
    {
      "cell_type": "code",
      "source": [
        "# nltk 불용어\n",
        "text = [\"Family is not an important thing. It's everything.\"]\n",
        "stop_words = stopwords.words(\"english\")\n",
        "vect = CountVectorizer(stop_words=stop_words)\n",
        "print('bag of words vector :',vect.fit_transform(text).toarray()) \n",
        "print('vocabulary :',vect.vocabulary_)"
      ],
      "metadata": {
        "colab": {
          "base_uri": "https://localhost:8080/"
        },
        "id": "0kkd6PkMUhFE",
        "outputId": "4f90ddd0-1846-416d-d187-218917eaf736"
      },
      "execution_count": null,
      "outputs": [
        {
          "output_type": "stream",
          "name": "stdout",
          "text": [
            "bag of words vector : [[1 1 1 1]]\n",
            "vocabulary : {'family': 1, 'important': 2, 'thing': 3, 'everything': 0}\n"
          ]
        }
      ]
    },
    {
      "cell_type": "code",
      "source": [],
      "metadata": {
        "id": "lvBbRFWTUk7k"
      },
      "execution_count": null,
      "outputs": []
    },
    {
      "cell_type": "markdown",
      "source": [
        "## 문서 단어 행렬(Document-Term Matrix = DTM)\n",
        "\n",
        "서로 다른 문서들의 BoW들을 결합한 표현 방법이다. 이것으로 서로 다른 문서들을 비교할 수 있다.\n",
        "\n",
        "#### 1. 표기법\n",
        "문서 단어 행렬(Document-Term Matrix, DTM)이란 다수의 문서에서 등장하는 각 단어들의 빈도를 행렬로 표현한 것을 말한다. 쉽게 생각하면 각 문서에 대한 BoW를 하나의 행렬로 만든 것이다.\n",
        "\n",
        "ex) \n",
        "문서1 : 먹고 싶은 사과\n",
        "\n",
        "문서2 : 먹고 싶은 바나나\n",
        "\n",
        "문서3 : 길고 노란 바나나 바나나\n",
        "\n",
        "문서4 : 저는 과일이 좋아요\n",
        "\n",
        "\n",
        "각 문서에서 등장한 단어의 빈도를 행렬의 값으로 표기한다. 그러면 문서 1에 없는 단어라도 DTM의 문서 1행의 열에 있을 수 있다.(ex 노란) ★ 열은 동일하다.\n",
        "\n",
        "문서 단어 행렬은 문서들을 서로 비교할 수 있도록 수치화할 수 있다는 점에서 의의를 갖는다. 문서들을 벡터로 만들었으니 벡터 유사도 비교를 할 수 있다."
      ],
      "metadata": {
        "id": "Gws8Y_PzU8vp"
      }
    },
    {
      "cell_type": "markdown",
      "source": [
        "![2. 문서 단어 행렬.PNG](data:image/png;base64,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)"
      ],
      "metadata": {
        "id": "PVGPXl_rVkti"
      }
    },
    {
      "cell_type": "code",
      "source": [],
      "metadata": {
        "id": "A6X5N-x1Vm1z"
      },
      "execution_count": null,
      "outputs": []
    },
    {
      "cell_type": "markdown",
      "source": [
        "## TF-IDF(Term Frequency-Inverse Document Frequency)\n",
        "\n",
        "DTM 내에 있는 각 단어에 대한 중요도를 계산할 수 있는 TF-IDF 가중치에 대해서 알아보겠다.(TF-IDF가 가중치인가 보다.)\n",
        "\n",
        "TF-IDF를 사용하면, 기존의 DTM을 사용하는 것보다 보다 많은 정보를 고려하여 문서들을 비교할 수 있다.(가중치를 부여하기 때문이다.) 많은 경우에서 DTM보다 더 좋은 성능을 얻을 수 있다.\n",
        "\n"
      ],
      "metadata": {
        "id": "dnO4Hl7IWGyU"
      }
    },
    {
      "cell_type": "markdown",
      "source": [
        "#### 1. TF-IDF\n",
        "\n",
        "TF-IDF(Term Frequency-Inverse Document Frequency)는 단어의 빈도와 역 문서 빈도(문서의 빈도에 특정 식을 취함)를 사용하여 DTM 내의 각 단어들마다(열마다) 중요한 정도를 가중치로 주는 방법이다. 우선 DTM을 만든 후, TF-IDF 가중치를 부여한다.\n",
        "\n",
        "TF-IDF는 주로 문서의 유사도를 구하는 작업, 검색 시스템에서 검색 결과의 중요도를 정하는 작업, 문서 내에서 특정 단어의 중요도를 구하는 작업 등에 쓰일 수 있다.\n",
        "\n",
        "\n"
      ],
      "metadata": {
        "id": "SxKZkplGWl0i"
      }
    },
    {
      "cell_type": "markdown",
      "source": [
        "TF-IDF는 TF와 IDF를 곱한 값을 의미하는데 이를 식으로 표현해보겠습니다. 문서를 d, 단어를 t, 문서의 총 개수를 n이라고 표현할 때 TF, DF, IDF는 각각 다음과 같이 정의할 수 있다.\n",
        "\n",
        "1) tf(d, t) : 특정 문서 d에서의 특정 단어 t의 등장 횟수\n",
        "\n",
        "TF는 어렵게 생각하지 마라 이미 DTM에서 구한 값들이다. DTM이 각 문서에서의 각 단어의 등장 빈도를 나타내는 값이었기 때문이다.\n",
        "\n",
        "2) df(t) : 특정 단어 t가 등장한 문서의 수\n",
        "\n",
        "여기서 특정 단어가 각 문서, 또는 문서들에서 몇 번 등장했는지는 관심가지지 않으며 오직 특정 단어 t가 등장한 문서의 수에만 관심을 가진다. \n",
        "\n",
        "앞선 예제 바나나는 문서2와 문서3에서 등장했다. 이때 바나나의 df인 df(바나나)는 2이다.\n",
        "\n",
        "\n"
      ],
      "metadata": {
        "id": "sxsll8cEXCG-"
      }
    },
    {
      "cell_type": "markdown",
      "source": [
        "3) idf(d, t) : df(t)에 반비례하는 수\n",
        "\n",
        "-> 로그를 사용하는 이유\n",
        "① 총 문서의 개수 n이 커질 수록 idf가 기하급수적으로 커지게 되므로 log를 사용한다.\n",
        "\n",
        "② 불용어는 중요한 단어에 비해 최소 수십 배 자주 등장한다. 로그를 씌어주지 않으면, 희귀 단어들에 엄청난 가중치가 부여될 수 있다. 로그를 씌우면 이런 격차를 줄이는 효과가 있다.\n",
        "\n",
        "※ 분모에 1을 더하는 이유는 특정 단어가 전체 문서에서 등장하지 않을 경우 분모가 0이 되는 상황을 방지하기 위함\n",
        "\n"
      ],
      "metadata": {
        "id": "edceMpujZrLR"
      }
    },
    {
      "cell_type": "markdown",
      "source": [
        "![3. idf.PNG](data:image/png;base64,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)"
      ],
      "metadata": {
        "id": "EHPfTHUnZsHQ"
      }
    },
    {
      "cell_type": "markdown",
      "source": [
        "따라서 TF-IDF는 모든 문서에서 자주 등장하는 단어는 중요도가 낮다고 판단하며(idf가 특정 단어 t가 등장한 횟수이므로 df가 크면 반비례로 작아지도록 함) 특정 문서에서만 자주 등장하는 단어는 중요도가 높다고 판단한다.\n",
        "\n",
        "TF-IDF 값이 낮으면 중요도가 낮은 것이며, TF-IDF 값이 크면 중요도가 큰 것이다. 즉, the나 a와 같이 불용어의 경우에는 모든 문서에 자주 등장하기 마련이기 때문에 자연스럽게 불용어의 TF-IDF의 값은 다른 단어의 TF-IDF에 비해서 낮아지게 된다.\n",
        "\n"
      ],
      "metadata": {
        "id": "qVTQ1-aga-NN"
      }
    },
    {
      "cell_type": "markdown",
      "source": [
        "#### tf-idf 구하기 예제\n"
      ],
      "metadata": {
        "id": "avYr90QEbh-R"
      }
    },
    {
      "cell_type": "markdown",
      "source": [
        "![2. 문서 단어 행렬.PNG](data:image/png;base64,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)"
      ],
      "metadata": {
        "id": "CI2m7YQGbj49"
      }
    },
    {
      "cell_type": "markdown",
      "source": [
        "우선 tf는 앞서 사용한 DTM을 그대로 사용하면, 그것이 각 문서의 TF이다. tf는 문서마다 구하면 된다.\n",
        "\n",
        "이제 TF와 곱할 IDF를 구한다. idf는 전체 문서의 고유 단어마다 구해주면 된다."
      ],
      "metadata": {
        "id": "wwdz808IbnjM"
      }
    },
    {
      "cell_type": "markdown",
      "source": [
        "![4. idf 예제.PNG](data:image/png;base64,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)"
      ],
      "metadata": {
        "id": "xpnkZSi4cPrE"
      }
    },
    {
      "cell_type": "markdown",
      "source": [
        "문서의 총 수는 4이기 때문에 ln 안에서 분자는 늘 4으로 동일하다. 분모의 경우에는 각 단어가 등장한 문서의 수(DF)를 의미하는데, 예를 들어서 '먹고'의 경우에는 총 2개의 문서(문서1, 문서2)에 등장했기 때문에 2라는 값을 가진다.\n",
        "\n",
        "-> 결과\n",
        "\n",
        "결과를 보면 문서 1개에만 등장한 단어와 문서2개에만 등장한 단어는 값의 차이를 보인다. IDF는 여러 문서에서 등장한 단어의 가중치를 낮춘다.\n",
        "\n",
        "-> 최종 결과\n",
        "\n",
        "tf와 idf를 곱한다. 바나나를 보면 문서 3에서의 바나나가 중요도가 높다. 다양한 문서에서 많이 등장하면 안 좋은 것이지만 특정 문서에서 자주 등장하면 좋은 것이기 때문이다."
      ],
      "metadata": {
        "id": "znFMmE7bcY19"
      }
    },
    {
      "cell_type": "markdown",
      "source": [
        "![image.png](data:image/png;base64,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)"
      ],
      "metadata": {
        "id": "e2qzuUnac2bC"
      }
    },
    {
      "cell_type": "code",
      "source": [],
      "metadata": {
        "id": "3_l7CJdCdgZO"
      },
      "execution_count": null,
      "outputs": []
    },
    {
      "cell_type": "markdown",
      "source": [
        "#### 파이썬으로 tf-idf 구현\n",
        "\n",
        "1) 열을 만든다."
      ],
      "metadata": {
        "id": "ze9QyCFedgA2"
      }
    },
    {
      "cell_type": "code",
      "source": [
        "import pandas as pd # 데이터프레임 사용을 위해\n",
        "from math import log # IDF 계산을 위해\n",
        "\n",
        "docs = [\n",
        "  '먹고 싶은 사과',\n",
        "  '먹고 싶은 바나나',\n",
        "  '길고 노란 바나나 바나나',\n",
        "  '저는 과일이 좋아요'\n",
        "] \n",
        "vocab = list(set(w for doc in docs for w in doc.split()))\n",
        "vocab.sort()"
      ],
      "metadata": {
        "id": "fpYQ0MX8ZvVK"
      },
      "execution_count": null,
      "outputs": []
    },
    {
      "cell_type": "code",
      "source": [
        "vocab"
      ],
      "metadata": {
        "colab": {
          "base_uri": "https://localhost:8080/"
        },
        "id": "fPJ8PNMtdwwY",
        "outputId": "f369b767-218d-4999-8f69-344614eb2c2c"
      },
      "execution_count": null,
      "outputs": [
        {
          "output_type": "execute_result",
          "data": {
            "text/plain": [
              "['과일이', '길고', '노란', '먹고', '바나나', '사과', '싶은', '저는', '좋아요']"
            ]
          },
          "metadata": {},
          "execution_count": 32
        }
      ]
    },
    {
      "cell_type": "markdown",
      "source": [
        "TF, IDF, 그리고 TF-IDF 값을 구하는 함수"
      ],
      "metadata": {
        "id": "HQuUsGE7d6G6"
      }
    },
    {
      "cell_type": "code",
      "source": [
        "# 총 문서의 수\n",
        "N = len(docs) \n",
        "\n",
        "def tf(t, d):\n",
        "  return d.count(t)\n",
        "\n",
        "def idf(t):\n",
        "  df = 0\n",
        "  for doc in docs:\n",
        "    df += t in doc\n",
        "  return log(N/(df+1))\n",
        "\n",
        "def tfidf(t, d):\n",
        "  return tf(t,d)* idf(t)"
      ],
      "metadata": {
        "id": "EQxpGwY4dzdO"
      },
      "execution_count": null,
      "outputs": []
    },
    {
      "cell_type": "code",
      "source": [
        "result = []\n",
        "\n",
        "# 각 문서에 대해서 아래 연산을 반복\n",
        "for i in range(N):\n",
        "  result.append([])\n",
        "  d = docs[i]\n",
        "  for j in range(len(vocab)):\n",
        "    t = vocab[j]\n",
        "    result[-1].append(tf(t, d))\n",
        "\n",
        "tf_ = pd.DataFrame(result, columns = vocab)"
      ],
      "metadata": {
        "id": "taCVQNaFd5j7"
      },
      "execution_count": null,
      "outputs": []
    },
    {
      "cell_type": "markdown",
      "source": [
        "TF를 구해보겠습니다. 다시 말해 DTM을 데이터프레임에 저장하여 출력해보겠습니다."
      ],
      "metadata": {
        "id": "zRKmpewzeFpq"
      }
    },
    {
      "cell_type": "code",
      "source": [
        "tf_"
      ],
      "metadata": {
        "colab": {
          "base_uri": "https://localhost:8080/",
          "height": 175
        },
        "id": "7-MDPFMMeAB4",
        "outputId": "71ef8d15-25cf-47bc-e68f-87f8f6dc6de5"
      },
      "execution_count": null,
      "outputs": [
        {
          "output_type": "execute_result",
          "data": {
            "text/plain": [
              "   과일이  길고  노란  먹고  바나나  사과  싶은  저는  좋아요\n",
              "0    0   0   0   1    0   1   1   0    0\n",
              "1    0   0   0   1    1   0   1   0    0\n",
              "2    0   1   1   0    2   0   0   0    0\n",
              "3    1   0   0   0    0   0   0   1    1"
            ],
            "text/html": [
              "\n",
              "  <div id=\"df-5b6113b1-b7cc-4494-84e3-e02dd80c04d5\">\n",
              "    <div class=\"colab-df-container\">\n",
              "      <div>\n",
              "<style scoped>\n",
              "    .dataframe tbody tr th:only-of-type {\n",
              "        vertical-align: middle;\n",
              "    }\n",
              "\n",
              "    .dataframe tbody tr th {\n",
              "        vertical-align: top;\n",
              "    }\n",
              "\n",
              "    .dataframe thead th {\n",
              "        text-align: right;\n",
              "    }\n",
              "</style>\n",
              "<table border=\"1\" class=\"dataframe\">\n",
              "  <thead>\n",
              "    <tr style=\"text-align: right;\">\n",
              "      <th></th>\n",
              "      <th>과일이</th>\n",
              "      <th>길고</th>\n",
              "      <th>노란</th>\n",
              "      <th>먹고</th>\n",
              "      <th>바나나</th>\n",
              "      <th>사과</th>\n",
              "      <th>싶은</th>\n",
              "      <th>저는</th>\n",
              "      <th>좋아요</th>\n",
              "    </tr>\n",
              "  </thead>\n",
              "  <tbody>\n",
              "    <tr>\n",
              "      <th>0</th>\n",
              "      <td>0</td>\n",
              "      <td>0</td>\n",
              "      <td>0</td>\n",
              "      <td>1</td>\n",
              "      <td>0</td>\n",
              "      <td>1</td>\n",
              "      <td>1</td>\n",
              "      <td>0</td>\n",
              "      <td>0</td>\n",
              "    </tr>\n",
              "    <tr>\n",
              "      <th>1</th>\n",
              "      <td>0</td>\n",
              "      <td>0</td>\n",
              "      <td>0</td>\n",
              "      <td>1</td>\n",
              "      <td>1</td>\n",
              "      <td>0</td>\n",
              "      <td>1</td>\n",
              "      <td>0</td>\n",
              "      <td>0</td>\n",
              "    </tr>\n",
              "    <tr>\n",
              "      <th>2</th>\n",
              "      <td>0</td>\n",
              "      <td>1</td>\n",
              "      <td>1</td>\n",
              "      <td>0</td>\n",
              "      <td>2</td>\n",
              "      <td>0</td>\n",
              "      <td>0</td>\n",
              "      <td>0</td>\n",
              "      <td>0</td>\n",
              "    </tr>\n",
              "    <tr>\n",
              "      <th>3</th>\n",
              "      <td>1</td>\n",
              "      <td>0</td>\n",
              "      <td>0</td>\n",
              "      <td>0</td>\n",
              "      <td>0</td>\n",
              "      <td>0</td>\n",
              "      <td>0</td>\n",
              "      <td>1</td>\n",
              "      <td>1</td>\n",
              "    </tr>\n",
              "  </tbody>\n",
              "</table>\n",
              "</div>\n",
              "      <button class=\"colab-df-convert\" onclick=\"convertToInteractive('df-5b6113b1-b7cc-4494-84e3-e02dd80c04d5')\"\n",
              "              title=\"Convert this dataframe to an interactive table.\"\n",
              "              style=\"display:none;\">\n",
              "        \n",
              "  <svg xmlns=\"http://www.w3.org/2000/svg\" height=\"24px\"viewBox=\"0 0 24 24\"\n",
              "       width=\"24px\">\n",
              "    <path d=\"M0 0h24v24H0V0z\" fill=\"none\"/>\n",
              "    <path d=\"M18.56 5.44l.94 2.06.94-2.06 2.06-.94-2.06-.94-.94-2.06-.94 2.06-2.06.94zm-11 1L8.5 8.5l.94-2.06 2.06-.94-2.06-.94L8.5 2.5l-.94 2.06-2.06.94zm10 10l.94 2.06.94-2.06 2.06-.94-2.06-.94-.94-2.06-.94 2.06-2.06.94z\"/><path d=\"M17.41 7.96l-1.37-1.37c-.4-.4-.92-.59-1.43-.59-.52 0-1.04.2-1.43.59L10.3 9.45l-7.72 7.72c-.78.78-.78 2.05 0 2.83L4 21.41c.39.39.9.59 1.41.59.51 0 1.02-.2 1.41-.59l7.78-7.78 2.81-2.81c.8-.78.8-2.07 0-2.86zM5.41 20L4 18.59l7.72-7.72 1.47 1.35L5.41 20z\"/>\n",
              "  </svg>\n",
              "      </button>\n",
              "      \n",
              "  <style>\n",
              "    .colab-df-container {\n",
              "      display:flex;\n",
              "      flex-wrap:wrap;\n",
              "      gap: 12px;\n",
              "    }\n",
              "\n",
              "    .colab-df-convert {\n",
              "      background-color: #E8F0FE;\n",
              "      border: none;\n",
              "      border-radius: 50%;\n",
              "      cursor: pointer;\n",
              "      display: none;\n",
              "      fill: #1967D2;\n",
              "      height: 32px;\n",
              "      padding: 0 0 0 0;\n",
              "      width: 32px;\n",
              "    }\n",
              "\n",
              "    .colab-df-convert:hover {\n",
              "      background-color: #E2EBFA;\n",
              "      box-shadow: 0px 1px 2px rgba(60, 64, 67, 0.3), 0px 1px 3px 1px rgba(60, 64, 67, 0.15);\n",
              "      fill: #174EA6;\n",
              "    }\n",
              "\n",
              "    [theme=dark] .colab-df-convert {\n",
              "      background-color: #3B4455;\n",
              "      fill: #D2E3FC;\n",
              "    }\n",
              "\n",
              "    [theme=dark] .colab-df-convert:hover {\n",
              "      background-color: #434B5C;\n",
              "      box-shadow: 0px 1px 3px 1px rgba(0, 0, 0, 0.15);\n",
              "      filter: drop-shadow(0px 1px 2px rgba(0, 0, 0, 0.3));\n",
              "      fill: #FFFFFF;\n",
              "    }\n",
              "  </style>\n",
              "\n",
              "      <script>\n",
              "        const buttonEl =\n",
              "          document.querySelector('#df-5b6113b1-b7cc-4494-84e3-e02dd80c04d5 button.colab-df-convert');\n",
              "        buttonEl.style.display =\n",
              "          google.colab.kernel.accessAllowed ? 'block' : 'none';\n",
              "\n",
              "        async function convertToInteractive(key) {\n",
              "          const element = document.querySelector('#df-5b6113b1-b7cc-4494-84e3-e02dd80c04d5');\n",
              "          const dataTable =\n",
              "            await google.colab.kernel.invokeFunction('convertToInteractive',\n",
              "                                                     [key], {});\n",
              "          if (!dataTable) return;\n",
              "\n",
              "          const docLinkHtml = 'Like what you see? Visit the ' +\n",
              "            '<a target=\"_blank\" href=https://colab.research.google.com/notebooks/data_table.ipynb>data table notebook</a>'\n",
              "            + ' to learn more about interactive tables.';\n",
              "          element.innerHTML = '';\n",
              "          dataTable['output_type'] = 'display_data';\n",
              "          await google.colab.output.renderOutput(dataTable, element);\n",
              "          const docLink = document.createElement('div');\n",
              "          docLink.innerHTML = docLinkHtml;\n",
              "          element.appendChild(docLink);\n",
              "        }\n",
              "      </script>\n",
              "    </div>\n",
              "  </div>\n",
              "  "
            ]
          },
          "metadata": {},
          "execution_count": 35
        }
      ]
    },
    {
      "cell_type": "code",
      "source": [
        "result = []\n",
        "for j in range(len(vocab)):\n",
        "    t = vocab[j]\n",
        "    result.append(idf(t))\n",
        "\n",
        "idf_ = pd.DataFrame(result, index=vocab, columns=[\"IDF\"])\n",
        "idf_"
      ],
      "metadata": {
        "colab": {
          "base_uri": "https://localhost:8080/",
          "height": 332
        },
        "id": "5JD8Z3PZeBsV",
        "outputId": "175f6953-895f-45ea-ce37-a5282c8b9e38"
      },
      "execution_count": null,
      "outputs": [
        {
          "output_type": "execute_result",
          "data": {
            "text/plain": [
              "          IDF\n",
              "과일이  0.693147\n",
              "길고   0.693147\n",
              "노란   0.693147\n",
              "먹고   0.287682\n",
              "바나나  0.287682\n",
              "사과   0.693147\n",
              "싶은   0.287682\n",
              "저는   0.693147\n",
              "좋아요  0.693147"
            ],
            "text/html": [
              "\n",
              "  <div id=\"df-dceb3b6c-5d18-4dda-8727-a6593be790ac\">\n",
              "    <div class=\"colab-df-container\">\n",
              "      <div>\n",
              "<style scoped>\n",
              "    .dataframe tbody tr th:only-of-type {\n",
              "        vertical-align: middle;\n",
              "    }\n",
              "\n",
              "    .dataframe tbody tr th {\n",
              "        vertical-align: top;\n",
              "    }\n",
              "\n",
              "    .dataframe thead th {\n",
              "        text-align: right;\n",
              "    }\n",
              "</style>\n",
              "<table border=\"1\" class=\"dataframe\">\n",
              "  <thead>\n",
              "    <tr style=\"text-align: right;\">\n",
              "      <th></th>\n",
              "      <th>IDF</th>\n",
              "    </tr>\n",
              "  </thead>\n",
              "  <tbody>\n",
              "    <tr>\n",
              "      <th>과일이</th>\n",
              "      <td>0.693147</td>\n",
              "    </tr>\n",
              "    <tr>\n",
              "      <th>길고</th>\n",
              "      <td>0.693147</td>\n",
              "    </tr>\n",
              "    <tr>\n",
              "      <th>노란</th>\n",
              "      <td>0.693147</td>\n",
              "    </tr>\n",
              "    <tr>\n",
              "      <th>먹고</th>\n",
              "      <td>0.287682</td>\n",
              "    </tr>\n",
              "    <tr>\n",
              "      <th>바나나</th>\n",
              "      <td>0.287682</td>\n",
              "    </tr>\n",
              "    <tr>\n",
              "      <th>사과</th>\n",
              "      <td>0.693147</td>\n",
              "    </tr>\n",
              "    <tr>\n",
              "      <th>싶은</th>\n",
              "      <td>0.287682</td>\n",
              "    </tr>\n",
              "    <tr>\n",
              "      <th>저는</th>\n",
              "      <td>0.693147</td>\n",
              "    </tr>\n",
              "    <tr>\n",
              "      <th>좋아요</th>\n",
              "      <td>0.693147</td>\n",
              "    </tr>\n",
              "  </tbody>\n",
              "</table>\n",
              "</div>\n",
              "      <button class=\"colab-df-convert\" onclick=\"convertToInteractive('df-dceb3b6c-5d18-4dda-8727-a6593be790ac')\"\n",
              "              title=\"Convert this dataframe to an interactive table.\"\n",
              "              style=\"display:none;\">\n",
              "        \n",
              "  <svg xmlns=\"http://www.w3.org/2000/svg\" height=\"24px\"viewBox=\"0 0 24 24\"\n",
              "       width=\"24px\">\n",
              "    <path d=\"M0 0h24v24H0V0z\" fill=\"none\"/>\n",
              "    <path d=\"M18.56 5.44l.94 2.06.94-2.06 2.06-.94-2.06-.94-.94-2.06-.94 2.06-2.06.94zm-11 1L8.5 8.5l.94-2.06 2.06-.94-2.06-.94L8.5 2.5l-.94 2.06-2.06.94zm10 10l.94 2.06.94-2.06 2.06-.94-2.06-.94-.94-2.06-.94 2.06-2.06.94z\"/><path d=\"M17.41 7.96l-1.37-1.37c-.4-.4-.92-.59-1.43-.59-.52 0-1.04.2-1.43.59L10.3 9.45l-7.72 7.72c-.78.78-.78 2.05 0 2.83L4 21.41c.39.39.9.59 1.41.59.51 0 1.02-.2 1.41-.59l7.78-7.78 2.81-2.81c.8-.78.8-2.07 0-2.86zM5.41 20L4 18.59l7.72-7.72 1.47 1.35L5.41 20z\"/>\n",
              "  </svg>\n",
              "      </button>\n",
              "      \n",
              "  <style>\n",
              "    .colab-df-container {\n",
              "      display:flex;\n",
              "      flex-wrap:wrap;\n",
              "      gap: 12px;\n",
              "    }\n",
              "\n",
              "    .colab-df-convert {\n",
              "      background-color: #E8F0FE;\n",
              "      border: none;\n",
              "      border-radius: 50%;\n",
              "      cursor: pointer;\n",
              "      display: none;\n",
              "      fill: #1967D2;\n",
              "      height: 32px;\n",
              "      padding: 0 0 0 0;\n",
              "      width: 32px;\n",
              "    }\n",
              "\n",
              "    .colab-df-convert:hover {\n",
              "      background-color: #E2EBFA;\n",
              "      box-shadow: 0px 1px 2px rgba(60, 64, 67, 0.3), 0px 1px 3px 1px rgba(60, 64, 67, 0.15);\n",
              "      fill: #174EA6;\n",
              "    }\n",
              "\n",
              "    [theme=dark] .colab-df-convert {\n",
              "      background-color: #3B4455;\n",
              "      fill: #D2E3FC;\n",
              "    }\n",
              "\n",
              "    [theme=dark] .colab-df-convert:hover {\n",
              "      background-color: #434B5C;\n",
              "      box-shadow: 0px 1px 3px 1px rgba(0, 0, 0, 0.15);\n",
              "      filter: drop-shadow(0px 1px 2px rgba(0, 0, 0, 0.3));\n",
              "      fill: #FFFFFF;\n",
              "    }\n",
              "  </style>\n",
              "\n",
              "      <script>\n",
              "        const buttonEl =\n",
              "          document.querySelector('#df-dceb3b6c-5d18-4dda-8727-a6593be790ac button.colab-df-convert');\n",
              "        buttonEl.style.display =\n",
              "          google.colab.kernel.accessAllowed ? 'block' : 'none';\n",
              "\n",
              "        async function convertToInteractive(key) {\n",
              "          const element = document.querySelector('#df-dceb3b6c-5d18-4dda-8727-a6593be790ac');\n",
              "          const dataTable =\n",
              "            await google.colab.kernel.invokeFunction('convertToInteractive',\n",
              "                                                     [key], {});\n",
              "          if (!dataTable) return;\n",
              "\n",
              "          const docLinkHtml = 'Like what you see? Visit the ' +\n",
              "            '<a target=\"_blank\" href=https://colab.research.google.com/notebooks/data_table.ipynb>data table notebook</a>'\n",
              "            + ' to learn more about interactive tables.';\n",
              "          element.innerHTML = '';\n",
              "          dataTable['output_type'] = 'display_data';\n",
              "          await google.colab.output.renderOutput(dataTable, element);\n",
              "          const docLink = document.createElement('div');\n",
              "          docLink.innerHTML = docLinkHtml;\n",
              "          element.appendChild(docLink);\n",
              "        }\n",
              "      </script>\n",
              "    </div>\n",
              "  </div>\n",
              "  "
            ]
          },
          "metadata": {},
          "execution_count": 36
        }
      ]
    },
    {
      "cell_type": "markdown",
      "source": [
        "TF-IDF 행렬을 출력"
      ],
      "metadata": {
        "id": "tQHWyHi2eOS6"
      }
    },
    {
      "cell_type": "code",
      "source": [
        "result = []\n",
        "for i in range(N):\n",
        "  result.append([])\n",
        "  d = docs[i]\n",
        "  for j in range(len(vocab)):\n",
        "    t = vocab[j]\n",
        "    result[-1].append(tfidf(t,d))\n",
        "\n",
        "tfidf_ = pd.DataFrame(result, columns = vocab)\n",
        "tfidf_"
      ],
      "metadata": {
        "colab": {
          "base_uri": "https://localhost:8080/",
          "height": 175
        },
        "id": "CoJ5VnNJeIn3",
        "outputId": "52c4fd20-52f5-4cac-c86c-2e42568a67cf"
      },
      "execution_count": null,
      "outputs": [
        {
          "output_type": "execute_result",
          "data": {
            "text/plain": [
              "        과일이        길고        노란        먹고       바나나        사과        싶은  \\\n",
              "0  0.000000  0.000000  0.000000  0.287682  0.000000  0.693147  0.287682   \n",
              "1  0.000000  0.000000  0.000000  0.287682  0.287682  0.000000  0.287682   \n",
              "2  0.000000  0.693147  0.693147  0.000000  0.575364  0.000000  0.000000   \n",
              "3  0.693147  0.000000  0.000000  0.000000  0.000000  0.000000  0.000000   \n",
              "\n",
              "         저는       좋아요  \n",
              "0  0.000000  0.000000  \n",
              "1  0.000000  0.000000  \n",
              "2  0.000000  0.000000  \n",
              "3  0.693147  0.693147  "
            ],
            "text/html": [
              "\n",
              "  <div id=\"df-1519700b-3247-40af-ad40-037d92dd8256\">\n",
              "    <div class=\"colab-df-container\">\n",
              "      <div>\n",
              "<style scoped>\n",
              "    .dataframe tbody tr th:only-of-type {\n",
              "        vertical-align: middle;\n",
              "    }\n",
              "\n",
              "    .dataframe tbody tr th {\n",
              "        vertical-align: top;\n",
              "    }\n",
              "\n",
              "    .dataframe thead th {\n",
              "        text-align: right;\n",
              "    }\n",
              "</style>\n",
              "<table border=\"1\" class=\"dataframe\">\n",
              "  <thead>\n",
              "    <tr style=\"text-align: right;\">\n",
              "      <th></th>\n",
              "      <th>과일이</th>\n",
              "      <th>길고</th>\n",
              "      <th>노란</th>\n",
              "      <th>먹고</th>\n",
              "      <th>바나나</th>\n",
              "      <th>사과</th>\n",
              "      <th>싶은</th>\n",
              "      <th>저는</th>\n",
              "      <th>좋아요</th>\n",
              "    </tr>\n",
              "  </thead>\n",
              "  <tbody>\n",
              "    <tr>\n",
              "      <th>0</th>\n",
              "      <td>0.000000</td>\n",
              "      <td>0.000000</td>\n",
              "      <td>0.000000</td>\n",
              "      <td>0.287682</td>\n",
              "      <td>0.000000</td>\n",
              "      <td>0.693147</td>\n",
              "      <td>0.287682</td>\n",
              "      <td>0.000000</td>\n",
              "      <td>0.000000</td>\n",
              "    </tr>\n",
              "    <tr>\n",
              "      <th>1</th>\n",
              "      <td>0.000000</td>\n",
              "      <td>0.000000</td>\n",
              "      <td>0.000000</td>\n",
              "      <td>0.287682</td>\n",
              "      <td>0.287682</td>\n",
              "      <td>0.000000</td>\n",
              "      <td>0.287682</td>\n",
              "      <td>0.000000</td>\n",
              "      <td>0.000000</td>\n",
              "    </tr>\n",
              "    <tr>\n",
              "      <th>2</th>\n",
              "      <td>0.000000</td>\n",
              "      <td>0.693147</td>\n",
              "      <td>0.693147</td>\n",
              "      <td>0.000000</td>\n",
              "      <td>0.575364</td>\n",
              "      <td>0.000000</td>\n",
              "      <td>0.000000</td>\n",
              "      <td>0.000000</td>\n",
              "      <td>0.000000</td>\n",
              "    </tr>\n",
              "    <tr>\n",
              "      <th>3</th>\n",
              "      <td>0.693147</td>\n",
              "      <td>0.000000</td>\n",
              "      <td>0.000000</td>\n",
              "      <td>0.000000</td>\n",
              "      <td>0.000000</td>\n",
              "      <td>0.000000</td>\n",
              "      <td>0.000000</td>\n",
              "      <td>0.693147</td>\n",
              "      <td>0.693147</td>\n",
              "    </tr>\n",
              "  </tbody>\n",
              "</table>\n",
              "</div>\n",
              "      <button class=\"colab-df-convert\" onclick=\"convertToInteractive('df-1519700b-3247-40af-ad40-037d92dd8256')\"\n",
              "              title=\"Convert this dataframe to an interactive table.\"\n",
              "              style=\"display:none;\">\n",
              "        \n",
              "  <svg xmlns=\"http://www.w3.org/2000/svg\" height=\"24px\"viewBox=\"0 0 24 24\"\n",
              "       width=\"24px\">\n",
              "    <path d=\"M0 0h24v24H0V0z\" fill=\"none\"/>\n",
              "    <path d=\"M18.56 5.44l.94 2.06.94-2.06 2.06-.94-2.06-.94-.94-2.06-.94 2.06-2.06.94zm-11 1L8.5 8.5l.94-2.06 2.06-.94-2.06-.94L8.5 2.5l-.94 2.06-2.06.94zm10 10l.94 2.06.94-2.06 2.06-.94-2.06-.94-.94-2.06-.94 2.06-2.06.94z\"/><path d=\"M17.41 7.96l-1.37-1.37c-.4-.4-.92-.59-1.43-.59-.52 0-1.04.2-1.43.59L10.3 9.45l-7.72 7.72c-.78.78-.78 2.05 0 2.83L4 21.41c.39.39.9.59 1.41.59.51 0 1.02-.2 1.41-.59l7.78-7.78 2.81-2.81c.8-.78.8-2.07 0-2.86zM5.41 20L4 18.59l7.72-7.72 1.47 1.35L5.41 20z\"/>\n",
              "  </svg>\n",
              "      </button>\n",
              "      \n",
              "  <style>\n",
              "    .colab-df-container {\n",
              "      display:flex;\n",
              "      flex-wrap:wrap;\n",
              "      gap: 12px;\n",
              "    }\n",
              "\n",
              "    .colab-df-convert {\n",
              "      background-color: #E8F0FE;\n",
              "      border: none;\n",
              "      border-radius: 50%;\n",
              "      cursor: pointer;\n",
              "      display: none;\n",
              "      fill: #1967D2;\n",
              "      height: 32px;\n",
              "      padding: 0 0 0 0;\n",
              "      width: 32px;\n",
              "    }\n",
              "\n",
              "    .colab-df-convert:hover {\n",
              "      background-color: #E2EBFA;\n",
              "      box-shadow: 0px 1px 2px rgba(60, 64, 67, 0.3), 0px 1px 3px 1px rgba(60, 64, 67, 0.15);\n",
              "      fill: #174EA6;\n",
              "    }\n",
              "\n",
              "    [theme=dark] .colab-df-convert {\n",
              "      background-color: #3B4455;\n",
              "      fill: #D2E3FC;\n",
              "    }\n",
              "\n",
              "    [theme=dark] .colab-df-convert:hover {\n",
              "      background-color: #434B5C;\n",
              "      box-shadow: 0px 1px 3px 1px rgba(0, 0, 0, 0.15);\n",
              "      filter: drop-shadow(0px 1px 2px rgba(0, 0, 0, 0.3));\n",
              "      fill: #FFFFFF;\n",
              "    }\n",
              "  </style>\n",
              "\n",
              "      <script>\n",
              "        const buttonEl =\n",
              "          document.querySelector('#df-1519700b-3247-40af-ad40-037d92dd8256 button.colab-df-convert');\n",
              "        buttonEl.style.display =\n",
              "          google.colab.kernel.accessAllowed ? 'block' : 'none';\n",
              "\n",
              "        async function convertToInteractive(key) {\n",
              "          const element = document.querySelector('#df-1519700b-3247-40af-ad40-037d92dd8256');\n",
              "          const dataTable =\n",
              "            await google.colab.kernel.invokeFunction('convertToInteractive',\n",
              "                                                     [key], {});\n",
              "          if (!dataTable) return;\n",
              "\n",
              "          const docLinkHtml = 'Like what you see? Visit the ' +\n",
              "            '<a target=\"_blank\" href=https://colab.research.google.com/notebooks/data_table.ipynb>data table notebook</a>'\n",
              "            + ' to learn more about interactive tables.';\n",
              "          element.innerHTML = '';\n",
              "          dataTable['output_type'] = 'display_data';\n",
              "          await google.colab.output.renderOutput(dataTable, element);\n",
              "          const docLink = document.createElement('div');\n",
              "          docLink.innerHTML = docLinkHtml;\n",
              "          element.appendChild(docLink);\n",
              "        }\n",
              "      </script>\n",
              "    </div>\n",
              "  </div>\n",
              "  "
            ]
          },
          "metadata": {},
          "execution_count": 37
        }
      ]
    },
    {
      "cell_type": "markdown",
      "source": [
        "#### 사이킷런의 TF-IDF 실습\n",
        "\n",
        "\n",
        "DTM에서 각 단어의 인덱스가 어떻게 부여되었는지를 확인하기 위해, 인덱스를 확인해보면 vector.vocab이 dtm의 열과 같다.\n",
        "\n",
        "\n",
        "첫번째 열의 경우에는 0의 인덱스를 가진 do이다. do는 세번째 문서에만 등장했기 때문에, 세번째 행에서만 1의 값을 가집니다. 두번째 열의 경우에는 1의 인덱스를 가진 know입니다. know는 첫번째 문서에만 등장했으므로 첫번째 행에서만 1의 값을 가집니다."
      ],
      "metadata": {
        "id": "YdA1debUeSpJ"
      }
    },
    {
      "cell_type": "code",
      "source": [
        "from sklearn.feature_extraction.text import CountVectorizer\n",
        "\n",
        "corpus = [\n",
        "    'you know I want your love',\n",
        "    'I like you',\n",
        "    'what should I do ',    \n",
        "]\n",
        "\n",
        "vector = CountVectorizer()\n",
        "\n",
        "# 코퍼스로부터 각 단어의 빈도수를 기록\n",
        "print(vector.fit_transform(corpus).toarray())\n",
        "\n",
        "# 각 단어와 맵핑된 인덱스 출력\n",
        "print(vector.vocabulary_)"
      ],
      "metadata": {
        "colab": {
          "base_uri": "https://localhost:8080/"
        },
        "id": "hOhLXBeKeNsG",
        "outputId": "7d82101f-843c-4836-9258-6818682dff80"
      },
      "execution_count": null,
      "outputs": [
        {
          "output_type": "stream",
          "name": "stdout",
          "text": [
            "[[0 1 0 1 0 1 0 1 1]\n",
            " [0 0 1 0 0 0 0 1 0]\n",
            " [1 0 0 0 1 0 1 0 0]]\n",
            "{'you': 7, 'know': 1, 'want': 5, 'your': 8, 'love': 3, 'like': 2, 'what': 6, 'should': 4, 'do': 0}\n"
          ]
        }
      ]
    },
    {
      "cell_type": "markdown",
      "source": [
        "사이킷런의 tf-idf"
      ],
      "metadata": {
        "id": "O8zUkBZ0e7lK"
      }
    },
    {
      "cell_type": "code",
      "source": [
        "from sklearn.feature_extraction.text import TfidfVectorizer\n",
        "\n",
        "corpus = [\n",
        "    'you know I want your love',\n",
        "    'I like you',\n",
        "    'what should I do ',    \n",
        "]\n",
        "\n",
        "tfidfv = TfidfVectorizer().fit(corpus)\n",
        "print(tfidfv.transform(corpus).toarray())\n",
        "print(tfidfv.vocabulary_)"
      ],
      "metadata": {
        "colab": {
          "base_uri": "https://localhost:8080/"
        },
        "id": "MsQYGvT9eWxq",
        "outputId": "d0837c2e-3783-4dba-9b2f-c7f6ca062f9e"
      },
      "execution_count": null,
      "outputs": [
        {
          "output_type": "stream",
          "name": "stdout",
          "text": [
            "[[0.         0.46735098 0.         0.46735098 0.         0.46735098\n",
            "  0.         0.35543247 0.46735098]\n",
            " [0.         0.         0.79596054 0.         0.         0.\n",
            "  0.         0.60534851 0.        ]\n",
            " [0.57735027 0.         0.         0.         0.57735027 0.\n",
            "  0.57735027 0.         0.        ]]\n",
            "{'you': 7, 'know': 1, 'want': 5, 'your': 8, 'love': 3, 'like': 2, 'what': 6, 'should': 4, 'do': 0}\n"
          ]
        }
      ]
    },
    {
      "cell_type": "code",
      "source": [],
      "metadata": {
        "id": "g0mPZZa3e7N7"
      },
      "execution_count": null,
      "outputs": []
    }
  ]
}